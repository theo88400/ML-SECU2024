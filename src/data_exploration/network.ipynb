{
 "cells": [
  {
   "cell_type": "markdown",
   "metadata": {},
   "source": [
    "# Study of the network dataset\n",
    "\n",
    "In this notebook, we will study how different models perform on the network dataset. Some of the models we will study are:\n",
    "1. Non-supervised:\n",
    "    - Isolation Forest (IF)\n",
    "    - Local Outlier Factor (LOF)\n",
    "2. Neural Networks:\n",
    "    - DNN\n",
    "    - LSTM\n",
    "3. Supervised classifiers:\n",
    "    - Decision Tree\n",
    "    - Random Forest\n",
    "    - XGBoost\n",
    "\n",
    "First, let's import the necessary libraries."
   ]
  },
  {
   "cell_type": "code",
   "execution_count": 77,
   "metadata": {},
   "outputs": [],
   "source": [
    "from preprocess_data import get_HITL, clean_HITL, prepare_HTIL_network_dataset, remove_network_contextual_columns\n",
    "\n",
    "from mlsecu.data_exploration_utils import (\n",
    "    get_column_names,\n",
    "    get_nb_of_dimensions,\n",
    "    get_nb_of_rows,\n",
    "    get_object_column_names,\n",
    "    get_number_column_names,\n",
    ")\n",
    "from mlsecu.anomaly_detection_use_case import *\n",
    "from mlsecu.data_preparation_utils import (\n",
    "    get_one_hot_encoded_dataframe,\n",
    "    remove_nan_through_mean_imputation,\n",
    ")\n",
    "\n",
    "from sklearn.model_selection import train_test_split\n",
    "from sklearn.pipeline import make_pipeline\n",
    "from sklearn.tree import DecisionTreeClassifier\n",
    "from sklearn.preprocessing import StandardScaler\n",
    "from sklearn.metrics import (\n",
    "    accuracy_score,\n",
    "    precision_score,\n",
    "    recall_score,\n",
    "    f1_score,\n",
    "    roc_auc_score,\n",
    "    matthews_corrcoef,\n",
    "    balanced_accuracy_score,\n",
    "    confusion_matrix,\n",
    ")\n",
    "\n",
    "import matplotlib.pyplot as plt\n",
    "import numpy as np\n",
    "import pandas as pd\n",
    "import seaborn as sns\n",
    "\n",
    "import torch\n",
    "import torch.nn as nn\n",
    "import torch.nn.functional as F\n",
    "\n",
    "import tensorflow as tf\n",
    "from tensorflow.keras.activations import swish, sigmoid, softmax\n",
    "\n",
    "BASE_PATH = \"../../data/\"\n",
    "random_state = 42\n",
    "np.random.seed(random_state)\n",
    "tf.random.set_seed(random_state)"
   ]
  },
  {
   "cell_type": "markdown",
   "metadata": {},
   "source": [
    "# Load and prepare the dataset\n",
    "\n",
    "We have defined multiple preprocessing functions in the `preprocessing.py` file. We will use them to load and prepare the dataset."
   ]
  },
  {
   "cell_type": "code",
   "execution_count": 2,
   "metadata": {},
   "outputs": [
    {
     "name": "stdout",
     "output_type": "stream",
     "text": [
      "Network dataset shape:  (243065, 17)\n"
     ]
    }
   ],
   "source": [
    "hitl_dict = get_HITL(\"../../data/HardwareInTheLoop/\", small=True)\n",
    "df_network, _ = clean_HITL(hitl_dict) # Clean-up helper function\n",
    "\n",
    "print(\"Network dataset shape: \", df_network.shape)"
   ]
  },
  {
   "cell_type": "code",
   "execution_count": 3,
   "metadata": {},
   "outputs": [
    {
     "data": {
      "text/html": [
       "<div>\n",
       "<style scoped>\n",
       "    .dataframe tbody tr th:only-of-type {\n",
       "        vertical-align: middle;\n",
       "    }\n",
       "\n",
       "    .dataframe tbody tr th {\n",
       "        vertical-align: top;\n",
       "    }\n",
       "\n",
       "    .dataframe thead th {\n",
       "        text-align: right;\n",
       "    }\n",
       "</style>\n",
       "<table border=\"1\" class=\"dataframe\">\n",
       "  <thead>\n",
       "    <tr style=\"text-align: right;\">\n",
       "      <th></th>\n",
       "      <th>time</th>\n",
       "      <th>sport</th>\n",
       "      <th>dport</th>\n",
       "      <th>flags</th>\n",
       "      <th>size</th>\n",
       "      <th>n_pkt_src</th>\n",
       "      <th>n_pkt_dst</th>\n",
       "      <th>mac_s_00:0c:29:47:8c:22</th>\n",
       "      <th>mac_s_00:80:f4:03:fb:12</th>\n",
       "      <th>mac_s_0a:fe:ec:47:74:fb</th>\n",
       "      <th>...</th>\n",
       "      <th>modbus_response_[985]</th>\n",
       "      <th>modbus_response_[988]</th>\n",
       "      <th>modbus_response_[98]</th>\n",
       "      <th>modbus_response_[991]</th>\n",
       "      <th>modbus_response_[993]</th>\n",
       "      <th>modbus_response_[994]</th>\n",
       "      <th>modbus_response_[995]</th>\n",
       "      <th>modbus_response_[999]</th>\n",
       "      <th>modbus_response_[99]</th>\n",
       "      <th>modbus_response_[9]</th>\n",
       "    </tr>\n",
       "  </thead>\n",
       "  <tbody>\n",
       "    <tr>\n",
       "      <th>0</th>\n",
       "      <td>1.617993e+09</td>\n",
       "      <td>56666.0</td>\n",
       "      <td>502.0</td>\n",
       "      <td>11000.0</td>\n",
       "      <td>66</td>\n",
       "      <td>50.0</td>\n",
       "      <td>15.0</td>\n",
       "      <td>0</td>\n",
       "      <td>0</td>\n",
       "      <td>0</td>\n",
       "      <td>...</td>\n",
       "      <td>0</td>\n",
       "      <td>0</td>\n",
       "      <td>0</td>\n",
       "      <td>0</td>\n",
       "      <td>0</td>\n",
       "      <td>0</td>\n",
       "      <td>0</td>\n",
       "      <td>0</td>\n",
       "      <td>0</td>\n",
       "      <td>0</td>\n",
       "    </tr>\n",
       "    <tr>\n",
       "      <th>1</th>\n",
       "      <td>1.617993e+09</td>\n",
       "      <td>502.0</td>\n",
       "      <td>56666.0</td>\n",
       "      <td>11000.0</td>\n",
       "      <td>64</td>\n",
       "      <td>15.0</td>\n",
       "      <td>50.0</td>\n",
       "      <td>0</td>\n",
       "      <td>0</td>\n",
       "      <td>0</td>\n",
       "      <td>...</td>\n",
       "      <td>0</td>\n",
       "      <td>0</td>\n",
       "      <td>0</td>\n",
       "      <td>0</td>\n",
       "      <td>0</td>\n",
       "      <td>0</td>\n",
       "      <td>0</td>\n",
       "      <td>0</td>\n",
       "      <td>0</td>\n",
       "      <td>0</td>\n",
       "    </tr>\n",
       "    <tr>\n",
       "      <th>2</th>\n",
       "      <td>1.617993e+09</td>\n",
       "      <td>56668.0</td>\n",
       "      <td>502.0</td>\n",
       "      <td>11000.0</td>\n",
       "      <td>66</td>\n",
       "      <td>50.0</td>\n",
       "      <td>15.0</td>\n",
       "      <td>0</td>\n",
       "      <td>0</td>\n",
       "      <td>0</td>\n",
       "      <td>...</td>\n",
       "      <td>0</td>\n",
       "      <td>0</td>\n",
       "      <td>0</td>\n",
       "      <td>0</td>\n",
       "      <td>0</td>\n",
       "      <td>0</td>\n",
       "      <td>0</td>\n",
       "      <td>0</td>\n",
       "      <td>0</td>\n",
       "      <td>0</td>\n",
       "    </tr>\n",
       "    <tr>\n",
       "      <th>3</th>\n",
       "      <td>1.617993e+09</td>\n",
       "      <td>502.0</td>\n",
       "      <td>56668.0</td>\n",
       "      <td>11000.0</td>\n",
       "      <td>65</td>\n",
       "      <td>15.0</td>\n",
       "      <td>50.0</td>\n",
       "      <td>0</td>\n",
       "      <td>0</td>\n",
       "      <td>0</td>\n",
       "      <td>...</td>\n",
       "      <td>0</td>\n",
       "      <td>0</td>\n",
       "      <td>0</td>\n",
       "      <td>0</td>\n",
       "      <td>0</td>\n",
       "      <td>0</td>\n",
       "      <td>0</td>\n",
       "      <td>0</td>\n",
       "      <td>0</td>\n",
       "      <td>0</td>\n",
       "    </tr>\n",
       "    <tr>\n",
       "      <th>4</th>\n",
       "      <td>1.617993e+09</td>\n",
       "      <td>502.0</td>\n",
       "      <td>56666.0</td>\n",
       "      <td>11000.0</td>\n",
       "      <td>65</td>\n",
       "      <td>15.0</td>\n",
       "      <td>50.0</td>\n",
       "      <td>0</td>\n",
       "      <td>0</td>\n",
       "      <td>0</td>\n",
       "      <td>...</td>\n",
       "      <td>0</td>\n",
       "      <td>0</td>\n",
       "      <td>0</td>\n",
       "      <td>0</td>\n",
       "      <td>0</td>\n",
       "      <td>0</td>\n",
       "      <td>0</td>\n",
       "      <td>0</td>\n",
       "      <td>0</td>\n",
       "      <td>0</td>\n",
       "    </tr>\n",
       "  </tbody>\n",
       "</table>\n",
       "<p>5 rows × 1986 columns</p>\n",
       "</div>"
      ],
      "text/plain": [
       "           time    sport    dport    flags  size  n_pkt_src  n_pkt_dst  \\\n",
       "0  1.617993e+09  56666.0    502.0  11000.0    66       50.0       15.0   \n",
       "1  1.617993e+09    502.0  56666.0  11000.0    64       15.0       50.0   \n",
       "2  1.617993e+09  56668.0    502.0  11000.0    66       50.0       15.0   \n",
       "3  1.617993e+09    502.0  56668.0  11000.0    65       15.0       50.0   \n",
       "4  1.617993e+09    502.0  56666.0  11000.0    65       15.0       50.0   \n",
       "\n",
       "   mac_s_00:0c:29:47:8c:22  mac_s_00:80:f4:03:fb:12  mac_s_0a:fe:ec:47:74:fb  \\\n",
       "0                        0                        0                        0   \n",
       "1                        0                        0                        0   \n",
       "2                        0                        0                        0   \n",
       "3                        0                        0                        0   \n",
       "4                        0                        0                        0   \n",
       "\n",
       "   ...  modbus_response_[985]  modbus_response_[988]  modbus_response_[98]  \\\n",
       "0  ...                      0                      0                     0   \n",
       "1  ...                      0                      0                     0   \n",
       "2  ...                      0                      0                     0   \n",
       "3  ...                      0                      0                     0   \n",
       "4  ...                      0                      0                     0   \n",
       "\n",
       "   modbus_response_[991]  modbus_response_[993]  modbus_response_[994]  \\\n",
       "0                      0                      0                      0   \n",
       "1                      0                      0                      0   \n",
       "2                      0                      0                      0   \n",
       "3                      0                      0                      0   \n",
       "4                      0                      0                      0   \n",
       "\n",
       "   modbus_response_[995]  modbus_response_[999]  modbus_response_[99]  \\\n",
       "0                      0                      0                     0   \n",
       "1                      0                      0                     0   \n",
       "2                      0                      0                     0   \n",
       "3                      0                      0                     0   \n",
       "4                      0                      0                     0   \n",
       "\n",
       "   modbus_response_[9]  \n",
       "0                    0  \n",
       "1                    0  \n",
       "2                    0  \n",
       "3                    0  \n",
       "4                    0  \n",
       "\n",
       "[5 rows x 1986 columns]"
      ]
     },
     "execution_count": 3,
     "metadata": {},
     "output_type": "execute_result"
    }
   ],
   "source": [
    "df_network_prepared, df_network_labels = prepare_HTIL_network_dataset(df_network)\n",
    "df_network_prepared.head()"
   ]
  },
  {
   "cell_type": "code",
   "execution_count": 4,
   "metadata": {},
   "outputs": [
    {
     "data": {
      "text/html": [
       "<div>\n",
       "<style scoped>\n",
       "    .dataframe tbody tr th:only-of-type {\n",
       "        vertical-align: middle;\n",
       "    }\n",
       "\n",
       "    .dataframe tbody tr th {\n",
       "        vertical-align: top;\n",
       "    }\n",
       "\n",
       "    .dataframe thead th {\n",
       "        text-align: right;\n",
       "    }\n",
       "</style>\n",
       "<table border=\"1\" class=\"dataframe\">\n",
       "  <thead>\n",
       "    <tr style=\"text-align: right;\">\n",
       "      <th></th>\n",
       "      <th>label_n</th>\n",
       "      <th>label</th>\n",
       "      <th>attack</th>\n",
       "      <th>new_labels</th>\n",
       "    </tr>\n",
       "  </thead>\n",
       "  <tbody>\n",
       "    <tr>\n",
       "      <th>0</th>\n",
       "      <td>0</td>\n",
       "      <td>normal</td>\n",
       "      <td>1</td>\n",
       "      <td>3</td>\n",
       "    </tr>\n",
       "    <tr>\n",
       "      <th>1</th>\n",
       "      <td>0</td>\n",
       "      <td>normal</td>\n",
       "      <td>1</td>\n",
       "      <td>3</td>\n",
       "    </tr>\n",
       "    <tr>\n",
       "      <th>2</th>\n",
       "      <td>0</td>\n",
       "      <td>normal</td>\n",
       "      <td>1</td>\n",
       "      <td>3</td>\n",
       "    </tr>\n",
       "    <tr>\n",
       "      <th>3</th>\n",
       "      <td>0</td>\n",
       "      <td>normal</td>\n",
       "      <td>1</td>\n",
       "      <td>3</td>\n",
       "    </tr>\n",
       "    <tr>\n",
       "      <th>4</th>\n",
       "      <td>0</td>\n",
       "      <td>normal</td>\n",
       "      <td>1</td>\n",
       "      <td>3</td>\n",
       "    </tr>\n",
       "  </tbody>\n",
       "</table>\n",
       "</div>"
      ],
      "text/plain": [
       "   label_n   label  attack  new_labels\n",
       "0        0  normal       1           3\n",
       "1        0  normal       1           3\n",
       "2        0  normal       1           3\n",
       "3        0  normal       1           3\n",
       "4        0  normal       1           3"
      ]
     },
     "execution_count": 4,
     "metadata": {},
     "output_type": "execute_result"
    }
   ],
   "source": [
    "df_network_labels.head()"
   ]
  },
  {
   "cell_type": "markdown",
   "metadata": {},
   "source": [
    "# Models analysis"
   ]
  },
  {
   "cell_type": "markdown",
   "metadata": {},
   "source": [
    "## 1. Non-supervised models"
   ]
  },
  {
   "cell_type": "markdown",
   "metadata": {},
   "source": [
    "### a. Isolation Forest\n",
    "\n",
    "As a first step, let's try default parameters for the Isolation Forest model."
   ]
  },
  {
   "cell_type": "code",
   "execution_count": 27,
   "metadata": {},
   "outputs": [
    {
     "data": {
      "text/plain": [
       "label_n\n",
       "0    176087\n",
       "1     66978\n",
       "Name: count, dtype: int64"
      ]
     },
     "execution_count": 27,
     "metadata": {},
     "output_type": "execute_result"
    }
   ],
   "source": [
    "df_network_labels[\"label_n\"].value_counts()"
   ]
  },
  {
   "cell_type": "code",
   "execution_count": 5,
   "metadata": {},
   "outputs": [
    {
     "data": {
      "text/plain": [
       "12505"
      ]
     },
     "execution_count": 5,
     "metadata": {},
     "output_type": "execute_result"
    }
   ],
   "source": [
    "clf = IsolationForest(random_state=42)\n",
    "y_pred = clf.fit_predict(df_network_prepared)\n",
    "if_outliers = df_network_prepared[y_pred == -1].index.values.tolist()\n",
    "len(if_outliers)"
   ]
  },
  {
   "cell_type": "code",
   "execution_count": 6,
   "metadata": {},
   "outputs": [
    {
     "data": {
      "text/plain": [
       "label_n\n",
       "1    7695\n",
       "0    4810\n",
       "Name: count, dtype: int64"
      ]
     },
     "execution_count": 6,
     "metadata": {},
     "output_type": "execute_result"
    }
   ],
   "source": [
    "df_network_labels.iloc[if_outliers][\"label_n\"].value_counts()"
   ]
  },
  {
   "cell_type": "markdown",
   "metadata": {},
   "source": [
    "Out of the 12505 outliers found, 7695 are real anomalies (61.5%). This is not a great result knowing there are 66k outliers, let's see if we can do better with a fixed contamination rate."
   ]
  },
  {
   "cell_type": "code",
   "execution_count": 23,
   "metadata": {},
   "outputs": [
    {
     "data": {
      "text/plain": [
       "0.2755559212556312"
      ]
     },
     "execution_count": 23,
     "metadata": {},
     "output_type": "execute_result"
    }
   ],
   "source": [
    "val_counts_labels = df_network_labels[\"label_n\"].value_counts()\n",
    "contamination_rate = val_counts_labels[1] / (val_counts_labels[0] + val_counts_labels[1])\n",
    "contamination_rate"
   ]
  },
  {
   "cell_type": "code",
   "execution_count": 24,
   "metadata": {},
   "outputs": [
    {
     "data": {
      "text/plain": [
       "65687"
      ]
     },
     "execution_count": 24,
     "metadata": {},
     "output_type": "execute_result"
    }
   ],
   "source": [
    "clf = IsolationForest(n_estimators=100, n_jobs=-1, bootstrap=True, random_state=42, contamination=contamination_rate)\n",
    "y_pred = clf.fit_predict(df_network_prepared)\n",
    "if_outliers_cr = df_network_prepared[y_pred == -1].index.values.tolist()\n",
    "len(if_outliers_cr)"
   ]
  },
  {
   "cell_type": "code",
   "execution_count": 25,
   "metadata": {},
   "outputs": [
    {
     "data": {
      "text/plain": [
       "label_n\n",
       "1    37940\n",
       "0    27747\n",
       "Name: count, dtype: int64"
      ]
     },
     "execution_count": 25,
     "metadata": {},
     "output_type": "execute_result"
    }
   ],
   "source": [
    "df_network_labels.iloc[if_outliers_cr][\"label_n\"].value_counts()"
   ]
  },
  {
   "cell_type": "markdown",
   "metadata": {},
   "source": [
    "With a fixed contamination rate, the model gets a total of 65687 outliers, out of which 37940 are real anomalies (57.7%). This is a worse results than the default parameters, but more outliers are found."
   ]
  },
  {
   "cell_type": "markdown",
   "metadata": {},
   "source": [
    "### b. Local Outlier Factor"
   ]
  },
  {
   "cell_type": "code",
   "execution_count": null,
   "metadata": {},
   "outputs": [],
   "source": [
    "clf = LocalOutlierFactor(n_neighbors=5)\n",
    "y_pred = clf.fit_predict(df_network_prepared)\n",
    "lof_outliers = df_network_prepared[y_pred == -1].index.values.tolist()\n",
    "len(lof_outliers)"
   ]
  },
  {
   "cell_type": "code",
   "execution_count": null,
   "metadata": {},
   "outputs": [],
   "source": [
    "df_network_labels.iloc[lof_outliers][\"label_n\"].value_counts()"
   ]
  },
  {
   "cell_type": "markdown",
   "metadata": {},
   "source": [
    "## 2. Neural Networks"
   ]
  },
  {
   "cell_type": "markdown",
   "metadata": {},
   "source": [
    "### a. DNN\n",
    "\n",
    "We will use only some of the columns for the DNN model. We are removing contextual information such as the time and the source and destination IPs. To make it easier to manipulate, we will merge back the labels with the predictions."
   ]
  },
  {
   "cell_type": "markdown",
   "metadata": {},
   "source": [
    "#### Binary classification"
   ]
  },
  {
   "cell_type": "code",
   "execution_count": 34,
   "metadata": {},
   "outputs": [
    {
     "data": {
      "text/html": [
       "<div>\n",
       "<style scoped>\n",
       "    .dataframe tbody tr th:only-of-type {\n",
       "        vertical-align: middle;\n",
       "    }\n",
       "\n",
       "    .dataframe tbody tr th {\n",
       "        vertical-align: top;\n",
       "    }\n",
       "\n",
       "    .dataframe thead th {\n",
       "        text-align: right;\n",
       "    }\n",
       "</style>\n",
       "<table border=\"1\" class=\"dataframe\">\n",
       "  <thead>\n",
       "    <tr style=\"text-align: right;\">\n",
       "      <th></th>\n",
       "      <th>sport</th>\n",
       "      <th>dport</th>\n",
       "      <th>flags</th>\n",
       "      <th>size</th>\n",
       "      <th>n_pkt_src</th>\n",
       "      <th>n_pkt_dst</th>\n",
       "      <th>label_n</th>\n",
       "    </tr>\n",
       "  </thead>\n",
       "  <tbody>\n",
       "    <tr>\n",
       "      <th>0</th>\n",
       "      <td>56666.0</td>\n",
       "      <td>502.0</td>\n",
       "      <td>11000.0</td>\n",
       "      <td>66</td>\n",
       "      <td>50.0</td>\n",
       "      <td>15.0</td>\n",
       "      <td>0</td>\n",
       "    </tr>\n",
       "    <tr>\n",
       "      <th>1</th>\n",
       "      <td>502.0</td>\n",
       "      <td>56666.0</td>\n",
       "      <td>11000.0</td>\n",
       "      <td>64</td>\n",
       "      <td>15.0</td>\n",
       "      <td>50.0</td>\n",
       "      <td>0</td>\n",
       "    </tr>\n",
       "    <tr>\n",
       "      <th>2</th>\n",
       "      <td>56668.0</td>\n",
       "      <td>502.0</td>\n",
       "      <td>11000.0</td>\n",
       "      <td>66</td>\n",
       "      <td>50.0</td>\n",
       "      <td>15.0</td>\n",
       "      <td>0</td>\n",
       "    </tr>\n",
       "    <tr>\n",
       "      <th>3</th>\n",
       "      <td>502.0</td>\n",
       "      <td>56668.0</td>\n",
       "      <td>11000.0</td>\n",
       "      <td>65</td>\n",
       "      <td>15.0</td>\n",
       "      <td>50.0</td>\n",
       "      <td>0</td>\n",
       "    </tr>\n",
       "    <tr>\n",
       "      <th>4</th>\n",
       "      <td>502.0</td>\n",
       "      <td>56666.0</td>\n",
       "      <td>11000.0</td>\n",
       "      <td>65</td>\n",
       "      <td>15.0</td>\n",
       "      <td>50.0</td>\n",
       "      <td>0</td>\n",
       "    </tr>\n",
       "  </tbody>\n",
       "</table>\n",
       "</div>"
      ],
      "text/plain": [
       "     sport    dport    flags  size  n_pkt_src  n_pkt_dst  label_n\n",
       "0  56666.0    502.0  11000.0    66       50.0       15.0        0\n",
       "1    502.0  56666.0  11000.0    64       15.0       50.0        0\n",
       "2  56668.0    502.0  11000.0    66       50.0       15.0        0\n",
       "3    502.0  56668.0  11000.0    65       15.0       50.0        0\n",
       "4    502.0  56666.0  11000.0    65       15.0       50.0        0"
      ]
     },
     "execution_count": 34,
     "metadata": {},
     "output_type": "execute_result"
    }
   ],
   "source": [
    "df = df_network_prepared.copy()\n",
    "df[\"label_n\"] = df_network_labels[\"label_n\"]\n",
    "df = df[[\"sport\", \"dport\", \"flags\", \"size\", \"n_pkt_src\", \"n_pkt_dst\", \"label_n\"]]\n",
    "df.head()"
   ]
  },
  {
   "cell_type": "code",
   "execution_count": 35,
   "metadata": {},
   "outputs": [
    {
     "data": {
      "text/plain": [
       "((155561, 6), (38891, 6), (48613, 6))"
      ]
     },
     "execution_count": 35,
     "metadata": {},
     "output_type": "execute_result"
    }
   ],
   "source": [
    "# convert bool columns to int\n",
    "bool_cols = df.columns[df.dtypes == bool]\n",
    "df[bool_cols] = df[bool_cols].astype(int)\n",
    "\n",
    "# remove time column\n",
    "if \"Time\" in df.columns:\n",
    "    df.drop(columns=['Time'], inplace=True)\n",
    "\n",
    "# Split data into train, validation, and test sets\n",
    "train_df, test_df = train_test_split(df, test_size=0.2, random_state=42, stratify=df['label_n'])\n",
    "train_df, val_df = train_test_split(train_df, test_size=0.2, random_state=42, stratify=train_df['label_n'])\n",
    "\n",
    "# Separate features and target\n",
    "X_train = train_df.drop(columns=['label_n'])\n",
    "y_train = train_df['label_n']\n",
    "X_val = val_df.drop(columns=['label_n'])\n",
    "y_val = val_df['label_n']\n",
    "X_test = test_df.drop(columns=['label_n'])\n",
    "y_test = test_df['label_n']\n",
    "\n",
    "# Normalize numerical features\n",
    "scaler = StandardScaler()\n",
    "X_train = scaler.fit_transform(X_train)\n",
    "X_val = scaler.transform(X_val)\n",
    "X_test = scaler.transform(X_test)\n",
    "\n",
    "X_train.shape, X_val.shape, X_test.shape"
   ]
  },
  {
   "cell_type": "code",
   "execution_count": 36,
   "metadata": {},
   "outputs": [
    {
     "data": {
      "text/plain": [
       "array([-1.07814864,  1.15211731,  0.11232352, -0.36686064, -0.91858689,\n",
       "        0.23207069])"
      ]
     },
     "execution_count": 36,
     "metadata": {},
     "output_type": "execute_result"
    }
   ],
   "source": [
    "X_train[0]"
   ]
  },
  {
   "cell_type": "code",
   "execution_count": 39,
   "metadata": {},
   "outputs": [
    {
     "name": "stdout",
     "output_type": "stream",
     "text": [
      "Model: \"sequential\"\n",
      "_________________________________________________________________\n",
      " Layer (type)                Output Shape              Param #   \n",
      "=================================================================\n",
      " dense (Dense)               (None, 1024)              7168      \n",
      "                                                                 \n",
      " dense_1 (Dense)             (None, 256)               262400    \n",
      "                                                                 \n",
      " dense_2 (Dense)             (None, 64)                16448     \n",
      "                                                                 \n",
      " dense_3 (Dense)             (None, 1)                 65        \n",
      "                                                                 \n",
      "=================================================================\n",
      "Total params: 286081 (1.09 MB)\n",
      "Trainable params: 286081 (1.09 MB)\n",
      "Non-trainable params: 0 (0.00 Byte)\n",
      "_________________________________________________________________\n"
     ]
    }
   ],
   "source": [
    "# Define the neural network model\n",
    "model = tf.keras.Sequential([\n",
    "    tf.keras.layers.Input(shape=(X_train[0].shape[0],)),  # Input layer\n",
    "    tf.keras.layers.Dense(1024, activation=swish),  # Hidden layer 1\n",
    "    tf.keras.layers.Dense(256, activation=swish),   # Hidden layer 2\n",
    "    tf.keras.layers.Dense(64, activation=swish),   # Hidden layer 3\n",
    "    tf.keras.layers.Dense(1, activation=sigmoid)  # Output layer\n",
    "])\n",
    "\n",
    "# Compile the model\n",
    "model.compile(optimizer='adam',\n",
    "              loss='binary_crossentropy',\n",
    "              metrics=['accuracy'])\n",
    "\n",
    "model.summary()"
   ]
  },
  {
   "cell_type": "markdown",
   "metadata": {},
   "source": [
    "Let's define callbacks"
   ]
  },
  {
   "cell_type": "code",
   "execution_count": 40,
   "metadata": {},
   "outputs": [
    {
     "name": "stdout",
     "output_type": "stream",
     "text": [
      "Epoch 1/10\n",
      "608/608 [==============================] - 3s 4ms/step - loss: 0.3281 - accuracy: 0.8704 - val_loss: 0.3129 - val_accuracy: 0.8698 - lr: 0.0010\n",
      "Epoch 2/10\n",
      "608/608 [==============================] - 3s 5ms/step - loss: 0.3045 - accuracy: 0.8746 - val_loss: 0.3015 - val_accuracy: 0.8767 - lr: 0.0010\n",
      "Epoch 3/10\n",
      "608/608 [==============================] - 3s 5ms/step - loss: 0.3019 - accuracy: 0.8754 - val_loss: 0.3001 - val_accuracy: 0.8771 - lr: 0.0010\n",
      "Epoch 4/10\n",
      "608/608 [==============================] - 3s 5ms/step - loss: 0.3020 - accuracy: 0.8755 - val_loss: 0.2980 - val_accuracy: 0.8775 - lr: 0.0010\n",
      "Epoch 5/10\n",
      "608/608 [==============================] - 3s 5ms/step - loss: 0.3004 - accuracy: 0.8756 - val_loss: 0.2977 - val_accuracy: 0.8774 - lr: 0.0010\n",
      "Epoch 6/10\n",
      "608/608 [==============================] - 3s 5ms/step - loss: 0.2997 - accuracy: 0.8758 - val_loss: 0.3001 - val_accuracy: 0.8777 - lr: 0.0010\n",
      "Epoch 7/10\n",
      "608/608 [==============================] - 3s 5ms/step - loss: 0.2994 - accuracy: 0.8758 - val_loss: 0.2969 - val_accuracy: 0.8778 - lr: 0.0010\n",
      "Epoch 8/10\n",
      "608/608 [==============================] - 3s 5ms/step - loss: 0.2993 - accuracy: 0.8759 - val_loss: 0.2982 - val_accuracy: 0.8777 - lr: 0.0010\n",
      "Epoch 9/10\n",
      "608/608 [==============================] - 3s 5ms/step - loss: 0.2999 - accuracy: 0.8756 - val_loss: 0.2973 - val_accuracy: 0.8778 - lr: 0.0010\n",
      "Epoch 10/10\n",
      "600/608 [============================>.] - ETA: 0s - loss: 0.2995 - accuracy: 0.8758\n",
      "Epoch 10: ReduceLROnPlateau reducing learning rate to 0.00010000000474974513.\n",
      "608/608 [==============================] - 3s 5ms/step - loss: 0.2994 - accuracy: 0.8758 - val_loss: 0.2978 - val_accuracy: 0.8778 - lr: 0.0010\n"
     ]
    }
   ],
   "source": [
    "# callbacks\n",
    "early_stopping = tf.keras.callbacks.EarlyStopping(\n",
    "    monitor='val_loss', min_delta=0, patience=6, verbose=1,\n",
    "    mode='auto', baseline=None, restore_best_weights=True\n",
    ")\n",
    "reduce_on_plateau = tf.keras.callbacks.ReduceLROnPlateau(\n",
    "    monitor='val_loss', factor=0.1, patience=3, verbose=1,\n",
    "    mode='auto', min_delta=0.0001, cooldown=0, min_lr=0\n",
    ")\n",
    "\n",
    "# Train the model\n",
    "history = model.fit(X_train, y_train, \n",
    "                    epochs=10, \n",
    "                    batch_size=256, \n",
    "                    validation_data=(X_val, y_val),\n",
    "                    callbacks=[early_stopping, reduce_on_plateau])"
   ]
  },
  {
   "cell_type": "code",
   "execution_count": 41,
   "metadata": {},
   "outputs": [
    {
     "data": {
      "image/png": "[encoded data removed]",
      "text/plain": [
       "<Figure size 640x480 with 1 Axes>"
      ]
     },
     "metadata": {},
     "output_type": "display_data"
    }
   ],
   "source": [
    "plt.plot(history.history['accuracy'], label='train')\n",
    "plt.plot(history.history['val_accuracy'], label='val')\n",
    "plt.legend()\n",
    "plt.show()"
   ]
  },
  {
   "cell_type": "markdown",
   "metadata": {},
   "source": [
    "Evaluation on the test set:"
   ]
  },
  {
   "cell_type": "code",
   "execution_count": 42,
   "metadata": {},
   "outputs": [
    {
     "name": "stdout",
     "output_type": "stream",
     "text": [
      "1520/1520 [==============================] - 1s 754us/step - loss: 0.2990 - accuracy: 0.8763\n",
      "Test accuracy: 87.63%\n"
     ]
    }
   ],
   "source": [
    "test_loss, test_accuracy = model.evaluate(X_test, y_test)\n",
    "print(f\"Test accuracy: {test_accuracy * 100:.2f}%\")"
   ]
  },
  {
   "cell_type": "code",
   "execution_count": 119,
   "metadata": {},
   "outputs": [],
   "source": [
    "def plot_confusion_matrix(y_true, y_pred, title=None):\n",
    "    fig, ax = plt.subplots(figsize=(6, 6))\n",
    "    cm = confusion_matrix(y_true, y_pred)\n",
    "    sns.heatmap(cm, annot=True, fmt=\"d\", ax=ax, cmap=\"Blues\")\n",
    "    ax.set_ylabel(\"Actual\")\n",
    "    ax.set_xlabel(\"Predicted\")\n",
    "    if title:\n",
    "        ax.set_title(title)\n",
    "    plt.show()"
   ]
  },
  {
   "cell_type": "code",
   "execution_count": null,
   "metadata": {},
   "outputs": [],
   "source": [
    "# Predict on test set\n",
    "y_pred = model.predict(X_test)\n",
    "y_pred = np.round(y_pred).astype(int).reshape(-1)\n",
    "\n",
    "# Plot confusion matrix\n",
    "plot_confusion_matrix(y_test, y_pred, title=\"Confusion matrix for the test set\")"
   ]
  },
  {
   "cell_type": "markdown",
   "metadata": {},
   "source": [
    "#### Multiclass classification\n",
    "\n",
    "Now, we want to create an alternative DNN which will give us more precision on the type of attack. We will use the same architecture as before, but we will change the output layer to have 5 neurons, one for each type of attack."
   ]
  },
  {
   "cell_type": "code",
   "execution_count": 48,
   "metadata": {},
   "outputs": [
    {
     "data": {
      "text/plain": [
       "new_labels\n",
       "3    176087\n",
       "0     37665\n",
       "1     16841\n",
       "4     12469\n",
       "2         3\n",
       "Name: count, dtype: int64"
      ]
     },
     "execution_count": 48,
     "metadata": {},
     "output_type": "execute_result"
    }
   ],
   "source": [
    "df.drop(columns=['label_n'], inplace=True)\n",
    "df[\"new_labels\"] = df_network_labels[\"new_labels\"]\n",
    "df[\"new_labels\"].value_counts()"
   ]
  },
  {
   "cell_type": "markdown",
   "metadata": {},
   "source": [
    "Let's delete the class 2"
   ]
  },
  {
   "cell_type": "code",
   "execution_count": 59,
   "metadata": {},
   "outputs": [
    {
     "data": {
      "text/plain": [
       "new_labels\n",
       "3    176087\n",
       "0     37665\n",
       "1     16841\n",
       "4     12469\n",
       "Name: count, dtype: int64"
      ]
     },
     "execution_count": 59,
     "metadata": {},
     "output_type": "execute_result"
    }
   ],
   "source": [
    "df = df[df[\"new_labels\"] != 2]\n",
    "df[\"new_labels\"].value_counts()"
   ]
  },
  {
   "cell_type": "code",
   "execution_count": 60,
   "metadata": {},
   "outputs": [
    {
     "data": {
      "text/plain": [
       "((155559, 6), (38890, 6), (48613, 6))"
      ]
     },
     "execution_count": 60,
     "metadata": {},
     "output_type": "execute_result"
    }
   ],
   "source": [
    "# Split data into train, validation, and test sets\n",
    "train_df, test_df = train_test_split(df, test_size=0.2, random_state=42, stratify=df['new_labels'])\n",
    "train_df, val_df = train_test_split(train_df, test_size=0.2, random_state=42, stratify=train_df['new_labels'])\n",
    "\n",
    "# Separate features and target\n",
    "X_train = train_df.drop(columns=['new_labels'])\n",
    "y_train = train_df['new_labels']\n",
    "X_val = val_df.drop(columns=['new_labels'])\n",
    "y_val = val_df['new_labels']\n",
    "X_test = test_df.drop(columns=['new_labels'])\n",
    "y_test = test_df['new_labels']\n",
    "\n",
    "# Normalize numerical features\n",
    "scaler = StandardScaler()\n",
    "X_train = scaler.fit_transform(X_train)\n",
    "X_val = scaler.transform(X_val)\n",
    "X_test = scaler.transform(X_test)\n",
    "\n",
    "X_train.shape, X_val.shape, X_test.shape"
   ]
  },
  {
   "cell_type": "code",
   "execution_count": 69,
   "metadata": {},
   "outputs": [
    {
     "name": "stdout",
     "output_type": "stream",
     "text": [
      "Model: \"sequential_4\"\n",
      "_________________________________________________________________\n",
      " Layer (type)                Output Shape              Param #   \n",
      "=================================================================\n",
      " dense_16 (Dense)            (None, 1024)              7168      \n",
      "                                                                 \n",
      " dense_17 (Dense)            (None, 256)               262400    \n",
      "                                                                 \n",
      " dense_18 (Dense)            (None, 64)                16448     \n",
      "                                                                 \n",
      " dense_19 (Dense)            (None, 5)                 325       \n",
      "                                                                 \n",
      "=================================================================\n",
      "Total params: 286341 (1.09 MB)\n",
      "Trainable params: 286341 (1.09 MB)\n",
      "Non-trainable params: 0 (0.00 Byte)\n",
      "_________________________________________________________________\n"
     ]
    }
   ],
   "source": [
    "# Define the neural network model\n",
    "model = tf.keras.Sequential([\n",
    "    tf.keras.layers.Input(shape=(X_train[0].shape[0],)),  # Input layer\n",
    "    tf.keras.layers.Dense(1024, activation=swish),  # Hidden layer 1\n",
    "    tf.keras.layers.Dense(256, activation=swish),   # Hidden layer 2\n",
    "    tf.keras.layers.Dense(64, activation=swish),   # Hidden layer 3\n",
    "    tf.keras.layers.Dense(5, activation=softmax)  # Output layer\n",
    "])\n",
    "\n",
    "# Compile the model\n",
    "model.compile(optimizer='adam',\n",
    "              loss='sparse_categorical_crossentropy',\n",
    "              metrics=['accuracy'])\n",
    "\n",
    "model.summary()"
   ]
  },
  {
   "cell_type": "code",
   "execution_count": 70,
   "metadata": {},
   "outputs": [
    {
     "name": "stdout",
     "output_type": "stream",
     "text": [
      "Epoch 1/10\n"
     ]
    },
    {
     "name": "stdout",
     "output_type": "stream",
     "text": [
      "608/608 [==============================] - 3s 5ms/step - loss: 0.4457 - accuracy: 0.8708 - val_loss: 0.3966 - val_accuracy: 0.8753 - lr: 0.0010\n",
      "Epoch 2/10\n",
      "608/608 [==============================] - 3s 4ms/step - loss: 0.3956 - accuracy: 0.8757 - val_loss: 0.3866 - val_accuracy: 0.8754 - lr: 0.0010\n",
      "Epoch 3/10\n",
      "608/608 [==============================] - 3s 5ms/step - loss: 0.3920 - accuracy: 0.8760 - val_loss: 0.3850 - val_accuracy: 0.8758 - lr: 0.0010\n",
      "Epoch 4/10\n",
      "608/608 [==============================] - 3s 5ms/step - loss: 0.3911 - accuracy: 0.8761 - val_loss: 0.3876 - val_accuracy: 0.8758 - lr: 0.0010\n",
      "Epoch 5/10\n",
      "608/608 [==============================] - 3s 5ms/step - loss: 0.3899 - accuracy: 0.8762 - val_loss: 0.3845 - val_accuracy: 0.8759 - lr: 0.0010\n",
      "Epoch 6/10\n",
      "608/608 [==============================] - 3s 5ms/step - loss: 0.3890 - accuracy: 0.8763 - val_loss: 0.3885 - val_accuracy: 0.8764 - lr: 0.0010\n",
      "Epoch 7/10\n",
      "608/608 [==============================] - 3s 5ms/step - loss: 0.3876 - accuracy: 0.8765 - val_loss: 0.3855 - val_accuracy: 0.8763 - lr: 0.0010\n",
      "Epoch 8/10\n",
      "608/608 [==============================] - 3s 5ms/step - loss: 0.3869 - accuracy: 0.8766 - val_loss: 0.3815 - val_accuracy: 0.8764 - lr: 0.0010\n",
      "Epoch 9/10\n",
      "608/608 [==============================] - 3s 5ms/step - loss: 0.3868 - accuracy: 0.8766 - val_loss: 0.3828 - val_accuracy: 0.8764 - lr: 0.0010\n",
      "Epoch 10/10\n",
      "608/608 [==============================] - 3s 5ms/step - loss: 0.3865 - accuracy: 0.8767 - val_loss: 0.3824 - val_accuracy: 0.8766 - lr: 0.0010\n"
     ]
    }
   ],
   "source": [
    "history = model.fit(X_train, y_train, \n",
    "                    epochs=10, \n",
    "                    batch_size=256, \n",
    "                    validation_data=(X_val, y_val),\n",
    "                    callbacks=[early_stopping, reduce_on_plateau])"
   ]
  },
  {
   "cell_type": "code",
   "execution_count": 63,
   "metadata": {},
   "outputs": [
    {
     "data": {
      "image/png": "[encoded data removed]",
      "text/plain": [
       "<Figure size 640x480 with 1 Axes>"
      ]
     },
     "metadata": {},
     "output_type": "display_data"
    }
   ],
   "source": [
    "plt.plot(history.history['accuracy'], label='train')\n",
    "plt.plot(history.history['val_accuracy'], label='val')\n",
    "plt.legend()\n",
    "plt.show()"
   ]
  },
  {
   "cell_type": "markdown",
   "metadata": {},
   "source": [
    "Evaluate on the test set:"
   ]
  },
  {
   "cell_type": "code",
   "execution_count": 64,
   "metadata": {},
   "outputs": [
    {
     "name": "stdout",
     "output_type": "stream",
     "text": [
      "1520/1520 [==============================] - 1s 650us/step - loss: 0.3858 - accuracy: 0.8766\n",
      "Test accuracy: 87.66%\n"
     ]
    }
   ],
   "source": [
    "test_loss, test_accuracy = model.evaluate(X_test, y_test)\n",
    "print(f\"Test accuracy: {test_accuracy * 100:.2f}%\")"
   ]
  },
  {
   "cell_type": "code",
   "execution_count": 65,
   "metadata": {},
   "outputs": [
    {
     "name": "stdout",
     "output_type": "stream",
     "text": [
      "1520/1520 [==============================] - 1s 564us/step\n"
     ]
    },
    {
     "data": {
      "image/png": "[encoded data removed]",
      "text/plain": [
       "<Figure size 600x600 with 2 Axes>"
      ]
     },
     "metadata": {},
     "output_type": "display_data"
    }
   ],
   "source": [
    "# Predict on test set\n",
    "y_pred = model.predict(X_test)\n",
    "y_pred = y_pred = np.argmax(y_pred, axis=1)\n",
    "\n",
    "# Plot confusion matrix\n",
    "plot_confusion_matrix(y_test, y_pred, title=\"Confusion matrix for the test set\")"
   ]
  },
  {
   "cell_type": "markdown",
   "metadata": {},
   "source": [
    "A very strange behavior is observed: the model is not able to predict any class other than 0 (one type of attack) and 2 (normal traffic). This is probably due to the fact that the dataset is very unbalanced, and the model is not able to learn the other classes."
   ]
  },
  {
   "cell_type": "code",
   "execution_count": 66,
   "metadata": {},
   "outputs": [
    {
     "name": "stdout",
     "output_type": "stream",
     "text": [
      "Recall:  0.49572842259311645\n",
      "Precision:  0.46335984565041666\n",
      "F1-score:  0.47810913750022965\n",
      "Accuracy:  0.8766379363544731\n"
     ]
    },
    {
     "name": "stderr",
     "output_type": "stream",
     "text": [
      "/Users/quentinfisch/Documents/EPITA/ING3/SCIA/S9/MLSECU/ML-SECU2024/.venv/lib/python3.11/site-packages/sklearn/metrics/_classification.py:1469: UndefinedMetricWarning: Precision is ill-defined and being set to 0.0 in labels with no predicted samples. Use `zero_division` parameter to control this behavior.\n",
      "  _warn_prf(average, modifier, msg_start, len(result))\n"
     ]
    }
   ],
   "source": [
    "# get recall, precision, f1-score, and accuracy\n",
    "print(\"Recall: \", recall_score(y_test, y_pred, average='macro'))\n",
    "print(\"Precision: \", precision_score(y_test, y_pred, average='macro'))\n",
    "print(\"F1-score: \", f1_score(y_test, y_pred, average='macro'))\n",
    "print(\"Accuracy: \", accuracy_score(y_test, y_pred))"
   ]
  },
  {
   "cell_type": "markdown",
   "metadata": {},
   "source": [
    "As expected, only the accuracy is good, but the precision and recall are very low."
   ]
  },
  {
   "cell_type": "markdown",
   "metadata": {},
   "source": [
    "### b. LSTM\n",
    "\n",
    "#### Binary classification"
   ]
  },
  {
   "cell_type": "code",
   "execution_count": 72,
   "metadata": {},
   "outputs": [],
   "source": [
    "X_train, X_test, y_train, y_test = train_test_split(df_network_prepared, df_network_labels[[\"new_labels\", \"label_n\"]], test_size=0.2, random_state=random_state)\n",
    "X_train, X_val, y_train, y_val = train_test_split(X_train, y_train, test_size=0.2, random_state=random_state)"
   ]
  },
  {
   "cell_type": "code",
   "execution_count": 73,
   "metadata": {},
   "outputs": [],
   "source": [
    "scaler = StandardScaler()\n",
    "X_train_scaled = scaler.fit_transform(X_train)\n",
    "X_test_scaled = scaler.transform(X_test)\n",
    "X_val_scaled = scaler.transform(X_val)"
   ]
  },
  {
   "cell_type": "markdown",
   "metadata": {},
   "source": [
    "Let's create a PyTorch dataset"
   ]
  },
  {
   "cell_type": "code",
   "execution_count": 76,
   "metadata": {},
   "outputs": [],
   "source": [
    "class HITLDataset(torch.utils.data.Dataset):\n",
    "    def __init__(self, X, y):\n",
    "        self.X = torch.tensor(X).float()\n",
    "        self.y = torch.tensor(y).long()\n",
    "\n",
    "    def __len__(self):\n",
    "        return len(self.X)\n",
    "\n",
    "    def __getitem__(self, idx):\n",
    "        return self.X[idx], self.y[idx]\n",
    "\n",
    "\n",
    "train_dataset = HITLDataset(X_train_scaled, y_train[\"label_n\"].to_numpy())\n",
    "test_dataset = HITLDataset(X_test_scaled, y_test[\"label_n\"].to_numpy())\n",
    "val_dataset = HITLDataset(X_val_scaled, y_val[\"label_n\"].to_numpy())\n",
    "\n",
    "# Create pytorch dataloader\n",
    "train_loader = torch.utils.data.DataLoader(train_dataset, batch_size=32, shuffle=True)\n",
    "test_loader = torch.utils.data.DataLoader(test_dataset, batch_size=32, shuffle=False)\n",
    "val_loader = torch.utils.data.DataLoader(val_dataset, batch_size=32, shuffle=True)"
   ]
  },
  {
   "cell_type": "code",
   "execution_count": 78,
   "metadata": {},
   "outputs": [
    {
     "data": {
      "text/plain": [
       "LSTM(\n",
       "  (lstm): LSTM(1986, 32, batch_first=True)\n",
       "  (fc): Linear(in_features=32, out_features=2, bias=True)\n",
       ")"
      ]
     },
     "execution_count": 78,
     "metadata": {},
     "output_type": "execute_result"
    }
   ],
   "source": [
    "class LSTM(nn.Module):\n",
    "    def __init__(self, input_dim, hidden_dim, output_dim):\n",
    "        super().__init__()\n",
    "        self.hidden_dim = hidden_dim\n",
    "        self.lstm = nn.LSTM(input_dim, hidden_dim, batch_first=True)\n",
    "        self.fc = nn.Linear(hidden_dim, output_dim)\n",
    "\n",
    "    def forward(self, x):\n",
    "        out, _ = self.lstm(x)\n",
    "        out = self.fc(out)\n",
    "        return out\n",
    "    \n",
    "input_dim = X_train_scaled.shape[1]\n",
    "output_dim = len(y_train[\"label_n\"].unique())\n",
    "hidden_dim = 32\n",
    "model = LSTM(input_dim, hidden_dim, output_dim)\n",
    "model"
   ]
  },
  {
   "cell_type": "code",
   "execution_count": 79,
   "metadata": {},
   "outputs": [],
   "source": [
    "criterion = nn.CrossEntropyLoss()\n",
    "optimizer = torch.optim.Adam(model.parameters(), lr=0.001)"
   ]
  },
  {
   "cell_type": "code",
   "execution_count": 80,
   "metadata": {},
   "outputs": [],
   "source": [
    "from tqdm import tqdm\n",
    "\n",
    "def train(model, train_loader, val_loader, criterion, optimizer):\n",
    "    model.train()\n",
    "    train_loss = 0\n",
    "    train_acc = 0\n",
    "    val_loss = 0\n",
    "    val_acc = 0\n",
    "    for X, y in tqdm(train_loader, total=len(train_loader)):\n",
    "        optimizer.zero_grad()\n",
    "        y_pred = model(X)\n",
    "        loss = criterion(y_pred, y)\n",
    "        loss.backward()\n",
    "        optimizer.step()\n",
    "        train_loss += loss.item()\n",
    "        train_acc += (y_pred.argmax(1) == y).sum().item()\n",
    "\n",
    "    model.eval()\n",
    "    with torch.no_grad():\n",
    "        for X, y in tqdm(val_loader, total=len(val_loader)):\n",
    "            y_pred = model(X)\n",
    "            loss = criterion(y_pred, y)\n",
    "            val_loss += loss.item()\n",
    "            val_acc += (y_pred.argmax(1) == y).sum().item()\n",
    "    return train_loss / len(train_loader), train_acc / len(train_loader.dataset), val_loss / len(val_loader), val_acc / len(val_loader.dataset)\n",
    "\n",
    "def test(model, test_loader, criterion):\n",
    "    model.eval()\n",
    "    test_loss = 0\n",
    "    test_acc = 0\n",
    "    y_pred_list = []\n",
    "    y_true_list = []\n",
    "    with torch.no_grad():\n",
    "        for X, y in test_loader:\n",
    "            y_pred = model(X)\n",
    "            loss = criterion(y_pred, y)\n",
    "            test_loss += loss.item()\n",
    "            test_acc += (y_pred.argmax(1) == y).sum().item()\n",
    "            y_pred_list.append(y_pred.argmax(1).cpu().numpy())\n",
    "            y_true_list.append(y.cpu().numpy())\n",
    "    return test_loss / len(test_loader), test_acc / len(test_loader.dataset)"
   ]
  },
  {
   "cell_type": "code",
   "execution_count": 81,
   "metadata": {},
   "outputs": [
    {
     "name": "stderr",
     "output_type": "stream",
     "text": [
      "100%|██████████| 4862/4862 [01:17<00:00, 62.48it/s] \n",
      "100%|██████████| 1216/1216 [00:01<00:00, 759.53it/s]\n"
     ]
    },
    {
     "name": "stdout",
     "output_type": "stream",
     "text": [
      "Train loss: 0.3745, Train acc: 0.8627, Val loss: 0.3562, Val acc: 0.8679\n"
     ]
    },
    {
     "name": "stderr",
     "output_type": "stream",
     "text": [
      "100%|██████████| 4862/4862 [01:18<00:00, 62.21it/s] \n",
      "100%|██████████| 1216/1216 [00:01<00:00, 803.39it/s]\n"
     ]
    },
    {
     "name": "stdout",
     "output_type": "stream",
     "text": [
      "Train loss: 0.3476, Train acc: 0.8727, Val loss: 0.3358, Val acc: 0.8769\n"
     ]
    },
    {
     "name": "stderr",
     "output_type": "stream",
     "text": [
      "100%|██████████| 4862/4862 [01:39<00:00, 48.82it/s] \n",
      "100%|██████████| 1216/1216 [00:01<00:00, 846.51it/s]\n"
     ]
    },
    {
     "name": "stdout",
     "output_type": "stream",
     "text": [
      "Train loss: 0.3282, Train acc: 0.8757, Val loss: 0.3227, Val acc: 0.8765\n"
     ]
    },
    {
     "name": "stderr",
     "output_type": "stream",
     "text": [
      "100%|██████████| 4862/4862 [01:03<00:00, 76.08it/s] \n",
      "100%|██████████| 1216/1216 [00:01<00:00, 800.51it/s]\n"
     ]
    },
    {
     "name": "stdout",
     "output_type": "stream",
     "text": [
      "Train loss: 0.3145, Train acc: 0.8752, Val loss: 0.3128, Val acc: 0.8770\n"
     ]
    },
    {
     "name": "stderr",
     "output_type": "stream",
     "text": [
      "100%|██████████| 4862/4862 [00:56<00:00, 86.54it/s] \n",
      "100%|██████████| 1216/1216 [00:01<00:00, 791.90it/s]\n"
     ]
    },
    {
     "name": "stdout",
     "output_type": "stream",
     "text": [
      "Train loss: 0.3058, Train acc: 0.8755, Val loss: 0.3043, Val acc: 0.8782\n"
     ]
    },
    {
     "data": {
      "image/png": "[encoded data removed]",
      "text/plain": [
       "<Figure size 640x480 with 1 Axes>"
      ]
     },
     "metadata": {},
     "output_type": "display_data"
    }
   ],
   "source": [
    "EPOCHS = 5\n",
    "train_loss_list = []\n",
    "train_acc_list = []\n",
    "val_loss_list = []\n",
    "val_acc_list = []\n",
    "\n",
    "for _ in range(EPOCHS):\n",
    "    train_loss, train_acc, val_loss, val_acc = train(model, train_loader, val_loader, criterion, optimizer)\n",
    "    train_loss_list.append(train_loss)\n",
    "    train_acc_list.append(train_acc)\n",
    "    val_loss_list.append(val_loss)\n",
    "    val_acc_list.append(val_acc)\n",
    "    print(f\"Train loss: {train_loss:.4f}, Train acc: {train_acc:.4f}, Val loss: {val_loss:.4f}, Val acc: {val_acc:.4f}\")\n",
    "\n",
    "# Plot train loss and accuracy\n",
    "plt.plot(train_acc_list, label=\"train acc\")\n",
    "plt.plot(val_acc_list, label=\"val acc\")\n",
    "plt.legend()\n",
    "plt.show()"
   ]
  },
  {
   "cell_type": "code",
   "execution_count": 82,
   "metadata": {},
   "outputs": [
    {
     "name": "stdout",
     "output_type": "stream",
     "text": [
      "Test loss: 0.3030, Test acc: 0.8781\n"
     ]
    }
   ],
   "source": [
    "test_loss, test_acc = test(model, test_loader, criterion)\n",
    "print(f\"Test loss: {test_loss:.4f}, Test acc: {test_acc:.4f}\")"
   ]
  },
  {
   "cell_type": "code",
   "execution_count": 83,
   "metadata": {},
   "outputs": [
    {
     "data": {
      "image/png": "[encoded data removed]",
      "text/plain": [
       "<Figure size 600x600 with 2 Axes>"
      ]
     },
     "metadata": {},
     "output_type": "display_data"
    }
   ],
   "source": [
    "# Predict on test set\n",
    "y_pred_list = []\n",
    "y_true_list = []\n",
    "with torch.no_grad():\n",
    "    for X, y in test_loader:\n",
    "        y_pred = model(X)\n",
    "        y_pred_list.append(y_pred.argmax(1).cpu().numpy())\n",
    "        y_true_list.append(y.cpu().numpy())\n",
    "\n",
    "y_pred = np.concatenate(y_pred_list)\n",
    "y_true = np.concatenate(y_true_list)\n",
    "\n",
    "# Plot confusion matrix\n",
    "plot_confusion_matrix(y_true, y_pred, title=\"Confusion matrix for the test set\")"
   ]
  },
  {
   "cell_type": "markdown",
   "metadata": {},
   "source": [
    "#### Multiclass classification"
   ]
  },
  {
   "cell_type": "code",
   "execution_count": 86,
   "metadata": {},
   "outputs": [],
   "source": [
    "train_dataset = HITLDataset(X_train_scaled, y_train[\"new_labels\"].to_numpy())\n",
    "test_dataset = HITLDataset(X_test_scaled, y_test[\"new_labels\"].to_numpy())\n",
    "val_dataset = HITLDataset(X_val_scaled, y_val[\"new_labels\"].to_numpy())\n",
    "\n",
    "train_loader = torch.utils.data.DataLoader(train_dataset, batch_size=32, shuffle=True)\n",
    "test_loader = torch.utils.data.DataLoader(test_dataset, batch_size=32, shuffle=False)\n",
    "val_loader = torch.utils.data.DataLoader(val_dataset, batch_size=32, shuffle=True)"
   ]
  },
  {
   "cell_type": "code",
   "execution_count": 87,
   "metadata": {},
   "outputs": [],
   "source": [
    "input_dim = X_train_scaled.shape[1]\n",
    "output_dim = len(y_train[\"new_labels\"].unique())\n",
    "hidden_dim = 32\n",
    "model = LSTM(input_dim, hidden_dim, output_dim)\n",
    "\n",
    "# Define loss function and optimizer\n",
    "criterion = nn.CrossEntropyLoss()\n",
    "optimizer = torch.optim.Adam(model.parameters(), lr=0.001)"
   ]
  },
  {
   "cell_type": "code",
   "execution_count": 88,
   "metadata": {},
   "outputs": [
    {
     "name": "stderr",
     "output_type": "stream",
     "text": [
      "100%|██████████| 4862/4862 [01:05<00:00, 74.67it/s] \n",
      "100%|██████████| 1216/1216 [00:01<00:00, 839.76it/s]\n"
     ]
    },
    {
     "name": "stdout",
     "output_type": "stream",
     "text": [
      "Train loss: 0.5067, Train acc: 0.8618, Val loss: 0.4680, Val acc: 0.8681\n"
     ]
    },
    {
     "name": "stderr",
     "output_type": "stream",
     "text": [
      "100%|██████████| 4862/4862 [00:55<00:00, 87.34it/s] \n",
      "100%|██████████| 1216/1216 [00:01<00:00, 856.18it/s]\n"
     ]
    },
    {
     "name": "stdout",
     "output_type": "stream",
     "text": [
      "Train loss: 0.4541, Train acc: 0.8708, Val loss: 0.4399, Val acc: 0.8760\n"
     ]
    },
    {
     "name": "stderr",
     "output_type": "stream",
     "text": [
      "100%|██████████| 4862/4862 [00:56<00:00, 85.41it/s] \n",
      "100%|██████████| 1216/1216 [00:01<00:00, 827.45it/s]\n"
     ]
    },
    {
     "name": "stdout",
     "output_type": "stream",
     "text": [
      "Train loss: 0.4359, Train acc: 0.8747, Val loss: 0.4287, Val acc: 0.8769\n"
     ]
    },
    {
     "name": "stderr",
     "output_type": "stream",
     "text": [
      "100%|██████████| 4862/4862 [00:59<00:00, 81.86it/s] \n",
      "100%|██████████| 1216/1216 [00:01<00:00, 841.51it/s]\n"
     ]
    },
    {
     "name": "stdout",
     "output_type": "stream",
     "text": [
      "Train loss: 0.4228, Train acc: 0.8758, Val loss: 0.4195, Val acc: 0.8777\n"
     ]
    },
    {
     "name": "stderr",
     "output_type": "stream",
     "text": [
      "100%|██████████| 4862/4862 [02:07<00:00, 38.04it/s] \n",
      "100%|██████████| 1216/1216 [00:01<00:00, 850.74it/s]"
     ]
    },
    {
     "name": "stdout",
     "output_type": "stream",
     "text": [
      "Train loss: 0.4102, Train acc: 0.8770, Val loss: 0.4117, Val acc: 0.8782\n"
     ]
    },
    {
     "name": "stderr",
     "output_type": "stream",
     "text": [
      "\n"
     ]
    },
    {
     "data": {
      "image/png": "[encoded data removed]",
      "text/plain": [
       "<Figure size 640x480 with 1 Axes>"
      ]
     },
     "metadata": {},
     "output_type": "display_data"
    }
   ],
   "source": [
    "EPOCHS = 5\n",
    "train_loss_list = []\n",
    "train_acc_list = []\n",
    "val_loss_list = []\n",
    "val_acc_list = []\n",
    "\n",
    "for _ in range(EPOCHS):\n",
    "    train_loss, train_acc, val_loss, val_acc = train(model, train_loader, val_loader, criterion, optimizer)\n",
    "    train_loss_list.append(train_loss)\n",
    "    train_acc_list.append(train_acc)\n",
    "    val_loss_list.append(val_loss)\n",
    "    val_acc_list.append(val_acc)\n",
    "    print(f\"Train loss: {train_loss:.4f}, Train acc: {train_acc:.4f}, Val loss: {val_loss:.4f}, Val acc: {val_acc:.4f}\")\n",
    "\n",
    "# Plot train loss and accuracy\n",
    "plt.plot(train_acc_list, label=\"train acc\")\n",
    "plt.plot(val_acc_list, label=\"val acc\")\n",
    "plt.legend()\n",
    "plt.show()"
   ]
  },
  {
   "cell_type": "code",
   "execution_count": 89,
   "metadata": {},
   "outputs": [
    {
     "name": "stdout",
     "output_type": "stream",
     "text": [
      "Test loss: 0.4089, Test acc: 0.8789\n"
     ]
    }
   ],
   "source": [
    "test_loss, test_acc = test(model, test_loader, criterion)\n",
    "print(f\"Test loss: {test_loss:.4f}, Test acc: {test_acc:.4f}\")"
   ]
  },
  {
   "cell_type": "code",
   "execution_count": 90,
   "metadata": {},
   "outputs": [
    {
     "data": {
      "image/png": "[encoded data removed]",
      "text/plain": [
       "<Figure size 600x600 with 2 Axes>"
      ]
     },
     "metadata": {},
     "output_type": "display_data"
    }
   ],
   "source": [
    "# Predict on test set\n",
    "y_pred_list = []\n",
    "y_true_list = []\n",
    "with torch.no_grad():\n",
    "    for X, y in test_loader:\n",
    "        y_pred = model(X)\n",
    "        y_pred_list.append(y_pred.argmax(1).cpu().numpy())\n",
    "        y_true_list.append(y.cpu().numpy())\n",
    "\n",
    "y_pred = np.concatenate(y_pred_list)\n",
    "y_true = np.concatenate(y_true_list)\n",
    "\n",
    "# Plot confusion matrix\n",
    "plot_confusion_matrix(y_true, y_pred, title=\"Confusion matrix for the test set\")"
   ]
  },
  {
   "cell_type": "markdown",
   "metadata": {},
   "source": [
    "## 3. Supervised classifiers\n",
    "\n",
    "### a. Decision Tree"
   ]
  },
  {
   "cell_type": "markdown",
   "metadata": {},
   "source": [
    "#### Multiclass classification\n",
    "\n",
    "We will not use the Decision Tree for the binary classification, as we want to focus on the features importance."
   ]
  },
  {
   "cell_type": "code",
   "execution_count": 91,
   "metadata": {},
   "outputs": [
    {
     "data": {
      "text/plain": [
       "((194452, 1986), (48613, 1986), (194452, 2), (48613, 2))"
      ]
     },
     "execution_count": 91,
     "metadata": {},
     "output_type": "execute_result"
    }
   ],
   "source": [
    "X_train, X_test, y_train, y_test = train_test_split(df_network_prepared, df_network_labels[[\"new_labels\", \"label_n\"]], test_size=0.2, random_state=random_state)\n",
    "X_train.shape, X_test.shape, y_train.shape, y_test.shape"
   ]
  },
  {
   "cell_type": "markdown",
   "metadata": {},
   "source": [
    "Define the model with empirical parameters"
   ]
  },
  {
   "cell_type": "code",
   "execution_count": 92,
   "metadata": {},
   "outputs": [],
   "source": [
    "params = {\n",
    "    'max_depth': 8,\n",
    "    'criterion': 'gini',\n",
    "    'splitter': 'best',\n",
    "    'random_state': random_state\n",
    "}\n",
    "\n",
    "clf = DecisionTreeClassifier(**params)"
   ]
  },
  {
   "cell_type": "code",
   "execution_count": 93,
   "metadata": {},
   "outputs": [
    {
     "data": {
      "text/html": [
       "<style>#sk-container-id-1 {color: black;}#sk-container-id-1 pre{padding: 0;}#sk-container-id-1 div.sk-toggleable {background-color: white;}#sk-container-id-1 label.sk-toggleable__label {cursor: pointer;display: block;width: 100%;margin-bottom: 0;padding: 0.3em;box-sizing: border-box;text-align: center;}#sk-container-id-1 label.sk-toggleable__label-arrow:before {content: \"▸\";float: left;margin-right: 0.25em;color: #696969;}#sk-container-id-1 label.sk-toggleable__label-arrow:hover:before {color: black;}#sk-container-id-1 div.sk-estimator:hover label.sk-toggleable__label-arrow:before {color: black;}#sk-container-id-1 div.sk-toggleable__content {max-height: 0;max-width: 0;overflow: hidden;text-align: left;background-color: #f0f8ff;}#sk-container-id-1 div.sk-toggleable__content pre {margin: 0.2em;color: black;border-radius: 0.25em;background-color: #f0f8ff;}#sk-container-id-1 input.sk-toggleable__control:checked~div.sk-toggleable__content {max-height: 200px;max-width: 100%;overflow: auto;}#sk-container-id-1 input.sk-toggleable__control:checked~label.sk-toggleable__label-arrow:before {content: \"▾\";}#sk-container-id-1 div.sk-estimator input.sk-toggleable__control:checked~label.sk-toggleable__label {background-color: #d4ebff;}#sk-container-id-1 div.sk-label input.sk-toggleable__control:checked~label.sk-toggleable__label {background-color: #d4ebff;}#sk-container-id-1 input.sk-hidden--visually {border: 0;clip: rect(1px 1px 1px 1px);clip: rect(1px, 1px, 1px, 1px);height: 1px;margin: -1px;overflow: hidden;padding: 0;position: absolute;width: 1px;}#sk-container-id-1 div.sk-estimator {font-family: monospace;background-color: #f0f8ff;border: 1px dotted black;border-radius: 0.25em;box-sizing: border-box;margin-bottom: 0.5em;}#sk-container-id-1 div.sk-estimator:hover {background-color: #d4ebff;}#sk-container-id-1 div.sk-parallel-item::after {content: \"\";width: 100%;border-bottom: 1px solid gray;flex-grow: 1;}#sk-container-id-1 div.sk-label:hover label.sk-toggleable__label {background-color: #d4ebff;}#sk-container-id-1 div.sk-serial::before {content: \"\";position: absolute;border-left: 1px solid gray;box-sizing: border-box;top: 0;bottom: 0;left: 50%;z-index: 0;}#sk-container-id-1 div.sk-serial {display: flex;flex-direction: column;align-items: center;background-color: white;padding-right: 0.2em;padding-left: 0.2em;position: relative;}#sk-container-id-1 div.sk-item {position: relative;z-index: 1;}#sk-container-id-1 div.sk-parallel {display: flex;align-items: stretch;justify-content: center;background-color: white;position: relative;}#sk-container-id-1 div.sk-item::before, #sk-container-id-1 div.sk-parallel-item::before {content: \"\";position: absolute;border-left: 1px solid gray;box-sizing: border-box;top: 0;bottom: 0;left: 50%;z-index: -1;}#sk-container-id-1 div.sk-parallel-item {display: flex;flex-direction: column;z-index: 1;position: relative;background-color: white;}#sk-container-id-1 div.sk-parallel-item:first-child::after {align-self: flex-end;width: 50%;}#sk-container-id-1 div.sk-parallel-item:last-child::after {align-self: flex-start;width: 50%;}#sk-container-id-1 div.sk-parallel-item:only-child::after {width: 0;}#sk-container-id-1 div.sk-dashed-wrapped {border: 1px dashed gray;margin: 0 0.4em 0.5em 0.4em;box-sizing: border-box;padding-bottom: 0.4em;background-color: white;}#sk-container-id-1 div.sk-label label {font-family: monospace;font-weight: bold;display: inline-block;line-height: 1.2em;}#sk-container-id-1 div.sk-label-container {text-align: center;}#sk-container-id-1 div.sk-container {/* jupyter's `normalize.less` sets `[hidden] { display: none; }` but bootstrap.min.css set `[hidden] { display: none !important; }` so we also need the `!important` here to be able to override the default hidden behavior on the sphinx rendered scikit-learn.org. See: https://github.com/scikit-learn/scikit-learn/issues/21755 */display: inline-block !important;position: relative;}#sk-container-id-1 div.sk-text-repr-fallback {display: none;}</style><div id=\"sk-container-id-1\" class=\"sk-top-container\"><div class=\"sk-text-repr-fallback\"><pre>Pipeline(steps=[(&#x27;standardscaler&#x27;, StandardScaler()),\n",
       "                (&#x27;decisiontreeclassifier&#x27;,\n",
       "                 DecisionTreeClassifier(max_depth=8, random_state=42))])</pre><b>In a Jupyter environment, please rerun this cell to show the HTML representation or trust the notebook. <br />On GitHub, the HTML representation is unable to render, please try loading this page with nbviewer.org.</b></div><div class=\"sk-container\" hidden><div class=\"sk-item sk-dashed-wrapped\"><div class=\"sk-label-container\"><div class=\"sk-label sk-toggleable\"><input class=\"sk-toggleable__control sk-hidden--visually\" id=\"sk-estimator-id-1\" type=\"checkbox\" ><label for=\"sk-estimator-id-1\" class=\"sk-toggleable__label sk-toggleable__label-arrow\">Pipeline</label><div class=\"sk-toggleable__content\"><pre>Pipeline(steps=[(&#x27;standardscaler&#x27;, StandardScaler()),\n",
       "                (&#x27;decisiontreeclassifier&#x27;,\n",
       "                 DecisionTreeClassifier(max_depth=8, random_state=42))])</pre></div></div></div><div class=\"sk-serial\"><div class=\"sk-item\"><div class=\"sk-estimator sk-toggleable\"><input class=\"sk-toggleable__control sk-hidden--visually\" id=\"sk-estimator-id-2\" type=\"checkbox\" ><label for=\"sk-estimator-id-2\" class=\"sk-toggleable__label sk-toggleable__label-arrow\">StandardScaler</label><div class=\"sk-toggleable__content\"><pre>StandardScaler()</pre></div></div></div><div class=\"sk-item\"><div class=\"sk-estimator sk-toggleable\"><input class=\"sk-toggleable__control sk-hidden--visually\" id=\"sk-estimator-id-3\" type=\"checkbox\" ><label for=\"sk-estimator-id-3\" class=\"sk-toggleable__label sk-toggleable__label-arrow\">DecisionTreeClassifier</label><div class=\"sk-toggleable__content\"><pre>DecisionTreeClassifier(max_depth=8, random_state=42)</pre></div></div></div></div></div></div></div>"
      ],
      "text/plain": [
       "Pipeline(steps=[('standardscaler', StandardScaler()),\n",
       "                ('decisiontreeclassifier',\n",
       "                 DecisionTreeClassifier(max_depth=8, random_state=42))])"
      ]
     },
     "execution_count": 93,
     "metadata": {},
     "output_type": "execute_result"
    }
   ],
   "source": [
    "pipeline = make_pipeline(\n",
    "    StandardScaler(),\n",
    "    clf\n",
    ")\n",
    "\n",
    "pipeline.fit(X_train, y_train[\"new_labels\"])"
   ]
  },
  {
   "cell_type": "code",
   "execution_count": 94,
   "metadata": {},
   "outputs": [],
   "source": [
    "preds = pipeline.predict(X_test)"
   ]
  },
  {
   "cell_type": "code",
   "execution_count": 95,
   "metadata": {},
   "outputs": [
    {
     "name": "stdout",
     "output_type": "stream",
     "text": [
      "Accuracy:  0.9329397486269105\n",
      "Recall:  0.5697351629559801\n",
      "F1:  0.6212123392376323\n",
      "MCC:  0.8441165543717744\n",
      "Balanced accuracy:  0.5697351629559801\n"
     ]
    }
   ],
   "source": [
    "print(\"Accuracy: \", accuracy_score(y_test[\"new_labels\"], preds.round()))\n",
    "print(\"Recall: \", recall_score(y_test[\"new_labels\"], preds.round(), average=\"macro\"))\n",
    "print(\"F1: \", f1_score(y_test[\"new_labels\"], preds.round(), average=\"macro\"))\n",
    "print(\"MCC: \", matthews_corrcoef(y_test[\"new_labels\"], preds.round()))\n",
    "print(\"Balanced accuracy: \", balanced_accuracy_score(y_test[\"new_labels\"], preds.round()))"
   ]
  },
  {
   "cell_type": "code",
   "execution_count": 96,
   "metadata": {},
   "outputs": [
    {
     "data": {
      "image/png": "[encoded data removed]",
      "text/plain": [
       "<Figure size 600x600 with 2 Axes>"
      ]
     },
     "metadata": {},
     "output_type": "display_data"
    }
   ],
   "source": [
    "plot_confusion_matrix(y_test[\"new_labels\"], preds.round(), title=\"Confusion matrix for the test set\")"
   ]
  },
  {
   "cell_type": "markdown",
   "metadata": {},
   "source": [
    "Let's see which feature is the most important"
   ]
  },
  {
   "cell_type": "code",
   "execution_count": 99,
   "metadata": {},
   "outputs": [
    {
     "data": {
      "image/png": "[encoded data removed]",
      "text/plain": [
       "<Figure size 1500x600 with 1 Axes>"
      ]
     },
     "metadata": {},
     "output_type": "display_data"
    }
   ],
   "source": [
    "def plot_feature_importance(clf):\n",
    "    importance = clf.feature_importances_\n",
    "    # keep 10 most important features\n",
    "    idx = np.argsort(importance)[-10:]\n",
    "    importance = importance[idx]\n",
    "\n",
    "    # plot feature importance\n",
    "    plt.figure(figsize=(15, 6))\n",
    "    plt.title(\"Feature importance\")\n",
    "    plt.bar([x for x in range(len(importance))], importance)\n",
    "    plt.xticks([x for x in range(len(importance))], X_train.columns[idx], rotation='vertical')\n",
    "    plt.show()\n",
    "\n",
    "plot_feature_importance(clf)"
   ]
  },
  {
   "cell_type": "markdown",
   "metadata": {},
   "source": [
    "#### Without contextual information"
   ]
  },
  {
   "cell_type": "code",
   "execution_count": 111,
   "metadata": {},
   "outputs": [
    {
     "data": {
      "text/html": [
       "<div>\n",
       "<style scoped>\n",
       "    .dataframe tbody tr th:only-of-type {\n",
       "        vertical-align: middle;\n",
       "    }\n",
       "\n",
       "    .dataframe tbody tr th {\n",
       "        vertical-align: top;\n",
       "    }\n",
       "\n",
       "    .dataframe thead th {\n",
       "        text-align: right;\n",
       "    }\n",
       "</style>\n",
       "<table border=\"1\" class=\"dataframe\">\n",
       "  <thead>\n",
       "    <tr style=\"text-align: right;\">\n",
       "      <th></th>\n",
       "      <th>sport</th>\n",
       "      <th>dport</th>\n",
       "      <th>proto</th>\n",
       "      <th>flags</th>\n",
       "      <th>size</th>\n",
       "      <th>modbus_fn</th>\n",
       "      <th>n_pkt_src</th>\n",
       "      <th>n_pkt_dst</th>\n",
       "      <th>label_n</th>\n",
       "      <th>label</th>\n",
       "      <th>attack</th>\n",
       "    </tr>\n",
       "  </thead>\n",
       "  <tbody>\n",
       "    <tr>\n",
       "      <th>0</th>\n",
       "      <td>56666.0</td>\n",
       "      <td>502.0</td>\n",
       "      <td>Modbus</td>\n",
       "      <td>11000.0</td>\n",
       "      <td>66</td>\n",
       "      <td>Read Holding Registers</td>\n",
       "      <td>50.0</td>\n",
       "      <td>15.0</td>\n",
       "      <td>0</td>\n",
       "      <td>normal</td>\n",
       "      <td>1</td>\n",
       "    </tr>\n",
       "    <tr>\n",
       "      <th>1</th>\n",
       "      <td>502.0</td>\n",
       "      <td>56666.0</td>\n",
       "      <td>Modbus</td>\n",
       "      <td>11000.0</td>\n",
       "      <td>64</td>\n",
       "      <td>Read Coils Response</td>\n",
       "      <td>15.0</td>\n",
       "      <td>50.0</td>\n",
       "      <td>0</td>\n",
       "      <td>normal</td>\n",
       "      <td>1</td>\n",
       "    </tr>\n",
       "    <tr>\n",
       "      <th>2</th>\n",
       "      <td>56668.0</td>\n",
       "      <td>502.0</td>\n",
       "      <td>Modbus</td>\n",
       "      <td>11000.0</td>\n",
       "      <td>66</td>\n",
       "      <td>Read Holding Registers</td>\n",
       "      <td>50.0</td>\n",
       "      <td>15.0</td>\n",
       "      <td>0</td>\n",
       "      <td>normal</td>\n",
       "      <td>1</td>\n",
       "    </tr>\n",
       "    <tr>\n",
       "      <th>3</th>\n",
       "      <td>502.0</td>\n",
       "      <td>56668.0</td>\n",
       "      <td>Modbus</td>\n",
       "      <td>11000.0</td>\n",
       "      <td>65</td>\n",
       "      <td>Read Holding Registers Response</td>\n",
       "      <td>15.0</td>\n",
       "      <td>50.0</td>\n",
       "      <td>0</td>\n",
       "      <td>normal</td>\n",
       "      <td>1</td>\n",
       "    </tr>\n",
       "    <tr>\n",
       "      <th>4</th>\n",
       "      <td>502.0</td>\n",
       "      <td>56666.0</td>\n",
       "      <td>Modbus</td>\n",
       "      <td>11000.0</td>\n",
       "      <td>65</td>\n",
       "      <td>Read Holding Registers Response</td>\n",
       "      <td>15.0</td>\n",
       "      <td>50.0</td>\n",
       "      <td>0</td>\n",
       "      <td>normal</td>\n",
       "      <td>1</td>\n",
       "    </tr>\n",
       "    <tr>\n",
       "      <th>...</th>\n",
       "      <td>...</td>\n",
       "      <td>...</td>\n",
       "      <td>...</td>\n",
       "      <td>...</td>\n",
       "      <td>...</td>\n",
       "      <td>...</td>\n",
       "      <td>...</td>\n",
       "      <td>...</td>\n",
       "      <td>...</td>\n",
       "      <td>...</td>\n",
       "      <td>...</td>\n",
       "    </tr>\n",
       "    <tr>\n",
       "      <th>243060</th>\n",
       "      <td>61516.0</td>\n",
       "      <td>502.0</td>\n",
       "      <td>Modbus</td>\n",
       "      <td>11000.0</td>\n",
       "      <td>66</td>\n",
       "      <td>Read Holding Registers</td>\n",
       "      <td>50.0</td>\n",
       "      <td>15.0</td>\n",
       "      <td>0</td>\n",
       "      <td>normal</td>\n",
       "      <td>0</td>\n",
       "    </tr>\n",
       "    <tr>\n",
       "      <th>243061</th>\n",
       "      <td>61516.0</td>\n",
       "      <td>502.0</td>\n",
       "      <td>Modbus</td>\n",
       "      <td>11000.0</td>\n",
       "      <td>66</td>\n",
       "      <td>Read Holding Registers</td>\n",
       "      <td>50.0</td>\n",
       "      <td>15.0</td>\n",
       "      <td>0</td>\n",
       "      <td>normal</td>\n",
       "      <td>0</td>\n",
       "    </tr>\n",
       "    <tr>\n",
       "      <th>243062</th>\n",
       "      <td>61517.0</td>\n",
       "      <td>502.0</td>\n",
       "      <td>Modbus</td>\n",
       "      <td>11000.0</td>\n",
       "      <td>66</td>\n",
       "      <td>Read Holding Registers</td>\n",
       "      <td>51.0</td>\n",
       "      <td>14.0</td>\n",
       "      <td>0</td>\n",
       "      <td>normal</td>\n",
       "      <td>0</td>\n",
       "    </tr>\n",
       "    <tr>\n",
       "      <th>243063</th>\n",
       "      <td>61515.0</td>\n",
       "      <td>502.0</td>\n",
       "      <td>Modbus</td>\n",
       "      <td>11000.0</td>\n",
       "      <td>66</td>\n",
       "      <td>Read Holding Registers</td>\n",
       "      <td>47.0</td>\n",
       "      <td>14.0</td>\n",
       "      <td>0</td>\n",
       "      <td>normal</td>\n",
       "      <td>0</td>\n",
       "    </tr>\n",
       "    <tr>\n",
       "      <th>243064</th>\n",
       "      <td>502.0</td>\n",
       "      <td>61514.0</td>\n",
       "      <td>Modbus</td>\n",
       "      <td>11000.0</td>\n",
       "      <td>64</td>\n",
       "      <td>Read Coils Response</td>\n",
       "      <td>3.0</td>\n",
       "      <td>45.0</td>\n",
       "      <td>0</td>\n",
       "      <td>normal</td>\n",
       "      <td>0</td>\n",
       "    </tr>\n",
       "  </tbody>\n",
       "</table>\n",
       "<p>243065 rows × 11 columns</p>\n",
       "</div>"
      ],
      "text/plain": [
       "          sport    dport   proto    flags  size  \\\n",
       "0       56666.0    502.0  Modbus  11000.0    66   \n",
       "1         502.0  56666.0  Modbus  11000.0    64   \n",
       "2       56668.0    502.0  Modbus  11000.0    66   \n",
       "3         502.0  56668.0  Modbus  11000.0    65   \n",
       "4         502.0  56666.0  Modbus  11000.0    65   \n",
       "...         ...      ...     ...      ...   ...   \n",
       "243060  61516.0    502.0  Modbus  11000.0    66   \n",
       "243061  61516.0    502.0  Modbus  11000.0    66   \n",
       "243062  61517.0    502.0  Modbus  11000.0    66   \n",
       "243063  61515.0    502.0  Modbus  11000.0    66   \n",
       "243064    502.0  61514.0  Modbus  11000.0    64   \n",
       "\n",
       "                              modbus_fn  n_pkt_src  n_pkt_dst  label_n  \\\n",
       "0                Read Holding Registers       50.0       15.0        0   \n",
       "1                   Read Coils Response       15.0       50.0        0   \n",
       "2                Read Holding Registers       50.0       15.0        0   \n",
       "3       Read Holding Registers Response       15.0       50.0        0   \n",
       "4       Read Holding Registers Response       15.0       50.0        0   \n",
       "...                                 ...        ...        ...      ...   \n",
       "243060           Read Holding Registers       50.0       15.0        0   \n",
       "243061           Read Holding Registers       50.0       15.0        0   \n",
       "243062           Read Holding Registers       51.0       14.0        0   \n",
       "243063           Read Holding Registers       47.0       14.0        0   \n",
       "243064              Read Coils Response        3.0       45.0        0   \n",
       "\n",
       "         label  attack  \n",
       "0       normal       1  \n",
       "1       normal       1  \n",
       "2       normal       1  \n",
       "3       normal       1  \n",
       "4       normal       1  \n",
       "...        ...     ...  \n",
       "243060  normal       0  \n",
       "243061  normal       0  \n",
       "243062  normal       0  \n",
       "243063  normal       0  \n",
       "243064  normal       0  \n",
       "\n",
       "[243065 rows x 11 columns]"
      ]
     },
     "execution_count": 111,
     "metadata": {},
     "output_type": "execute_result"
    }
   ],
   "source": [
    "df_network_no_context = remove_network_contextual_columns(df_network)\n",
    "df_network_no_context"
   ]
  },
  {
   "cell_type": "code",
   "execution_count": 112,
   "metadata": {},
   "outputs": [
    {
     "data": {
      "text/html": [
       "<div>\n",
       "<style scoped>\n",
       "    .dataframe tbody tr th:only-of-type {\n",
       "        vertical-align: middle;\n",
       "    }\n",
       "\n",
       "    .dataframe tbody tr th {\n",
       "        vertical-align: top;\n",
       "    }\n",
       "\n",
       "    .dataframe thead th {\n",
       "        text-align: right;\n",
       "    }\n",
       "</style>\n",
       "<table border=\"1\" class=\"dataframe\">\n",
       "  <thead>\n",
       "    <tr style=\"text-align: right;\">\n",
       "      <th></th>\n",
       "      <th>sport</th>\n",
       "      <th>dport</th>\n",
       "      <th>flags</th>\n",
       "      <th>size</th>\n",
       "      <th>n_pkt_src</th>\n",
       "      <th>n_pkt_dst</th>\n",
       "      <th>proto_ARP</th>\n",
       "      <th>proto_ICMP</th>\n",
       "      <th>proto_IP</th>\n",
       "      <th>proto_Modbus</th>\n",
       "      <th>proto_TCP</th>\n",
       "      <th>modbus_fn_</th>\n",
       "      <th>modbus_fn_Read Coils Request</th>\n",
       "      <th>modbus_fn_Read Coils Response</th>\n",
       "      <th>modbus_fn_Read Holding Registers</th>\n",
       "      <th>modbus_fn_Read Holding Registers Response</th>\n",
       "    </tr>\n",
       "  </thead>\n",
       "  <tbody>\n",
       "    <tr>\n",
       "      <th>0</th>\n",
       "      <td>56666.0</td>\n",
       "      <td>502.0</td>\n",
       "      <td>11000.0</td>\n",
       "      <td>66</td>\n",
       "      <td>50.0</td>\n",
       "      <td>15.0</td>\n",
       "      <td>0</td>\n",
       "      <td>0</td>\n",
       "      <td>0</td>\n",
       "      <td>1</td>\n",
       "      <td>0</td>\n",
       "      <td>0</td>\n",
       "      <td>0</td>\n",
       "      <td>0</td>\n",
       "      <td>1</td>\n",
       "      <td>0</td>\n",
       "    </tr>\n",
       "    <tr>\n",
       "      <th>1</th>\n",
       "      <td>502.0</td>\n",
       "      <td>56666.0</td>\n",
       "      <td>11000.0</td>\n",
       "      <td>64</td>\n",
       "      <td>15.0</td>\n",
       "      <td>50.0</td>\n",
       "      <td>0</td>\n",
       "      <td>0</td>\n",
       "      <td>0</td>\n",
       "      <td>1</td>\n",
       "      <td>0</td>\n",
       "      <td>0</td>\n",
       "      <td>0</td>\n",
       "      <td>1</td>\n",
       "      <td>0</td>\n",
       "      <td>0</td>\n",
       "    </tr>\n",
       "    <tr>\n",
       "      <th>2</th>\n",
       "      <td>56668.0</td>\n",
       "      <td>502.0</td>\n",
       "      <td>11000.0</td>\n",
       "      <td>66</td>\n",
       "      <td>50.0</td>\n",
       "      <td>15.0</td>\n",
       "      <td>0</td>\n",
       "      <td>0</td>\n",
       "      <td>0</td>\n",
       "      <td>1</td>\n",
       "      <td>0</td>\n",
       "      <td>0</td>\n",
       "      <td>0</td>\n",
       "      <td>0</td>\n",
       "      <td>1</td>\n",
       "      <td>0</td>\n",
       "    </tr>\n",
       "    <tr>\n",
       "      <th>3</th>\n",
       "      <td>502.0</td>\n",
       "      <td>56668.0</td>\n",
       "      <td>11000.0</td>\n",
       "      <td>65</td>\n",
       "      <td>15.0</td>\n",
       "      <td>50.0</td>\n",
       "      <td>0</td>\n",
       "      <td>0</td>\n",
       "      <td>0</td>\n",
       "      <td>1</td>\n",
       "      <td>0</td>\n",
       "      <td>0</td>\n",
       "      <td>0</td>\n",
       "      <td>0</td>\n",
       "      <td>0</td>\n",
       "      <td>1</td>\n",
       "    </tr>\n",
       "    <tr>\n",
       "      <th>4</th>\n",
       "      <td>502.0</td>\n",
       "      <td>56666.0</td>\n",
       "      <td>11000.0</td>\n",
       "      <td>65</td>\n",
       "      <td>15.0</td>\n",
       "      <td>50.0</td>\n",
       "      <td>0</td>\n",
       "      <td>0</td>\n",
       "      <td>0</td>\n",
       "      <td>1</td>\n",
       "      <td>0</td>\n",
       "      <td>0</td>\n",
       "      <td>0</td>\n",
       "      <td>0</td>\n",
       "      <td>0</td>\n",
       "      <td>1</td>\n",
       "    </tr>\n",
       "  </tbody>\n",
       "</table>\n",
       "</div>"
      ],
      "text/plain": [
       "     sport    dport    flags  size  n_pkt_src  n_pkt_dst  proto_ARP  \\\n",
       "0  56666.0    502.0  11000.0    66       50.0       15.0          0   \n",
       "1    502.0  56666.0  11000.0    64       15.0       50.0          0   \n",
       "2  56668.0    502.0  11000.0    66       50.0       15.0          0   \n",
       "3    502.0  56668.0  11000.0    65       15.0       50.0          0   \n",
       "4    502.0  56666.0  11000.0    65       15.0       50.0          0   \n",
       "\n",
       "   proto_ICMP  proto_IP  proto_Modbus  proto_TCP  modbus_fn_  \\\n",
       "0           0         0             1          0           0   \n",
       "1           0         0             1          0           0   \n",
       "2           0         0             1          0           0   \n",
       "3           0         0             1          0           0   \n",
       "4           0         0             1          0           0   \n",
       "\n",
       "   modbus_fn_Read Coils Request  modbus_fn_Read Coils Response  \\\n",
       "0                             0                              0   \n",
       "1                             0                              1   \n",
       "2                             0                              0   \n",
       "3                             0                              0   \n",
       "4                             0                              0   \n",
       "\n",
       "   modbus_fn_Read Holding Registers  modbus_fn_Read Holding Registers Response  \n",
       "0                                 1                                          0  \n",
       "1                                 0                                          0  \n",
       "2                                 1                                          0  \n",
       "3                                 0                                          1  \n",
       "4                                 0                                          1  "
      ]
     },
     "execution_count": 112,
     "metadata": {},
     "output_type": "execute_result"
    }
   ],
   "source": [
    "df_network_prepared, df_network_labels = prepare_HTIL_network_dataset(df_network_no_context)\n",
    "df_network_prepared.head()"
   ]
  },
  {
   "cell_type": "code",
   "execution_count": 113,
   "metadata": {},
   "outputs": [
    {
     "data": {
      "text/plain": [
       "((194452, 16), (48613, 16), (194452, 2), (48613, 2))"
      ]
     },
     "execution_count": 113,
     "metadata": {},
     "output_type": "execute_result"
    }
   ],
   "source": [
    "X_train, X_test, y_train, y_test = train_test_split(df_network_prepared, df_network_labels[[\"new_labels\", \"label_n\"]], test_size=0.2, random_state=random_state)\n",
    "X_train.shape, X_test.shape, y_train.shape, y_test.shape"
   ]
  },
  {
   "cell_type": "code",
   "execution_count": 114,
   "metadata": {},
   "outputs": [],
   "source": [
    "params = {\n",
    "    'max_depth': 8,\n",
    "    'criterion': 'gini',\n",
    "    'splitter': 'best',\n",
    "    'random_state': random_state\n",
    "}\n",
    "\n",
    "clf = DecisionTreeClassifier(**params)"
   ]
  },
  {
   "cell_type": "code",
   "execution_count": 115,
   "metadata": {},
   "outputs": [
    {
     "data": {
      "text/html": [
       "<style>#sk-container-id-3 {color: black;}#sk-container-id-3 pre{padding: 0;}#sk-container-id-3 div.sk-toggleable {background-color: white;}#sk-container-id-3 label.sk-toggleable__label {cursor: pointer;display: block;width: 100%;margin-bottom: 0;padding: 0.3em;box-sizing: border-box;text-align: center;}#sk-container-id-3 label.sk-toggleable__label-arrow:before {content: \"▸\";float: left;margin-right: 0.25em;color: #696969;}#sk-container-id-3 label.sk-toggleable__label-arrow:hover:before {color: black;}#sk-container-id-3 div.sk-estimator:hover label.sk-toggleable__label-arrow:before {color: black;}#sk-container-id-3 div.sk-toggleable__content {max-height: 0;max-width: 0;overflow: hidden;text-align: left;background-color: #f0f8ff;}#sk-container-id-3 div.sk-toggleable__content pre {margin: 0.2em;color: black;border-radius: 0.25em;background-color: #f0f8ff;}#sk-container-id-3 input.sk-toggleable__control:checked~div.sk-toggleable__content {max-height: 200px;max-width: 100%;overflow: auto;}#sk-container-id-3 input.sk-toggleable__control:checked~label.sk-toggleable__label-arrow:before {content: \"▾\";}#sk-container-id-3 div.sk-estimator input.sk-toggleable__control:checked~label.sk-toggleable__label {background-color: #d4ebff;}#sk-container-id-3 div.sk-label input.sk-toggleable__control:checked~label.sk-toggleable__label {background-color: #d4ebff;}#sk-container-id-3 input.sk-hidden--visually {border: 0;clip: rect(1px 1px 1px 1px);clip: rect(1px, 1px, 1px, 1px);height: 1px;margin: -1px;overflow: hidden;padding: 0;position: absolute;width: 1px;}#sk-container-id-3 div.sk-estimator {font-family: monospace;background-color: #f0f8ff;border: 1px dotted black;border-radius: 0.25em;box-sizing: border-box;margin-bottom: 0.5em;}#sk-container-id-3 div.sk-estimator:hover {background-color: #d4ebff;}#sk-container-id-3 div.sk-parallel-item::after {content: \"\";width: 100%;border-bottom: 1px solid gray;flex-grow: 1;}#sk-container-id-3 div.sk-label:hover label.sk-toggleable__label {background-color: #d4ebff;}#sk-container-id-3 div.sk-serial::before {content: \"\";position: absolute;border-left: 1px solid gray;box-sizing: border-box;top: 0;bottom: 0;left: 50%;z-index: 0;}#sk-container-id-3 div.sk-serial {display: flex;flex-direction: column;align-items: center;background-color: white;padding-right: 0.2em;padding-left: 0.2em;position: relative;}#sk-container-id-3 div.sk-item {position: relative;z-index: 1;}#sk-container-id-3 div.sk-parallel {display: flex;align-items: stretch;justify-content: center;background-color: white;position: relative;}#sk-container-id-3 div.sk-item::before, #sk-container-id-3 div.sk-parallel-item::before {content: \"\";position: absolute;border-left: 1px solid gray;box-sizing: border-box;top: 0;bottom: 0;left: 50%;z-index: -1;}#sk-container-id-3 div.sk-parallel-item {display: flex;flex-direction: column;z-index: 1;position: relative;background-color: white;}#sk-container-id-3 div.sk-parallel-item:first-child::after {align-self: flex-end;width: 50%;}#sk-container-id-3 div.sk-parallel-item:last-child::after {align-self: flex-start;width: 50%;}#sk-container-id-3 div.sk-parallel-item:only-child::after {width: 0;}#sk-container-id-3 div.sk-dashed-wrapped {border: 1px dashed gray;margin: 0 0.4em 0.5em 0.4em;box-sizing: border-box;padding-bottom: 0.4em;background-color: white;}#sk-container-id-3 div.sk-label label {font-family: monospace;font-weight: bold;display: inline-block;line-height: 1.2em;}#sk-container-id-3 div.sk-label-container {text-align: center;}#sk-container-id-3 div.sk-container {/* jupyter's `normalize.less` sets `[hidden] { display: none; }` but bootstrap.min.css set `[hidden] { display: none !important; }` so we also need the `!important` here to be able to override the default hidden behavior on the sphinx rendered scikit-learn.org. See: https://github.com/scikit-learn/scikit-learn/issues/21755 */display: inline-block !important;position: relative;}#sk-container-id-3 div.sk-text-repr-fallback {display: none;}</style><div id=\"sk-container-id-3\" class=\"sk-top-container\"><div class=\"sk-text-repr-fallback\"><pre>Pipeline(steps=[(&#x27;standardscaler&#x27;, StandardScaler()),\n",
       "                (&#x27;decisiontreeclassifier&#x27;,\n",
       "                 DecisionTreeClassifier(max_depth=8, random_state=42))])</pre><b>In a Jupyter environment, please rerun this cell to show the HTML representation or trust the notebook. <br />On GitHub, the HTML representation is unable to render, please try loading this page with nbviewer.org.</b></div><div class=\"sk-container\" hidden><div class=\"sk-item sk-dashed-wrapped\"><div class=\"sk-label-container\"><div class=\"sk-label sk-toggleable\"><input class=\"sk-toggleable__control sk-hidden--visually\" id=\"sk-estimator-id-7\" type=\"checkbox\" ><label for=\"sk-estimator-id-7\" class=\"sk-toggleable__label sk-toggleable__label-arrow\">Pipeline</label><div class=\"sk-toggleable__content\"><pre>Pipeline(steps=[(&#x27;standardscaler&#x27;, StandardScaler()),\n",
       "                (&#x27;decisiontreeclassifier&#x27;,\n",
       "                 DecisionTreeClassifier(max_depth=8, random_state=42))])</pre></div></div></div><div class=\"sk-serial\"><div class=\"sk-item\"><div class=\"sk-estimator sk-toggleable\"><input class=\"sk-toggleable__control sk-hidden--visually\" id=\"sk-estimator-id-8\" type=\"checkbox\" ><label for=\"sk-estimator-id-8\" class=\"sk-toggleable__label sk-toggleable__label-arrow\">StandardScaler</label><div class=\"sk-toggleable__content\"><pre>StandardScaler()</pre></div></div></div><div class=\"sk-item\"><div class=\"sk-estimator sk-toggleable\"><input class=\"sk-toggleable__control sk-hidden--visually\" id=\"sk-estimator-id-9\" type=\"checkbox\" ><label for=\"sk-estimator-id-9\" class=\"sk-toggleable__label sk-toggleable__label-arrow\">DecisionTreeClassifier</label><div class=\"sk-toggleable__content\"><pre>DecisionTreeClassifier(max_depth=8, random_state=42)</pre></div></div></div></div></div></div></div>"
      ],
      "text/plain": [
       "Pipeline(steps=[('standardscaler', StandardScaler()),\n",
       "                ('decisiontreeclassifier',\n",
       "                 DecisionTreeClassifier(max_depth=8, random_state=42))])"
      ]
     },
     "execution_count": 115,
     "metadata": {},
     "output_type": "execute_result"
    }
   ],
   "source": [
    "pipeline = make_pipeline(\n",
    "    StandardScaler(),\n",
    "    clf\n",
    ")\n",
    "\n",
    "pipeline.fit(X_train, y_train[\"new_labels\"])"
   ]
  },
  {
   "cell_type": "code",
   "execution_count": 116,
   "metadata": {},
   "outputs": [],
   "source": [
    "preds = pipeline.predict(X_test)"
   ]
  },
  {
   "cell_type": "code",
   "execution_count": 117,
   "metadata": {},
   "outputs": [
    {
     "name": "stdout",
     "output_type": "stream",
     "text": [
      "Accuracy:  0.8776047559294838\n",
      "Recall:  0.39588704410421466\n",
      "F1:  0.38245737832039567\n",
      "MCC:  0.7060071605653443\n",
      "Balanced accuracy:  0.39588704410421466\n"
     ]
    }
   ],
   "source": [
    "print(\"Accuracy: \", accuracy_score(y_test[\"new_labels\"], preds.round()))\n",
    "print(\"Recall: \", recall_score(y_test[\"new_labels\"], preds.round(), average=\"macro\"))\n",
    "print(\"F1: \", f1_score(y_test[\"new_labels\"], preds.round(), average=\"macro\"))\n",
    "print(\"MCC: \", matthews_corrcoef(y_test[\"new_labels\"], preds.round()))\n",
    "print(\"Balanced accuracy: \", balanced_accuracy_score(y_test[\"new_labels\"], preds.round()))"
   ]
  },
  {
   "cell_type": "code",
   "execution_count": 120,
   "metadata": {},
   "outputs": [
    {
     "data": {
      "image/png": "[encoded data removed]",
      "text/plain": [
       "<Figure size 600x600 with 2 Axes>"
      ]
     },
     "metadata": {},
     "output_type": "display_data"
    }
   ],
   "source": [
    "plot_confusion_matrix(y_test[\"new_labels\"], preds.round(), title=\"Confusion matrix for the test set\")"
   ]
  },
  {
   "cell_type": "code",
   "execution_count": 121,
   "metadata": {},
   "outputs": [
    {
     "data": {
      "image/png": "[encoded data removed]",
      "text/plain": [
       "<Figure size 1500x600 with 1 Axes>"
      ]
     },
     "metadata": {},
     "output_type": "display_data"
    }
   ],
   "source": [
    "plot_feature_importance(clf)"
   ]
  },
  {
   "cell_type": "markdown",
   "metadata": {},
   "source": [
    "### b. Random Forest"
   ]
  },
  {
   "cell_type": "code",
   "execution_count": null,
   "metadata": {},
   "outputs": [],
   "source": []
  },
  {
   "cell_type": "markdown",
   "metadata": {},
   "source": [
    "### c. XGBoost"
   ]
  },
  {
   "cell_type": "code",
   "execution_count": null,
   "metadata": {},
   "outputs": [],
   "source": []
  }
 ],
 "metadata": {
  "kernelspec": {
   "display_name": ".venv",
   "language": "python",
   "name": "python3"
  },
  "language_info": {
   "codemirror_mode": {
    "name": "ipython",
    "version": 3
   },
   "file_extension": ".py",
   "mimetype": "text/x-python",
   "name": "python",
   "nbconvert_exporter": "python",
   "pygments_lexer": "ipython3",
   "version": "3.11.3"
  }
 },
 "nbformat": 4,
 "nbformat_minor": 2
}
