{
 "cells": [
  {
   "cell_type": "markdown",
   "metadata": {},
   "source": [
    "# Study of the physical dataset\n",
    "\n",
    "In this notebook, we will study how different models perform on the physical dataset. Some of the models we will study are:\n",
    "1. Non-supervised:\n",
    "    - Isolation Forest (IF)\n",
    "    - Local Outlier Factor (LOF)\n",
    "2. Neural physicals:\n",
    "    - DNN\n",
    "    - LSTM\n",
    "3. Supervised classifiers:\n",
    "    - Decision Tree\n",
    "    - Random Forest\n",
    "    - XGBoost\n",
    "\n",
    "First, let's import the necessary libraries."
   ]
  },
  {
   "cell_type": "code",
   "execution_count": 3,
   "metadata": {},
   "outputs": [],
   "source": [
    "from preprocess_data import get_HITL, clean_HITL, prepare_HTIL_physical_dataset, remove_physical_contextual_columns\n",
    "\n",
    "from mlsecu.data_exploration_utils import (\n",
    "    get_column_names,\n",
    "    get_nb_of_dimensions,\n",
    "    get_nb_of_rows,\n",
    "    get_object_column_names,\n",
    "    get_number_column_names,\n",
    ")\n",
    "from mlsecu.anomaly_detection_use_case import *\n",
    "from mlsecu.data_preparation_utils import (\n",
    "    get_one_hot_encoded_dataframe,\n",
    "    remove_nan_through_mean_imputation,\n",
    ")\n",
    "\n",
    "from sklearn.model_selection import train_test_split\n",
    "from sklearn.pipeline import make_pipeline\n",
    "from sklearn.tree import DecisionTreeClassifier\n",
    "from sklearn.preprocessing import StandardScaler\n",
    "from sklearn.metrics import (\n",
    "    accuracy_score,\n",
    "    precision_score,\n",
    "    recall_score,\n",
    "    f1_score,\n",
    "    roc_auc_score,\n",
    "    matthews_corrcoef,\n",
    "    balanced_accuracy_score,\n",
    "    confusion_matrix,\n",
    ")\n",
    "\n",
    "import matplotlib.pyplot as plt\n",
    "import numpy as np\n",
    "import pandas as pd\n",
    "import seaborn as sns\n",
    "\n",
    "import torch\n",
    "import torch.nn as nn\n",
    "import torch.nn.functional as F\n",
    "\n",
    "import tensorflow as tf\n",
    "from tensorflow.keras.activations import swish, sigmoid, softmax\n",
    "\n",
    "BASE_PATH = \"../../data/\"\n",
    "random_state = 42\n",
    "np.random.seed(random_state)\n",
    "tf.random.set_seed(random_state)"
   ]
  },
  {
   "cell_type": "markdown",
   "metadata": {},
   "source": [
    "# Load and prepare the dataset\n",
    "\n",
    "We have defined multiple preprocessing functions in the `preprocessing.py` file. We will use them to load and prepare the dataset."
   ]
  },
  {
   "cell_type": "code",
   "execution_count": 4,
   "metadata": {},
   "outputs": [
    {
     "name": "stdout",
     "output_type": "stream",
     "text": [
      "Physical dataset shape:  (9206, 44)\n"
     ]
    }
   ],
   "source": [
    "hitl_dict = get_HITL(\"../../data/HardwareInTheLoop/\", small=False)\n",
    "_, df_physical = clean_HITL(hitl_dict) # Clean-up helper function\n",
    "\n",
    "print(\"Physical dataset shape: \", df_physical.shape)"
   ]
  },
  {
   "cell_type": "markdown",
   "metadata": {},
   "source": [
    "This dataset has way fewer rows than the network one, this might cause some problems later."
   ]
  },
  {
   "cell_type": "code",
   "execution_count": 5,
   "metadata": {},
   "outputs": [
    {
     "data": {
      "text/html": [
       "<div>\n",
       "<style scoped>\n",
       "    .dataframe tbody tr th:only-of-type {\n",
       "        vertical-align: middle;\n",
       "    }\n",
       "\n",
       "    .dataframe tbody tr th {\n",
       "        vertical-align: top;\n",
       "    }\n",
       "\n",
       "    .dataframe thead th {\n",
       "        text-align: right;\n",
       "    }\n",
       "</style>\n",
       "<table border=\"1\" class=\"dataframe\">\n",
       "  <thead>\n",
       "    <tr style=\"text-align: right;\">\n",
       "      <th></th>\n",
       "      <th>time</th>\n",
       "      <th>tank_1</th>\n",
       "      <th>tank_2</th>\n",
       "      <th>tank_3</th>\n",
       "      <th>tank_4</th>\n",
       "      <th>tank_5</th>\n",
       "      <th>tank_6</th>\n",
       "      <th>tank_7</th>\n",
       "      <th>tank_8</th>\n",
       "      <th>pump_1</th>\n",
       "      <th>...</th>\n",
       "      <th>valv_13</th>\n",
       "      <th>valv_14</th>\n",
       "      <th>valv_15</th>\n",
       "      <th>valv_16</th>\n",
       "      <th>valv_17</th>\n",
       "      <th>valv_18</th>\n",
       "      <th>valv_19</th>\n",
       "      <th>valv_20</th>\n",
       "      <th>valv_21</th>\n",
       "      <th>valv_22</th>\n",
       "    </tr>\n",
       "  </thead>\n",
       "  <tbody>\n",
       "    <tr>\n",
       "      <th>0</th>\n",
       "      <td>1.630780e+09</td>\n",
       "      <td>0</td>\n",
       "      <td>0</td>\n",
       "      <td>0</td>\n",
       "      <td>0</td>\n",
       "      <td>0</td>\n",
       "      <td>0</td>\n",
       "      <td>0</td>\n",
       "      <td>0</td>\n",
       "      <td>0</td>\n",
       "      <td>...</td>\n",
       "      <td>0</td>\n",
       "      <td>0</td>\n",
       "      <td>0</td>\n",
       "      <td>0</td>\n",
       "      <td>0</td>\n",
       "      <td>0</td>\n",
       "      <td>0</td>\n",
       "      <td>0</td>\n",
       "      <td>0</td>\n",
       "      <td>0</td>\n",
       "    </tr>\n",
       "    <tr>\n",
       "      <th>1</th>\n",
       "      <td>1.630780e+09</td>\n",
       "      <td>0</td>\n",
       "      <td>0</td>\n",
       "      <td>0</td>\n",
       "      <td>0</td>\n",
       "      <td>0</td>\n",
       "      <td>0</td>\n",
       "      <td>0</td>\n",
       "      <td>0</td>\n",
       "      <td>0</td>\n",
       "      <td>...</td>\n",
       "      <td>0</td>\n",
       "      <td>0</td>\n",
       "      <td>0</td>\n",
       "      <td>0</td>\n",
       "      <td>0</td>\n",
       "      <td>0</td>\n",
       "      <td>0</td>\n",
       "      <td>0</td>\n",
       "      <td>0</td>\n",
       "      <td>0</td>\n",
       "    </tr>\n",
       "    <tr>\n",
       "      <th>2</th>\n",
       "      <td>1.630780e+09</td>\n",
       "      <td>0</td>\n",
       "      <td>0</td>\n",
       "      <td>0</td>\n",
       "      <td>0</td>\n",
       "      <td>0</td>\n",
       "      <td>0</td>\n",
       "      <td>0</td>\n",
       "      <td>0</td>\n",
       "      <td>0</td>\n",
       "      <td>...</td>\n",
       "      <td>0</td>\n",
       "      <td>0</td>\n",
       "      <td>0</td>\n",
       "      <td>0</td>\n",
       "      <td>0</td>\n",
       "      <td>0</td>\n",
       "      <td>0</td>\n",
       "      <td>0</td>\n",
       "      <td>0</td>\n",
       "      <td>0</td>\n",
       "    </tr>\n",
       "    <tr>\n",
       "      <th>3</th>\n",
       "      <td>1.630780e+09</td>\n",
       "      <td>0</td>\n",
       "      <td>0</td>\n",
       "      <td>0</td>\n",
       "      <td>0</td>\n",
       "      <td>0</td>\n",
       "      <td>0</td>\n",
       "      <td>0</td>\n",
       "      <td>0</td>\n",
       "      <td>0</td>\n",
       "      <td>...</td>\n",
       "      <td>0</td>\n",
       "      <td>0</td>\n",
       "      <td>0</td>\n",
       "      <td>0</td>\n",
       "      <td>0</td>\n",
       "      <td>0</td>\n",
       "      <td>0</td>\n",
       "      <td>0</td>\n",
       "      <td>0</td>\n",
       "      <td>0</td>\n",
       "    </tr>\n",
       "    <tr>\n",
       "      <th>4</th>\n",
       "      <td>1.630780e+09</td>\n",
       "      <td>0</td>\n",
       "      <td>0</td>\n",
       "      <td>0</td>\n",
       "      <td>0</td>\n",
       "      <td>0</td>\n",
       "      <td>0</td>\n",
       "      <td>0</td>\n",
       "      <td>0</td>\n",
       "      <td>1</td>\n",
       "      <td>...</td>\n",
       "      <td>0</td>\n",
       "      <td>0</td>\n",
       "      <td>0</td>\n",
       "      <td>0</td>\n",
       "      <td>0</td>\n",
       "      <td>0</td>\n",
       "      <td>0</td>\n",
       "      <td>0</td>\n",
       "      <td>0</td>\n",
       "      <td>0</td>\n",
       "    </tr>\n",
       "  </tbody>\n",
       "</table>\n",
       "<p>5 rows × 41 columns</p>\n",
       "</div>"
      ],
      "text/plain": [
       "           time  tank_1  tank_2  tank_3  tank_4  tank_5  tank_6  tank_7  \\\n",
       "0  1.630780e+09       0       0       0       0       0       0       0   \n",
       "1  1.630780e+09       0       0       0       0       0       0       0   \n",
       "2  1.630780e+09       0       0       0       0       0       0       0   \n",
       "3  1.630780e+09       0       0       0       0       0       0       0   \n",
       "4  1.630780e+09       0       0       0       0       0       0       0   \n",
       "\n",
       "   tank_8  pump_1  ...  valv_13  valv_14  valv_15  valv_16  valv_17  valv_18  \\\n",
       "0       0       0  ...        0        0        0        0        0        0   \n",
       "1       0       0  ...        0        0        0        0        0        0   \n",
       "2       0       0  ...        0        0        0        0        0        0   \n",
       "3       0       0  ...        0        0        0        0        0        0   \n",
       "4       0       1  ...        0        0        0        0        0        0   \n",
       "\n",
       "   valv_19  valv_20  valv_21  valv_22  \n",
       "0        0        0        0        0  \n",
       "1        0        0        0        0  \n",
       "2        0        0        0        0  \n",
       "3        0        0        0        0  \n",
       "4        0        0        0        0  \n",
       "\n",
       "[5 rows x 41 columns]"
      ]
     },
     "execution_count": 5,
     "metadata": {},
     "output_type": "execute_result"
    }
   ],
   "source": [
    "df_physical_prepared, df_physical_labels = prepare_HTIL_physical_dataset(df_physical)\n",
    "df_physical_prepared.head()"
   ]
  },
  {
   "cell_type": "markdown",
   "metadata": {},
   "source": [
    "The features are :\n",
    "- `time`: the timestamp of the measurement\n",
    "- `tank_X`: the level of the tank X\n",
    "- `pump_Y`: the level of the pump Y\n",
    "- `valv_Z`: the level of the valve Z"
   ]
  },
  {
   "cell_type": "code",
   "execution_count": 6,
   "metadata": {},
   "outputs": [
    {
     "data": {
      "text/html": [
       "<div>\n",
       "<style scoped>\n",
       "    .dataframe tbody tr th:only-of-type {\n",
       "        vertical-align: middle;\n",
       "    }\n",
       "\n",
       "    .dataframe tbody tr th {\n",
       "        vertical-align: top;\n",
       "    }\n",
       "\n",
       "    .dataframe thead th {\n",
       "        text-align: right;\n",
       "    }\n",
       "</style>\n",
       "<table border=\"1\" class=\"dataframe\">\n",
       "  <thead>\n",
       "    <tr style=\"text-align: right;\">\n",
       "      <th></th>\n",
       "      <th>label_n</th>\n",
       "      <th>label</th>\n",
       "      <th>attack</th>\n",
       "      <th>new_labels</th>\n",
       "    </tr>\n",
       "  </thead>\n",
       "  <tbody>\n",
       "    <tr>\n",
       "      <th>0</th>\n",
       "      <td>0.0</td>\n",
       "      <td>normal</td>\n",
       "      <td>1</td>\n",
       "      <td>2</td>\n",
       "    </tr>\n",
       "    <tr>\n",
       "      <th>1</th>\n",
       "      <td>0.0</td>\n",
       "      <td>normal</td>\n",
       "      <td>1</td>\n",
       "      <td>2</td>\n",
       "    </tr>\n",
       "    <tr>\n",
       "      <th>2</th>\n",
       "      <td>0.0</td>\n",
       "      <td>normal</td>\n",
       "      <td>1</td>\n",
       "      <td>2</td>\n",
       "    </tr>\n",
       "    <tr>\n",
       "      <th>3</th>\n",
       "      <td>0.0</td>\n",
       "      <td>normal</td>\n",
       "      <td>1</td>\n",
       "      <td>2</td>\n",
       "    </tr>\n",
       "    <tr>\n",
       "      <th>4</th>\n",
       "      <td>0.0</td>\n",
       "      <td>normal</td>\n",
       "      <td>1</td>\n",
       "      <td>2</td>\n",
       "    </tr>\n",
       "  </tbody>\n",
       "</table>\n",
       "</div>"
      ],
      "text/plain": [
       "   label_n   label  attack  new_labels\n",
       "0      0.0  normal       1           2\n",
       "1      0.0  normal       1           2\n",
       "2      0.0  normal       1           2\n",
       "3      0.0  normal       1           2\n",
       "4      0.0  normal       1           2"
      ]
     },
     "execution_count": 6,
     "metadata": {},
     "output_type": "execute_result"
    }
   ],
   "source": [
    "df_physical_labels.head()"
   ]
  },
  {
   "cell_type": "markdown",
   "metadata": {},
   "source": [
    "# Models analysis"
   ]
  },
  {
   "cell_type": "markdown",
   "metadata": {},
   "source": [
    "## 1. Non-supervised models"
   ]
  },
  {
   "cell_type": "markdown",
   "metadata": {},
   "source": [
    "### a. Isolation Forest\n",
    "\n",
    "As a first step, let's try default parameters for the Isolation Forest model."
   ]
  },
  {
   "cell_type": "code",
   "execution_count": 7,
   "metadata": {},
   "outputs": [
    {
     "data": {
      "text/plain": [
       "label_n\n",
       "0.0    7747\n",
       "1.0    1459\n",
       "Name: count, dtype: int64"
      ]
     },
     "execution_count": 7,
     "metadata": {},
     "output_type": "execute_result"
    }
   ],
   "source": [
    "df_physical_labels[\"label_n\"].value_counts()"
   ]
  },
  {
   "cell_type": "code",
   "execution_count": 8,
   "metadata": {},
   "outputs": [
    {
     "data": {
      "text/plain": [
       "6177"
      ]
     },
     "execution_count": 8,
     "metadata": {},
     "output_type": "execute_result"
    }
   ],
   "source": [
    "clf = IsolationForest(random_state=42)\n",
    "y_pred = clf.fit_predict(df_physical_prepared)\n",
    "if_outliers = df_physical_prepared[y_pred == -1].index.values.tolist()\n",
    "len(if_outliers)"
   ]
  },
  {
   "cell_type": "code",
   "execution_count": 9,
   "metadata": {},
   "outputs": [
    {
     "data": {
      "text/plain": [
       "label_n\n",
       "0.0    7747\n",
       "1.0    1459\n",
       "Name: count, dtype: int64"
      ]
     },
     "execution_count": 9,
     "metadata": {},
     "output_type": "execute_result"
    }
   ],
   "source": [
    "df_physical_labels[\"label_n\"].value_counts()"
   ]
  },
  {
   "cell_type": "code",
   "execution_count": 10,
   "metadata": {},
   "outputs": [
    {
     "data": {
      "text/plain": [
       "label_n\n",
       "0.0    4997\n",
       "1.0    1180\n",
       "Name: count, dtype: int64"
      ]
     },
     "execution_count": 10,
     "metadata": {},
     "output_type": "execute_result"
    }
   ],
   "source": [
    "df_physical_labels.iloc[if_outliers][\"label_n\"].value_counts()"
   ]
  },
  {
   "cell_type": "markdown",
   "metadata": {},
   "source": [
    "Out of the 6177 outliers found, 1180 are real anomalies (19%). This is not a great result knowing there are only 1459 outliers, let's see if we can do better with a fixed contamination rate."
   ]
  },
  {
   "cell_type": "code",
   "execution_count": 11,
   "metadata": {},
   "outputs": [
    {
     "data": {
      "text/plain": [
       "0.1584835976537041"
      ]
     },
     "execution_count": 11,
     "metadata": {},
     "output_type": "execute_result"
    }
   ],
   "source": [
    "val_counts_labels = df_physical_labels[\"label_n\"].value_counts()\n",
    "contamination_rate = val_counts_labels[1] / (val_counts_labels[0] + val_counts_labels[1])\n",
    "contamination_rate"
   ]
  },
  {
   "cell_type": "code",
   "execution_count": 12,
   "metadata": {},
   "outputs": [
    {
     "data": {
      "text/plain": [
       "1459"
      ]
     },
     "execution_count": 12,
     "metadata": {},
     "output_type": "execute_result"
    }
   ],
   "source": [
    "clf = IsolationForest(n_estimators=100, n_jobs=-1, bootstrap=True, random_state=42, contamination=contamination_rate)\n",
    "y_pred = clf.fit_predict(df_physical_prepared)\n",
    "if_outliers_cr = df_physical_prepared[y_pred == -1].index.values.tolist()\n",
    "len(if_outliers_cr)"
   ]
  },
  {
   "cell_type": "code",
   "execution_count": 13,
   "metadata": {},
   "outputs": [
    {
     "data": {
      "text/plain": [
       "label_n\n",
       "0.0    940\n",
       "1.0    519\n",
       "Name: count, dtype: int64"
      ]
     },
     "execution_count": 13,
     "metadata": {},
     "output_type": "execute_result"
    }
   ],
   "source": [
    "df_physical_labels.iloc[if_outliers_cr][\"label_n\"].value_counts()"
   ]
  },
  {
   "cell_type": "markdown",
   "metadata": {},
   "source": [
    "With a fixed contamination rate, the model gets a total of 1459 outliers, out of which 519 are real anomalies (35.5%). This is a better result than with the default parameters and less false positives are found."
   ]
  },
  {
   "cell_type": "markdown",
   "metadata": {},
   "source": [
    "### b. Local Outlier Factor"
   ]
  },
  {
   "cell_type": "code",
   "execution_count": 14,
   "metadata": {},
   "outputs": [
    {
     "data": {
      "text/plain": [
       "73"
      ]
     },
     "execution_count": 14,
     "metadata": {},
     "output_type": "execute_result"
    }
   ],
   "source": [
    "clf = LocalOutlierFactor(n_neighbors=5)\n",
    "y_pred = clf.fit_predict(df_physical_prepared)\n",
    "lof_outliers = df_physical_prepared[y_pred == -1].index.values.tolist()\n",
    "len(lof_outliers)"
   ]
  },
  {
   "cell_type": "code",
   "execution_count": 15,
   "metadata": {},
   "outputs": [
    {
     "data": {
      "text/plain": [
       "label_n\n",
       "0.0    48\n",
       "1.0    25\n",
       "Name: count, dtype: int64"
      ]
     },
     "execution_count": 15,
     "metadata": {},
     "output_type": "execute_result"
    }
   ],
   "source": [
    "df_physical_labels.iloc[lof_outliers][\"label_n\"].value_counts()"
   ]
  },
  {
   "cell_type": "markdown",
   "metadata": {},
   "source": [
    "We get terrible results, it barely detects outliers. This model isn't suited for the dataset."
   ]
  },
  {
   "cell_type": "markdown",
   "metadata": {},
   "source": [
    "## 2. Neural Networks"
   ]
  },
  {
   "cell_type": "markdown",
   "metadata": {},
   "source": [
    "### a. DNN\n",
    "\n",
    "We will use only some of the columns for the DNN model. We are removing contextual information such as the time. To make it easier to manipulate, we will merge back the labels with the predictions."
   ]
  },
  {
   "cell_type": "markdown",
   "metadata": {},
   "source": [
    "#### Binary classification"
   ]
  },
  {
   "cell_type": "code",
   "execution_count": 16,
   "metadata": {},
   "outputs": [
    {
     "data": {
      "text/html": [
       "<div>\n",
       "<style scoped>\n",
       "    .dataframe tbody tr th:only-of-type {\n",
       "        vertical-align: middle;\n",
       "    }\n",
       "\n",
       "    .dataframe tbody tr th {\n",
       "        vertical-align: top;\n",
       "    }\n",
       "\n",
       "    .dataframe thead th {\n",
       "        text-align: right;\n",
       "    }\n",
       "</style>\n",
       "<table border=\"1\" class=\"dataframe\">\n",
       "  <thead>\n",
       "    <tr style=\"text-align: right;\">\n",
       "      <th></th>\n",
       "      <th>time</th>\n",
       "      <th>tank_1</th>\n",
       "      <th>tank_2</th>\n",
       "      <th>tank_3</th>\n",
       "      <th>tank_4</th>\n",
       "      <th>tank_5</th>\n",
       "      <th>tank_6</th>\n",
       "      <th>tank_7</th>\n",
       "      <th>tank_8</th>\n",
       "      <th>pump_1</th>\n",
       "      <th>...</th>\n",
       "      <th>valv_14</th>\n",
       "      <th>valv_15</th>\n",
       "      <th>valv_16</th>\n",
       "      <th>valv_17</th>\n",
       "      <th>valv_18</th>\n",
       "      <th>valv_19</th>\n",
       "      <th>valv_20</th>\n",
       "      <th>valv_21</th>\n",
       "      <th>valv_22</th>\n",
       "      <th>label_n</th>\n",
       "    </tr>\n",
       "  </thead>\n",
       "  <tbody>\n",
       "    <tr>\n",
       "      <th>0</th>\n",
       "      <td>1.630780e+09</td>\n",
       "      <td>0</td>\n",
       "      <td>0</td>\n",
       "      <td>0</td>\n",
       "      <td>0</td>\n",
       "      <td>0</td>\n",
       "      <td>0</td>\n",
       "      <td>0</td>\n",
       "      <td>0</td>\n",
       "      <td>0</td>\n",
       "      <td>...</td>\n",
       "      <td>0</td>\n",
       "      <td>0</td>\n",
       "      <td>0</td>\n",
       "      <td>0</td>\n",
       "      <td>0</td>\n",
       "      <td>0</td>\n",
       "      <td>0</td>\n",
       "      <td>0</td>\n",
       "      <td>0</td>\n",
       "      <td>0.0</td>\n",
       "    </tr>\n",
       "    <tr>\n",
       "      <th>1</th>\n",
       "      <td>1.630780e+09</td>\n",
       "      <td>0</td>\n",
       "      <td>0</td>\n",
       "      <td>0</td>\n",
       "      <td>0</td>\n",
       "      <td>0</td>\n",
       "      <td>0</td>\n",
       "      <td>0</td>\n",
       "      <td>0</td>\n",
       "      <td>0</td>\n",
       "      <td>...</td>\n",
       "      <td>0</td>\n",
       "      <td>0</td>\n",
       "      <td>0</td>\n",
       "      <td>0</td>\n",
       "      <td>0</td>\n",
       "      <td>0</td>\n",
       "      <td>0</td>\n",
       "      <td>0</td>\n",
       "      <td>0</td>\n",
       "      <td>0.0</td>\n",
       "    </tr>\n",
       "    <tr>\n",
       "      <th>2</th>\n",
       "      <td>1.630780e+09</td>\n",
       "      <td>0</td>\n",
       "      <td>0</td>\n",
       "      <td>0</td>\n",
       "      <td>0</td>\n",
       "      <td>0</td>\n",
       "      <td>0</td>\n",
       "      <td>0</td>\n",
       "      <td>0</td>\n",
       "      <td>0</td>\n",
       "      <td>...</td>\n",
       "      <td>0</td>\n",
       "      <td>0</td>\n",
       "      <td>0</td>\n",
       "      <td>0</td>\n",
       "      <td>0</td>\n",
       "      <td>0</td>\n",
       "      <td>0</td>\n",
       "      <td>0</td>\n",
       "      <td>0</td>\n",
       "      <td>0.0</td>\n",
       "    </tr>\n",
       "    <tr>\n",
       "      <th>3</th>\n",
       "      <td>1.630780e+09</td>\n",
       "      <td>0</td>\n",
       "      <td>0</td>\n",
       "      <td>0</td>\n",
       "      <td>0</td>\n",
       "      <td>0</td>\n",
       "      <td>0</td>\n",
       "      <td>0</td>\n",
       "      <td>0</td>\n",
       "      <td>0</td>\n",
       "      <td>...</td>\n",
       "      <td>0</td>\n",
       "      <td>0</td>\n",
       "      <td>0</td>\n",
       "      <td>0</td>\n",
       "      <td>0</td>\n",
       "      <td>0</td>\n",
       "      <td>0</td>\n",
       "      <td>0</td>\n",
       "      <td>0</td>\n",
       "      <td>0.0</td>\n",
       "    </tr>\n",
       "    <tr>\n",
       "      <th>4</th>\n",
       "      <td>1.630780e+09</td>\n",
       "      <td>0</td>\n",
       "      <td>0</td>\n",
       "      <td>0</td>\n",
       "      <td>0</td>\n",
       "      <td>0</td>\n",
       "      <td>0</td>\n",
       "      <td>0</td>\n",
       "      <td>0</td>\n",
       "      <td>1</td>\n",
       "      <td>...</td>\n",
       "      <td>0</td>\n",
       "      <td>0</td>\n",
       "      <td>0</td>\n",
       "      <td>0</td>\n",
       "      <td>0</td>\n",
       "      <td>0</td>\n",
       "      <td>0</td>\n",
       "      <td>0</td>\n",
       "      <td>0</td>\n",
       "      <td>0.0</td>\n",
       "    </tr>\n",
       "  </tbody>\n",
       "</table>\n",
       "<p>5 rows × 42 columns</p>\n",
       "</div>"
      ],
      "text/plain": [
       "           time  tank_1  tank_2  tank_3  tank_4  tank_5  tank_6  tank_7  \\\n",
       "0  1.630780e+09       0       0       0       0       0       0       0   \n",
       "1  1.630780e+09       0       0       0       0       0       0       0   \n",
       "2  1.630780e+09       0       0       0       0       0       0       0   \n",
       "3  1.630780e+09       0       0       0       0       0       0       0   \n",
       "4  1.630780e+09       0       0       0       0       0       0       0   \n",
       "\n",
       "   tank_8  pump_1  ...  valv_14  valv_15  valv_16  valv_17  valv_18  valv_19  \\\n",
       "0       0       0  ...        0        0        0        0        0        0   \n",
       "1       0       0  ...        0        0        0        0        0        0   \n",
       "2       0       0  ...        0        0        0        0        0        0   \n",
       "3       0       0  ...        0        0        0        0        0        0   \n",
       "4       0       1  ...        0        0        0        0        0        0   \n",
       "\n",
       "   valv_20  valv_21  valv_22  label_n  \n",
       "0        0        0        0      0.0  \n",
       "1        0        0        0      0.0  \n",
       "2        0        0        0      0.0  \n",
       "3        0        0        0      0.0  \n",
       "4        0        0        0      0.0  \n",
       "\n",
       "[5 rows x 42 columns]"
      ]
     },
     "execution_count": 16,
     "metadata": {},
     "output_type": "execute_result"
    }
   ],
   "source": [
    "df = df_physical_prepared.copy()\n",
    "df[\"label_n\"] = df_physical_labels[\"label_n\"]\n",
    "df.head()"
   ]
  },
  {
   "cell_type": "code",
   "execution_count": 17,
   "metadata": {},
   "outputs": [
    {
     "data": {
      "text/plain": [
       "((5891, 41), (1473, 41), (1842, 41))"
      ]
     },
     "execution_count": 17,
     "metadata": {},
     "output_type": "execute_result"
    }
   ],
   "source": [
    "# convert bool columns to int\n",
    "bool_cols = df.columns[df.dtypes == bool]\n",
    "df[bool_cols] = df[bool_cols].astype(int)\n",
    "\n",
    "# remove time column\n",
    "if \"Time\" in df.columns:\n",
    "    df.drop(columns=['Time'], inplace=True)\n",
    "\n",
    "# Split data into train, validation, and test sets\n",
    "train_df, test_df = train_test_split(df, test_size=0.2, random_state=42, stratify=df['label_n'])\n",
    "train_df, val_df = train_test_split(train_df, test_size=0.2, random_state=42, stratify=train_df['label_n'])\n",
    "\n",
    "# Separate features and target\n",
    "X_train = train_df.drop(columns=['label_n'])\n",
    "y_train = train_df['label_n']\n",
    "X_val = val_df.drop(columns=['label_n'])\n",
    "y_val = val_df['label_n']\n",
    "X_test = test_df.drop(columns=['label_n'])\n",
    "y_test = test_df['label_n']\n",
    "\n",
    "# Normalize numerical features\n",
    "scaler = StandardScaler()\n",
    "X_train = scaler.fit_transform(X_train)\n",
    "X_val = scaler.transform(X_val)\n",
    "X_test = scaler.transform(X_test)\n",
    "\n",
    "X_train.shape, X_val.shape, X_test.shape"
   ]
  },
  {
   "cell_type": "code",
   "execution_count": 18,
   "metadata": {},
   "outputs": [
    {
     "data": {
      "text/plain": [
       "array([-1.8453872 ,  0.80077463,  1.38978397, -0.31653682, -0.80836626,\n",
       "       -1.32533143, -0.10188866,  2.305095  , -0.92628226,  1.33125328,\n",
       "        1.85997322,  0.        , -0.51106364,  1.29715255, -0.77736917,\n",
       "        1.29761189, -0.77821244,  0.        , -0.75693134,  0.        ,\n",
       "        0.        ,  0.        ,  0.        ,  0.        ,  0.        ,\n",
       "        0.        ,  0.        ,  0.        , -1.2205967 , -1.2205967 ,\n",
       "       -1.22016572, -0.82129835, -0.82129835, -0.82158816,  0.        ,\n",
       "        0.91201897, -0.55179071,  0.        , -1.33567454,  0.        ,\n",
       "       -0.91326873])"
      ]
     },
     "execution_count": 18,
     "metadata": {},
     "output_type": "execute_result"
    }
   ],
   "source": [
    "X_train[0]"
   ]
  },
  {
   "cell_type": "code",
   "execution_count": 19,
   "metadata": {},
   "outputs": [
    {
     "name": "stdout",
     "output_type": "stream",
     "text": [
      "Model: \"sequential\"\n",
      "_________________________________________________________________\n",
      " Layer (type)                Output Shape              Param #   \n",
      "=================================================================\n",
      " dense (Dense)               (None, 1024)              43008     \n",
      "                                                                 \n",
      " dense_1 (Dense)             (None, 256)               262400    \n",
      "                                                                 \n",
      " dense_2 (Dense)             (None, 64)                16448     \n",
      "                                                                 \n",
      " dense_3 (Dense)             (None, 1)                 65        \n",
      "                                                                 \n",
      "=================================================================\n",
      "Total params: 321,921\n",
      "Trainable params: 321,921\n",
      "Non-trainable params: 0\n",
      "_________________________________________________________________\n"
     ]
    }
   ],
   "source": [
    "# Define the neural network model\n",
    "model = tf.keras.Sequential([\n",
    "    tf.keras.layers.Input(shape=(X_train[0].shape[0],)),  # Input layer\n",
    "    tf.keras.layers.Dense(1024, activation=swish),  # Hidden layer 1\n",
    "    tf.keras.layers.Dense(256, activation=swish),   # Hidden layer 2\n",
    "    tf.keras.layers.Dense(64, activation=swish),   # Hidden layer 3\n",
    "    tf.keras.layers.Dense(1, activation=sigmoid)  # Output layer\n",
    "])\n",
    "\n",
    "# Compile the model\n",
    "model.compile(optimizer='adam',\n",
    "              loss='binary_crossentropy',\n",
    "              metrics=['accuracy'])\n",
    "\n",
    "model.summary()"
   ]
  },
  {
   "cell_type": "markdown",
   "metadata": {},
   "source": [
    "Let's define callbacks and train the model."
   ]
  },
  {
   "cell_type": "code",
   "execution_count": 20,
   "metadata": {},
   "outputs": [
    {
     "name": "stdout",
     "output_type": "stream",
     "text": [
      "Epoch 1/40\n",
      "24/24 [==============================] - 2s 20ms/step - loss: 0.4558 - accuracy: 0.8114 - val_loss: 0.3605 - val_accuracy: 0.8500 - lr: 0.0010\n",
      "Epoch 2/40\n",
      "24/24 [==============================] - 0s 8ms/step - loss: 0.3653 - accuracy: 0.8445 - val_loss: 0.3272 - val_accuracy: 0.8568 - lr: 0.0010\n",
      "Epoch 3/40\n",
      "24/24 [==============================] - 0s 7ms/step - loss: 0.3059 - accuracy: 0.8701 - val_loss: 0.2740 - val_accuracy: 0.8853 - lr: 0.0010\n",
      "Epoch 4/40\n",
      "24/24 [==============================] - 0s 8ms/step - loss: 0.3086 - accuracy: 0.8549 - val_loss: 0.2858 - val_accuracy: 0.8812 - lr: 0.0010\n",
      "Epoch 5/40\n",
      "24/24 [==============================] - 0s 9ms/step - loss: 0.2951 - accuracy: 0.8720 - val_loss: 0.2595 - val_accuracy: 0.8900 - lr: 0.0010\n",
      "Epoch 6/40\n",
      "24/24 [==============================] - 0s 8ms/step - loss: 0.2534 - accuracy: 0.8871 - val_loss: 0.2316 - val_accuracy: 0.8907 - lr: 0.0010\n",
      "Epoch 7/40\n",
      "24/24 [==============================] - 0s 8ms/step - loss: 0.2363 - accuracy: 0.8909 - val_loss: 0.2125 - val_accuracy: 0.9104 - lr: 0.0010\n",
      "Epoch 8/40\n",
      "24/24 [==============================] - 0s 8ms/step - loss: 0.2066 - accuracy: 0.9068 - val_loss: 0.1848 - val_accuracy: 0.9267 - lr: 0.0010\n",
      "Epoch 9/40\n",
      "24/24 [==============================] - 0s 10ms/step - loss: 0.1799 - accuracy: 0.9238 - val_loss: 0.1767 - val_accuracy: 0.9233 - lr: 0.0010\n",
      "Epoch 10/40\n",
      "24/24 [==============================] - 0s 9ms/step - loss: 0.1777 - accuracy: 0.9223 - val_loss: 0.1680 - val_accuracy: 0.9233 - lr: 0.0010\n",
      "Epoch 11/40\n",
      "24/24 [==============================] - 0s 11ms/step - loss: 0.1593 - accuracy: 0.9297 - val_loss: 0.1596 - val_accuracy: 0.9335 - lr: 0.0010\n",
      "Epoch 12/40\n",
      "24/24 [==============================] - 0s 10ms/step - loss: 0.1544 - accuracy: 0.9296 - val_loss: 0.1539 - val_accuracy: 0.9328 - lr: 0.0010\n",
      "Epoch 13/40\n",
      "24/24 [==============================] - 0s 8ms/step - loss: 0.1571 - accuracy: 0.9321 - val_loss: 0.1469 - val_accuracy: 0.9464 - lr: 0.0010\n",
      "Epoch 14/40\n",
      "24/24 [==============================] - 0s 10ms/step - loss: 0.1342 - accuracy: 0.9416 - val_loss: 0.1418 - val_accuracy: 0.9396 - lr: 0.0010\n",
      "Epoch 15/40\n",
      "24/24 [==============================] - 0s 8ms/step - loss: 0.1291 - accuracy: 0.9455 - val_loss: 0.1503 - val_accuracy: 0.9287 - lr: 0.0010\n",
      "Epoch 16/40\n",
      "24/24 [==============================] - 0s 10ms/step - loss: 0.1294 - accuracy: 0.9430 - val_loss: 0.1408 - val_accuracy: 0.9491 - lr: 0.0010\n",
      "Epoch 17/40\n",
      "24/24 [==============================] - 0s 10ms/step - loss: 0.1193 - accuracy: 0.9498 - val_loss: 0.1294 - val_accuracy: 0.9470 - lr: 0.0010\n",
      "Epoch 18/40\n",
      "24/24 [==============================] - 0s 7ms/step - loss: 0.1177 - accuracy: 0.9516 - val_loss: 0.1229 - val_accuracy: 0.9518 - lr: 0.0010\n",
      "Epoch 19/40\n",
      "24/24 [==============================] - 0s 7ms/step - loss: 0.1139 - accuracy: 0.9525 - val_loss: 0.1309 - val_accuracy: 0.9511 - lr: 0.0010\n",
      "Epoch 20/40\n",
      "24/24 [==============================] - 0s 10ms/step - loss: 0.1247 - accuracy: 0.9469 - val_loss: 0.1255 - val_accuracy: 0.9518 - lr: 0.0010\n",
      "Epoch 21/40\n",
      "24/24 [==============================] - 0s 11ms/step - loss: 0.1133 - accuracy: 0.9528 - val_loss: 0.1142 - val_accuracy: 0.9566 - lr: 0.0010\n",
      "Epoch 22/40\n",
      "24/24 [==============================] - 0s 11ms/step - loss: 0.1052 - accuracy: 0.9577 - val_loss: 0.1378 - val_accuracy: 0.9457 - lr: 0.0010\n",
      "Epoch 23/40\n",
      "24/24 [==============================] - 0s 10ms/step - loss: 0.1249 - accuracy: 0.9520 - val_loss: 0.1328 - val_accuracy: 0.9457 - lr: 0.0010\n",
      "Epoch 24/40\n",
      "21/24 [=========================>....] - ETA: 0s - loss: 0.1073 - accuracy: 0.9554\n",
      "Epoch 24: ReduceLROnPlateau reducing learning rate to 0.00010000000474974513.\n",
      "24/24 [==============================] - 0s 8ms/step - loss: 0.1068 - accuracy: 0.9567 - val_loss: 0.1234 - val_accuracy: 0.9559 - lr: 0.0010\n",
      "Epoch 25/40\n",
      "24/24 [==============================] - 0s 8ms/step - loss: 0.0930 - accuracy: 0.9620 - val_loss: 0.1061 - val_accuracy: 0.9606 - lr: 1.0000e-04\n",
      "Epoch 26/40\n",
      "24/24 [==============================] - 0s 7ms/step - loss: 0.0883 - accuracy: 0.9654 - val_loss: 0.1028 - val_accuracy: 0.9633 - lr: 1.0000e-04\n",
      "Epoch 27/40\n",
      "24/24 [==============================] - 0s 8ms/step - loss: 0.0879 - accuracy: 0.9676 - val_loss: 0.1010 - val_accuracy: 0.9640 - lr: 1.0000e-04\n",
      "Epoch 28/40\n",
      "24/24 [==============================] - 0s 10ms/step - loss: 0.0855 - accuracy: 0.9696 - val_loss: 0.0993 - val_accuracy: 0.9654 - lr: 1.0000e-04\n",
      "Epoch 29/40\n",
      "24/24 [==============================] - 0s 9ms/step - loss: 0.0883 - accuracy: 0.9654 - val_loss: 0.0985 - val_accuracy: 0.9647 - lr: 1.0000e-04\n",
      "Epoch 30/40\n",
      "24/24 [==============================] - 0s 7ms/step - loss: 0.0840 - accuracy: 0.9696 - val_loss: 0.0988 - val_accuracy: 0.9674 - lr: 1.0000e-04\n",
      "Epoch 31/40\n",
      "24/24 [==============================] - 0s 9ms/step - loss: 0.0857 - accuracy: 0.9703 - val_loss: 0.0985 - val_accuracy: 0.9667 - lr: 1.0000e-04\n",
      "Epoch 32/40\n",
      "20/24 [========================>.....] - ETA: 0s - loss: 0.0837 - accuracy: 0.9707\n",
      "Epoch 32: ReduceLROnPlateau reducing learning rate to 1.0000000474974514e-05.\n",
      "24/24 [==============================] - 0s 7ms/step - loss: 0.0833 - accuracy: 0.9708 - val_loss: 0.0986 - val_accuracy: 0.9654 - lr: 1.0000e-04\n",
      "Epoch 33/40\n",
      "24/24 [==============================] - 0s 8ms/step - loss: 0.0817 - accuracy: 0.9713 - val_loss: 0.0987 - val_accuracy: 0.9647 - lr: 1.0000e-05\n",
      "Epoch 34/40\n",
      "24/24 [==============================] - 0s 8ms/step - loss: 0.0820 - accuracy: 0.9705 - val_loss: 0.0986 - val_accuracy: 0.9620 - lr: 1.0000e-05\n",
      "Epoch 35/40\n",
      "24/24 [==============================] - 0s 7ms/step - loss: 0.0818 - accuracy: 0.9710 - val_loss: 0.0984 - val_accuracy: 0.9627 - lr: 1.0000e-05\n",
      "Epoch 36/40\n",
      "24/24 [==============================] - 0s 7ms/step - loss: 0.0816 - accuracy: 0.9718 - val_loss: 0.0984 - val_accuracy: 0.9640 - lr: 1.0000e-05\n",
      "Epoch 37/40\n",
      "24/24 [==============================] - 0s 7ms/step - loss: 0.0814 - accuracy: 0.9720 - val_loss: 0.0984 - val_accuracy: 0.9661 - lr: 1.0000e-05\n",
      "Epoch 38/40\n",
      "24/24 [==============================] - 0s 7ms/step - loss: 0.0813 - accuracy: 0.9718 - val_loss: 0.0982 - val_accuracy: 0.9654 - lr: 1.0000e-05\n",
      "Epoch 39/40\n",
      "24/24 [==============================] - 0s 7ms/step - loss: 0.0812 - accuracy: 0.9720 - val_loss: 0.0977 - val_accuracy: 0.9661 - lr: 1.0000e-05\n",
      "Epoch 40/40\n",
      "24/24 [==============================] - 0s 7ms/step - loss: 0.0812 - accuracy: 0.9718 - val_loss: 0.0977 - val_accuracy: 0.9661 - lr: 1.0000e-05\n"
     ]
    }
   ],
   "source": [
    "# callbacks\n",
    "early_stopping = tf.keras.callbacks.EarlyStopping(\n",
    "    monitor='val_loss', min_delta=0, patience=6, verbose=1,\n",
    "    mode='auto', baseline=None, restore_best_weights=True\n",
    ")\n",
    "reduce_on_plateau = tf.keras.callbacks.ReduceLROnPlateau(\n",
    "    monitor='val_loss', factor=0.1, patience=3, verbose=1,\n",
    "    mode='auto', min_delta=0.0001, cooldown=0, min_lr=0\n",
    ")\n",
    "\n",
    "# Train the model\n",
    "history = model.fit(X_train, y_train, \n",
    "                    epochs=40, \n",
    "                    batch_size=256, \n",
    "                    validation_data=(X_val, y_val),\n",
    "                    callbacks=[early_stopping, reduce_on_plateau])"
   ]
  },
  {
   "cell_type": "code",
   "execution_count": 21,
   "metadata": {},
   "outputs": [
    {
     "data": {
      "image/png": "[encoded data removed]",
      "text/plain": [
       "<Figure size 640x480 with 1 Axes>"
      ]
     },
     "metadata": {},
     "output_type": "display_data"
    }
   ],
   "source": [
    "plt.plot(history.history['accuracy'], label='train')\n",
    "plt.plot(history.history['val_accuracy'], label='val')\n",
    "plt.legend()\n",
    "plt.show()"
   ]
  },
  {
   "cell_type": "markdown",
   "metadata": {},
   "source": [
    "Evaluation on the test set:"
   ]
  },
  {
   "cell_type": "code",
   "execution_count": 22,
   "metadata": {},
   "outputs": [
    {
     "name": "stdout",
     "output_type": "stream",
     "text": [
      "58/58 [==============================] - 0s 3ms/step - loss: 0.0948 - accuracy: 0.9691\n",
      "Test accuracy: 96.91%\n"
     ]
    }
   ],
   "source": [
    "test_loss, test_accuracy = model.evaluate(X_test, y_test)\n",
    "print(f\"Test accuracy: {test_accuracy * 100:.2f}%\")"
   ]
  },
  {
   "cell_type": "code",
   "execution_count": 23,
   "metadata": {},
   "outputs": [],
   "source": [
    "def plot_confusion_matrix(y_true, y_pred, title=None):\n",
    "    fig, ax = plt.subplots(figsize=(6, 6))\n",
    "    cm = confusion_matrix(y_true, y_pred)\n",
    "\n",
    "    # normalize it\n",
    "    cm = cm.astype(float) / cm.sum(axis=1)[:, np.newaxis]\n",
    "\n",
    "    sns.heatmap(cm, annot=True, ax=ax, cmap=\"Blues\")\n",
    "    ax.set_ylabel(\"Actual\")\n",
    "    ax.set_xlabel(\"Predicted\")\n",
    "    if title:\n",
    "        ax.set_title(title)\n",
    "    plt.show()"
   ]
  },
  {
   "cell_type": "code",
   "execution_count": 24,
   "metadata": {},
   "outputs": [
    {
     "name": "stdout",
     "output_type": "stream",
     "text": [
      "58/58 [==============================] - 0s 2ms/step\n"
     ]
    },
    {
     "data": {
      "image/png": "[encoded data removed]",
      "text/plain": [
       "<Figure size 600x600 with 2 Axes>"
      ]
     },
     "metadata": {},
     "output_type": "display_data"
    }
   ],
   "source": [
    "# Predict on test set\n",
    "y_pred = model.predict(X_test)\n",
    "y_pred = np.round(y_pred).astype(int).reshape(-1)\n",
    "\n",
    "# Plot confusion matrix\n",
    "plot_confusion_matrix(y_test, y_pred, title=\"Confusion matrix for the test set\")"
   ]
  },
  {
   "cell_type": "markdown",
   "metadata": {},
   "source": [
    "The results are promising, we get a good recall and precision. The model is able to detect 85% of the anomalies and has a low false positive rate. However we still have a lot of false negatives."
   ]
  },
  {
   "cell_type": "markdown",
   "metadata": {},
   "source": [
    "#### Multiclass classification\n",
    "\n",
    "Now, we want to create an alternative DNN which will give us more precision on the type of attack. We will use the same architecture as before, but we will change the output layer to have 5 neurons, one for each type of attack."
   ]
  },
  {
   "cell_type": "code",
   "execution_count": 25,
   "metadata": {},
   "outputs": [
    {
     "data": {
      "text/plain": [
       "new_labels\n",
       "2    7747\n",
       "1     743\n",
       "3     552\n",
       "0     157\n",
       "4       7\n",
       "Name: count, dtype: int64"
      ]
     },
     "execution_count": 25,
     "metadata": {},
     "output_type": "execute_result"
    }
   ],
   "source": [
    "df.drop(columns=['label_n'], inplace=True)\n",
    "df[\"new_labels\"] = df_physical_labels[\"new_labels\"]\n",
    "df[\"new_labels\"].value_counts()"
   ]
  },
  {
   "cell_type": "markdown",
   "metadata": {},
   "source": [
    "The 5th class has only 7 rows, which is not enough to train a model. We will remove it from the dataset."
   ]
  },
  {
   "cell_type": "code",
   "execution_count": 26,
   "metadata": {},
   "outputs": [],
   "source": [
    "# let's remove the 5th class\n",
    "df = df[df[\"new_labels\"] != 4]"
   ]
  },
  {
   "cell_type": "code",
   "execution_count": 27,
   "metadata": {},
   "outputs": [
    {
     "data": {
      "text/plain": [
       "((5887, 41), (1472, 41), (1840, 41))"
      ]
     },
     "execution_count": 27,
     "metadata": {},
     "output_type": "execute_result"
    }
   ],
   "source": [
    "# Split data into train, validation, and test sets\n",
    "train_df, test_df = train_test_split(df, test_size=0.2, random_state=42, stratify=df['new_labels'])\n",
    "train_df, val_df = train_test_split(train_df, test_size=0.2, random_state=42, stratify=train_df['new_labels'])\n",
    "\n",
    "# Separate features and target\n",
    "X_train = train_df.drop(columns=['new_labels'])\n",
    "y_train = train_df['new_labels']\n",
    "X_val = val_df.drop(columns=['new_labels'])\n",
    "y_val = val_df['new_labels']\n",
    "X_test = test_df.drop(columns=['new_labels'])\n",
    "y_test = test_df['new_labels']\n",
    "\n",
    "# Normalize numerical features\n",
    "scaler = StandardScaler()\n",
    "X_train = scaler.fit_transform(X_train)\n",
    "X_val = scaler.transform(X_val)\n",
    "X_test = scaler.transform(X_test)\n",
    "\n",
    "X_train.shape, X_val.shape, X_test.shape"
   ]
  },
  {
   "cell_type": "code",
   "execution_count": 28,
   "metadata": {},
   "outputs": [
    {
     "name": "stdout",
     "output_type": "stream",
     "text": [
      "Model: \"sequential_1\"\n",
      "_________________________________________________________________\n",
      " Layer (type)                Output Shape              Param #   \n",
      "=================================================================\n",
      " dense_4 (Dense)             (None, 1024)              43008     \n",
      "                                                                 \n",
      " dense_5 (Dense)             (None, 256)               262400    \n",
      "                                                                 \n",
      " dense_6 (Dense)             (None, 64)                16448     \n",
      "                                                                 \n",
      " dense_7 (Dense)             (None, 5)                 325       \n",
      "                                                                 \n",
      "=================================================================\n",
      "Total params: 322,181\n",
      "Trainable params: 322,181\n",
      "Non-trainable params: 0\n",
      "_________________________________________________________________\n"
     ]
    }
   ],
   "source": [
    "# Define the neural network model\n",
    "model = tf.keras.Sequential([\n",
    "    tf.keras.layers.Input(shape=(X_train[0].shape[0],)),  # Input layer\n",
    "    tf.keras.layers.Dense(1024, activation=swish),  # Hidden layer 1\n",
    "    tf.keras.layers.Dense(256, activation=swish),   # Hidden layer 2\n",
    "    tf.keras.layers.Dense(64, activation=swish),   # Hidden layer 3\n",
    "    tf.keras.layers.Dense(5, activation=softmax)  # Output layer\n",
    "])\n",
    "\n",
    "# Compile the model\n",
    "model.compile(optimizer='adam',\n",
    "              loss='sparse_categorical_crossentropy',\n",
    "              metrics=['accuracy'])\n",
    "\n",
    "model.summary()"
   ]
  },
  {
   "cell_type": "code",
   "execution_count": 29,
   "metadata": {},
   "outputs": [
    {
     "name": "stdout",
     "output_type": "stream",
     "text": [
      "Epoch 1/40\n"
     ]
    },
    {
     "name": "stdout",
     "output_type": "stream",
     "text": [
      "23/23 [==============================] - 1s 14ms/step - loss: 0.8097 - accuracy: 0.8041 - val_loss: 0.4743 - val_accuracy: 0.8546 - lr: 0.0010\n",
      "Epoch 2/40\n",
      "23/23 [==============================] - 0s 6ms/step - loss: 0.3914 - accuracy: 0.8736 - val_loss: 0.3612 - val_accuracy: 0.8723 - lr: 0.0010\n",
      "Epoch 3/40\n",
      "23/23 [==============================] - 0s 7ms/step - loss: 0.3014 - accuracy: 0.8848 - val_loss: 0.2979 - val_accuracy: 0.8791 - lr: 0.0010\n",
      "Epoch 4/40\n",
      "23/23 [==============================] - 0s 6ms/step - loss: 0.2421 - accuracy: 0.9047 - val_loss: 0.2490 - val_accuracy: 0.9096 - lr: 0.0010\n",
      "Epoch 5/40\n",
      "23/23 [==============================] - 0s 6ms/step - loss: 0.2006 - accuracy: 0.9251 - val_loss: 0.2060 - val_accuracy: 0.9151 - lr: 0.0010\n",
      "Epoch 6/40\n",
      "23/23 [==============================] - 0s 6ms/step - loss: 0.1701 - accuracy: 0.9346 - val_loss: 0.1711 - val_accuracy: 0.9293 - lr: 0.0010\n",
      "Epoch 7/40\n",
      "23/23 [==============================] - 0s 6ms/step - loss: 0.1451 - accuracy: 0.9388 - val_loss: 0.1653 - val_accuracy: 0.9300 - lr: 0.0010\n",
      "Epoch 8/40\n",
      "23/23 [==============================] - 0s 6ms/step - loss: 0.1366 - accuracy: 0.9467 - val_loss: 0.1485 - val_accuracy: 0.9375 - lr: 0.0010\n",
      "Epoch 9/40\n",
      "23/23 [==============================] - 0s 7ms/step - loss: 0.1180 - accuracy: 0.9495 - val_loss: 0.1474 - val_accuracy: 0.9443 - lr: 0.0010\n",
      "Epoch 10/40\n",
      "23/23 [==============================] - 0s 6ms/step - loss: 0.1152 - accuracy: 0.9560 - val_loss: 0.1428 - val_accuracy: 0.9443 - lr: 0.0010\n",
      "Epoch 11/40\n",
      "23/23 [==============================] - 0s 6ms/step - loss: 0.1091 - accuracy: 0.9569 - val_loss: 0.1339 - val_accuracy: 0.9429 - lr: 0.0010\n",
      "Epoch 12/40\n",
      "23/23 [==============================] - 0s 7ms/step - loss: 0.0940 - accuracy: 0.9621 - val_loss: 0.1133 - val_accuracy: 0.9524 - lr: 0.0010\n",
      "Epoch 13/40\n",
      "23/23 [==============================] - 0s 6ms/step - loss: 0.0864 - accuracy: 0.9659 - val_loss: 0.1050 - val_accuracy: 0.9572 - lr: 0.0010\n",
      "Epoch 14/40\n",
      "23/23 [==============================] - 0s 7ms/step - loss: 0.0816 - accuracy: 0.9670 - val_loss: 0.1046 - val_accuracy: 0.9518 - lr: 0.0010\n",
      "Epoch 15/40\n",
      "23/23 [==============================] - 0s 6ms/step - loss: 0.0859 - accuracy: 0.9693 - val_loss: 0.1131 - val_accuracy: 0.9579 - lr: 0.0010\n",
      "Epoch 16/40\n",
      "23/23 [==============================] - 0s 6ms/step - loss: 0.0809 - accuracy: 0.9718 - val_loss: 0.1076 - val_accuracy: 0.9572 - lr: 0.0010\n",
      "Epoch 17/40\n",
      "13/23 [===============>..............] - ETA: 0s - loss: 0.0739 - accuracy: 0.9700\n",
      "Epoch 17: ReduceLROnPlateau reducing learning rate to 0.00010000000474974513.\n",
      "23/23 [==============================] - 0s 6ms/step - loss: 0.0772 - accuracy: 0.9701 - val_loss: 0.1148 - val_accuracy: 0.9484 - lr: 0.0010\n",
      "Epoch 18/40\n",
      "23/23 [==============================] - 0s 6ms/step - loss: 0.0664 - accuracy: 0.9757 - val_loss: 0.0881 - val_accuracy: 0.9674 - lr: 1.0000e-04\n",
      "Epoch 19/40\n",
      "23/23 [==============================] - 0s 6ms/step - loss: 0.0566 - accuracy: 0.9796 - val_loss: 0.0847 - val_accuracy: 0.9701 - lr: 1.0000e-04\n",
      "Epoch 20/40\n",
      "23/23 [==============================] - 0s 6ms/step - loss: 0.0553 - accuracy: 0.9805 - val_loss: 0.0846 - val_accuracy: 0.9715 - lr: 1.0000e-04\n",
      "Epoch 21/40\n",
      "23/23 [==============================] - 0s 7ms/step - loss: 0.0549 - accuracy: 0.9811 - val_loss: 0.0829 - val_accuracy: 0.9694 - lr: 1.0000e-04\n",
      "Epoch 22/40\n",
      "23/23 [==============================] - 0s 6ms/step - loss: 0.0545 - accuracy: 0.9811 - val_loss: 0.0839 - val_accuracy: 0.9701 - lr: 1.0000e-04\n",
      "Epoch 23/40\n",
      "23/23 [==============================] - 0s 7ms/step - loss: 0.0545 - accuracy: 0.9813 - val_loss: 0.0818 - val_accuracy: 0.9701 - lr: 1.0000e-04\n",
      "Epoch 24/40\n",
      "23/23 [==============================] - 0s 6ms/step - loss: 0.0539 - accuracy: 0.9818 - val_loss: 0.0819 - val_accuracy: 0.9694 - lr: 1.0000e-04\n",
      "Epoch 25/40\n",
      "23/23 [==============================] - 0s 6ms/step - loss: 0.0534 - accuracy: 0.9822 - val_loss: 0.0818 - val_accuracy: 0.9701 - lr: 1.0000e-04\n",
      "Epoch 26/40\n",
      "23/23 [==============================] - 0s 7ms/step - loss: 0.0532 - accuracy: 0.9813 - val_loss: 0.0811 - val_accuracy: 0.9694 - lr: 1.0000e-04\n",
      "Epoch 27/40\n",
      "23/23 [==============================] - 0s 7ms/step - loss: 0.0528 - accuracy: 0.9828 - val_loss: 0.0808 - val_accuracy: 0.9701 - lr: 1.0000e-04\n",
      "Epoch 28/40\n",
      "23/23 [==============================] - 0s 6ms/step - loss: 0.0522 - accuracy: 0.9815 - val_loss: 0.0813 - val_accuracy: 0.9721 - lr: 1.0000e-04\n",
      "Epoch 29/40\n",
      "23/23 [==============================] - 0s 7ms/step - loss: 0.0523 - accuracy: 0.9818 - val_loss: 0.0805 - val_accuracy: 0.9701 - lr: 1.0000e-04\n",
      "Epoch 30/40\n",
      "23/23 [==============================] - 0s 7ms/step - loss: 0.0515 - accuracy: 0.9828 - val_loss: 0.0797 - val_accuracy: 0.9728 - lr: 1.0000e-04\n",
      "Epoch 31/40\n",
      "23/23 [==============================] - 0s 7ms/step - loss: 0.0510 - accuracy: 0.9834 - val_loss: 0.0793 - val_accuracy: 0.9694 - lr: 1.0000e-04\n",
      "Epoch 32/40\n",
      "23/23 [==============================] - 0s 6ms/step - loss: 0.0513 - accuracy: 0.9823 - val_loss: 0.0800 - val_accuracy: 0.9715 - lr: 1.0000e-04\n",
      "Epoch 33/40\n",
      "23/23 [==============================] - 0s 6ms/step - loss: 0.0514 - accuracy: 0.9818 - val_loss: 0.0790 - val_accuracy: 0.9688 - lr: 1.0000e-04\n",
      "Epoch 34/40\n",
      "23/23 [==============================] - 0s 7ms/step - loss: 0.0501 - accuracy: 0.9827 - val_loss: 0.0795 - val_accuracy: 0.9708 - lr: 1.0000e-04\n",
      "Epoch 35/40\n",
      "23/23 [==============================] - 0s 6ms/step - loss: 0.0505 - accuracy: 0.9827 - val_loss: 0.0783 - val_accuracy: 0.9701 - lr: 1.0000e-04\n",
      "Epoch 36/40\n",
      "23/23 [==============================] - 0s 6ms/step - loss: 0.0494 - accuracy: 0.9828 - val_loss: 0.0773 - val_accuracy: 0.9708 - lr: 1.0000e-04\n",
      "Epoch 37/40\n",
      "23/23 [==============================] - 0s 6ms/step - loss: 0.0492 - accuracy: 0.9830 - val_loss: 0.0780 - val_accuracy: 0.9721 - lr: 1.0000e-04\n",
      "Epoch 38/40\n",
      "23/23 [==============================] - 0s 6ms/step - loss: 0.0489 - accuracy: 0.9832 - val_loss: 0.0777 - val_accuracy: 0.9721 - lr: 1.0000e-04\n",
      "Epoch 39/40\n",
      "23/23 [==============================] - 0s 7ms/step - loss: 0.0486 - accuracy: 0.9840 - val_loss: 0.0766 - val_accuracy: 0.9701 - lr: 1.0000e-04\n",
      "Epoch 40/40\n",
      "23/23 [==============================] - 0s 6ms/step - loss: 0.0486 - accuracy: 0.9827 - val_loss: 0.0797 - val_accuracy: 0.9715 - lr: 1.0000e-04\n"
     ]
    }
   ],
   "source": [
    "history = model.fit(X_train, y_train, \n",
    "                    epochs=40, \n",
    "                    batch_size=256, \n",
    "                    validation_data=(X_val, y_val),\n",
    "                    callbacks=[early_stopping, reduce_on_plateau])"
   ]
  },
  {
   "cell_type": "code",
   "execution_count": 30,
   "metadata": {},
   "outputs": [
    {
     "data": {
      "image/png": "[encoded data removed]",
      "text/plain": [
       "<Figure size 640x480 with 1 Axes>"
      ]
     },
     "metadata": {},
     "output_type": "display_data"
    }
   ],
   "source": [
    "plt.plot(history.history['accuracy'], label='train')\n",
    "plt.plot(history.history['val_accuracy'], label='val')\n",
    "plt.legend()\n",
    "plt.show()"
   ]
  },
  {
   "cell_type": "markdown",
   "metadata": {},
   "source": [
    "Evaluate on the test set:"
   ]
  },
  {
   "cell_type": "code",
   "execution_count": 31,
   "metadata": {},
   "outputs": [
    {
     "name": "stdout",
     "output_type": "stream",
     "text": [
      "58/58 [==============================] - 0s 3ms/step - loss: 0.0697 - accuracy: 0.9745\n",
      "Test accuracy: 97.45%\n"
     ]
    }
   ],
   "source": [
    "test_loss, test_accuracy = model.evaluate(X_test, y_test)\n",
    "print(f\"Test accuracy: {test_accuracy * 100:.2f}%\")"
   ]
  },
  {
   "cell_type": "code",
   "execution_count": 32,
   "metadata": {},
   "outputs": [
    {
     "name": "stdout",
     "output_type": "stream",
     "text": [
      "58/58 [==============================] - 0s 2ms/step\n"
     ]
    },
    {
     "data": {
      "image/png": "[encoded data removed]",
      "text/plain": [
       "<Figure size 600x600 with 2 Axes>"
      ]
     },
     "metadata": {},
     "output_type": "display_data"
    }
   ],
   "source": [
    "# Predict on test set\n",
    "y_pred = model.predict(X_test)\n",
    "y_pred = y_pred = np.argmax(y_pred, axis=1)\n",
    "\n",
    "# Plot confusion matrix\n",
    "plot_confusion_matrix(y_test, y_pred, title=\"Confusion matrix for the test set\")"
   ]
  },
  {
   "cell_type": "code",
   "execution_count": 33,
   "metadata": {},
   "outputs": [
    {
     "name": "stdout",
     "output_type": "stream",
     "text": [
      "Recall:  0.929612273416127\n",
      "Precision:  0.9396395917594428\n",
      "F1-score:  0.93436079219833\n",
      "Accuracy:  0.9744565217391304\n"
     ]
    }
   ],
   "source": [
    "# get recall, precision, f1-score, and accuracy\n",
    "print(\"Recall: \", recall_score(y_test, y_pred, average='macro'))\n",
    "print(\"Precision: \", precision_score(y_test, y_pred, average='macro'))\n",
    "print(\"F1-score: \", f1_score(y_test, y_pred, average='macro'))\n",
    "print(\"Accuracy: \", accuracy_score(y_test, y_pred))"
   ]
  },
  {
   "cell_type": "markdown",
   "metadata": {},
   "source": [
    "The model has better results overall with 98% accuracy. The number of false negatives has been significantly reduced, but we still have a lot of false positives. We could say this is an improvement from before, as it's generally better for security to have false positives than false negatives."
   ]
  },
  {
   "cell_type": "code",
   "execution_count": 34,
   "metadata": {},
   "outputs": [
    {
     "data": {
      "image/png": "[encoded data removed]",
      "text/plain": [
       "<Figure size 1000x600 with 1 Axes>"
      ]
     },
     "metadata": {},
     "output_type": "display_data"
    }
   ],
   "source": [
    "# feature importance for the network\n",
    "def get_feature_importance(model, X_train, y_train):\n",
    "    # get feature importance\n",
    "    feature_importance = np.zeros(X_train.shape[1])\n",
    "    for i in range(X_train.shape[1]):\n",
    "        X_train_perm = X_train.copy()\n",
    "        np.random.shuffle(X_train_perm[:, i])\n",
    "        feature_importance[i] = model.evaluate(X_train_perm, y_train, verbose=0)[1]\n",
    "    return feature_importance\n",
    "\n",
    "feature_importance = get_feature_importance(model, X_train, y_train)\n",
    "\n",
    "# plot top 25 features\n",
    "topk = 25\n",
    "top_features = np.argsort(feature_importance)[::-1][:topk]\n",
    "plt.figure(figsize=(10, 6))\n",
    "plt.bar(range(topk), feature_importance[top_features])\n",
    "plt.xticks(range(topk), df.columns[top_features], rotation=90)\n",
    "# scale down y-axis\n",
    "plt.ylim(feature_importance.min(), feature_importance.max())\n",
    "plt.show()"
   ]
  },
  {
   "cell_type": "markdown",
   "metadata": {},
   "source": [
    "Many features seems to be as important as the others. This tells us that the model is not overfitting and that the features are all relevant."
   ]
  },
  {
   "cell_type": "markdown",
   "metadata": {},
   "source": [
    "### b. LSTM\n",
    "\n",
    "#### Binary classification"
   ]
  },
  {
   "cell_type": "code",
   "execution_count": 35,
   "metadata": {},
   "outputs": [],
   "source": [
    "X_train, X_test, y_train, y_test = train_test_split(df_physical_prepared, df_physical_labels[[\"new_labels\", \"label_n\"]], test_size=0.2, random_state=random_state)\n",
    "X_train, X_val, y_train, y_val = train_test_split(X_train, y_train, test_size=0.2, random_state=random_state)"
   ]
  },
  {
   "cell_type": "code",
   "execution_count": 36,
   "metadata": {},
   "outputs": [],
   "source": [
    "scaler = StandardScaler()\n",
    "X_train_scaled = scaler.fit_transform(X_train)\n",
    "X_test_scaled = scaler.transform(X_test)\n",
    "X_val_scaled = scaler.transform(X_val)"
   ]
  },
  {
   "cell_type": "markdown",
   "metadata": {},
   "source": [
    "Let's create a PyTorch dataset"
   ]
  },
  {
   "cell_type": "code",
   "execution_count": 37,
   "metadata": {},
   "outputs": [],
   "source": [
    "class HITLDataset(torch.utils.data.Dataset):\n",
    "    def __init__(self, X, y):\n",
    "        self.X = torch.tensor(X).float()\n",
    "        self.y = torch.tensor(y).long()\n",
    "\n",
    "    def __len__(self):\n",
    "        return len(self.X)\n",
    "\n",
    "    def __getitem__(self, idx):\n",
    "        return self.X[idx], self.y[idx]\n",
    "\n",
    "\n",
    "train_dataset = HITLDataset(X_train_scaled, y_train[\"label_n\"].to_numpy())\n",
    "test_dataset = HITLDataset(X_test_scaled, y_test[\"label_n\"].to_numpy())\n",
    "val_dataset = HITLDataset(X_val_scaled, y_val[\"label_n\"].to_numpy())\n",
    "\n",
    "# Create pytorch dataloader\n",
    "train_loader = torch.utils.data.DataLoader(train_dataset, batch_size=32, shuffle=True)\n",
    "test_loader = torch.utils.data.DataLoader(test_dataset, batch_size=32, shuffle=False)\n",
    "val_loader = torch.utils.data.DataLoader(val_dataset, batch_size=32, shuffle=True)"
   ]
  },
  {
   "cell_type": "code",
   "execution_count": 38,
   "metadata": {},
   "outputs": [
    {
     "data": {
      "text/plain": [
       "LSTM(\n",
       "  (lstm): LSTM(41, 32, batch_first=True)\n",
       "  (fc): Linear(in_features=32, out_features=2, bias=True)\n",
       ")"
      ]
     },
     "execution_count": 38,
     "metadata": {},
     "output_type": "execute_result"
    }
   ],
   "source": [
    "class LSTM(nn.Module):\n",
    "    def __init__(self, input_dim, hidden_dim, output_dim):\n",
    "        super().__init__()\n",
    "        self.hidden_dim = hidden_dim\n",
    "        self.lstm = nn.LSTM(input_dim, hidden_dim, batch_first=True)\n",
    "        self.fc = nn.Linear(hidden_dim, output_dim)\n",
    "\n",
    "    def forward(self, x):\n",
    "        out, _ = self.lstm(x)\n",
    "        out = self.fc(out)\n",
    "        return out\n",
    "    \n",
    "input_dim = X_train_scaled.shape[1]\n",
    "output_dim = len(y_train[\"label_n\"].unique())\n",
    "hidden_dim = 32\n",
    "model = LSTM(input_dim, hidden_dim, output_dim)\n",
    "model"
   ]
  },
  {
   "cell_type": "code",
   "execution_count": 39,
   "metadata": {},
   "outputs": [],
   "source": [
    "criterion = nn.CrossEntropyLoss()\n",
    "optimizer = torch.optim.Adam(model.parameters(), lr=0.001)"
   ]
  },
  {
   "cell_type": "code",
   "execution_count": 40,
   "metadata": {},
   "outputs": [],
   "source": [
    "from tqdm import tqdm\n",
    "\n",
    "def train(model, train_loader, val_loader, criterion, optimizer):\n",
    "    model.train()\n",
    "    train_loss = 0\n",
    "    train_acc = 0\n",
    "    val_loss = 0\n",
    "    val_acc = 0\n",
    "    for X, y in tqdm(train_loader, total=len(train_loader)):\n",
    "        optimizer.zero_grad()\n",
    "        y_pred = model(X)\n",
    "        loss = criterion(y_pred, y)\n",
    "        loss.backward()\n",
    "        optimizer.step()\n",
    "        train_loss += loss.item()\n",
    "        train_acc += (y_pred.argmax(1) == y).sum().item()\n",
    "\n",
    "    model.eval()\n",
    "    with torch.no_grad():\n",
    "        for X, y in tqdm(val_loader, total=len(val_loader)):\n",
    "            y_pred = model(X)\n",
    "            loss = criterion(y_pred, y)\n",
    "            val_loss += loss.item()\n",
    "            val_acc += (y_pred.argmax(1) == y).sum().item()\n",
    "    return train_loss / len(train_loader), train_acc / len(train_loader.dataset), val_loss / len(val_loader), val_acc / len(val_loader.dataset)\n",
    "\n",
    "def test(model, test_loader, criterion):\n",
    "    model.eval()\n",
    "    test_loss = 0\n",
    "    test_acc = 0\n",
    "    y_pred_list = []\n",
    "    y_true_list = []\n",
    "    with torch.no_grad():\n",
    "        for X, y in test_loader:\n",
    "            y_pred = model(X)\n",
    "            loss = criterion(y_pred, y)\n",
    "            test_loss += loss.item()\n",
    "            test_acc += (y_pred.argmax(1) == y).sum().item()\n",
    "            y_pred_list.append(y_pred.argmax(1).cpu().numpy())\n",
    "            y_true_list.append(y.cpu().numpy())\n",
    "    return test_loss / len(test_loader), test_acc / len(test_loader.dataset)"
   ]
  },
  {
   "cell_type": "code",
   "execution_count": 41,
   "metadata": {},
   "outputs": [
    {
     "name": "stderr",
     "output_type": "stream",
     "text": [
      "100%|██████████| 185/185 [00:00<00:00, 291.33it/s]\n",
      "100%|██████████| 47/47 [00:00<00:00, 1174.97it/s]\n"
     ]
    },
    {
     "name": "stdout",
     "output_type": "stream",
     "text": [
      "Train loss: 0.4541, Train acc: 0.8348, Val loss: 0.4127, Val acc: 0.8391\n"
     ]
    },
    {
     "name": "stderr",
     "output_type": "stream",
     "text": [
      "100%|██████████| 185/185 [00:00<00:00, 345.79it/s]\n",
      "100%|██████████| 47/47 [00:00<00:00, 1146.34it/s]\n"
     ]
    },
    {
     "name": "stdout",
     "output_type": "stream",
     "text": [
      "Train loss: 0.3802, Train acc: 0.8494, Val loss: 0.3544, Val acc: 0.8473\n"
     ]
    },
    {
     "name": "stderr",
     "output_type": "stream",
     "text": [
      "100%|██████████| 185/185 [00:00<00:00, 443.62it/s]\n",
      "100%|██████████| 47/47 [00:00<00:00, 1342.97it/s]\n"
     ]
    },
    {
     "name": "stdout",
     "output_type": "stream",
     "text": [
      "Train loss: 0.3317, Train acc: 0.8700, Val loss: 0.3201, Val acc: 0.8697\n"
     ]
    },
    {
     "name": "stderr",
     "output_type": "stream",
     "text": [
      "100%|██████████| 185/185 [00:00<00:00, 461.35it/s]\n",
      "100%|██████████| 47/47 [00:00<00:00, 1204.47it/s]\n"
     ]
    },
    {
     "name": "stdout",
     "output_type": "stream",
     "text": [
      "Train loss: 0.2932, Train acc: 0.8824, Val loss: 0.2775, Val acc: 0.8900\n"
     ]
    },
    {
     "name": "stderr",
     "output_type": "stream",
     "text": [
      "100%|██████████| 185/185 [00:00<00:00, 439.41it/s]\n",
      "100%|██████████| 47/47 [00:00<00:00, 1204.66it/s]\n"
     ]
    },
    {
     "name": "stdout",
     "output_type": "stream",
     "text": [
      "Train loss: 0.2689, Train acc: 0.8939, Val loss: 0.2588, Val acc: 0.9002\n"
     ]
    },
    {
     "name": "stderr",
     "output_type": "stream",
     "text": [
      "100%|██████████| 185/185 [00:00<00:00, 443.65it/s]\n",
      "100%|██████████| 47/47 [00:00<00:00, 1174.92it/s]\n"
     ]
    },
    {
     "name": "stdout",
     "output_type": "stream",
     "text": [
      "Train loss: 0.2410, Train acc: 0.9014, Val loss: 0.2376, Val acc: 0.9077\n"
     ]
    },
    {
     "name": "stderr",
     "output_type": "stream",
     "text": [
      "100%|██████████| 185/185 [00:00<00:00, 457.90it/s]\n",
      "100%|██████████| 47/47 [00:00<00:00, 1342.82it/s]\n"
     ]
    },
    {
     "name": "stdout",
     "output_type": "stream",
     "text": [
      "Train loss: 0.2253, Train acc: 0.9077, Val loss: 0.2166, Val acc: 0.9151\n"
     ]
    },
    {
     "name": "stderr",
     "output_type": "stream",
     "text": [
      "100%|██████████| 185/185 [00:00<00:00, 418.07it/s]\n",
      "100%|██████████| 47/47 [00:00<00:00, 921.58it/s]\n"
     ]
    },
    {
     "name": "stdout",
     "output_type": "stream",
     "text": [
      "Train loss: 0.2083, Train acc: 0.9177, Val loss: 0.2033, Val acc: 0.9165\n"
     ]
    },
    {
     "name": "stderr",
     "output_type": "stream",
     "text": [
      "100%|██████████| 185/185 [00:00<00:00, 383.02it/s]\n",
      "100%|██████████| 47/47 [00:00<00:00, 1236.71it/s]\n"
     ]
    },
    {
     "name": "stdout",
     "output_type": "stream",
     "text": [
      "Train loss: 0.1932, Train acc: 0.9211, Val loss: 0.1980, Val acc: 0.9287\n"
     ]
    },
    {
     "name": "stderr",
     "output_type": "stream",
     "text": [
      "100%|██████████| 185/185 [00:00<00:00, 395.29it/s]\n",
      "100%|██████████| 47/47 [00:00<00:00, 1068.06it/s]\n"
     ]
    },
    {
     "name": "stdout",
     "output_type": "stream",
     "text": [
      "Train loss: 0.1833, Train acc: 0.9226, Val loss: 0.1913, Val acc: 0.9328\n"
     ]
    },
    {
     "name": "stderr",
     "output_type": "stream",
     "text": [
      "100%|██████████| 185/185 [00:00<00:00, 336.97it/s]\n",
      "100%|██████████| 47/47 [00:00<00:00, 1146.35it/s]\n"
     ]
    },
    {
     "name": "stdout",
     "output_type": "stream",
     "text": [
      "Train loss: 0.1772, Train acc: 0.9236, Val loss: 0.1706, Val acc: 0.9348\n"
     ]
    },
    {
     "name": "stderr",
     "output_type": "stream",
     "text": [
      "100%|██████████| 185/185 [00:00<00:00, 389.48it/s]\n",
      "100%|██████████| 47/47 [00:00<00:00, 1119.04it/s]\n"
     ]
    },
    {
     "name": "stdout",
     "output_type": "stream",
     "text": [
      "Train loss: 0.1663, Train acc: 0.9318, Val loss: 0.1701, Val acc: 0.9314\n"
     ]
    },
    {
     "name": "stderr",
     "output_type": "stream",
     "text": [
      "100%|██████████| 185/185 [00:00<00:00, 313.55it/s]\n",
      "100%|██████████| 47/47 [00:00<00:00, 999.99it/s]\n"
     ]
    },
    {
     "name": "stdout",
     "output_type": "stream",
     "text": [
      "Train loss: 0.1598, Train acc: 0.9350, Val loss: 0.1619, Val acc: 0.9287\n"
     ]
    },
    {
     "name": "stderr",
     "output_type": "stream",
     "text": [
      "100%|██████████| 185/185 [00:00<00:00, 329.18it/s]\n",
      "100%|██████████| 47/47 [00:00<00:00, 939.94it/s]\n"
     ]
    },
    {
     "name": "stdout",
     "output_type": "stream",
     "text": [
      "Train loss: 0.1546, Train acc: 0.9353, Val loss: 0.1551, Val acc: 0.9335\n"
     ]
    },
    {
     "name": "stderr",
     "output_type": "stream",
     "text": [
      "100%|██████████| 185/185 [00:00<00:00, 310.41it/s]\n",
      "100%|██████████| 47/47 [00:00<00:00, 979.23it/s]\n"
     ]
    },
    {
     "name": "stdout",
     "output_type": "stream",
     "text": [
      "Train loss: 0.1485, Train acc: 0.9386, Val loss: 0.1542, Val acc: 0.9396\n"
     ]
    },
    {
     "name": "stderr",
     "output_type": "stream",
     "text": [
      "100%|██████████| 185/185 [00:00<00:00, 313.03it/s]\n",
      "100%|██████████| 47/47 [00:00<00:00, 783.35it/s]\n"
     ]
    },
    {
     "name": "stdout",
     "output_type": "stream",
     "text": [
      "Train loss: 0.1433, Train acc: 0.9402, Val loss: 0.1463, Val acc: 0.9348\n"
     ]
    },
    {
     "name": "stderr",
     "output_type": "stream",
     "text": [
      "100%|██████████| 185/185 [00:00<00:00, 283.30it/s]\n",
      "100%|██████████| 47/47 [00:00<00:00, 999.97it/s]\n"
     ]
    },
    {
     "name": "stdout",
     "output_type": "stream",
     "text": [
      "Train loss: 0.1402, Train acc: 0.9436, Val loss: 0.1411, Val acc: 0.9450\n"
     ]
    },
    {
     "name": "stderr",
     "output_type": "stream",
     "text": [
      "100%|██████████| 185/185 [00:00<00:00, 308.33it/s]\n",
      "100%|██████████| 47/47 [00:00<00:00, 1000.01it/s]\n"
     ]
    },
    {
     "name": "stdout",
     "output_type": "stream",
     "text": [
      "Train loss: 0.1339, Train acc: 0.9436, Val loss: 0.1385, Val acc: 0.9504\n"
     ]
    },
    {
     "name": "stderr",
     "output_type": "stream",
     "text": [
      "100%|██████████| 185/185 [00:00<00:00, 397.00it/s]\n",
      "100%|██████████| 47/47 [00:00<00:00, 456.22it/s]\n"
     ]
    },
    {
     "name": "stdout",
     "output_type": "stream",
     "text": [
      "Train loss: 0.1343, Train acc: 0.9442, Val loss: 0.1400, Val acc: 0.9396\n"
     ]
    },
    {
     "name": "stderr",
     "output_type": "stream",
     "text": [
      "100%|██████████| 185/185 [00:00<00:00, 287.71it/s]\n",
      "100%|██████████| 47/47 [00:00<00:00, 610.43it/s]\n"
     ]
    },
    {
     "name": "stdout",
     "output_type": "stream",
     "text": [
      "Train loss: 0.1276, Train acc: 0.9470, Val loss: 0.1310, Val acc: 0.9430\n"
     ]
    },
    {
     "name": "stderr",
     "output_type": "stream",
     "text": [
      "100%|██████████| 185/185 [00:00<00:00, 311.45it/s]\n",
      "100%|██████████| 47/47 [00:00<00:00, 921.53it/s]\n"
     ]
    },
    {
     "name": "stdout",
     "output_type": "stream",
     "text": [
      "Train loss: 0.1243, Train acc: 0.9504, Val loss: 0.1337, Val acc: 0.9443\n"
     ]
    },
    {
     "name": "stderr",
     "output_type": "stream",
     "text": [
      "100%|██████████| 185/185 [00:00<00:00, 329.77it/s]\n",
      "100%|██████████| 47/47 [00:00<00:00, 921.59it/s]\n"
     ]
    },
    {
     "name": "stdout",
     "output_type": "stream",
     "text": [
      "Train loss: 0.1209, Train acc: 0.9543, Val loss: 0.1310, Val acc: 0.9437\n"
     ]
    },
    {
     "name": "stderr",
     "output_type": "stream",
     "text": [
      "100%|██████████| 185/185 [00:00<00:00, 316.78it/s]\n",
      "100%|██████████| 47/47 [00:00<00:00, 388.45it/s]\n"
     ]
    },
    {
     "name": "stdout",
     "output_type": "stream",
     "text": [
      "Train loss: 0.1202, Train acc: 0.9518, Val loss: 0.1256, Val acc: 0.9484\n"
     ]
    },
    {
     "name": "stderr",
     "output_type": "stream",
     "text": [
      "100%|██████████| 185/185 [00:00<00:00, 284.17it/s]\n",
      "100%|██████████| 47/47 [00:00<00:00, 979.03it/s]\n"
     ]
    },
    {
     "name": "stdout",
     "output_type": "stream",
     "text": [
      "Train loss: 0.1154, Train acc: 0.9548, Val loss: 0.1267, Val acc: 0.9443\n"
     ]
    },
    {
     "name": "stderr",
     "output_type": "stream",
     "text": [
      "100%|██████████| 185/185 [00:00<00:00, 341.24it/s]\n",
      "100%|██████████| 47/47 [00:00<00:00, 1044.43it/s]\n"
     ]
    },
    {
     "name": "stdout",
     "output_type": "stream",
     "text": [
      "Train loss: 0.1157, Train acc: 0.9537, Val loss: 0.1244, Val acc: 0.9470\n"
     ]
    },
    {
     "name": "stderr",
     "output_type": "stream",
     "text": [
      "100%|██████████| 185/185 [00:00<00:00, 325.71it/s]\n",
      "100%|██████████| 47/47 [00:00<00:00, 1119.17it/s]\n"
     ]
    },
    {
     "name": "stdout",
     "output_type": "stream",
     "text": [
      "Train loss: 0.1132, Train acc: 0.9533, Val loss: 0.1185, Val acc: 0.9532\n"
     ]
    },
    {
     "name": "stderr",
     "output_type": "stream",
     "text": [
      "100%|██████████| 185/185 [00:00<00:00, 431.23it/s]\n",
      "100%|██████████| 47/47 [00:00<00:00, 1174.95it/s]\n"
     ]
    },
    {
     "name": "stdout",
     "output_type": "stream",
     "text": [
      "Train loss: 0.1108, Train acc: 0.9559, Val loss: 0.1262, Val acc: 0.9566\n"
     ]
    },
    {
     "name": "stderr",
     "output_type": "stream",
     "text": [
      "100%|██████████| 185/185 [00:00<00:00, 425.29it/s]\n",
      "100%|██████████| 47/47 [00:00<00:00, 1068.23it/s]\n"
     ]
    },
    {
     "name": "stdout",
     "output_type": "stream",
     "text": [
      "Train loss: 0.1067, Train acc: 0.9615, Val loss: 0.1205, Val acc: 0.9572\n"
     ]
    },
    {
     "name": "stderr",
     "output_type": "stream",
     "text": [
      "100%|██████████| 185/185 [00:00<00:00, 446.86it/s]\n",
      "100%|██████████| 47/47 [00:00<00:00, 1205.90it/s]\n"
     ]
    },
    {
     "name": "stdout",
     "output_type": "stream",
     "text": [
      "Train loss: 0.1078, Train acc: 0.9548, Val loss: 0.1191, Val acc: 0.9545\n"
     ]
    },
    {
     "name": "stderr",
     "output_type": "stream",
     "text": [
      "100%|██████████| 185/185 [00:00<00:00, 425.29it/s]\n",
      "100%|██████████| 47/47 [00:00<00:00, 1067.95it/s]\n"
     ]
    },
    {
     "name": "stdout",
     "output_type": "stream",
     "text": [
      "Train loss: 0.1046, Train acc: 0.9603, Val loss: 0.1253, Val acc: 0.9504\n"
     ]
    },
    {
     "name": "stderr",
     "output_type": "stream",
     "text": [
      "100%|██████████| 185/185 [00:00<00:00, 406.56it/s]\n",
      "100%|██████████| 47/47 [00:00<00:00, 1305.56it/s]\n"
     ]
    },
    {
     "name": "stdout",
     "output_type": "stream",
     "text": [
      "Train loss: 0.1015, Train acc: 0.9591, Val loss: 0.1143, Val acc: 0.9457\n"
     ]
    },
    {
     "name": "stderr",
     "output_type": "stream",
     "text": [
      "100%|██████████| 185/185 [00:00<00:00, 434.27it/s]\n",
      "100%|██████████| 47/47 [00:00<00:00, 1236.21it/s]\n"
     ]
    },
    {
     "name": "stdout",
     "output_type": "stream",
     "text": [
      "Train loss: 0.1014, Train acc: 0.9594, Val loss: 0.1148, Val acc: 0.9498\n"
     ]
    },
    {
     "name": "stderr",
     "output_type": "stream",
     "text": [
      "100%|██████████| 185/185 [00:00<00:00, 308.11it/s]\n",
      "100%|██████████| 47/47 [00:00<00:00, 1068.12it/s]\n"
     ]
    },
    {
     "name": "stdout",
     "output_type": "stream",
     "text": [
      "Train loss: 0.0990, Train acc: 0.9616, Val loss: 0.1097, Val acc: 0.9525\n"
     ]
    },
    {
     "name": "stderr",
     "output_type": "stream",
     "text": [
      "100%|██████████| 185/185 [00:00<00:00, 401.30it/s]\n",
      "100%|██████████| 47/47 [00:00<00:00, 1342.83it/s]\n"
     ]
    },
    {
     "name": "stdout",
     "output_type": "stream",
     "text": [
      "Train loss: 0.0996, Train acc: 0.9608, Val loss: 0.1102, Val acc: 0.9559\n"
     ]
    },
    {
     "name": "stderr",
     "output_type": "stream",
     "text": [
      "100%|██████████| 185/185 [00:00<00:00, 410.20it/s]\n",
      "100%|██████████| 47/47 [00:00<00:00, 1236.82it/s]\n"
     ]
    },
    {
     "name": "stdout",
     "output_type": "stream",
     "text": [
      "Train loss: 0.0974, Train acc: 0.9621, Val loss: 0.1089, Val acc: 0.9586\n"
     ]
    },
    {
     "name": "stderr",
     "output_type": "stream",
     "text": [
      "100%|██████████| 185/185 [00:00<00:00, 452.32it/s]\n",
      "100%|██████████| 47/47 [00:00<00:00, 1236.71it/s]\n"
     ]
    },
    {
     "name": "stdout",
     "output_type": "stream",
     "text": [
      "Train loss: 0.0955, Train acc: 0.9642, Val loss: 0.1082, Val acc: 0.9566\n"
     ]
    },
    {
     "name": "stderr",
     "output_type": "stream",
     "text": [
      "100%|██████████| 185/185 [00:00<00:00, 434.27it/s]\n",
      "100%|██████████| 47/47 [00:00<00:00, 824.59it/s]\n"
     ]
    },
    {
     "name": "stdout",
     "output_type": "stream",
     "text": [
      "Train loss: 0.0955, Train acc: 0.9650, Val loss: 0.1076, Val acc: 0.9532\n"
     ]
    },
    {
     "name": "stderr",
     "output_type": "stream",
     "text": [
      "100%|██████████| 185/185 [00:00<00:00, 383.01it/s]\n",
      "100%|██████████| 47/47 [00:00<00:00, 1174.59it/s]\n"
     ]
    },
    {
     "name": "stdout",
     "output_type": "stream",
     "text": [
      "Train loss: 0.0906, Train acc: 0.9657, Val loss: 0.1061, Val acc: 0.9593\n"
     ]
    },
    {
     "name": "stderr",
     "output_type": "stream",
     "text": [
      "100%|██████████| 185/185 [00:00<00:00, 429.23it/s]\n",
      "100%|██████████| 47/47 [00:00<00:00, 1092.97it/s]\n"
     ]
    },
    {
     "name": "stdout",
     "output_type": "stream",
     "text": [
      "Train loss: 0.0959, Train acc: 0.9647, Val loss: 0.1074, Val acc: 0.9518\n"
     ]
    },
    {
     "name": "stderr",
     "output_type": "stream",
     "text": [
      "100%|██████████| 185/185 [00:00<00:00, 429.22it/s]\n",
      "100%|██████████| 47/47 [00:00<00:00, 1174.97it/s]\n"
     ]
    },
    {
     "name": "stdout",
     "output_type": "stream",
     "text": [
      "Train loss: 0.0933, Train acc: 0.9640, Val loss: 0.1058, Val acc: 0.9538\n"
     ]
    },
    {
     "name": "stderr",
     "output_type": "stream",
     "text": [
      "100%|██████████| 185/185 [00:00<00:00, 435.29it/s]\n",
      "100%|██████████| 47/47 [00:00<00:00, 1175.04it/s]\n"
     ]
    },
    {
     "name": "stdout",
     "output_type": "stream",
     "text": [
      "Train loss: 0.0901, Train acc: 0.9644, Val loss: 0.1004, Val acc: 0.9586\n"
     ]
    },
    {
     "name": "stderr",
     "output_type": "stream",
     "text": [
      "100%|██████████| 185/185 [00:00<00:00, 445.78it/s]\n",
      "100%|██████████| 47/47 [00:00<00:00, 1305.53it/s]\n"
     ]
    },
    {
     "name": "stdout",
     "output_type": "stream",
     "text": [
      "Train loss: 0.0888, Train acc: 0.9657, Val loss: 0.1643, Val acc: 0.9566\n"
     ]
    },
    {
     "name": "stderr",
     "output_type": "stream",
     "text": [
      "100%|██████████| 185/185 [00:00<00:00, 443.64it/s]\n",
      "100%|██████████| 47/47 [00:00<00:00, 1119.09it/s]\n"
     ]
    },
    {
     "name": "stdout",
     "output_type": "stream",
     "text": [
      "Train loss: 0.0871, Train acc: 0.9662, Val loss: 0.0976, Val acc: 0.9620\n"
     ]
    },
    {
     "name": "stderr",
     "output_type": "stream",
     "text": [
      "100%|██████████| 185/185 [00:00<00:00, 436.32it/s]\n",
      "100%|██████████| 47/47 [00:00<00:00, 1236.82it/s]\n"
     ]
    },
    {
     "name": "stdout",
     "output_type": "stream",
     "text": [
      "Train loss: 0.0863, Train acc: 0.9683, Val loss: 0.1018, Val acc: 0.9593\n"
     ]
    },
    {
     "name": "stderr",
     "output_type": "stream",
     "text": [
      "100%|██████████| 185/185 [00:00<00:00, 433.25it/s]\n",
      "100%|██████████| 47/47 [00:00<00:00, 1305.07it/s]\n"
     ]
    },
    {
     "name": "stdout",
     "output_type": "stream",
     "text": [
      "Train loss: 0.0849, Train acc: 0.9672, Val loss: 0.0986, Val acc: 0.9613\n"
     ]
    },
    {
     "name": "stderr",
     "output_type": "stream",
     "text": [
      "100%|██████████| 185/185 [00:00<00:00, 443.65it/s]\n",
      "100%|██████████| 47/47 [00:00<00:00, 1205.11it/s]\n"
     ]
    },
    {
     "name": "stdout",
     "output_type": "stream",
     "text": [
      "Train loss: 0.0850, Train acc: 0.9688, Val loss: 0.1036, Val acc: 0.9586\n"
     ]
    },
    {
     "name": "stderr",
     "output_type": "stream",
     "text": [
      "100%|██████████| 185/185 [00:00<00:00, 408.39it/s]\n",
      "100%|██████████| 47/47 [00:00<00:00, 1204.97it/s]\n"
     ]
    },
    {
     "name": "stdout",
     "output_type": "stream",
     "text": [
      "Train loss: 0.0835, Train acc: 0.9662, Val loss: 0.1011, Val acc: 0.9593\n"
     ]
    },
    {
     "name": "stderr",
     "output_type": "stream",
     "text": [
      "100%|██████████| 185/185 [00:00<00:00, 445.78it/s]\n",
      "100%|██████████| 47/47 [00:00<00:00, 1304.74it/s]\n"
     ]
    },
    {
     "name": "stdout",
     "output_type": "stream",
     "text": [
      "Train loss: 0.0859, Train acc: 0.9674, Val loss: 0.0973, Val acc: 0.9593\n"
     ]
    },
    {
     "name": "stderr",
     "output_type": "stream",
     "text": [
      "100%|██████████| 185/185 [00:00<00:00, 444.71it/s]\n",
      "100%|██████████| 47/47 [00:00<00:00, 1146.30it/s]\n"
     ]
    },
    {
     "name": "stdout",
     "output_type": "stream",
     "text": [
      "Train loss: 0.0852, Train acc: 0.9666, Val loss: 0.1018, Val acc: 0.9606\n"
     ]
    },
    {
     "name": "stderr",
     "output_type": "stream",
     "text": [
      "100%|██████████| 185/185 [00:00<00:00, 457.92it/s]\n",
      "100%|██████████| 47/47 [00:00<00:00, 1270.82it/s]\n"
     ]
    },
    {
     "name": "stdout",
     "output_type": "stream",
     "text": [
      "Train loss: 0.0815, Train acc: 0.9700, Val loss: 0.0960, Val acc: 0.9647\n"
     ]
    },
    {
     "data": {
      "image/png": "[encoded data removed]",
      "text/plain": [
       "<Figure size 640x480 with 1 Axes>"
      ]
     },
     "metadata": {},
     "output_type": "display_data"
    }
   ],
   "source": [
    "EPOCHS = 50\n",
    "train_loss_list = []\n",
    "train_acc_list = []\n",
    "val_loss_list = []\n",
    "val_acc_list = []\n",
    "\n",
    "for _ in range(EPOCHS):\n",
    "    train_loss, train_acc, val_loss, val_acc = train(model, train_loader, val_loader, criterion, optimizer)\n",
    "    train_loss_list.append(train_loss)\n",
    "    train_acc_list.append(train_acc)\n",
    "    val_loss_list.append(val_loss)\n",
    "    val_acc_list.append(val_acc)\n",
    "    print(f\"Train loss: {train_loss:.4f}, Train acc: {train_acc:.4f}, Val loss: {val_loss:.4f}, Val acc: {val_acc:.4f}\")\n",
    "\n",
    "# Plot train loss and accuracy\n",
    "plt.plot(train_acc_list, label=\"train acc\")\n",
    "plt.plot(val_acc_list, label=\"val acc\")\n",
    "plt.legend()\n",
    "plt.show()"
   ]
  },
  {
   "cell_type": "code",
   "execution_count": 42,
   "metadata": {},
   "outputs": [
    {
     "name": "stdout",
     "output_type": "stream",
     "text": [
      "Test loss: 0.0927, Test acc: 0.9647\n"
     ]
    }
   ],
   "source": [
    "test_loss, test_acc = test(model, test_loader, criterion)\n",
    "print(f\"Test loss: {test_loss:.4f}, Test acc: {test_acc:.4f}\")"
   ]
  },
  {
   "cell_type": "code",
   "execution_count": 43,
   "metadata": {},
   "outputs": [
    {
     "data": {
      "image/png": "[encoded data removed]",
      "text/plain": [
       "<Figure size 600x600 with 2 Axes>"
      ]
     },
     "metadata": {},
     "output_type": "display_data"
    }
   ],
   "source": [
    "# Predict on test set\n",
    "y_pred_list = []\n",
    "y_true_list = []\n",
    "with torch.no_grad():\n",
    "    for X, y in test_loader:\n",
    "        y_pred = model(X)\n",
    "        y_pred_list.append(y_pred.argmax(1).cpu().numpy())\n",
    "        y_true_list.append(y.cpu().numpy())\n",
    "\n",
    "y_pred = np.concatenate(y_pred_list)\n",
    "y_true = np.concatenate(y_true_list)\n",
    "\n",
    "# Plot confusion matrix\n",
    "plot_confusion_matrix(y_true, y_pred, title=\"Confusion matrix for the test set\")"
   ]
  },
  {
   "cell_type": "markdown",
   "metadata": {},
   "source": [
    "The binary class LSTM has a lot of false negatives, just like the DNN, let's see if the multiclass LSTM can do better."
   ]
  },
  {
   "cell_type": "markdown",
   "metadata": {},
   "source": [
    "#### Multiclass classification"
   ]
  },
  {
   "cell_type": "code",
   "execution_count": 44,
   "metadata": {},
   "outputs": [],
   "source": [
    "train_dataset = HITLDataset(X_train_scaled, y_train[\"new_labels\"].to_numpy())\n",
    "test_dataset = HITLDataset(X_test_scaled, y_test[\"new_labels\"].to_numpy())\n",
    "val_dataset = HITLDataset(X_val_scaled, y_val[\"new_labels\"].to_numpy())\n",
    "\n",
    "train_loader = torch.utils.data.DataLoader(train_dataset, batch_size=32, shuffle=True)\n",
    "test_loader = torch.utils.data.DataLoader(test_dataset, batch_size=32, shuffle=False)\n",
    "val_loader = torch.utils.data.DataLoader(val_dataset, batch_size=32, shuffle=True)"
   ]
  },
  {
   "cell_type": "code",
   "execution_count": 45,
   "metadata": {},
   "outputs": [],
   "source": [
    "input_dim = X_train_scaled.shape[1]\n",
    "output_dim = len(y_train[\"new_labels\"].unique())\n",
    "hidden_dim = 32\n",
    "model = LSTM(input_dim, hidden_dim, output_dim)\n",
    "\n",
    "# Define loss function and optimizer\n",
    "criterion = nn.CrossEntropyLoss()\n",
    "optimizer = torch.optim.Adam(model.parameters(), lr=0.001)"
   ]
  },
  {
   "cell_type": "code",
   "execution_count": 46,
   "metadata": {},
   "outputs": [
    {
     "name": "stderr",
     "output_type": "stream",
     "text": [
      "100%|██████████| 185/185 [00:00<00:00, 379.48it/s]\n",
      "100%|██████████| 47/47 [00:00<00:00, 1342.39it/s]\n"
     ]
    },
    {
     "name": "stdout",
     "output_type": "stream",
     "text": [
      "Train loss: 0.8677, Train acc: 0.7449, Val loss: 0.6449, Val acc: 0.8384\n"
     ]
    },
    {
     "name": "stderr",
     "output_type": "stream",
     "text": [
      "100%|██████████| 185/185 [00:00<00:00, 417.55it/s]\n",
      "100%|██████████| 47/47 [00:00<00:00, 1270.27it/s]\n"
     ]
    },
    {
     "name": "stdout",
     "output_type": "stream",
     "text": [
      "Train loss: 0.5596, Train acc: 0.8474, Val loss: 0.5522, Val acc: 0.8384\n"
     ]
    },
    {
     "name": "stderr",
     "output_type": "stream",
     "text": [
      "100%|██████████| 185/185 [00:00<00:00, 447.94it/s]\n",
      "100%|██████████| 47/47 [00:00<00:00, 1305.51it/s]\n"
     ]
    },
    {
     "name": "stdout",
     "output_type": "stream",
     "text": [
      "Train loss: 0.5080, Train acc: 0.8471, Val loss: 0.4942, Val acc: 0.8405\n"
     ]
    },
    {
     "name": "stderr",
     "output_type": "stream",
     "text": [
      "100%|██████████| 185/185 [00:00<00:00, 454.54it/s]\n",
      "100%|██████████| 47/47 [00:00<00:00, 1205.07it/s]\n"
     ]
    },
    {
     "name": "stdout",
     "output_type": "stream",
     "text": [
      "Train loss: 0.4663, Train acc: 0.8508, Val loss: 0.4587, Val acc: 0.8486\n"
     ]
    },
    {
     "name": "stderr",
     "output_type": "stream",
     "text": [
      "100%|██████████| 185/185 [00:00<00:00, 397.85it/s]\n",
      "100%|██████████| 47/47 [00:00<00:00, 1381.78it/s]\n"
     ]
    },
    {
     "name": "stdout",
     "output_type": "stream",
     "text": [
      "Train loss: 0.4298, Train acc: 0.8576, Val loss: 0.4252, Val acc: 0.8527\n"
     ]
    },
    {
     "name": "stderr",
     "output_type": "stream",
     "text": [
      "100%|██████████| 185/185 [00:00<00:00, 456.79it/s]\n",
      "100%|██████████| 47/47 [00:00<00:00, 1236.82it/s]\n"
     ]
    },
    {
     "name": "stdout",
     "output_type": "stream",
     "text": [
      "Train loss: 0.4048, Train acc: 0.8673, Val loss: 0.4047, Val acc: 0.8697\n"
     ]
    },
    {
     "name": "stderr",
     "output_type": "stream",
     "text": [
      "100%|██████████| 185/185 [00:00<00:00, 464.78it/s]\n",
      "100%|██████████| 47/47 [00:00<00:00, 1342.68it/s]\n"
     ]
    },
    {
     "name": "stdout",
     "output_type": "stream",
     "text": [
      "Train loss: 0.3836, Train acc: 0.8769, Val loss: 0.4131, Val acc: 0.8710\n"
     ]
    },
    {
     "name": "stderr",
     "output_type": "stream",
     "text": [
      "100%|██████████| 185/185 [00:00<00:00, 463.67it/s]\n",
      "100%|██████████| 47/47 [00:00<00:00, 1270.22it/s]\n"
     ]
    },
    {
     "name": "stdout",
     "output_type": "stream",
     "text": [
      "Train loss: 0.3600, Train acc: 0.8781, Val loss: 0.3666, Val acc: 0.8771\n"
     ]
    },
    {
     "name": "stderr",
     "output_type": "stream",
     "text": [
      "100%|██████████| 185/185 [00:00<00:00, 460.76it/s]\n",
      "100%|██████████| 47/47 [00:00<00:00, 1424.28it/s]\n"
     ]
    },
    {
     "name": "stdout",
     "output_type": "stream",
     "text": [
      "Train loss: 0.3469, Train acc: 0.8805, Val loss: 0.3447, Val acc: 0.8873\n"
     ]
    },
    {
     "name": "stderr",
     "output_type": "stream",
     "text": [
      "100%|██████████| 185/185 [00:00<00:00, 442.59it/s]\n",
      "100%|██████████| 47/47 [00:00<00:00, 894.00it/s]\n"
     ]
    },
    {
     "name": "stdout",
     "output_type": "stream",
     "text": [
      "Train loss: 0.3247, Train acc: 0.8858, Val loss: 0.3252, Val acc: 0.8873\n"
     ]
    },
    {
     "name": "stderr",
     "output_type": "stream",
     "text": [
      "100%|██████████| 185/185 [00:00<00:00, 403.05it/s]\n",
      "100%|██████████| 47/47 [00:00<00:00, 1236.80it/s]\n"
     ]
    },
    {
     "name": "stdout",
     "output_type": "stream",
     "text": [
      "Train loss: 0.3116, Train acc: 0.8863, Val loss: 0.3383, Val acc: 0.8887\n"
     ]
    },
    {
     "name": "stderr",
     "output_type": "stream",
     "text": [
      "100%|██████████| 185/185 [00:00<00:00, 438.39it/s]\n",
      "100%|██████████| 47/47 [00:00<00:00, 1342.84it/s]\n"
     ]
    },
    {
     "name": "stdout",
     "output_type": "stream",
     "text": [
      "Train loss: 0.3001, Train acc: 0.8890, Val loss: 0.2954, Val acc: 0.9002\n"
     ]
    },
    {
     "name": "stderr",
     "output_type": "stream",
     "text": [
      "100%|██████████| 185/185 [00:00<00:00, 433.25it/s]\n",
      "100%|██████████| 47/47 [00:00<00:00, 1270.27it/s]\n"
     ]
    },
    {
     "name": "stdout",
     "output_type": "stream",
     "text": [
      "Train loss: 0.2820, Train acc: 0.8932, Val loss: 0.2968, Val acc: 0.8934\n"
     ]
    },
    {
     "name": "stderr",
     "output_type": "stream",
     "text": [
      "100%|██████████| 185/185 [00:00<00:00, 379.88it/s]\n",
      "100%|██████████| 47/47 [00:00<00:00, 1119.66it/s]\n"
     ]
    },
    {
     "name": "stdout",
     "output_type": "stream",
     "text": [
      "Train loss: 0.2701, Train acc: 0.8975, Val loss: 0.2680, Val acc: 0.9077\n"
     ]
    },
    {
     "name": "stderr",
     "output_type": "stream",
     "text": [
      "100%|██████████| 185/185 [00:00<00:00, 310.40it/s]\n",
      "100%|██████████| 47/47 [00:00<00:00, 939.98it/s]\n"
     ]
    },
    {
     "name": "stdout",
     "output_type": "stream",
     "text": [
      "Train loss: 0.2568, Train acc: 0.9054, Val loss: 0.2623, Val acc: 0.9050\n"
     ]
    },
    {
     "name": "stderr",
     "output_type": "stream",
     "text": [
      "100%|██████████| 185/185 [00:00<00:00, 333.93it/s]\n",
      "100%|██████████| 47/47 [00:00<00:00, 691.20it/s]\n"
     ]
    },
    {
     "name": "stdout",
     "output_type": "stream",
     "text": [
      "Train loss: 0.2537, Train acc: 0.9070, Val loss: 0.2584, Val acc: 0.9145\n"
     ]
    },
    {
     "name": "stderr",
     "output_type": "stream",
     "text": [
      "100%|██████████| 185/185 [00:00<00:00, 373.74it/s]\n",
      "100%|██████████| 47/47 [00:00<00:00, 1119.04it/s]\n"
     ]
    },
    {
     "name": "stdout",
     "output_type": "stream",
     "text": [
      "Train loss: 0.2388, Train acc: 0.9116, Val loss: 0.2404, Val acc: 0.9117\n"
     ]
    },
    {
     "name": "stderr",
     "output_type": "stream",
     "text": [
      "100%|██████████| 185/185 [00:00<00:00, 278.20it/s]\n",
      "100%|██████████| 47/47 [00:00<00:00, 722.89it/s]\n"
     ]
    },
    {
     "name": "stdout",
     "output_type": "stream",
     "text": [
      "Train loss: 0.2287, Train acc: 0.9173, Val loss: 0.2319, Val acc: 0.9165\n"
     ]
    },
    {
     "name": "stderr",
     "output_type": "stream",
     "text": [
      "100%|██████████| 185/185 [00:00<00:00, 286.82it/s]\n",
      "100%|██████████| 47/47 [00:00<00:00, 921.60it/s]\n"
     ]
    },
    {
     "name": "stdout",
     "output_type": "stream",
     "text": [
      "Train loss: 0.2205, Train acc: 0.9197, Val loss: 0.2254, Val acc: 0.9226\n"
     ]
    },
    {
     "name": "stderr",
     "output_type": "stream",
     "text": [
      "100%|██████████| 185/185 [00:00<00:00, 318.36it/s]\n",
      "100%|██████████| 47/47 [00:00<00:00, 691.15it/s]\n"
     ]
    },
    {
     "name": "stdout",
     "output_type": "stream",
     "text": [
      "Train loss: 0.2113, Train acc: 0.9236, Val loss: 0.2393, Val acc: 0.9185\n"
     ]
    },
    {
     "name": "stderr",
     "output_type": "stream",
     "text": [
      "100%|██████████| 185/185 [00:00<00:00, 225.89it/s]\n",
      "100%|██████████| 47/47 [00:00<00:00, 701.47it/s]\n"
     ]
    },
    {
     "name": "stdout",
     "output_type": "stream",
     "text": [
      "Train loss: 0.2037, Train acc: 0.9243, Val loss: 0.2056, Val acc: 0.9246\n"
     ]
    },
    {
     "name": "stderr",
     "output_type": "stream",
     "text": [
      "100%|██████████| 185/185 [00:00<00:00, 230.67it/s]\n",
      "100%|██████████| 47/47 [00:00<00:00, 758.05it/s]\n"
     ]
    },
    {
     "name": "stdout",
     "output_type": "stream",
     "text": [
      "Train loss: 0.1964, Train acc: 0.9280, Val loss: 0.1998, Val acc: 0.9314\n"
     ]
    },
    {
     "name": "stderr",
     "output_type": "stream",
     "text": [
      "100%|██████████| 185/185 [00:01<00:00, 166.79it/s]\n",
      "100%|██████████| 47/47 [00:00<00:00, 770.35it/s]\n"
     ]
    },
    {
     "name": "stdout",
     "output_type": "stream",
     "text": [
      "Train loss: 0.1897, Train acc: 0.9314, Val loss: 0.1926, Val acc: 0.9328\n"
     ]
    },
    {
     "name": "stderr",
     "output_type": "stream",
     "text": [
      "100%|██████████| 185/185 [00:00<00:00, 279.79it/s]\n",
      "100%|██████████| 47/47 [00:00<00:00, 379.03it/s]\n"
     ]
    },
    {
     "name": "stdout",
     "output_type": "stream",
     "text": [
      "Train loss: 0.1834, Train acc: 0.9346, Val loss: 0.1838, Val acc: 0.9409\n"
     ]
    },
    {
     "name": "stderr",
     "output_type": "stream",
     "text": [
      "100%|██████████| 185/185 [00:00<00:00, 196.79it/s]\n",
      "100%|██████████| 47/47 [00:00<00:00, 1236.86it/s]\n"
     ]
    },
    {
     "name": "stdout",
     "output_type": "stream",
     "text": [
      "Train loss: 0.1758, Train acc: 0.9357, Val loss: 0.1795, Val acc: 0.9375\n"
     ]
    },
    {
     "name": "stderr",
     "output_type": "stream",
     "text": [
      "100%|██████████| 185/185 [00:00<00:00, 222.28it/s]\n",
      "100%|██████████| 47/47 [00:00<00:00, 626.77it/s]\n"
     ]
    },
    {
     "name": "stdout",
     "output_type": "stream",
     "text": [
      "Train loss: 0.1702, Train acc: 0.9392, Val loss: 0.1725, Val acc: 0.9375\n"
     ]
    },
    {
     "name": "stderr",
     "output_type": "stream",
     "text": [
      "100%|██████████| 185/185 [00:00<00:00, 185.37it/s]\n",
      "100%|██████████| 47/47 [00:00<00:00, 602.57it/s]\n"
     ]
    },
    {
     "name": "stdout",
     "output_type": "stream",
     "text": [
      "Train loss: 0.1705, Train acc: 0.9399, Val loss: 0.1743, Val acc: 0.9450\n"
     ]
    },
    {
     "name": "stderr",
     "output_type": "stream",
     "text": [
      "100%|██████████| 185/185 [00:00<00:00, 257.39it/s]\n",
      "100%|██████████| 47/47 [00:00<00:00, 824.53it/s]\n"
     ]
    },
    {
     "name": "stdout",
     "output_type": "stream",
     "text": [
      "Train loss: 0.1630, Train acc: 0.9416, Val loss: 0.1617, Val acc: 0.9477\n"
     ]
    },
    {
     "name": "stderr",
     "output_type": "stream",
     "text": [
      "100%|██████████| 185/185 [00:00<00:00, 252.56it/s]\n",
      "100%|██████████| 47/47 [00:00<00:00, 903.92it/s]\n"
     ]
    },
    {
     "name": "stdout",
     "output_type": "stream",
     "text": [
      "Train loss: 0.1551, Train acc: 0.9435, Val loss: 0.1642, Val acc: 0.9464\n"
     ]
    },
    {
     "name": "stderr",
     "output_type": "stream",
     "text": [
      "100%|██████████| 185/185 [00:00<00:00, 247.32it/s]\n",
      "100%|██████████| 47/47 [00:00<00:00, 1137.32it/s]\n"
     ]
    },
    {
     "name": "stdout",
     "output_type": "stream",
     "text": [
      "Train loss: 0.1508, Train acc: 0.9457, Val loss: 0.1555, Val acc: 0.9437\n"
     ]
    },
    {
     "name": "stderr",
     "output_type": "stream",
     "text": [
      "100%|██████████| 185/185 [00:00<00:00, 434.03it/s]\n",
      "100%|██████████| 47/47 [00:00<00:00, 1419.56it/s]\n"
     ]
    },
    {
     "name": "stdout",
     "output_type": "stream",
     "text": [
      "Train loss: 0.1493, Train acc: 0.9443, Val loss: 0.1513, Val acc: 0.9470\n"
     ]
    },
    {
     "name": "stderr",
     "output_type": "stream",
     "text": [
      "100%|██████████| 185/185 [00:00<00:00, 440.98it/s]\n",
      "100%|██████████| 47/47 [00:00<00:00, 973.44it/s]\n"
     ]
    },
    {
     "name": "stdout",
     "output_type": "stream",
     "text": [
      "Train loss: 0.1421, Train acc: 0.9481, Val loss: 0.1499, Val acc: 0.9518\n"
     ]
    },
    {
     "name": "stderr",
     "output_type": "stream",
     "text": [
      "100%|██████████| 185/185 [00:00<00:00, 416.88it/s]\n",
      "100%|██████████| 47/47 [00:00<00:00, 1236.85it/s]\n"
     ]
    },
    {
     "name": "stdout",
     "output_type": "stream",
     "text": [
      "Train loss: 0.1424, Train acc: 0.9462, Val loss: 0.1460, Val acc: 0.9518\n"
     ]
    },
    {
     "name": "stderr",
     "output_type": "stream",
     "text": [
      "100%|██████████| 185/185 [00:00<00:00, 412.37it/s]\n",
      "100%|██████████| 47/47 [00:00<00:00, 1149.89it/s]\n"
     ]
    },
    {
     "name": "stdout",
     "output_type": "stream",
     "text": [
      "Train loss: 0.1377, Train acc: 0.9484, Val loss: 0.1448, Val acc: 0.9491\n"
     ]
    },
    {
     "name": "stderr",
     "output_type": "stream",
     "text": [
      "100%|██████████| 185/185 [00:00<00:00, 411.45it/s]\n",
      "100%|██████████| 47/47 [00:00<00:00, 1205.19it/s]\n"
     ]
    },
    {
     "name": "stdout",
     "output_type": "stream",
     "text": [
      "Train loss: 0.1356, Train acc: 0.9489, Val loss: 0.1407, Val acc: 0.9532\n"
     ]
    },
    {
     "name": "stderr",
     "output_type": "stream",
     "text": [
      "100%|██████████| 185/185 [00:00<00:00, 397.40it/s]\n",
      "100%|██████████| 47/47 [00:00<00:00, 1192.88it/s]\n"
     ]
    },
    {
     "name": "stdout",
     "output_type": "stream",
     "text": [
      "Train loss: 0.1322, Train acc: 0.9491, Val loss: 0.1339, Val acc: 0.9477\n"
     ]
    },
    {
     "name": "stderr",
     "output_type": "stream",
     "text": [
      "100%|██████████| 185/185 [00:00<00:00, 422.54it/s]\n",
      "100%|██████████| 47/47 [00:00<00:00, 1256.52it/s]\n"
     ]
    },
    {
     "name": "stdout",
     "output_type": "stream",
     "text": [
      "Train loss: 0.1315, Train acc: 0.9492, Val loss: 0.1331, Val acc: 0.9566\n"
     ]
    },
    {
     "name": "stderr",
     "output_type": "stream",
     "text": [
      "100%|██████████| 185/185 [00:00<00:00, 369.98it/s]\n",
      "100%|██████████| 47/47 [00:00<00:00, 1021.68it/s]\n"
     ]
    },
    {
     "name": "stdout",
     "output_type": "stream",
     "text": [
      "Train loss: 0.1263, Train acc: 0.9526, Val loss: 0.1375, Val acc: 0.9450\n"
     ]
    },
    {
     "name": "stderr",
     "output_type": "stream",
     "text": [
      "100%|██████████| 185/185 [00:00<00:00, 364.44it/s]\n",
      "100%|██████████| 47/47 [00:00<00:00, 1059.45it/s]\n"
     ]
    },
    {
     "name": "stdout",
     "output_type": "stream",
     "text": [
      "Train loss: 0.1227, Train acc: 0.9548, Val loss: 0.1461, Val acc: 0.9525\n"
     ]
    },
    {
     "name": "stderr",
     "output_type": "stream",
     "text": [
      "100%|██████████| 185/185 [00:00<00:00, 420.53it/s]\n",
      "100%|██████████| 47/47 [00:00<00:00, 807.36it/s]\n"
     ]
    },
    {
     "name": "stdout",
     "output_type": "stream",
     "text": [
      "Train loss: 0.1237, Train acc: 0.9503, Val loss: 0.1287, Val acc: 0.9532\n"
     ]
    },
    {
     "name": "stderr",
     "output_type": "stream",
     "text": [
      "100%|██████████| 185/185 [00:00<00:00, 399.65it/s]\n",
      "100%|██████████| 47/47 [00:00<00:00, 1089.74it/s]\n"
     ]
    },
    {
     "name": "stdout",
     "output_type": "stream",
     "text": [
      "Train loss: 0.1172, Train acc: 0.9557, Val loss: 0.1268, Val acc: 0.9532\n"
     ]
    },
    {
     "name": "stderr",
     "output_type": "stream",
     "text": [
      "100%|██████████| 185/185 [00:00<00:00, 394.85it/s]\n",
      "100%|██████████| 47/47 [00:00<00:00, 1059.35it/s]\n"
     ]
    },
    {
     "name": "stdout",
     "output_type": "stream",
     "text": [
      "Train loss: 0.1163, Train acc: 0.9535, Val loss: 0.1427, Val acc: 0.9470\n"
     ]
    },
    {
     "name": "stderr",
     "output_type": "stream",
     "text": [
      "100%|██████████| 185/185 [00:00<00:00, 387.73it/s]\n",
      "100%|██████████| 47/47 [00:00<00:00, 1233.16it/s]\n"
     ]
    },
    {
     "name": "stdout",
     "output_type": "stream",
     "text": [
      "Train loss: 0.1156, Train acc: 0.9571, Val loss: 0.1246, Val acc: 0.9538\n"
     ]
    },
    {
     "name": "stderr",
     "output_type": "stream",
     "text": [
      "100%|██████████| 185/185 [00:00<00:00, 372.00it/s]\n",
      "100%|██████████| 47/47 [00:00<00:00, 979.17it/s]\n"
     ]
    },
    {
     "name": "stdout",
     "output_type": "stream",
     "text": [
      "Train loss: 0.1158, Train acc: 0.9547, Val loss: 0.1247, Val acc: 0.9498\n"
     ]
    },
    {
     "name": "stderr",
     "output_type": "stream",
     "text": [
      "100%|██████████| 185/185 [00:00<00:00, 409.83it/s]\n",
      "100%|██████████| 47/47 [00:00<00:00, 1142.97it/s]\n"
     ]
    },
    {
     "name": "stdout",
     "output_type": "stream",
     "text": [
      "Train loss: 0.1113, Train acc: 0.9577, Val loss: 0.1198, Val acc: 0.9599\n"
     ]
    },
    {
     "name": "stderr",
     "output_type": "stream",
     "text": [
      "100%|██████████| 185/185 [00:00<00:00, 375.70it/s]\n",
      "100%|██████████| 47/47 [00:00<00:00, 1236.98it/s]\n"
     ]
    },
    {
     "name": "stdout",
     "output_type": "stream",
     "text": [
      "Train loss: 0.1095, Train acc: 0.9584, Val loss: 0.1203, Val acc: 0.9586\n"
     ]
    },
    {
     "name": "stderr",
     "output_type": "stream",
     "text": [
      "100%|██████████| 185/185 [00:00<00:00, 413.52it/s]\n",
      "100%|██████████| 47/47 [00:00<00:00, 1174.94it/s]\n"
     ]
    },
    {
     "name": "stdout",
     "output_type": "stream",
     "text": [
      "Train loss: 0.1095, Train acc: 0.9599, Val loss: 0.1227, Val acc: 0.9559\n"
     ]
    },
    {
     "name": "stderr",
     "output_type": "stream",
     "text": [
      "100%|██████████| 185/185 [00:00<00:00, 408.82it/s]\n",
      "100%|██████████| 47/47 [00:00<00:00, 1143.01it/s]\n"
     ]
    },
    {
     "name": "stdout",
     "output_type": "stream",
     "text": [
      "Train loss: 0.1049, Train acc: 0.9608, Val loss: 0.1191, Val acc: 0.9518\n"
     ]
    },
    {
     "name": "stderr",
     "output_type": "stream",
     "text": [
      "100%|██████████| 185/185 [00:00<00:00, 413.77it/s]\n",
      "100%|██████████| 47/47 [00:00<00:00, 979.37it/s]\n"
     ]
    },
    {
     "name": "stdout",
     "output_type": "stream",
     "text": [
      "Train loss: 0.1030, Train acc: 0.9628, Val loss: 0.1242, Val acc: 0.9552\n"
     ]
    },
    {
     "name": "stderr",
     "output_type": "stream",
     "text": [
      "100%|██████████| 185/185 [00:00<00:00, 405.73it/s]\n",
      "100%|██████████| 47/47 [00:00<00:00, 1414.89it/s]\n"
     ]
    },
    {
     "name": "stdout",
     "output_type": "stream",
     "text": [
      "Train loss: 0.1026, Train acc: 0.9603, Val loss: 0.1144, Val acc: 0.9606\n"
     ]
    },
    {
     "data": {
      "image/png": "[encoded data removed]",
      "text/plain": [
       "<Figure size 640x480 with 1 Axes>"
      ]
     },
     "metadata": {},
     "output_type": "display_data"
    }
   ],
   "source": [
    "EPOCHS = 50\n",
    "train_loss_list = []\n",
    "train_acc_list = []\n",
    "val_loss_list = []\n",
    "val_acc_list = []\n",
    "\n",
    "for _ in range(EPOCHS):\n",
    "    train_loss, train_acc, val_loss, val_acc = train(model, train_loader, val_loader, criterion, optimizer)\n",
    "    train_loss_list.append(train_loss)\n",
    "    train_acc_list.append(train_acc)\n",
    "    val_loss_list.append(val_loss)\n",
    "    val_acc_list.append(val_acc)\n",
    "    print(f\"Train loss: {train_loss:.4f}, Train acc: {train_acc:.4f}, Val loss: {val_loss:.4f}, Val acc: {val_acc:.4f}\")\n",
    "\n",
    "# Plot train loss and accuracy\n",
    "plt.plot(train_acc_list, label=\"train acc\")\n",
    "plt.plot(val_acc_list, label=\"val acc\")\n",
    "plt.legend()\n",
    "plt.show()"
   ]
  },
  {
   "cell_type": "code",
   "execution_count": 47,
   "metadata": {},
   "outputs": [
    {
     "name": "stdout",
     "output_type": "stream",
     "text": [
      "Test loss: 0.1079, Test acc: 0.9620\n"
     ]
    }
   ],
   "source": [
    "test_loss, test_acc = test(model, test_loader, criterion)\n",
    "print(f\"Test loss: {test_loss:.4f}, Test acc: {test_acc:.4f}\")"
   ]
  },
  {
   "cell_type": "code",
   "execution_count": 48,
   "metadata": {},
   "outputs": [
    {
     "data": {
      "image/png": "[encoded data removed]",
      "text/plain": [
       "<Figure size 600x600 with 2 Axes>"
      ]
     },
     "metadata": {},
     "output_type": "display_data"
    }
   ],
   "source": [
    "# Predict on test set\n",
    "y_pred_list = []\n",
    "y_true_list = []\n",
    "with torch.no_grad():\n",
    "    for X, y in test_loader:\n",
    "        y_pred = model(X)\n",
    "        y_pred_list.append(y_pred.argmax(1).cpu().numpy())\n",
    "        y_true_list.append(y.cpu().numpy())\n",
    "\n",
    "y_pred = np.concatenate(y_pred_list)\n",
    "y_true = np.concatenate(y_true_list)\n",
    "\n",
    "# Plot confusion matrix\n",
    "plot_confusion_matrix(y_true, y_pred, title=\"Confusion matrix for the test set\")"
   ]
  },
  {
   "cell_type": "markdown",
   "metadata": {},
   "source": [
    "This is better overall, however we can see that the model is struggly with the 3rd class, as it's confusing it with other classes. It's because the class is more present in the dataset. The LSTM architecture is not suited for this kind of problem as its sensitive to the class imbalance."
   ]
  },
  {
   "cell_type": "code",
   "execution_count": 71,
   "metadata": {},
   "outputs": [
    {
     "data": {
      "text/plain": [
       "new_labels\n",
       "2    6222\n",
       "1     580\n",
       "3     429\n",
       "0     126\n",
       "4       7\n",
       "Name: count, dtype: int64"
      ]
     },
     "execution_count": 71,
     "metadata": {},
     "output_type": "execute_result"
    }
   ],
   "source": [
    "y_train[\"new_labels\"].value_counts()"
   ]
  },
  {
   "cell_type": "markdown",
   "metadata": {},
   "source": [
    "## 3. Supervised classifiers\n",
    "\n",
    "### a. Decision Tree"
   ]
  },
  {
   "cell_type": "markdown",
   "metadata": {},
   "source": [
    "#### Multiclass classification\n",
    "\n",
    "We will not use the Decision Tree for the binary classification, as we want to focus on the features importance."
   ]
  },
  {
   "cell_type": "code",
   "execution_count": 49,
   "metadata": {},
   "outputs": [
    {
     "data": {
      "text/plain": [
       "((7364, 41), (1842, 41), (7364, 2), (1842, 2))"
      ]
     },
     "execution_count": 49,
     "metadata": {},
     "output_type": "execute_result"
    }
   ],
   "source": [
    "X_train, X_test, y_train, y_test = train_test_split(df_physical_prepared, df_physical_labels[[\"new_labels\", \"label_n\"]], test_size=0.2, random_state=random_state)\n",
    "X_train.shape, X_test.shape, y_train.shape, y_test.shape"
   ]
  },
  {
   "cell_type": "markdown",
   "metadata": {},
   "source": [
    "Define the model with empirical parameters"
   ]
  },
  {
   "cell_type": "code",
   "execution_count": 50,
   "metadata": {},
   "outputs": [],
   "source": [
    "params = {\n",
    "    'max_depth': 8,\n",
    "    'criterion': 'gini',\n",
    "    'splitter': 'best',\n",
    "    'random_state': random_state\n",
    "}\n",
    "\n",
    "clf = DecisionTreeClassifier(**params)"
   ]
  },
  {
   "cell_type": "code",
   "execution_count": 51,
   "metadata": {},
   "outputs": [
    {
     "data": {
      "text/html": [
       "<style>#sk-container-id-1 {color: black;}#sk-container-id-1 pre{padding: 0;}#sk-container-id-1 div.sk-toggleable {background-color: white;}#sk-container-id-1 label.sk-toggleable__label {cursor: pointer;display: block;width: 100%;margin-bottom: 0;padding: 0.3em;box-sizing: border-box;text-align: center;}#sk-container-id-1 label.sk-toggleable__label-arrow:before {content: \"▸\";float: left;margin-right: 0.25em;color: #696969;}#sk-container-id-1 label.sk-toggleable__label-arrow:hover:before {color: black;}#sk-container-id-1 div.sk-estimator:hover label.sk-toggleable__label-arrow:before {color: black;}#sk-container-id-1 div.sk-toggleable__content {max-height: 0;max-width: 0;overflow: hidden;text-align: left;background-color: #f0f8ff;}#sk-container-id-1 div.sk-toggleable__content pre {margin: 0.2em;color: black;border-radius: 0.25em;background-color: #f0f8ff;}#sk-container-id-1 input.sk-toggleable__control:checked~div.sk-toggleable__content {max-height: 200px;max-width: 100%;overflow: auto;}#sk-container-id-1 input.sk-toggleable__control:checked~label.sk-toggleable__label-arrow:before {content: \"▾\";}#sk-container-id-1 div.sk-estimator input.sk-toggleable__control:checked~label.sk-toggleable__label {background-color: #d4ebff;}#sk-container-id-1 div.sk-label input.sk-toggleable__control:checked~label.sk-toggleable__label {background-color: #d4ebff;}#sk-container-id-1 input.sk-hidden--visually {border: 0;clip: rect(1px 1px 1px 1px);clip: rect(1px, 1px, 1px, 1px);height: 1px;margin: -1px;overflow: hidden;padding: 0;position: absolute;width: 1px;}#sk-container-id-1 div.sk-estimator {font-family: monospace;background-color: #f0f8ff;border: 1px dotted black;border-radius: 0.25em;box-sizing: border-box;margin-bottom: 0.5em;}#sk-container-id-1 div.sk-estimator:hover {background-color: #d4ebff;}#sk-container-id-1 div.sk-parallel-item::after {content: \"\";width: 100%;border-bottom: 1px solid gray;flex-grow: 1;}#sk-container-id-1 div.sk-label:hover label.sk-toggleable__label {background-color: #d4ebff;}#sk-container-id-1 div.sk-serial::before {content: \"\";position: absolute;border-left: 1px solid gray;box-sizing: border-box;top: 0;bottom: 0;left: 50%;z-index: 0;}#sk-container-id-1 div.sk-serial {display: flex;flex-direction: column;align-items: center;background-color: white;padding-right: 0.2em;padding-left: 0.2em;position: relative;}#sk-container-id-1 div.sk-item {position: relative;z-index: 1;}#sk-container-id-1 div.sk-parallel {display: flex;align-items: stretch;justify-content: center;background-color: white;position: relative;}#sk-container-id-1 div.sk-item::before, #sk-container-id-1 div.sk-parallel-item::before {content: \"\";position: absolute;border-left: 1px solid gray;box-sizing: border-box;top: 0;bottom: 0;left: 50%;z-index: -1;}#sk-container-id-1 div.sk-parallel-item {display: flex;flex-direction: column;z-index: 1;position: relative;background-color: white;}#sk-container-id-1 div.sk-parallel-item:first-child::after {align-self: flex-end;width: 50%;}#sk-container-id-1 div.sk-parallel-item:last-child::after {align-self: flex-start;width: 50%;}#sk-container-id-1 div.sk-parallel-item:only-child::after {width: 0;}#sk-container-id-1 div.sk-dashed-wrapped {border: 1px dashed gray;margin: 0 0.4em 0.5em 0.4em;box-sizing: border-box;padding-bottom: 0.4em;background-color: white;}#sk-container-id-1 div.sk-label label {font-family: monospace;font-weight: bold;display: inline-block;line-height: 1.2em;}#sk-container-id-1 div.sk-label-container {text-align: center;}#sk-container-id-1 div.sk-container {/* jupyter's `normalize.less` sets `[hidden] { display: none; }` but bootstrap.min.css set `[hidden] { display: none !important; }` so we also need the `!important` here to be able to override the default hidden behavior on the sphinx rendered scikit-learn.org. See: https://github.com/scikit-learn/scikit-learn/issues/21755 */display: inline-block !important;position: relative;}#sk-container-id-1 div.sk-text-repr-fallback {display: none;}</style><div id=\"sk-container-id-1\" class=\"sk-top-container\"><div class=\"sk-text-repr-fallback\"><pre>Pipeline(steps=[(&#x27;standardscaler&#x27;, StandardScaler()),\n",
       "                (&#x27;decisiontreeclassifier&#x27;,\n",
       "                 DecisionTreeClassifier(max_depth=8, random_state=42))])</pre><b>In a Jupyter environment, please rerun this cell to show the HTML representation or trust the notebook. <br />On GitHub, the HTML representation is unable to render, please try loading this page with nbviewer.org.</b></div><div class=\"sk-container\" hidden><div class=\"sk-item sk-dashed-wrapped\"><div class=\"sk-label-container\"><div class=\"sk-label sk-toggleable\"><input class=\"sk-toggleable__control sk-hidden--visually\" id=\"sk-estimator-id-1\" type=\"checkbox\" ><label for=\"sk-estimator-id-1\" class=\"sk-toggleable__label sk-toggleable__label-arrow\">Pipeline</label><div class=\"sk-toggleable__content\"><pre>Pipeline(steps=[(&#x27;standardscaler&#x27;, StandardScaler()),\n",
       "                (&#x27;decisiontreeclassifier&#x27;,\n",
       "                 DecisionTreeClassifier(max_depth=8, random_state=42))])</pre></div></div></div><div class=\"sk-serial\"><div class=\"sk-item\"><div class=\"sk-estimator sk-toggleable\"><input class=\"sk-toggleable__control sk-hidden--visually\" id=\"sk-estimator-id-2\" type=\"checkbox\" ><label for=\"sk-estimator-id-2\" class=\"sk-toggleable__label sk-toggleable__label-arrow\">StandardScaler</label><div class=\"sk-toggleable__content\"><pre>StandardScaler()</pre></div></div></div><div class=\"sk-item\"><div class=\"sk-estimator sk-toggleable\"><input class=\"sk-toggleable__control sk-hidden--visually\" id=\"sk-estimator-id-3\" type=\"checkbox\" ><label for=\"sk-estimator-id-3\" class=\"sk-toggleable__label sk-toggleable__label-arrow\">DecisionTreeClassifier</label><div class=\"sk-toggleable__content\"><pre>DecisionTreeClassifier(max_depth=8, random_state=42)</pre></div></div></div></div></div></div></div>"
      ],
      "text/plain": [
       "Pipeline(steps=[('standardscaler', StandardScaler()),\n",
       "                ('decisiontreeclassifier',\n",
       "                 DecisionTreeClassifier(max_depth=8, random_state=42))])"
      ]
     },
     "execution_count": 51,
     "metadata": {},
     "output_type": "execute_result"
    }
   ],
   "source": [
    "pipeline = make_pipeline(\n",
    "    StandardScaler(),\n",
    "    clf\n",
    ")\n",
    "\n",
    "pipeline.fit(X_train, y_train[\"new_labels\"])"
   ]
  },
  {
   "cell_type": "code",
   "execution_count": 52,
   "metadata": {},
   "outputs": [],
   "source": [
    "preds = pipeline.predict(X_test)"
   ]
  },
  {
   "cell_type": "code",
   "execution_count": 53,
   "metadata": {},
   "outputs": [
    {
     "name": "stdout",
     "output_type": "stream",
     "text": [
      "Accuracy:  0.9467969598262758\n",
      "Recall:  0.6881698674841034\n",
      "F1:  0.7326219385662255\n",
      "MCC:  0.8133878482930105\n",
      "Balanced accuracy:  0.6881698674841034\n"
     ]
    }
   ],
   "source": [
    "print(\"Accuracy: \", accuracy_score(y_test[\"new_labels\"], preds.round()))\n",
    "print(\"Recall: \", recall_score(y_test[\"new_labels\"], preds.round(), average=\"macro\"))\n",
    "print(\"F1: \", f1_score(y_test[\"new_labels\"], preds.round(), average=\"macro\"))\n",
    "print(\"MCC: \", matthews_corrcoef(y_test[\"new_labels\"], preds.round()))\n",
    "print(\"Balanced accuracy: \", balanced_accuracy_score(y_test[\"new_labels\"], preds.round()))"
   ]
  },
  {
   "cell_type": "code",
   "execution_count": 54,
   "metadata": {},
   "outputs": [
    {
     "data": {
      "image/png": "[encoded data removed]",
      "text/plain": [
       "<Figure size 600x600 with 2 Axes>"
      ]
     },
     "metadata": {},
     "output_type": "display_data"
    }
   ],
   "source": [
    "plot_confusion_matrix(y_test[\"new_labels\"], preds.round(), title=\"Confusion matrix for the test set\")"
   ]
  },
  {
   "cell_type": "markdown",
   "metadata": {},
   "source": [
    "The decision tree is very sensitive to data imbalance, explaining the bad results."
   ]
  },
  {
   "cell_type": "code",
   "execution_count": 55,
   "metadata": {},
   "outputs": [
    {
     "data": {
      "image/png": "[encoded data removed]",
      "text/plain": [
       "<Figure size 1500x600 with 1 Axes>"
      ]
     },
     "metadata": {},
     "output_type": "display_data"
    }
   ],
   "source": [
    "def plot_feature_importance(clf):\n",
    "    importance = clf.feature_importances_\n",
    "    # keep 10 most important features\n",
    "    idx = np.argsort(importance)[-10:]\n",
    "    importance = importance[idx]\n",
    "\n",
    "    # plot feature importance\n",
    "    plt.figure(figsize=(15, 6))\n",
    "    plt.title(\"Feature importance\")\n",
    "    plt.bar([x for x in range(len(importance))], importance)\n",
    "    plt.xticks([x for x in range(len(importance))], X_train.columns[idx], rotation='vertical')\n",
    "    plt.show()\n",
    "\n",
    "plot_feature_importance(clf)"
   ]
  },
  {
   "cell_type": "markdown",
   "metadata": {},
   "source": [
    "#### Without contextual information"
   ]
  },
  {
   "cell_type": "code",
   "execution_count": 56,
   "metadata": {},
   "outputs": [
    {
     "data": {
      "text/html": [
       "<div>\n",
       "<style scoped>\n",
       "    .dataframe tbody tr th:only-of-type {\n",
       "        vertical-align: middle;\n",
       "    }\n",
       "\n",
       "    .dataframe tbody tr th {\n",
       "        vertical-align: top;\n",
       "    }\n",
       "\n",
       "    .dataframe thead th {\n",
       "        text-align: right;\n",
       "    }\n",
       "</style>\n",
       "<table border=\"1\" class=\"dataframe\">\n",
       "  <thead>\n",
       "    <tr style=\"text-align: right;\">\n",
       "      <th></th>\n",
       "      <th>tank_1</th>\n",
       "      <th>tank_2</th>\n",
       "      <th>tank_3</th>\n",
       "      <th>tank_4</th>\n",
       "      <th>tank_5</th>\n",
       "      <th>tank_6</th>\n",
       "      <th>tank_7</th>\n",
       "      <th>tank_8</th>\n",
       "      <th>pump_1</th>\n",
       "      <th>pump_2</th>\n",
       "      <th>...</th>\n",
       "      <th>valv_16</th>\n",
       "      <th>valv_17</th>\n",
       "      <th>valv_18</th>\n",
       "      <th>valv_19</th>\n",
       "      <th>valv_20</th>\n",
       "      <th>valv_21</th>\n",
       "      <th>valv_22</th>\n",
       "      <th>label_n</th>\n",
       "      <th>label</th>\n",
       "      <th>attack</th>\n",
       "    </tr>\n",
       "  </thead>\n",
       "  <tbody>\n",
       "    <tr>\n",
       "      <th>0</th>\n",
       "      <td>0</td>\n",
       "      <td>0</td>\n",
       "      <td>0</td>\n",
       "      <td>0</td>\n",
       "      <td>0</td>\n",
       "      <td>0</td>\n",
       "      <td>0</td>\n",
       "      <td>0</td>\n",
       "      <td>0</td>\n",
       "      <td>0</td>\n",
       "      <td>...</td>\n",
       "      <td>0</td>\n",
       "      <td>0</td>\n",
       "      <td>0</td>\n",
       "      <td>0</td>\n",
       "      <td>0</td>\n",
       "      <td>0</td>\n",
       "      <td>0</td>\n",
       "      <td>0.0</td>\n",
       "      <td>normal</td>\n",
       "      <td>1</td>\n",
       "    </tr>\n",
       "    <tr>\n",
       "      <th>1</th>\n",
       "      <td>0</td>\n",
       "      <td>0</td>\n",
       "      <td>0</td>\n",
       "      <td>0</td>\n",
       "      <td>0</td>\n",
       "      <td>0</td>\n",
       "      <td>0</td>\n",
       "      <td>0</td>\n",
       "      <td>0</td>\n",
       "      <td>0</td>\n",
       "      <td>...</td>\n",
       "      <td>0</td>\n",
       "      <td>0</td>\n",
       "      <td>0</td>\n",
       "      <td>0</td>\n",
       "      <td>0</td>\n",
       "      <td>0</td>\n",
       "      <td>0</td>\n",
       "      <td>0.0</td>\n",
       "      <td>normal</td>\n",
       "      <td>1</td>\n",
       "    </tr>\n",
       "    <tr>\n",
       "      <th>2</th>\n",
       "      <td>0</td>\n",
       "      <td>0</td>\n",
       "      <td>0</td>\n",
       "      <td>0</td>\n",
       "      <td>0</td>\n",
       "      <td>0</td>\n",
       "      <td>0</td>\n",
       "      <td>0</td>\n",
       "      <td>0</td>\n",
       "      <td>0</td>\n",
       "      <td>...</td>\n",
       "      <td>0</td>\n",
       "      <td>0</td>\n",
       "      <td>0</td>\n",
       "      <td>0</td>\n",
       "      <td>0</td>\n",
       "      <td>0</td>\n",
       "      <td>0</td>\n",
       "      <td>0.0</td>\n",
       "      <td>normal</td>\n",
       "      <td>1</td>\n",
       "    </tr>\n",
       "    <tr>\n",
       "      <th>3</th>\n",
       "      <td>0</td>\n",
       "      <td>0</td>\n",
       "      <td>0</td>\n",
       "      <td>0</td>\n",
       "      <td>0</td>\n",
       "      <td>0</td>\n",
       "      <td>0</td>\n",
       "      <td>0</td>\n",
       "      <td>0</td>\n",
       "      <td>0</td>\n",
       "      <td>...</td>\n",
       "      <td>0</td>\n",
       "      <td>0</td>\n",
       "      <td>0</td>\n",
       "      <td>0</td>\n",
       "      <td>0</td>\n",
       "      <td>0</td>\n",
       "      <td>0</td>\n",
       "      <td>0.0</td>\n",
       "      <td>normal</td>\n",
       "      <td>1</td>\n",
       "    </tr>\n",
       "    <tr>\n",
       "      <th>4</th>\n",
       "      <td>0</td>\n",
       "      <td>0</td>\n",
       "      <td>0</td>\n",
       "      <td>0</td>\n",
       "      <td>0</td>\n",
       "      <td>0</td>\n",
       "      <td>0</td>\n",
       "      <td>0</td>\n",
       "      <td>1</td>\n",
       "      <td>1</td>\n",
       "      <td>...</td>\n",
       "      <td>0</td>\n",
       "      <td>0</td>\n",
       "      <td>0</td>\n",
       "      <td>0</td>\n",
       "      <td>0</td>\n",
       "      <td>0</td>\n",
       "      <td>0</td>\n",
       "      <td>0.0</td>\n",
       "      <td>normal</td>\n",
       "      <td>1</td>\n",
       "    </tr>\n",
       "    <tr>\n",
       "      <th>...</th>\n",
       "      <td>...</td>\n",
       "      <td>...</td>\n",
       "      <td>...</td>\n",
       "      <td>...</td>\n",
       "      <td>...</td>\n",
       "      <td>...</td>\n",
       "      <td>...</td>\n",
       "      <td>...</td>\n",
       "      <td>...</td>\n",
       "      <td>...</td>\n",
       "      <td>...</td>\n",
       "      <td>...</td>\n",
       "      <td>...</td>\n",
       "      <td>...</td>\n",
       "      <td>...</td>\n",
       "      <td>...</td>\n",
       "      <td>...</td>\n",
       "      <td>...</td>\n",
       "      <td>...</td>\n",
       "      <td>...</td>\n",
       "      <td>...</td>\n",
       "    </tr>\n",
       "    <tr>\n",
       "      <th>9201</th>\n",
       "      <td>4</td>\n",
       "      <td>1037</td>\n",
       "      <td>7</td>\n",
       "      <td>452</td>\n",
       "      <td>300</td>\n",
       "      <td>432</td>\n",
       "      <td>80</td>\n",
       "      <td>0</td>\n",
       "      <td>1</td>\n",
       "      <td>0</td>\n",
       "      <td>...</td>\n",
       "      <td>0</td>\n",
       "      <td>0</td>\n",
       "      <td>0</td>\n",
       "      <td>0</td>\n",
       "      <td>1</td>\n",
       "      <td>0</td>\n",
       "      <td>0</td>\n",
       "      <td>0.0</td>\n",
       "      <td>normal</td>\n",
       "      <td>0</td>\n",
       "    </tr>\n",
       "    <tr>\n",
       "      <th>9202</th>\n",
       "      <td>3</td>\n",
       "      <td>1059</td>\n",
       "      <td>7</td>\n",
       "      <td>439</td>\n",
       "      <td>296</td>\n",
       "      <td>431</td>\n",
       "      <td>88</td>\n",
       "      <td>0</td>\n",
       "      <td>1</td>\n",
       "      <td>0</td>\n",
       "      <td>...</td>\n",
       "      <td>0</td>\n",
       "      <td>0</td>\n",
       "      <td>0</td>\n",
       "      <td>0</td>\n",
       "      <td>1</td>\n",
       "      <td>0</td>\n",
       "      <td>0</td>\n",
       "      <td>0.0</td>\n",
       "      <td>normal</td>\n",
       "      <td>0</td>\n",
       "    </tr>\n",
       "    <tr>\n",
       "      <th>9203</th>\n",
       "      <td>4</td>\n",
       "      <td>1091</td>\n",
       "      <td>8</td>\n",
       "      <td>429</td>\n",
       "      <td>291</td>\n",
       "      <td>431</td>\n",
       "      <td>96</td>\n",
       "      <td>0</td>\n",
       "      <td>1</td>\n",
       "      <td>0</td>\n",
       "      <td>...</td>\n",
       "      <td>0</td>\n",
       "      <td>0</td>\n",
       "      <td>0</td>\n",
       "      <td>0</td>\n",
       "      <td>1</td>\n",
       "      <td>0</td>\n",
       "      <td>0</td>\n",
       "      <td>0.0</td>\n",
       "      <td>normal</td>\n",
       "      <td>0</td>\n",
       "    </tr>\n",
       "    <tr>\n",
       "      <th>9204</th>\n",
       "      <td>4</td>\n",
       "      <td>1131</td>\n",
       "      <td>8</td>\n",
       "      <td>417</td>\n",
       "      <td>288</td>\n",
       "      <td>421</td>\n",
       "      <td>96</td>\n",
       "      <td>0</td>\n",
       "      <td>1</td>\n",
       "      <td>0</td>\n",
       "      <td>...</td>\n",
       "      <td>0</td>\n",
       "      <td>0</td>\n",
       "      <td>0</td>\n",
       "      <td>0</td>\n",
       "      <td>1</td>\n",
       "      <td>0</td>\n",
       "      <td>0</td>\n",
       "      <td>0.0</td>\n",
       "      <td>normal</td>\n",
       "      <td>0</td>\n",
       "    </tr>\n",
       "    <tr>\n",
       "      <th>9205</th>\n",
       "      <td>4</td>\n",
       "      <td>1135</td>\n",
       "      <td>7</td>\n",
       "      <td>404</td>\n",
       "      <td>282</td>\n",
       "      <td>421</td>\n",
       "      <td>112</td>\n",
       "      <td>0</td>\n",
       "      <td>1</td>\n",
       "      <td>0</td>\n",
       "      <td>...</td>\n",
       "      <td>0</td>\n",
       "      <td>0</td>\n",
       "      <td>0</td>\n",
       "      <td>0</td>\n",
       "      <td>1</td>\n",
       "      <td>0</td>\n",
       "      <td>0</td>\n",
       "      <td>0.0</td>\n",
       "      <td>normal</td>\n",
       "      <td>0</td>\n",
       "    </tr>\n",
       "  </tbody>\n",
       "</table>\n",
       "<p>9206 rows × 43 columns</p>\n",
       "</div>"
      ],
      "text/plain": [
       "      tank_1  tank_2  tank_3  tank_4  tank_5  tank_6  tank_7  tank_8  pump_1  \\\n",
       "0          0       0       0       0       0       0       0       0       0   \n",
       "1          0       0       0       0       0       0       0       0       0   \n",
       "2          0       0       0       0       0       0       0       0       0   \n",
       "3          0       0       0       0       0       0       0       0       0   \n",
       "4          0       0       0       0       0       0       0       0       1   \n",
       "...      ...     ...     ...     ...     ...     ...     ...     ...     ...   \n",
       "9201       4    1037       7     452     300     432      80       0       1   \n",
       "9202       3    1059       7     439     296     431      88       0       1   \n",
       "9203       4    1091       8     429     291     431      96       0       1   \n",
       "9204       4    1131       8     417     288     421      96       0       1   \n",
       "9205       4    1135       7     404     282     421     112       0       1   \n",
       "\n",
       "      pump_2  ...  valv_16  valv_17  valv_18  valv_19  valv_20  valv_21  \\\n",
       "0          0  ...        0        0        0        0        0        0   \n",
       "1          0  ...        0        0        0        0        0        0   \n",
       "2          0  ...        0        0        0        0        0        0   \n",
       "3          0  ...        0        0        0        0        0        0   \n",
       "4          1  ...        0        0        0        0        0        0   \n",
       "...      ...  ...      ...      ...      ...      ...      ...      ...   \n",
       "9201       0  ...        0        0        0        0        1        0   \n",
       "9202       0  ...        0        0        0        0        1        0   \n",
       "9203       0  ...        0        0        0        0        1        0   \n",
       "9204       0  ...        0        0        0        0        1        0   \n",
       "9205       0  ...        0        0        0        0        1        0   \n",
       "\n",
       "      valv_22  label_n   label  attack  \n",
       "0           0      0.0  normal       1  \n",
       "1           0      0.0  normal       1  \n",
       "2           0      0.0  normal       1  \n",
       "3           0      0.0  normal       1  \n",
       "4           0      0.0  normal       1  \n",
       "...       ...      ...     ...     ...  \n",
       "9201        0      0.0  normal       0  \n",
       "9202        0      0.0  normal       0  \n",
       "9203        0      0.0  normal       0  \n",
       "9204        0      0.0  normal       0  \n",
       "9205        0      0.0  normal       0  \n",
       "\n",
       "[9206 rows x 43 columns]"
      ]
     },
     "execution_count": 56,
     "metadata": {},
     "output_type": "execute_result"
    }
   ],
   "source": [
    "df_physical_no_context = remove_physical_contextual_columns(df_physical)\n",
    "df_physical_no_context"
   ]
  },
  {
   "cell_type": "code",
   "execution_count": 57,
   "metadata": {},
   "outputs": [
    {
     "data": {
      "text/html": [
       "<div>\n",
       "<style scoped>\n",
       "    .dataframe tbody tr th:only-of-type {\n",
       "        vertical-align: middle;\n",
       "    }\n",
       "\n",
       "    .dataframe tbody tr th {\n",
       "        vertical-align: top;\n",
       "    }\n",
       "\n",
       "    .dataframe thead th {\n",
       "        text-align: right;\n",
       "    }\n",
       "</style>\n",
       "<table border=\"1\" class=\"dataframe\">\n",
       "  <thead>\n",
       "    <tr style=\"text-align: right;\">\n",
       "      <th></th>\n",
       "      <th>tank_1</th>\n",
       "      <th>tank_2</th>\n",
       "      <th>tank_3</th>\n",
       "      <th>tank_4</th>\n",
       "      <th>tank_5</th>\n",
       "      <th>tank_6</th>\n",
       "      <th>tank_7</th>\n",
       "      <th>tank_8</th>\n",
       "      <th>pump_1</th>\n",
       "      <th>pump_2</th>\n",
       "      <th>...</th>\n",
       "      <th>valv_13</th>\n",
       "      <th>valv_14</th>\n",
       "      <th>valv_15</th>\n",
       "      <th>valv_16</th>\n",
       "      <th>valv_17</th>\n",
       "      <th>valv_18</th>\n",
       "      <th>valv_19</th>\n",
       "      <th>valv_20</th>\n",
       "      <th>valv_21</th>\n",
       "      <th>valv_22</th>\n",
       "    </tr>\n",
       "  </thead>\n",
       "  <tbody>\n",
       "    <tr>\n",
       "      <th>0</th>\n",
       "      <td>0</td>\n",
       "      <td>0</td>\n",
       "      <td>0</td>\n",
       "      <td>0</td>\n",
       "      <td>0</td>\n",
       "      <td>0</td>\n",
       "      <td>0</td>\n",
       "      <td>0</td>\n",
       "      <td>0</td>\n",
       "      <td>0</td>\n",
       "      <td>...</td>\n",
       "      <td>0</td>\n",
       "      <td>0</td>\n",
       "      <td>0</td>\n",
       "      <td>0</td>\n",
       "      <td>0</td>\n",
       "      <td>0</td>\n",
       "      <td>0</td>\n",
       "      <td>0</td>\n",
       "      <td>0</td>\n",
       "      <td>0</td>\n",
       "    </tr>\n",
       "    <tr>\n",
       "      <th>1</th>\n",
       "      <td>0</td>\n",
       "      <td>0</td>\n",
       "      <td>0</td>\n",
       "      <td>0</td>\n",
       "      <td>0</td>\n",
       "      <td>0</td>\n",
       "      <td>0</td>\n",
       "      <td>0</td>\n",
       "      <td>0</td>\n",
       "      <td>0</td>\n",
       "      <td>...</td>\n",
       "      <td>0</td>\n",
       "      <td>0</td>\n",
       "      <td>0</td>\n",
       "      <td>0</td>\n",
       "      <td>0</td>\n",
       "      <td>0</td>\n",
       "      <td>0</td>\n",
       "      <td>0</td>\n",
       "      <td>0</td>\n",
       "      <td>0</td>\n",
       "    </tr>\n",
       "    <tr>\n",
       "      <th>2</th>\n",
       "      <td>0</td>\n",
       "      <td>0</td>\n",
       "      <td>0</td>\n",
       "      <td>0</td>\n",
       "      <td>0</td>\n",
       "      <td>0</td>\n",
       "      <td>0</td>\n",
       "      <td>0</td>\n",
       "      <td>0</td>\n",
       "      <td>0</td>\n",
       "      <td>...</td>\n",
       "      <td>0</td>\n",
       "      <td>0</td>\n",
       "      <td>0</td>\n",
       "      <td>0</td>\n",
       "      <td>0</td>\n",
       "      <td>0</td>\n",
       "      <td>0</td>\n",
       "      <td>0</td>\n",
       "      <td>0</td>\n",
       "      <td>0</td>\n",
       "    </tr>\n",
       "    <tr>\n",
       "      <th>3</th>\n",
       "      <td>0</td>\n",
       "      <td>0</td>\n",
       "      <td>0</td>\n",
       "      <td>0</td>\n",
       "      <td>0</td>\n",
       "      <td>0</td>\n",
       "      <td>0</td>\n",
       "      <td>0</td>\n",
       "      <td>0</td>\n",
       "      <td>0</td>\n",
       "      <td>...</td>\n",
       "      <td>0</td>\n",
       "      <td>0</td>\n",
       "      <td>0</td>\n",
       "      <td>0</td>\n",
       "      <td>0</td>\n",
       "      <td>0</td>\n",
       "      <td>0</td>\n",
       "      <td>0</td>\n",
       "      <td>0</td>\n",
       "      <td>0</td>\n",
       "    </tr>\n",
       "    <tr>\n",
       "      <th>4</th>\n",
       "      <td>0</td>\n",
       "      <td>0</td>\n",
       "      <td>0</td>\n",
       "      <td>0</td>\n",
       "      <td>0</td>\n",
       "      <td>0</td>\n",
       "      <td>0</td>\n",
       "      <td>0</td>\n",
       "      <td>1</td>\n",
       "      <td>1</td>\n",
       "      <td>...</td>\n",
       "      <td>0</td>\n",
       "      <td>0</td>\n",
       "      <td>0</td>\n",
       "      <td>0</td>\n",
       "      <td>0</td>\n",
       "      <td>0</td>\n",
       "      <td>0</td>\n",
       "      <td>0</td>\n",
       "      <td>0</td>\n",
       "      <td>0</td>\n",
       "    </tr>\n",
       "  </tbody>\n",
       "</table>\n",
       "<p>5 rows × 40 columns</p>\n",
       "</div>"
      ],
      "text/plain": [
       "   tank_1  tank_2  tank_3  tank_4  tank_5  tank_6  tank_7  tank_8  pump_1  \\\n",
       "0       0       0       0       0       0       0       0       0       0   \n",
       "1       0       0       0       0       0       0       0       0       0   \n",
       "2       0       0       0       0       0       0       0       0       0   \n",
       "3       0       0       0       0       0       0       0       0       0   \n",
       "4       0       0       0       0       0       0       0       0       1   \n",
       "\n",
       "   pump_2  ...  valv_13  valv_14  valv_15  valv_16  valv_17  valv_18  valv_19  \\\n",
       "0       0  ...        0        0        0        0        0        0        0   \n",
       "1       0  ...        0        0        0        0        0        0        0   \n",
       "2       0  ...        0        0        0        0        0        0        0   \n",
       "3       0  ...        0        0        0        0        0        0        0   \n",
       "4       1  ...        0        0        0        0        0        0        0   \n",
       "\n",
       "   valv_20  valv_21  valv_22  \n",
       "0        0        0        0  \n",
       "1        0        0        0  \n",
       "2        0        0        0  \n",
       "3        0        0        0  \n",
       "4        0        0        0  \n",
       "\n",
       "[5 rows x 40 columns]"
      ]
     },
     "execution_count": 57,
     "metadata": {},
     "output_type": "execute_result"
    }
   ],
   "source": [
    "df_physical_prepared, df_physical_labels = prepare_HTIL_physical_dataset(df_physical_no_context)\n",
    "df_physical_prepared.head()"
   ]
  },
  {
   "cell_type": "code",
   "execution_count": 58,
   "metadata": {},
   "outputs": [
    {
     "data": {
      "text/plain": [
       "((7364, 40), (1842, 40), (7364, 2), (1842, 2))"
      ]
     },
     "execution_count": 58,
     "metadata": {},
     "output_type": "execute_result"
    }
   ],
   "source": [
    "X_train, X_test, y_train, y_test = train_test_split(df_physical_prepared, df_physical_labels[[\"new_labels\", \"label_n\"]], test_size=0.2, random_state=random_state)\n",
    "X_train.shape, X_test.shape, y_train.shape, y_test.shape"
   ]
  },
  {
   "cell_type": "code",
   "execution_count": 59,
   "metadata": {},
   "outputs": [],
   "source": [
    "params = {\n",
    "    'max_depth': 8,\n",
    "    'criterion': 'gini',\n",
    "    'splitter': 'best',\n",
    "    'random_state': random_state\n",
    "}\n",
    "\n",
    "clf = DecisionTreeClassifier(**params)"
   ]
  },
  {
   "cell_type": "code",
   "execution_count": 60,
   "metadata": {},
   "outputs": [
    {
     "data": {
      "text/html": [
       "<style>#sk-container-id-2 {color: black;}#sk-container-id-2 pre{padding: 0;}#sk-container-id-2 div.sk-toggleable {background-color: white;}#sk-container-id-2 label.sk-toggleable__label {cursor: pointer;display: block;width: 100%;margin-bottom: 0;padding: 0.3em;box-sizing: border-box;text-align: center;}#sk-container-id-2 label.sk-toggleable__label-arrow:before {content: \"▸\";float: left;margin-right: 0.25em;color: #696969;}#sk-container-id-2 label.sk-toggleable__label-arrow:hover:before {color: black;}#sk-container-id-2 div.sk-estimator:hover label.sk-toggleable__label-arrow:before {color: black;}#sk-container-id-2 div.sk-toggleable__content {max-height: 0;max-width: 0;overflow: hidden;text-align: left;background-color: #f0f8ff;}#sk-container-id-2 div.sk-toggleable__content pre {margin: 0.2em;color: black;border-radius: 0.25em;background-color: #f0f8ff;}#sk-container-id-2 input.sk-toggleable__control:checked~div.sk-toggleable__content {max-height: 200px;max-width: 100%;overflow: auto;}#sk-container-id-2 input.sk-toggleable__control:checked~label.sk-toggleable__label-arrow:before {content: \"▾\";}#sk-container-id-2 div.sk-estimator input.sk-toggleable__control:checked~label.sk-toggleable__label {background-color: #d4ebff;}#sk-container-id-2 div.sk-label input.sk-toggleable__control:checked~label.sk-toggleable__label {background-color: #d4ebff;}#sk-container-id-2 input.sk-hidden--visually {border: 0;clip: rect(1px 1px 1px 1px);clip: rect(1px, 1px, 1px, 1px);height: 1px;margin: -1px;overflow: hidden;padding: 0;position: absolute;width: 1px;}#sk-container-id-2 div.sk-estimator {font-family: monospace;background-color: #f0f8ff;border: 1px dotted black;border-radius: 0.25em;box-sizing: border-box;margin-bottom: 0.5em;}#sk-container-id-2 div.sk-estimator:hover {background-color: #d4ebff;}#sk-container-id-2 div.sk-parallel-item::after {content: \"\";width: 100%;border-bottom: 1px solid gray;flex-grow: 1;}#sk-container-id-2 div.sk-label:hover label.sk-toggleable__label {background-color: #d4ebff;}#sk-container-id-2 div.sk-serial::before {content: \"\";position: absolute;border-left: 1px solid gray;box-sizing: border-box;top: 0;bottom: 0;left: 50%;z-index: 0;}#sk-container-id-2 div.sk-serial {display: flex;flex-direction: column;align-items: center;background-color: white;padding-right: 0.2em;padding-left: 0.2em;position: relative;}#sk-container-id-2 div.sk-item {position: relative;z-index: 1;}#sk-container-id-2 div.sk-parallel {display: flex;align-items: stretch;justify-content: center;background-color: white;position: relative;}#sk-container-id-2 div.sk-item::before, #sk-container-id-2 div.sk-parallel-item::before {content: \"\";position: absolute;border-left: 1px solid gray;box-sizing: border-box;top: 0;bottom: 0;left: 50%;z-index: -1;}#sk-container-id-2 div.sk-parallel-item {display: flex;flex-direction: column;z-index: 1;position: relative;background-color: white;}#sk-container-id-2 div.sk-parallel-item:first-child::after {align-self: flex-end;width: 50%;}#sk-container-id-2 div.sk-parallel-item:last-child::after {align-self: flex-start;width: 50%;}#sk-container-id-2 div.sk-parallel-item:only-child::after {width: 0;}#sk-container-id-2 div.sk-dashed-wrapped {border: 1px dashed gray;margin: 0 0.4em 0.5em 0.4em;box-sizing: border-box;padding-bottom: 0.4em;background-color: white;}#sk-container-id-2 div.sk-label label {font-family: monospace;font-weight: bold;display: inline-block;line-height: 1.2em;}#sk-container-id-2 div.sk-label-container {text-align: center;}#sk-container-id-2 div.sk-container {/* jupyter's `normalize.less` sets `[hidden] { display: none; }` but bootstrap.min.css set `[hidden] { display: none !important; }` so we also need the `!important` here to be able to override the default hidden behavior on the sphinx rendered scikit-learn.org. See: https://github.com/scikit-learn/scikit-learn/issues/21755 */display: inline-block !important;position: relative;}#sk-container-id-2 div.sk-text-repr-fallback {display: none;}</style><div id=\"sk-container-id-2\" class=\"sk-top-container\"><div class=\"sk-text-repr-fallback\"><pre>Pipeline(steps=[(&#x27;standardscaler&#x27;, StandardScaler()),\n",
       "                (&#x27;decisiontreeclassifier&#x27;,\n",
       "                 DecisionTreeClassifier(max_depth=8, random_state=42))])</pre><b>In a Jupyter environment, please rerun this cell to show the HTML representation or trust the notebook. <br />On GitHub, the HTML representation is unable to render, please try loading this page with nbviewer.org.</b></div><div class=\"sk-container\" hidden><div class=\"sk-item sk-dashed-wrapped\"><div class=\"sk-label-container\"><div class=\"sk-label sk-toggleable\"><input class=\"sk-toggleable__control sk-hidden--visually\" id=\"sk-estimator-id-4\" type=\"checkbox\" ><label for=\"sk-estimator-id-4\" class=\"sk-toggleable__label sk-toggleable__label-arrow\">Pipeline</label><div class=\"sk-toggleable__content\"><pre>Pipeline(steps=[(&#x27;standardscaler&#x27;, StandardScaler()),\n",
       "                (&#x27;decisiontreeclassifier&#x27;,\n",
       "                 DecisionTreeClassifier(max_depth=8, random_state=42))])</pre></div></div></div><div class=\"sk-serial\"><div class=\"sk-item\"><div class=\"sk-estimator sk-toggleable\"><input class=\"sk-toggleable__control sk-hidden--visually\" id=\"sk-estimator-id-5\" type=\"checkbox\" ><label for=\"sk-estimator-id-5\" class=\"sk-toggleable__label sk-toggleable__label-arrow\">StandardScaler</label><div class=\"sk-toggleable__content\"><pre>StandardScaler()</pre></div></div></div><div class=\"sk-item\"><div class=\"sk-estimator sk-toggleable\"><input class=\"sk-toggleable__control sk-hidden--visually\" id=\"sk-estimator-id-6\" type=\"checkbox\" ><label for=\"sk-estimator-id-6\" class=\"sk-toggleable__label sk-toggleable__label-arrow\">DecisionTreeClassifier</label><div class=\"sk-toggleable__content\"><pre>DecisionTreeClassifier(max_depth=8, random_state=42)</pre></div></div></div></div></div></div></div>"
      ],
      "text/plain": [
       "Pipeline(steps=[('standardscaler', StandardScaler()),\n",
       "                ('decisiontreeclassifier',\n",
       "                 DecisionTreeClassifier(max_depth=8, random_state=42))])"
      ]
     },
     "execution_count": 60,
     "metadata": {},
     "output_type": "execute_result"
    }
   ],
   "source": [
    "pipeline = make_pipeline(\n",
    "    StandardScaler(),\n",
    "    clf\n",
    ")\n",
    "\n",
    "pipeline.fit(X_train, y_train[\"new_labels\"])"
   ]
  },
  {
   "cell_type": "code",
   "execution_count": 61,
   "metadata": {},
   "outputs": [],
   "source": [
    "preds = pipeline.predict(X_test)"
   ]
  },
  {
   "cell_type": "code",
   "execution_count": 62,
   "metadata": {},
   "outputs": [
    {
     "name": "stdout",
     "output_type": "stream",
     "text": [
      "Accuracy:  0.9098805646036916\n",
      "Recall:  0.6005756884527672\n",
      "F1:  0.6716904212164876\n",
      "MCC:  0.6660129300122372\n",
      "Balanced accuracy:  0.6005756884527672\n"
     ]
    }
   ],
   "source": [
    "print(\"Accuracy: \", accuracy_score(y_test[\"new_labels\"], preds.round()))\n",
    "print(\"Recall: \", recall_score(y_test[\"new_labels\"], preds.round(), average=\"macro\"))\n",
    "print(\"F1: \", f1_score(y_test[\"new_labels\"], preds.round(), average=\"macro\"))\n",
    "print(\"MCC: \", matthews_corrcoef(y_test[\"new_labels\"], preds.round()))\n",
    "print(\"Balanced accuracy: \", balanced_accuracy_score(y_test[\"new_labels\"], preds.round()))"
   ]
  },
  {
   "cell_type": "code",
   "execution_count": 63,
   "metadata": {},
   "outputs": [
    {
     "data": {
      "image/png": "[encoded data removed]",
      "text/plain": [
       "<Figure size 600x600 with 2 Axes>"
      ]
     },
     "metadata": {},
     "output_type": "display_data"
    }
   ],
   "source": [
    "plot_confusion_matrix(y_test[\"new_labels\"], preds.round(), title=\"Confusion matrix for the test set\")"
   ]
  },
  {
   "cell_type": "markdown",
   "metadata": {},
   "source": [
    "It is still not great, but it's better than before. We will try to fix this by using the `class_weight` parameter."
   ]
  },
  {
   "cell_type": "code",
   "execution_count": 64,
   "metadata": {},
   "outputs": [
    {
     "data": {
      "image/png": "[encoded data removed]",
      "text/plain": [
       "<Figure size 1500x600 with 1 Axes>"
      ]
     },
     "metadata": {},
     "output_type": "display_data"
    }
   ],
   "source": [
    "plot_feature_importance(clf)"
   ]
  },
  {
   "cell_type": "code",
   "execution_count": 80,
   "metadata": {},
   "outputs": [
    {
     "name": "stdout",
     "output_type": "stream",
     "text": [
      "Accuracy:  0.8610206297502715\n",
      "Recall:  0.905293469919902\n",
      "F1:  0.8210253799620744\n",
      "MCC:  0.6657174507771821\n",
      "Balanced accuracy:  0.905293469919902\n"
     ]
    },
    {
     "data": {
      "image/png": "[encoded data removed]",
      "text/plain": [
       "<Figure size 600x600 with 2 Axes>"
      ]
     },
     "metadata": {},
     "output_type": "display_data"
    },
    {
     "data": {
      "image/png": "[encoded data removed]",
      "text/plain": [
       "<Figure size 1500x600 with 1 Axes>"
      ]
     },
     "metadata": {},
     "output_type": "display_data"
    }
   ],
   "source": [
    "# class weight training on decision tree\n",
    "params = {\n",
    "    'max_depth': 8,\n",
    "    'criterion': 'gini',\n",
    "    'splitter': 'best',\n",
    "    'random_state': random_state,\n",
    "    'class_weight': 'balanced'\n",
    "}\n",
    "\n",
    "clf = DecisionTreeClassifier(**params)\n",
    "\n",
    "pipeline = make_pipeline(\n",
    "    StandardScaler(),\n",
    "    clf\n",
    ")\n",
    "\n",
    "# remove 4th class\n",
    "X_train = X_train[y_train[\"new_labels\"] != 4]\n",
    "y_train = y_train[y_train[\"new_labels\"] != 4]\n",
    "X_test = X_test[y_test[\"new_labels\"] != 4]\n",
    "y_test = y_test[y_test[\"new_labels\"] != 4]\n",
    "\n",
    "pipeline.fit(X_train, y_train[\"new_labels\"])\n",
    "\n",
    "preds = pipeline.predict(X_test)\n",
    "\n",
    "print(\"Accuracy: \", accuracy_score(y_test[\"new_labels\"], preds.round()))\n",
    "print(\"Recall: \", recall_score(y_test[\"new_labels\"], preds.round(), average=\"macro\"))\n",
    "print(\"F1: \", f1_score(y_test[\"new_labels\"], preds.round(), average=\"macro\"))\n",
    "print(\"MCC: \", matthews_corrcoef(y_test[\"new_labels\"], preds.round()))\n",
    "print(\"Balanced accuracy: \", balanced_accuracy_score(y_test[\"new_labels\"], preds.round()))\n",
    "\n",
    "plot_confusion_matrix(y_test[\"new_labels\"], preds.round(), title=\"Confusion matrix for the test set\")\n",
    "\n",
    "plot_feature_importance(clf)"
   ]
  },
  {
   "cell_type": "markdown",
   "metadata": {},
   "source": [
    "After applying the balanced class weight, the results are better. The model is able to detect 100% of the anomalies, but it has a lot of confusion between 2->1 and 3->2."
   ]
  },
  {
   "cell_type": "markdown",
   "metadata": {},
   "source": [
    "### b. Random Forest"
   ]
  },
  {
   "cell_type": "markdown",
   "metadata": {},
   "source": [
    "Let's apply the balanced class weights everytime from now on."
   ]
  },
  {
   "cell_type": "code",
   "execution_count": 81,
   "metadata": {},
   "outputs": [
    {
     "name": "stdout",
     "output_type": "stream",
     "text": [
      "Accuracy:  0.9201954397394136\n",
      "Recall:  0.9509380587101528\n",
      "F1:  0.8842700752905684\n",
      "MCC:  0.7889849844064595\n",
      "Balanced accuracy:  0.9509380587101528\n"
     ]
    },
    {
     "data": {
      "image/png": "[encoded data removed]",
      "text/plain": [
       "<Figure size 600x600 with 2 Axes>"
      ]
     },
     "metadata": {},
     "output_type": "display_data"
    }
   ],
   "source": [
    "# random forest classification on the X_train, X_test, y_train, y_test datasets\n",
    "from sklearn.ensemble import RandomForestClassifier\n",
    "\n",
    "params = {\n",
    "    'max_depth': 8,\n",
    "    'criterion': 'gini',\n",
    "    'n_estimators': 100,\n",
    "    'random_state': 42,\n",
    "    'class_weight': 'balanced'\n",
    "}\n",
    "\n",
    "clf = RandomForestClassifier(**params)\n",
    "\n",
    "pipeline = make_pipeline(\n",
    "    StandardScaler(),\n",
    "    clf\n",
    ")\n",
    "\n",
    "pipeline.fit(X_train, y_train[\"new_labels\"])\n",
    "\n",
    "preds = pipeline.predict(X_test)\n",
    "\n",
    "print(\"Accuracy: \", accuracy_score(y_test[\"new_labels\"], preds.round()))\n",
    "print(\"Recall: \", recall_score(y_test[\"new_labels\"], preds.round(), average=\"macro\"))\n",
    "print(\"F1: \", f1_score(y_test[\"new_labels\"], preds.round(), average=\"macro\"))\n",
    "print(\"MCC: \", matthews_corrcoef(y_test[\"new_labels\"], preds.round()))\n",
    "print(\"Balanced accuracy: \", balanced_accuracy_score(y_test[\"new_labels\"], preds.round()))\n",
    "\n",
    "plot_confusion_matrix(y_test[\"new_labels\"], preds.round(), title=\"Confusion matrix for the test set\")"
   ]
  },
  {
   "cell_type": "code",
   "execution_count": 82,
   "metadata": {},
   "outputs": [
    {
     "data": {
      "image/png": "[encoded data removed]",
      "text/plain": [
       "<Figure size 1500x600 with 1 Axes>"
      ]
     },
     "metadata": {},
     "output_type": "display_data"
    }
   ],
   "source": [
    "plot_feature_importance(clf)"
   ]
  },
  {
   "cell_type": "markdown",
   "metadata": {},
   "source": [
    "Solid results."
   ]
  },
  {
   "cell_type": "markdown",
   "metadata": {},
   "source": [
    "### c. XGBoost"
   ]
  },
  {
   "cell_type": "code",
   "execution_count": 86,
   "metadata": {},
   "outputs": [
    {
     "name": "stderr",
     "output_type": "stream",
     "text": [
      "c:\\Users\\Tom\\AppData\\Local\\Programs\\Python\\Python310\\lib\\site-packages\\xgboost\\core.py:160: UserWarning: [19:17:09] WARNING: C:\\buildkite-agent\\builds\\buildkite-windows-cpu-autoscaling-group-i-07f6e447eee219473-1\\xgboost\\xgboost-ci-windows\\src\\learner.cc:742: \n",
      "Parameters: { \"class_weight\" } are not used.\n",
      "\n",
      "  warnings.warn(smsg, UserWarning)\n"
     ]
    },
    {
     "name": "stdout",
     "output_type": "stream",
     "text": [
      "Accuracy:  0.990228013029316\n",
      "Recall:  0.9688472058897267\n",
      "F1:  0.9791810382614426\n",
      "MCC:  0.9673650912082422\n",
      "Balanced accuracy:  0.9688472058897267\n"
     ]
    },
    {
     "data": {
      "image/png": "[encoded data removed]",
      "text/plain": [
       "<Figure size 600x600 with 2 Axes>"
      ]
     },
     "metadata": {},
     "output_type": "display_data"
    }
   ],
   "source": [
    "# xgboost classification on the X_train, X_test, y_train, y_test datasets\n",
    "from xgboost import XGBClassifier\n",
    "\n",
    "params = {\n",
    "    'max_depth': 8,\n",
    "    'n_estimators': 100,\n",
    "    'random_state': 42,\n",
    "    'class_weight': 'balanced'\n",
    "}\n",
    "\n",
    "clf = XGBClassifier(**params)\n",
    "\n",
    "pipeline = make_pipeline(\n",
    "    StandardScaler(),\n",
    "    clf\n",
    ")\n",
    "\n",
    "pipeline.fit(X_train, y_train[\"new_labels\"])\n",
    "\n",
    "preds = pipeline.predict(X_test)\n",
    "\n",
    "print(\"Accuracy: \", accuracy_score(y_test[\"new_labels\"], preds.round()))\n",
    "print(\"Recall: \", recall_score(y_test[\"new_labels\"], preds.round(), average=\"macro\"))\n",
    "print(\"F1: \", f1_score(y_test[\"new_labels\"], preds.round(), average=\"macro\"))\n",
    "print(\"MCC: \", matthews_corrcoef(y_test[\"new_labels\"], preds.round()))\n",
    "print(\"Balanced accuracy: \", balanced_accuracy_score(y_test[\"new_labels\"], preds.round()))\n",
    "\n",
    "plot_confusion_matrix(y_test[\"new_labels\"], preds.round(), title=\"Confusion matrix for the test set\")"
   ]
  },
  {
   "cell_type": "markdown",
   "metadata": {},
   "source": [
    "The XGBoost model is the best so far, with almost 97% Recall and 99% Accuracy."
   ]
  },
  {
   "cell_type": "code",
   "execution_count": 84,
   "metadata": {},
   "outputs": [
    {
     "data": {
      "image/png": "[encoded data removed]",
      "text/plain": [
       "<Figure size 1500x600 with 1 Axes>"
      ]
     },
     "metadata": {},
     "output_type": "display_data"
    }
   ],
   "source": [
    "plot_feature_importance(clf)"
   ]
  }
 ],
 "metadata": {
  "kernelspec": {
   "display_name": ".venv",
   "language": "python",
   "name": "python3"
  },
  "language_info": {
   "codemirror_mode": {
    "name": "ipython",
    "version": 3
   },
   "file_extension": ".py",
   "mimetype": "text/x-python",
   "name": "python",
   "nbconvert_exporter": "python",
   "pygments_lexer": "ipython3",
   "version": "3.10.0"
  }
 },
 "nbformat": 4,
 "nbformat_minor": 2
}
