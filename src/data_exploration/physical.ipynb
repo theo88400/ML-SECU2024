{
 "cells": [
  {
   "cell_type": "markdown",
   "metadata": {},
   "source": [
    "# Study of the physical dataset\n",
    "\n",
    "In this notebook, we will study how different models perform on the physical dataset. Some of the models we will study are:\n",
    "1. Non-supervised:\n",
    "    - Isolation Forest (IF)\n",
    "    - Local Outlier Factor (LOF)\n",
    "2. Neural physicals:\n",
    "    - DNN\n",
    "    - LSTM\n",
    "3. Supervised classifiers:\n",
    "    - Decision Tree\n",
    "    - Random Forest\n",
    "    - XGBoost\n",
    "\n",
    "First, let's import the necessary libraries."
   ]
  },
  {
   "cell_type": "code",
   "execution_count": 121,
   "metadata": {},
   "outputs": [],
   "source": [
    "from preprocess_data import get_HITL, clean_HITL, prepare_HTIL_physical_dataset, remove_physical_contextual_columns\n",
    "\n",
    "from mlsecu.data_exploration_utils import (\n",
    "    get_column_names,\n",
    "    get_nb_of_dimensions,\n",
    "    get_nb_of_rows,\n",
    "    get_object_column_names,\n",
    "    get_number_column_names,\n",
    ")\n",
    "from mlsecu.anomaly_detection_use_case import *\n",
    "from mlsecu.data_preparation_utils import (\n",
    "    get_one_hot_encoded_dataframe,\n",
    "    remove_nan_through_mean_imputation,\n",
    ")\n",
    "\n",
    "from sklearn.model_selection import train_test_split\n",
    "from sklearn.pipeline import make_pipeline\n",
    "from sklearn.tree import DecisionTreeClassifier\n",
    "from sklearn.preprocessing import StandardScaler\n",
    "from sklearn.metrics import (\n",
    "    accuracy_score,\n",
    "    precision_score,\n",
    "    recall_score,\n",
    "    f1_score,\n",
    "    roc_auc_score,\n",
    "    matthews_corrcoef,\n",
    "    balanced_accuracy_score,\n",
    "    confusion_matrix,\n",
    ")\n",
    "\n",
    "import matplotlib.pyplot as plt\n",
    "import numpy as np\n",
    "import pandas as pd\n",
    "import seaborn as sns\n",
    "\n",
    "import torch\n",
    "import torch.nn as nn\n",
    "import torch.nn.functional as F\n",
    "\n",
    "import tensorflow as tf\n",
    "from tensorflow.keras.activations import swish, sigmoid, softmax\n",
    "\n",
    "BASE_PATH = \"../../data/\"\n",
    "random_state = 42\n",
    "np.random.seed(random_state)\n",
    "tf.random.set_seed(random_state)"
   ]
  },
  {
   "cell_type": "markdown",
   "metadata": {},
   "source": [
    "# Load and prepare the dataset\n",
    "\n",
    "We have defined multiple preprocessing functions in the `preprocessing.py` file. We will use them to load and prepare the dataset."
   ]
  },
  {
   "cell_type": "code",
   "execution_count": 122,
   "metadata": {},
   "outputs": [
    {
     "name": "stdout",
     "output_type": "stream",
     "text": [
      "Physical dataset shape:  (9206, 44)\n"
     ]
    }
   ],
   "source": [
    "hitl_dict = get_HITL(\"../../data/HardwareInTheLoop/\", small=True)\n",
    "_, df_physical = clean_HITL(hitl_dict) # Clean-up helper function\n",
    "\n",
    "print(\"Physical dataset shape: \", df_physical.shape)"
   ]
  },
  {
   "cell_type": "code",
   "execution_count": 123,
   "metadata": {},
   "outputs": [
    {
     "data": {
      "text/html": [
       "<div>\n",
       "<style scoped>\n",
       "    .dataframe tbody tr th:only-of-type {\n",
       "        vertical-align: middle;\n",
       "    }\n",
       "\n",
       "    .dataframe tbody tr th {\n",
       "        vertical-align: top;\n",
       "    }\n",
       "\n",
       "    .dataframe thead th {\n",
       "        text-align: right;\n",
       "    }\n",
       "</style>\n",
       "<table border=\"1\" class=\"dataframe\">\n",
       "  <thead>\n",
       "    <tr style=\"text-align: right;\">\n",
       "      <th></th>\n",
       "      <th>time</th>\n",
       "      <th>tank_1</th>\n",
       "      <th>tank_2</th>\n",
       "      <th>tank_3</th>\n",
       "      <th>tank_4</th>\n",
       "      <th>tank_5</th>\n",
       "      <th>tank_6</th>\n",
       "      <th>tank_7</th>\n",
       "      <th>tank_8</th>\n",
       "      <th>pump_1</th>\n",
       "      <th>...</th>\n",
       "      <th>valv_13</th>\n",
       "      <th>valv_14</th>\n",
       "      <th>valv_15</th>\n",
       "      <th>valv_16</th>\n",
       "      <th>valv_17</th>\n",
       "      <th>valv_18</th>\n",
       "      <th>valv_19</th>\n",
       "      <th>valv_20</th>\n",
       "      <th>valv_21</th>\n",
       "      <th>valv_22</th>\n",
       "    </tr>\n",
       "  </thead>\n",
       "  <tbody>\n",
       "    <tr>\n",
       "      <th>0</th>\n",
       "      <td>1.630780e+09</td>\n",
       "      <td>0</td>\n",
       "      <td>0</td>\n",
       "      <td>0</td>\n",
       "      <td>0</td>\n",
       "      <td>0</td>\n",
       "      <td>0</td>\n",
       "      <td>0</td>\n",
       "      <td>0</td>\n",
       "      <td>0</td>\n",
       "      <td>...</td>\n",
       "      <td>0</td>\n",
       "      <td>0</td>\n",
       "      <td>0</td>\n",
       "      <td>0</td>\n",
       "      <td>0</td>\n",
       "      <td>0</td>\n",
       "      <td>0</td>\n",
       "      <td>0</td>\n",
       "      <td>0</td>\n",
       "      <td>0</td>\n",
       "    </tr>\n",
       "    <tr>\n",
       "      <th>1</th>\n",
       "      <td>1.630780e+09</td>\n",
       "      <td>0</td>\n",
       "      <td>0</td>\n",
       "      <td>0</td>\n",
       "      <td>0</td>\n",
       "      <td>0</td>\n",
       "      <td>0</td>\n",
       "      <td>0</td>\n",
       "      <td>0</td>\n",
       "      <td>0</td>\n",
       "      <td>...</td>\n",
       "      <td>0</td>\n",
       "      <td>0</td>\n",
       "      <td>0</td>\n",
       "      <td>0</td>\n",
       "      <td>0</td>\n",
       "      <td>0</td>\n",
       "      <td>0</td>\n",
       "      <td>0</td>\n",
       "      <td>0</td>\n",
       "      <td>0</td>\n",
       "    </tr>\n",
       "    <tr>\n",
       "      <th>2</th>\n",
       "      <td>1.630780e+09</td>\n",
       "      <td>0</td>\n",
       "      <td>0</td>\n",
       "      <td>0</td>\n",
       "      <td>0</td>\n",
       "      <td>0</td>\n",
       "      <td>0</td>\n",
       "      <td>0</td>\n",
       "      <td>0</td>\n",
       "      <td>0</td>\n",
       "      <td>...</td>\n",
       "      <td>0</td>\n",
       "      <td>0</td>\n",
       "      <td>0</td>\n",
       "      <td>0</td>\n",
       "      <td>0</td>\n",
       "      <td>0</td>\n",
       "      <td>0</td>\n",
       "      <td>0</td>\n",
       "      <td>0</td>\n",
       "      <td>0</td>\n",
       "    </tr>\n",
       "    <tr>\n",
       "      <th>3</th>\n",
       "      <td>1.630780e+09</td>\n",
       "      <td>0</td>\n",
       "      <td>0</td>\n",
       "      <td>0</td>\n",
       "      <td>0</td>\n",
       "      <td>0</td>\n",
       "      <td>0</td>\n",
       "      <td>0</td>\n",
       "      <td>0</td>\n",
       "      <td>0</td>\n",
       "      <td>...</td>\n",
       "      <td>0</td>\n",
       "      <td>0</td>\n",
       "      <td>0</td>\n",
       "      <td>0</td>\n",
       "      <td>0</td>\n",
       "      <td>0</td>\n",
       "      <td>0</td>\n",
       "      <td>0</td>\n",
       "      <td>0</td>\n",
       "      <td>0</td>\n",
       "    </tr>\n",
       "    <tr>\n",
       "      <th>4</th>\n",
       "      <td>1.630780e+09</td>\n",
       "      <td>0</td>\n",
       "      <td>0</td>\n",
       "      <td>0</td>\n",
       "      <td>0</td>\n",
       "      <td>0</td>\n",
       "      <td>0</td>\n",
       "      <td>0</td>\n",
       "      <td>0</td>\n",
       "      <td>1</td>\n",
       "      <td>...</td>\n",
       "      <td>0</td>\n",
       "      <td>0</td>\n",
       "      <td>0</td>\n",
       "      <td>0</td>\n",
       "      <td>0</td>\n",
       "      <td>0</td>\n",
       "      <td>0</td>\n",
       "      <td>0</td>\n",
       "      <td>0</td>\n",
       "      <td>0</td>\n",
       "    </tr>\n",
       "  </tbody>\n",
       "</table>\n",
       "<p>5 rows × 41 columns</p>\n",
       "</div>"
      ],
      "text/plain": [
       "           time  tank_1  tank_2  tank_3  tank_4  tank_5  tank_6  tank_7  \\\n",
       "0  1.630780e+09       0       0       0       0       0       0       0   \n",
       "1  1.630780e+09       0       0       0       0       0       0       0   \n",
       "2  1.630780e+09       0       0       0       0       0       0       0   \n",
       "3  1.630780e+09       0       0       0       0       0       0       0   \n",
       "4  1.630780e+09       0       0       0       0       0       0       0   \n",
       "\n",
       "   tank_8  pump_1  ...  valv_13  valv_14  valv_15  valv_16  valv_17  valv_18  \\\n",
       "0       0       0  ...        0        0        0        0        0        0   \n",
       "1       0       0  ...        0        0        0        0        0        0   \n",
       "2       0       0  ...        0        0        0        0        0        0   \n",
       "3       0       0  ...        0        0        0        0        0        0   \n",
       "4       0       1  ...        0        0        0        0        0        0   \n",
       "\n",
       "   valv_19  valv_20  valv_21  valv_22  \n",
       "0        0        0        0        0  \n",
       "1        0        0        0        0  \n",
       "2        0        0        0        0  \n",
       "3        0        0        0        0  \n",
       "4        0        0        0        0  \n",
       "\n",
       "[5 rows x 41 columns]"
      ]
     },
     "execution_count": 123,
     "metadata": {},
     "output_type": "execute_result"
    }
   ],
   "source": [
    "df_physical_prepared, df_physical_labels = prepare_HTIL_physical_dataset(df_physical)\n",
    "df_physical_prepared.head()"
   ]
  },
  {
   "cell_type": "code",
   "execution_count": 124,
   "metadata": {},
   "outputs": [
    {
     "data": {
      "text/html": [
       "<div>\n",
       "<style scoped>\n",
       "    .dataframe tbody tr th:only-of-type {\n",
       "        vertical-align: middle;\n",
       "    }\n",
       "\n",
       "    .dataframe tbody tr th {\n",
       "        vertical-align: top;\n",
       "    }\n",
       "\n",
       "    .dataframe thead th {\n",
       "        text-align: right;\n",
       "    }\n",
       "</style>\n",
       "<table border=\"1\" class=\"dataframe\">\n",
       "  <thead>\n",
       "    <tr style=\"text-align: right;\">\n",
       "      <th></th>\n",
       "      <th>label_n</th>\n",
       "      <th>label</th>\n",
       "      <th>attack</th>\n",
       "      <th>new_labels</th>\n",
       "    </tr>\n",
       "  </thead>\n",
       "  <tbody>\n",
       "    <tr>\n",
       "      <th>0</th>\n",
       "      <td>0.0</td>\n",
       "      <td>normal</td>\n",
       "      <td>1</td>\n",
       "      <td>2</td>\n",
       "    </tr>\n",
       "    <tr>\n",
       "      <th>1</th>\n",
       "      <td>0.0</td>\n",
       "      <td>normal</td>\n",
       "      <td>1</td>\n",
       "      <td>2</td>\n",
       "    </tr>\n",
       "    <tr>\n",
       "      <th>2</th>\n",
       "      <td>0.0</td>\n",
       "      <td>normal</td>\n",
       "      <td>1</td>\n",
       "      <td>2</td>\n",
       "    </tr>\n",
       "    <tr>\n",
       "      <th>3</th>\n",
       "      <td>0.0</td>\n",
       "      <td>normal</td>\n",
       "      <td>1</td>\n",
       "      <td>2</td>\n",
       "    </tr>\n",
       "    <tr>\n",
       "      <th>4</th>\n",
       "      <td>0.0</td>\n",
       "      <td>normal</td>\n",
       "      <td>1</td>\n",
       "      <td>2</td>\n",
       "    </tr>\n",
       "  </tbody>\n",
       "</table>\n",
       "</div>"
      ],
      "text/plain": [
       "   label_n   label  attack  new_labels\n",
       "0      0.0  normal       1           2\n",
       "1      0.0  normal       1           2\n",
       "2      0.0  normal       1           2\n",
       "3      0.0  normal       1           2\n",
       "4      0.0  normal       1           2"
      ]
     },
     "execution_count": 124,
     "metadata": {},
     "output_type": "execute_result"
    }
   ],
   "source": [
    "df_physical_labels.head()"
   ]
  },
  {
   "cell_type": "markdown",
   "metadata": {},
   "source": [
    "# Models analysis"
   ]
  },
  {
   "cell_type": "markdown",
   "metadata": {},
   "source": [
    "## 1. Non-supervised models"
   ]
  },
  {
   "cell_type": "markdown",
   "metadata": {},
   "source": [
    "### a. Isolation Forest\n",
    "\n",
    "As a first step, let's try default parameters for the Isolation Forest model."
   ]
  },
  {
   "cell_type": "code",
   "execution_count": 125,
   "metadata": {},
   "outputs": [
    {
     "data": {
      "text/plain": [
       "label_n\n",
       "0.0    7747\n",
       "1.0    1459\n",
       "Name: count, dtype: int64"
      ]
     },
     "execution_count": 125,
     "metadata": {},
     "output_type": "execute_result"
    }
   ],
   "source": [
    "df_physical_labels[\"label_n\"].value_counts()"
   ]
  },
  {
   "cell_type": "code",
   "execution_count": 126,
   "metadata": {},
   "outputs": [
    {
     "data": {
      "text/plain": [
       "6177"
      ]
     },
     "execution_count": 126,
     "metadata": {},
     "output_type": "execute_result"
    }
   ],
   "source": [
    "clf = IsolationForest(random_state=42)\n",
    "y_pred = clf.fit_predict(df_physical_prepared)\n",
    "if_outliers = df_physical_prepared[y_pred == -1].index.values.tolist()\n",
    "len(if_outliers)"
   ]
  },
  {
   "cell_type": "code",
   "execution_count": 127,
   "metadata": {},
   "outputs": [
    {
     "data": {
      "text/plain": [
       "label_n\n",
       "0.0    4997\n",
       "1.0    1180\n",
       "Name: count, dtype: int64"
      ]
     },
     "execution_count": 127,
     "metadata": {},
     "output_type": "execute_result"
    }
   ],
   "source": [
    "df_physical_labels.iloc[if_outliers][\"label_n\"].value_counts()"
   ]
  },
  {
   "cell_type": "markdown",
   "metadata": {},
   "source": [
    "Out of the 12505 outliers found, 7695 are real anomalies (61.5%). This is not a great result knowing there are 66k outliers, let's see if we can do better with a fixed contamination rate."
   ]
  },
  {
   "cell_type": "code",
   "execution_count": 128,
   "metadata": {},
   "outputs": [
    {
     "data": {
      "text/plain": [
       "0.1584835976537041"
      ]
     },
     "execution_count": 128,
     "metadata": {},
     "output_type": "execute_result"
    }
   ],
   "source": [
    "val_counts_labels = df_physical_labels[\"label_n\"].value_counts()\n",
    "contamination_rate = val_counts_labels[1] / (val_counts_labels[0] + val_counts_labels[1])\n",
    "contamination_rate"
   ]
  },
  {
   "cell_type": "code",
   "execution_count": 129,
   "metadata": {},
   "outputs": [
    {
     "data": {
      "text/plain": [
       "1459"
      ]
     },
     "execution_count": 129,
     "metadata": {},
     "output_type": "execute_result"
    }
   ],
   "source": [
    "clf = IsolationForest(n_estimators=100, n_jobs=-1, bootstrap=True, random_state=42, contamination=contamination_rate)\n",
    "y_pred = clf.fit_predict(df_physical_prepared)\n",
    "if_outliers_cr = df_physical_prepared[y_pred == -1].index.values.tolist()\n",
    "len(if_outliers_cr)"
   ]
  },
  {
   "cell_type": "code",
   "execution_count": 130,
   "metadata": {},
   "outputs": [
    {
     "data": {
      "text/plain": [
       "label_n\n",
       "0.0    940\n",
       "1.0    519\n",
       "Name: count, dtype: int64"
      ]
     },
     "execution_count": 130,
     "metadata": {},
     "output_type": "execute_result"
    }
   ],
   "source": [
    "df_physical_labels.iloc[if_outliers_cr][\"label_n\"].value_counts()"
   ]
  },
  {
   "cell_type": "markdown",
   "metadata": {},
   "source": [
    "With a fixed contamination rate, the model gets a total of 65687 outliers, out of which 37940 are real anomalies (57.7%). This is a worse results than the default parameters, but more outliers are found."
   ]
  },
  {
   "cell_type": "markdown",
   "metadata": {},
   "source": [
    "### b. Local Outlier Factor"
   ]
  },
  {
   "cell_type": "code",
   "execution_count": 131,
   "metadata": {},
   "outputs": [
    {
     "data": {
      "text/plain": [
       "73"
      ]
     },
     "execution_count": 131,
     "metadata": {},
     "output_type": "execute_result"
    }
   ],
   "source": [
    "clf = LocalOutlierFactor(n_neighbors=5)\n",
    "y_pred = clf.fit_predict(df_physical_prepared)\n",
    "lof_outliers = df_physical_prepared[y_pred == -1].index.values.tolist()\n",
    "len(lof_outliers)"
   ]
  },
  {
   "cell_type": "code",
   "execution_count": 132,
   "metadata": {},
   "outputs": [
    {
     "data": {
      "text/plain": [
       "label_n\n",
       "0.0    48\n",
       "1.0    25\n",
       "Name: count, dtype: int64"
      ]
     },
     "execution_count": 132,
     "metadata": {},
     "output_type": "execute_result"
    }
   ],
   "source": [
    "df_physical_labels.iloc[lof_outliers][\"label_n\"].value_counts()"
   ]
  },
  {
   "cell_type": "markdown",
   "metadata": {},
   "source": [
    "## 2. Neural Networks"
   ]
  },
  {
   "cell_type": "markdown",
   "metadata": {},
   "source": [
    "### a. DNN\n",
    "\n",
    "We will use only some of the columns for the DNN model. We are removing contextual information such as the time and the source and destination IPs. To make it easier to manipulate, we will merge back the labels with the predictions."
   ]
  },
  {
   "cell_type": "markdown",
   "metadata": {},
   "source": [
    "#### Binary classification"
   ]
  },
  {
   "cell_type": "code",
   "execution_count": 133,
   "metadata": {},
   "outputs": [
    {
     "data": {
      "text/html": [
       "<div>\n",
       "<style scoped>\n",
       "    .dataframe tbody tr th:only-of-type {\n",
       "        vertical-align: middle;\n",
       "    }\n",
       "\n",
       "    .dataframe tbody tr th {\n",
       "        vertical-align: top;\n",
       "    }\n",
       "\n",
       "    .dataframe thead th {\n",
       "        text-align: right;\n",
       "    }\n",
       "</style>\n",
       "<table border=\"1\" class=\"dataframe\">\n",
       "  <thead>\n",
       "    <tr style=\"text-align: right;\">\n",
       "      <th></th>\n",
       "      <th>time</th>\n",
       "      <th>tank_1</th>\n",
       "      <th>tank_2</th>\n",
       "      <th>tank_3</th>\n",
       "      <th>tank_4</th>\n",
       "      <th>tank_5</th>\n",
       "      <th>tank_6</th>\n",
       "      <th>tank_7</th>\n",
       "      <th>tank_8</th>\n",
       "      <th>pump_1</th>\n",
       "      <th>...</th>\n",
       "      <th>valv_14</th>\n",
       "      <th>valv_15</th>\n",
       "      <th>valv_16</th>\n",
       "      <th>valv_17</th>\n",
       "      <th>valv_18</th>\n",
       "      <th>valv_19</th>\n",
       "      <th>valv_20</th>\n",
       "      <th>valv_21</th>\n",
       "      <th>valv_22</th>\n",
       "      <th>label_n</th>\n",
       "    </tr>\n",
       "  </thead>\n",
       "  <tbody>\n",
       "    <tr>\n",
       "      <th>0</th>\n",
       "      <td>1.630780e+09</td>\n",
       "      <td>0</td>\n",
       "      <td>0</td>\n",
       "      <td>0</td>\n",
       "      <td>0</td>\n",
       "      <td>0</td>\n",
       "      <td>0</td>\n",
       "      <td>0</td>\n",
       "      <td>0</td>\n",
       "      <td>0</td>\n",
       "      <td>...</td>\n",
       "      <td>0</td>\n",
       "      <td>0</td>\n",
       "      <td>0</td>\n",
       "      <td>0</td>\n",
       "      <td>0</td>\n",
       "      <td>0</td>\n",
       "      <td>0</td>\n",
       "      <td>0</td>\n",
       "      <td>0</td>\n",
       "      <td>0.0</td>\n",
       "    </tr>\n",
       "    <tr>\n",
       "      <th>1</th>\n",
       "      <td>1.630780e+09</td>\n",
       "      <td>0</td>\n",
       "      <td>0</td>\n",
       "      <td>0</td>\n",
       "      <td>0</td>\n",
       "      <td>0</td>\n",
       "      <td>0</td>\n",
       "      <td>0</td>\n",
       "      <td>0</td>\n",
       "      <td>0</td>\n",
       "      <td>...</td>\n",
       "      <td>0</td>\n",
       "      <td>0</td>\n",
       "      <td>0</td>\n",
       "      <td>0</td>\n",
       "      <td>0</td>\n",
       "      <td>0</td>\n",
       "      <td>0</td>\n",
       "      <td>0</td>\n",
       "      <td>0</td>\n",
       "      <td>0.0</td>\n",
       "    </tr>\n",
       "    <tr>\n",
       "      <th>2</th>\n",
       "      <td>1.630780e+09</td>\n",
       "      <td>0</td>\n",
       "      <td>0</td>\n",
       "      <td>0</td>\n",
       "      <td>0</td>\n",
       "      <td>0</td>\n",
       "      <td>0</td>\n",
       "      <td>0</td>\n",
       "      <td>0</td>\n",
       "      <td>0</td>\n",
       "      <td>...</td>\n",
       "      <td>0</td>\n",
       "      <td>0</td>\n",
       "      <td>0</td>\n",
       "      <td>0</td>\n",
       "      <td>0</td>\n",
       "      <td>0</td>\n",
       "      <td>0</td>\n",
       "      <td>0</td>\n",
       "      <td>0</td>\n",
       "      <td>0.0</td>\n",
       "    </tr>\n",
       "    <tr>\n",
       "      <th>3</th>\n",
       "      <td>1.630780e+09</td>\n",
       "      <td>0</td>\n",
       "      <td>0</td>\n",
       "      <td>0</td>\n",
       "      <td>0</td>\n",
       "      <td>0</td>\n",
       "      <td>0</td>\n",
       "      <td>0</td>\n",
       "      <td>0</td>\n",
       "      <td>0</td>\n",
       "      <td>...</td>\n",
       "      <td>0</td>\n",
       "      <td>0</td>\n",
       "      <td>0</td>\n",
       "      <td>0</td>\n",
       "      <td>0</td>\n",
       "      <td>0</td>\n",
       "      <td>0</td>\n",
       "      <td>0</td>\n",
       "      <td>0</td>\n",
       "      <td>0.0</td>\n",
       "    </tr>\n",
       "    <tr>\n",
       "      <th>4</th>\n",
       "      <td>1.630780e+09</td>\n",
       "      <td>0</td>\n",
       "      <td>0</td>\n",
       "      <td>0</td>\n",
       "      <td>0</td>\n",
       "      <td>0</td>\n",
       "      <td>0</td>\n",
       "      <td>0</td>\n",
       "      <td>0</td>\n",
       "      <td>1</td>\n",
       "      <td>...</td>\n",
       "      <td>0</td>\n",
       "      <td>0</td>\n",
       "      <td>0</td>\n",
       "      <td>0</td>\n",
       "      <td>0</td>\n",
       "      <td>0</td>\n",
       "      <td>0</td>\n",
       "      <td>0</td>\n",
       "      <td>0</td>\n",
       "      <td>0.0</td>\n",
       "    </tr>\n",
       "  </tbody>\n",
       "</table>\n",
       "<p>5 rows × 42 columns</p>\n",
       "</div>"
      ],
      "text/plain": [
       "           time  tank_1  tank_2  tank_3  tank_4  tank_5  tank_6  tank_7  \\\n",
       "0  1.630780e+09       0       0       0       0       0       0       0   \n",
       "1  1.630780e+09       0       0       0       0       0       0       0   \n",
       "2  1.630780e+09       0       0       0       0       0       0       0   \n",
       "3  1.630780e+09       0       0       0       0       0       0       0   \n",
       "4  1.630780e+09       0       0       0       0       0       0       0   \n",
       "\n",
       "   tank_8  pump_1  ...  valv_14  valv_15  valv_16  valv_17  valv_18  valv_19  \\\n",
       "0       0       0  ...        0        0        0        0        0        0   \n",
       "1       0       0  ...        0        0        0        0        0        0   \n",
       "2       0       0  ...        0        0        0        0        0        0   \n",
       "3       0       0  ...        0        0        0        0        0        0   \n",
       "4       0       1  ...        0        0        0        0        0        0   \n",
       "\n",
       "   valv_20  valv_21  valv_22  label_n  \n",
       "0        0        0        0      0.0  \n",
       "1        0        0        0      0.0  \n",
       "2        0        0        0      0.0  \n",
       "3        0        0        0      0.0  \n",
       "4        0        0        0      0.0  \n",
       "\n",
       "[5 rows x 42 columns]"
      ]
     },
     "execution_count": 133,
     "metadata": {},
     "output_type": "execute_result"
    }
   ],
   "source": [
    "df = df_physical_prepared.copy()\n",
    "df[\"label_n\"] = df_physical_labels[\"label_n\"]\n",
    "df.head()"
   ]
  },
  {
   "cell_type": "code",
   "execution_count": 134,
   "metadata": {},
   "outputs": [
    {
     "data": {
      "text/plain": [
       "((5891, 41), (1473, 41), (1842, 41))"
      ]
     },
     "execution_count": 134,
     "metadata": {},
     "output_type": "execute_result"
    }
   ],
   "source": [
    "# convert bool columns to int\n",
    "bool_cols = df.columns[df.dtypes == bool]\n",
    "df[bool_cols] = df[bool_cols].astype(int)\n",
    "\n",
    "# remove time column\n",
    "if \"Time\" in df.columns:\n",
    "    df.drop(columns=['Time'], inplace=True)\n",
    "\n",
    "# Split data into train, validation, and test sets\n",
    "train_df, test_df = train_test_split(df, test_size=0.2, random_state=42, stratify=df['label_n'])\n",
    "train_df, val_df = train_test_split(train_df, test_size=0.2, random_state=42, stratify=train_df['label_n'])\n",
    "\n",
    "# Separate features and target\n",
    "X_train = train_df.drop(columns=['label_n'])\n",
    "y_train = train_df['label_n']\n",
    "X_val = val_df.drop(columns=['label_n'])\n",
    "y_val = val_df['label_n']\n",
    "X_test = test_df.drop(columns=['label_n'])\n",
    "y_test = test_df['label_n']\n",
    "\n",
    "# Normalize numerical features\n",
    "scaler = StandardScaler()\n",
    "X_train = scaler.fit_transform(X_train)\n",
    "X_val = scaler.transform(X_val)\n",
    "X_test = scaler.transform(X_test)\n",
    "\n",
    "X_train.shape, X_val.shape, X_test.shape"
   ]
  },
  {
   "cell_type": "code",
   "execution_count": 135,
   "metadata": {},
   "outputs": [
    {
     "data": {
      "text/plain": [
       "array([-1.8453872 ,  0.80077463,  1.38978397, -0.31653682, -0.80836626,\n",
       "       -1.32533143, -0.10188866,  2.305095  , -0.92628226,  1.33125328,\n",
       "        1.85997322,  0.        , -0.51106364,  1.29715255, -0.77736917,\n",
       "        1.29761189, -0.77821244,  0.        , -0.75693134,  0.        ,\n",
       "        0.        ,  0.        ,  0.        ,  0.        ,  0.        ,\n",
       "        0.        ,  0.        ,  0.        , -1.2205967 , -1.2205967 ,\n",
       "       -1.22016572, -0.82129835, -0.82129835, -0.82158816,  0.        ,\n",
       "        0.91201897, -0.55179071,  0.        , -1.33567454,  0.        ,\n",
       "       -0.91326873])"
      ]
     },
     "execution_count": 135,
     "metadata": {},
     "output_type": "execute_result"
    }
   ],
   "source": [
    "X_train[0]"
   ]
  },
  {
   "cell_type": "code",
   "execution_count": 136,
   "metadata": {},
   "outputs": [
    {
     "name": "stdout",
     "output_type": "stream",
     "text": [
      "Model: \"sequential_4\"\n",
      "_________________________________________________________________\n",
      " Layer (type)                Output Shape              Param #   \n",
      "=================================================================\n",
      " dense_16 (Dense)            (None, 1024)              43008     \n",
      "                                                                 \n",
      " dense_17 (Dense)            (None, 256)               262400    \n",
      "                                                                 \n",
      " dense_18 (Dense)            (None, 64)                16448     \n",
      "                                                                 \n",
      " dense_19 (Dense)            (None, 1)                 65        \n",
      "                                                                 \n",
      "=================================================================\n",
      "Total params: 321,921\n",
      "Trainable params: 321,921\n",
      "Non-trainable params: 0\n",
      "_________________________________________________________________\n"
     ]
    }
   ],
   "source": [
    "# Define the neural network model\n",
    "model = tf.keras.Sequential([\n",
    "    tf.keras.layers.Input(shape=(X_train[0].shape[0],)),  # Input layer\n",
    "    tf.keras.layers.Dense(1024, activation=swish),  # Hidden layer 1\n",
    "    tf.keras.layers.Dense(256, activation=swish),   # Hidden layer 2\n",
    "    tf.keras.layers.Dense(64, activation=swish),   # Hidden layer 3\n",
    "    tf.keras.layers.Dense(1, activation=sigmoid)  # Output layer\n",
    "])\n",
    "\n",
    "# Compile the model\n",
    "model.compile(optimizer='adam',\n",
    "              loss='binary_crossentropy',\n",
    "              metrics=['accuracy'])\n",
    "\n",
    "model.summary()"
   ]
  },
  {
   "cell_type": "markdown",
   "metadata": {},
   "source": [
    "Let's define callbacks"
   ]
  },
  {
   "cell_type": "code",
   "execution_count": 137,
   "metadata": {},
   "outputs": [
    {
     "name": "stdout",
     "output_type": "stream",
     "text": [
      "Epoch 1/40\n"
     ]
    },
    {
     "name": "stdout",
     "output_type": "stream",
     "text": [
      "24/24 [==============================] - 1s 19ms/step - loss: 0.4576 - accuracy: 0.8197 - val_loss: 0.3549 - val_accuracy: 0.8554 - lr: 0.0010\n",
      "Epoch 2/40\n",
      "24/24 [==============================] - 0s 9ms/step - loss: 0.3634 - accuracy: 0.8464 - val_loss: 0.3280 - val_accuracy: 0.8547 - lr: 0.0010\n",
      "Epoch 3/40\n",
      "24/24 [==============================] - 0s 10ms/step - loss: 0.3099 - accuracy: 0.8688 - val_loss: 0.2764 - val_accuracy: 0.8832 - lr: 0.0010\n",
      "Epoch 4/40\n",
      "24/24 [==============================] - 0s 9ms/step - loss: 0.3046 - accuracy: 0.8601 - val_loss: 0.2776 - val_accuracy: 0.8826 - lr: 0.0010\n",
      "Epoch 5/40\n",
      "24/24 [==============================] - 0s 9ms/step - loss: 0.2889 - accuracy: 0.8803 - val_loss: 0.2504 - val_accuracy: 0.8900 - lr: 0.0010\n",
      "Epoch 6/40\n",
      "24/24 [==============================] - 0s 9ms/step - loss: 0.2414 - accuracy: 0.8942 - val_loss: 0.2232 - val_accuracy: 0.9009 - lr: 0.0010\n",
      "Epoch 7/40\n",
      "24/24 [==============================] - 0s 9ms/step - loss: 0.2290 - accuracy: 0.8992 - val_loss: 0.2056 - val_accuracy: 0.9124 - lr: 0.0010\n",
      "Epoch 8/40\n",
      "24/24 [==============================] - 0s 9ms/step - loss: 0.2023 - accuracy: 0.9104 - val_loss: 0.1870 - val_accuracy: 0.9226 - lr: 0.0010\n",
      "Epoch 9/40\n",
      "24/24 [==============================] - 0s 9ms/step - loss: 0.1801 - accuracy: 0.9202 - val_loss: 0.1757 - val_accuracy: 0.9260 - lr: 0.0010\n",
      "Epoch 10/40\n",
      "24/24 [==============================] - 0s 9ms/step - loss: 0.1730 - accuracy: 0.9223 - val_loss: 0.1681 - val_accuracy: 0.9253 - lr: 0.0010\n",
      "Epoch 11/40\n",
      "24/24 [==============================] - 0s 9ms/step - loss: 0.1578 - accuracy: 0.9302 - val_loss: 0.1592 - val_accuracy: 0.9287 - lr: 0.0010\n",
      "Epoch 12/40\n",
      "24/24 [==============================] - 0s 9ms/step - loss: 0.1476 - accuracy: 0.9331 - val_loss: 0.1582 - val_accuracy: 0.9335 - lr: 0.0010\n",
      "Epoch 13/40\n",
      "24/24 [==============================] - 0s 9ms/step - loss: 0.1729 - accuracy: 0.9246 - val_loss: 0.1623 - val_accuracy: 0.9308 - lr: 0.0010\n",
      "Epoch 14/40\n",
      "24/24 [==============================] - 0s 9ms/step - loss: 0.1417 - accuracy: 0.9369 - val_loss: 0.1475 - val_accuracy: 0.9369 - lr: 0.0010\n",
      "Epoch 15/40\n",
      "24/24 [==============================] - 0s 9ms/step - loss: 0.1312 - accuracy: 0.9436 - val_loss: 0.1490 - val_accuracy: 0.9321 - lr: 0.0010\n",
      "Epoch 16/40\n",
      "24/24 [==============================] - 0s 9ms/step - loss: 0.1270 - accuracy: 0.9421 - val_loss: 0.1395 - val_accuracy: 0.9423 - lr: 0.0010\n",
      "Epoch 17/40\n",
      "24/24 [==============================] - 0s 9ms/step - loss: 0.1144 - accuracy: 0.9486 - val_loss: 0.1307 - val_accuracy: 0.9484 - lr: 0.0010\n",
      "Epoch 18/40\n",
      "24/24 [==============================] - 0s 9ms/step - loss: 0.1136 - accuracy: 0.9526 - val_loss: 0.1250 - val_accuracy: 0.9525 - lr: 0.0010\n",
      "Epoch 19/40\n",
      "24/24 [==============================] - 0s 9ms/step - loss: 0.1106 - accuracy: 0.9577 - val_loss: 0.1332 - val_accuracy: 0.9457 - lr: 0.0010\n",
      "Epoch 20/40\n",
      "24/24 [==============================] - 0s 9ms/step - loss: 0.1326 - accuracy: 0.9440 - val_loss: 0.1236 - val_accuracy: 0.9525 - lr: 0.0010\n",
      "Epoch 21/40\n",
      "24/24 [==============================] - 0s 10ms/step - loss: 0.1277 - accuracy: 0.9509 - val_loss: 0.1193 - val_accuracy: 0.9572 - lr: 0.0010\n",
      "Epoch 22/40\n",
      "24/24 [==============================] - 0s 9ms/step - loss: 0.1021 - accuracy: 0.9606 - val_loss: 0.1193 - val_accuracy: 0.9538 - lr: 0.0010\n",
      "Epoch 23/40\n",
      "24/24 [==============================] - 0s 9ms/step - loss: 0.1147 - accuracy: 0.9543 - val_loss: 0.1443 - val_accuracy: 0.9470 - lr: 0.0010\n",
      "Epoch 24/40\n",
      "24/24 [==============================] - 0s 10ms/step - loss: 0.1123 - accuracy: 0.9565 - val_loss: 0.1170 - val_accuracy: 0.9538 - lr: 0.0010\n",
      "Epoch 25/40\n",
      "24/24 [==============================] - 0s 9ms/step - loss: 0.0902 - accuracy: 0.9652 - val_loss: 0.1076 - val_accuracy: 0.9606 - lr: 0.0010\n",
      "Epoch 26/40\n",
      "24/24 [==============================] - 0s 9ms/step - loss: 0.0858 - accuracy: 0.9677 - val_loss: 0.1152 - val_accuracy: 0.9511 - lr: 0.0010\n",
      "Epoch 27/40\n",
      "24/24 [==============================] - 0s 9ms/step - loss: 0.0990 - accuracy: 0.9598 - val_loss: 0.1037 - val_accuracy: 0.9606 - lr: 0.0010\n",
      "Epoch 28/40\n",
      "24/24 [==============================] - 0s 9ms/step - loss: 0.0886 - accuracy: 0.9681 - val_loss: 0.1229 - val_accuracy: 0.9525 - lr: 0.0010\n",
      "Epoch 29/40\n",
      "24/24 [==============================] - 0s 9ms/step - loss: 0.1011 - accuracy: 0.9616 - val_loss: 0.1185 - val_accuracy: 0.9579 - lr: 0.0010\n",
      "Epoch 30/40\n",
      "18/24 [=====================>........] - ETA: 0s - loss: 0.0827 - accuracy: 0.9681\n",
      "Epoch 30: ReduceLROnPlateau reducing learning rate to 0.00010000000474974513.\n",
      "24/24 [==============================] - 0s 9ms/step - loss: 0.0841 - accuracy: 0.9688 - val_loss: 0.1047 - val_accuracy: 0.9627 - lr: 0.0010\n",
      "Epoch 31/40\n",
      "24/24 [==============================] - 0s 9ms/step - loss: 0.0805 - accuracy: 0.9728 - val_loss: 0.1012 - val_accuracy: 0.9674 - lr: 1.0000e-04\n",
      "Epoch 32/40\n",
      "24/24 [==============================] - 0s 9ms/step - loss: 0.0723 - accuracy: 0.9757 - val_loss: 0.0954 - val_accuracy: 0.9715 - lr: 1.0000e-04\n",
      "Epoch 33/40\n",
      "24/24 [==============================] - 0s 9ms/step - loss: 0.0695 - accuracy: 0.9767 - val_loss: 0.0940 - val_accuracy: 0.9708 - lr: 1.0000e-04\n",
      "Epoch 34/40\n",
      "24/24 [==============================] - 0s 9ms/step - loss: 0.0754 - accuracy: 0.9691 - val_loss: 0.0931 - val_accuracy: 0.9715 - lr: 1.0000e-04\n",
      "Epoch 35/40\n",
      "24/24 [==============================] - 0s 9ms/step - loss: 0.0681 - accuracy: 0.9778 - val_loss: 0.0922 - val_accuracy: 0.9708 - lr: 1.0000e-04\n",
      "Epoch 36/40\n",
      "24/24 [==============================] - 0s 9ms/step - loss: 0.0675 - accuracy: 0.9783 - val_loss: 0.0917 - val_accuracy: 0.9728 - lr: 1.0000e-04\n",
      "Epoch 37/40\n",
      "24/24 [==============================] - 0s 11ms/step - loss: 0.0670 - accuracy: 0.9769 - val_loss: 0.0909 - val_accuracy: 0.9735 - lr: 1.0000e-04\n",
      "Epoch 38/40\n",
      "24/24 [==============================] - 0s 9ms/step - loss: 0.0663 - accuracy: 0.9771 - val_loss: 0.0906 - val_accuracy: 0.9728 - lr: 1.0000e-04\n",
      "Epoch 39/40\n",
      "24/24 [==============================] - 0s 8ms/step - loss: 0.0706 - accuracy: 0.9756 - val_loss: 0.0930 - val_accuracy: 0.9708 - lr: 1.0000e-04\n",
      "Epoch 40/40\n",
      "24/24 [==============================] - 0s 9ms/step - loss: 0.0681 - accuracy: 0.9754 - val_loss: 0.0934 - val_accuracy: 0.9695 - lr: 1.0000e-04\n"
     ]
    }
   ],
   "source": [
    "# callbacks\n",
    "early_stopping = tf.keras.callbacks.EarlyStopping(\n",
    "    monitor='val_loss', min_delta=0, patience=6, verbose=1,\n",
    "    mode='auto', baseline=None, restore_best_weights=True\n",
    ")\n",
    "reduce_on_plateau = tf.keras.callbacks.ReduceLROnPlateau(\n",
    "    monitor='val_loss', factor=0.1, patience=3, verbose=1,\n",
    "    mode='auto', min_delta=0.0001, cooldown=0, min_lr=0\n",
    ")\n",
    "\n",
    "# Train the model\n",
    "history = model.fit(X_train, y_train, \n",
    "                    epochs=40, \n",
    "                    batch_size=256, \n",
    "                    validation_data=(X_val, y_val),\n",
    "                    callbacks=[early_stopping, reduce_on_plateau])"
   ]
  },
  {
   "cell_type": "code",
   "execution_count": 138,
   "metadata": {},
   "outputs": [
    {
     "data": {
      "image/png": "[encoded data removed]",
      "text/plain": [
       "<Figure size 640x480 with 1 Axes>"
      ]
     },
     "metadata": {},
     "output_type": "display_data"
    }
   ],
   "source": [
    "plt.plot(history.history['accuracy'], label='train')\n",
    "plt.plot(history.history['val_accuracy'], label='val')\n",
    "plt.legend()\n",
    "plt.show()"
   ]
  },
  {
   "cell_type": "markdown",
   "metadata": {},
   "source": [
    "Evaluation on the test set:"
   ]
  },
  {
   "cell_type": "code",
   "execution_count": 139,
   "metadata": {},
   "outputs": [
    {
     "name": "stdout",
     "output_type": "stream",
     "text": [
      "58/58 [==============================] - 0s 4ms/step - loss: 0.0854 - accuracy: 0.9718\n",
      "Test accuracy: 97.18%\n"
     ]
    }
   ],
   "source": [
    "test_loss, test_accuracy = model.evaluate(X_test, y_test)\n",
    "print(f\"Test accuracy: {test_accuracy * 100:.2f}%\")"
   ]
  },
  {
   "cell_type": "code",
   "execution_count": 140,
   "metadata": {},
   "outputs": [],
   "source": [
    "def plot_confusion_matrix(y_true, y_pred, title=None):\n",
    "    fig, ax = plt.subplots(figsize=(6, 6))\n",
    "    cm = confusion_matrix(y_true, y_pred)\n",
    "    sns.heatmap(cm, annot=True, fmt=\"d\", ax=ax, cmap=\"Blues\")\n",
    "    ax.set_ylabel(\"Actual\")\n",
    "    ax.set_xlabel(\"Predicted\")\n",
    "    if title:\n",
    "        ax.set_title(title)\n",
    "    plt.show()"
   ]
  },
  {
   "cell_type": "code",
   "execution_count": 141,
   "metadata": {},
   "outputs": [
    {
     "name": "stdout",
     "output_type": "stream",
     "text": [
      "58/58 [==============================] - 0s 2ms/step\n"
     ]
    },
    {
     "data": {
      "image/png": "[encoded data removed]",
      "text/plain": [
       "<Figure size 600x600 with 2 Axes>"
      ]
     },
     "metadata": {},
     "output_type": "display_data"
    }
   ],
   "source": [
    "# Predict on test set\n",
    "y_pred = model.predict(X_test)\n",
    "y_pred = np.round(y_pred).astype(int).reshape(-1)\n",
    "\n",
    "# Plot confusion matrix\n",
    "plot_confusion_matrix(y_test, y_pred, title=\"Confusion matrix for the test set\")"
   ]
  },
  {
   "cell_type": "markdown",
   "metadata": {},
   "source": [
    "#### Multiclass classification\n",
    "\n",
    "Now, we want to create an alternative DNN which will give us more precision on the type of attack. We will use the same architecture as before, but we will change the output layer to have 5 neurons, one for each type of attack."
   ]
  },
  {
   "cell_type": "code",
   "execution_count": 142,
   "metadata": {},
   "outputs": [
    {
     "data": {
      "text/plain": [
       "new_labels\n",
       "2    7747\n",
       "1     743\n",
       "3     552\n",
       "0     157\n",
       "4       7\n",
       "Name: count, dtype: int64"
      ]
     },
     "execution_count": 142,
     "metadata": {},
     "output_type": "execute_result"
    }
   ],
   "source": [
    "df.drop(columns=['label_n'], inplace=True)\n",
    "df[\"new_labels\"] = df_physical_labels[\"new_labels\"]\n",
    "df[\"new_labels\"].value_counts()"
   ]
  },
  {
   "cell_type": "markdown",
   "metadata": {},
   "source": [
    "Let's delete the class 2"
   ]
  },
  {
   "cell_type": "code",
   "execution_count": 143,
   "metadata": {},
   "outputs": [
    {
     "data": {
      "text/plain": [
       "new_labels\n",
       "1    743\n",
       "3    552\n",
       "0    157\n",
       "4      7\n",
       "Name: count, dtype: int64"
      ]
     },
     "execution_count": 143,
     "metadata": {},
     "output_type": "execute_result"
    }
   ],
   "source": [
    "df = df[df[\"new_labels\"] != 2]\n",
    "df[\"new_labels\"].value_counts()"
   ]
  },
  {
   "cell_type": "code",
   "execution_count": 144,
   "metadata": {},
   "outputs": [
    {
     "data": {
      "text/plain": [
       "((933, 41), (234, 41), (292, 41))"
      ]
     },
     "execution_count": 144,
     "metadata": {},
     "output_type": "execute_result"
    }
   ],
   "source": [
    "# Split data into train, validation, and test sets\n",
    "train_df, test_df = train_test_split(df, test_size=0.2, random_state=42, stratify=df['new_labels'])\n",
    "train_df, val_df = train_test_split(train_df, test_size=0.2, random_state=42, stratify=train_df['new_labels'])\n",
    "\n",
    "# Separate features and target\n",
    "X_train = train_df.drop(columns=['new_labels'])\n",
    "y_train = train_df['new_labels']\n",
    "X_val = val_df.drop(columns=['new_labels'])\n",
    "y_val = val_df['new_labels']\n",
    "X_test = test_df.drop(columns=['new_labels'])\n",
    "y_test = test_df['new_labels']\n",
    "\n",
    "# Normalize numerical features\n",
    "scaler = StandardScaler()\n",
    "X_train = scaler.fit_transform(X_train)\n",
    "X_val = scaler.transform(X_val)\n",
    "X_test = scaler.transform(X_test)\n",
    "\n",
    "X_train.shape, X_val.shape, X_test.shape"
   ]
  },
  {
   "cell_type": "code",
   "execution_count": 145,
   "metadata": {},
   "outputs": [
    {
     "name": "stdout",
     "output_type": "stream",
     "text": [
      "Model: \"sequential_5\"\n",
      "_________________________________________________________________\n",
      " Layer (type)                Output Shape              Param #   \n",
      "=================================================================\n",
      " dense_20 (Dense)            (None, 1024)              43008     \n",
      "                                                                 \n",
      " dense_21 (Dense)            (None, 256)               262400    \n",
      "                                                                 \n",
      " dense_22 (Dense)            (None, 64)                16448     \n",
      "                                                                 \n",
      " dense_23 (Dense)            (None, 5)                 325       \n",
      "                                                                 \n",
      "=================================================================\n",
      "Total params: 322,181\n",
      "Trainable params: 322,181\n",
      "Non-trainable params: 0\n",
      "_________________________________________________________________\n"
     ]
    }
   ],
   "source": [
    "# Define the neural network model\n",
    "model = tf.keras.Sequential([\n",
    "    tf.keras.layers.Input(shape=(X_train[0].shape[0],)),  # Input layer\n",
    "    tf.keras.layers.Dense(1024, activation=swish),  # Hidden layer 1\n",
    "    tf.keras.layers.Dense(256, activation=swish),   # Hidden layer 2\n",
    "    tf.keras.layers.Dense(64, activation=swish),   # Hidden layer 3\n",
    "    tf.keras.layers.Dense(5, activation=softmax)  # Output layer\n",
    "])\n",
    "\n",
    "# Compile the model\n",
    "model.compile(optimizer='adam',\n",
    "              loss='sparse_categorical_crossentropy',\n",
    "              metrics=['accuracy'])\n",
    "\n",
    "model.summary()"
   ]
  },
  {
   "cell_type": "code",
   "execution_count": 146,
   "metadata": {},
   "outputs": [
    {
     "name": "stdout",
     "output_type": "stream",
     "text": [
      "Epoch 1/40\n"
     ]
    },
    {
     "name": "stdout",
     "output_type": "stream",
     "text": [
      "4/4 [==============================] - 1s 79ms/step - loss: 1.4539 - accuracy: 0.4791 - val_loss: 1.2067 - val_accuracy: 0.6624 - lr: 0.0010\n",
      "Epoch 2/40\n",
      "4/4 [==============================] - 0s 19ms/step - loss: 1.0281 - accuracy: 0.7449 - val_loss: 0.9198 - val_accuracy: 0.7137 - lr: 0.0010\n",
      "Epoch 3/40\n",
      "4/4 [==============================] - 0s 23ms/step - loss: 0.7446 - accuracy: 0.7717 - val_loss: 0.7158 - val_accuracy: 0.7479 - lr: 0.0010\n",
      "Epoch 4/40\n",
      "4/4 [==============================] - 0s 20ms/step - loss: 0.5766 - accuracy: 0.8049 - val_loss: 0.5243 - val_accuracy: 0.8162 - lr: 0.0010\n",
      "Epoch 5/40\n",
      "4/4 [==============================] - 0s 22ms/step - loss: 0.4438 - accuracy: 0.8521 - val_loss: 0.4030 - val_accuracy: 0.8803 - lr: 0.0010\n",
      "Epoch 6/40\n",
      "4/4 [==============================] - 0s 23ms/step - loss: 0.3544 - accuracy: 0.8746 - val_loss: 0.3135 - val_accuracy: 0.8846 - lr: 0.0010\n",
      "Epoch 7/40\n",
      "4/4 [==============================] - 0s 21ms/step - loss: 0.2873 - accuracy: 0.8767 - val_loss: 0.2562 - val_accuracy: 0.9145 - lr: 0.0010\n",
      "Epoch 8/40\n",
      "4/4 [==============================] - 0s 20ms/step - loss: 0.2316 - accuracy: 0.9260 - val_loss: 0.2114 - val_accuracy: 0.9444 - lr: 0.0010\n",
      "Epoch 9/40\n",
      "4/4 [==============================] - 0s 18ms/step - loss: 0.1856 - accuracy: 0.9378 - val_loss: 0.1616 - val_accuracy: 0.9530 - lr: 0.0010\n",
      "Epoch 10/40\n",
      "4/4 [==============================] - 0s 23ms/step - loss: 0.1485 - accuracy: 0.9561 - val_loss: 0.1301 - val_accuracy: 0.9701 - lr: 0.0010\n",
      "Epoch 11/40\n",
      "4/4 [==============================] - 0s 20ms/step - loss: 0.1182 - accuracy: 0.9753 - val_loss: 0.1073 - val_accuracy: 0.9744 - lr: 0.0010\n",
      "Epoch 12/40\n",
      "4/4 [==============================] - 0s 22ms/step - loss: 0.0947 - accuracy: 0.9743 - val_loss: 0.0871 - val_accuracy: 0.9744 - lr: 0.0010\n",
      "Epoch 13/40\n",
      "4/4 [==============================] - 0s 18ms/step - loss: 0.0745 - accuracy: 0.9818 - val_loss: 0.0805 - val_accuracy: 0.9744 - lr: 0.0010\n",
      "Epoch 14/40\n",
      "4/4 [==============================] - 0s 21ms/step - loss: 0.0600 - accuracy: 0.9839 - val_loss: 0.0765 - val_accuracy: 0.9744 - lr: 0.0010\n",
      "Epoch 15/40\n",
      "4/4 [==============================] - 0s 21ms/step - loss: 0.0481 - accuracy: 0.9839 - val_loss: 0.0692 - val_accuracy: 0.9744 - lr: 0.0010\n",
      "Epoch 16/40\n",
      "4/4 [==============================] - 0s 19ms/step - loss: 0.0413 - accuracy: 0.9904 - val_loss: 0.0459 - val_accuracy: 0.9915 - lr: 0.0010\n",
      "Epoch 17/40\n",
      "4/4 [==============================] - 0s 22ms/step - loss: 0.0375 - accuracy: 0.9904 - val_loss: 0.0615 - val_accuracy: 0.9744 - lr: 0.0010\n",
      "Epoch 18/40\n",
      "4/4 [==============================] - 0s 19ms/step - loss: 0.0281 - accuracy: 0.9946 - val_loss: 0.0415 - val_accuracy: 0.9915 - lr: 0.0010\n",
      "Epoch 19/40\n",
      "4/4 [==============================] - 0s 19ms/step - loss: 0.0211 - accuracy: 0.9989 - val_loss: 0.0403 - val_accuracy: 0.9915 - lr: 0.0010\n",
      "Epoch 20/40\n",
      "4/4 [==============================] - 0s 19ms/step - loss: 0.0170 - accuracy: 0.9946 - val_loss: 0.0479 - val_accuracy: 0.9829 - lr: 0.0010\n",
      "Epoch 21/40\n",
      "4/4 [==============================] - 0s 21ms/step - loss: 0.0133 - accuracy: 0.9989 - val_loss: 0.0307 - val_accuracy: 0.9957 - lr: 0.0010\n",
      "Epoch 22/40\n",
      "4/4 [==============================] - 0s 19ms/step - loss: 0.0119 - accuracy: 0.9989 - val_loss: 0.0321 - val_accuracy: 0.9915 - lr: 0.0010\n",
      "Epoch 23/40\n",
      "4/4 [==============================] - 0s 20ms/step - loss: 0.0096 - accuracy: 0.9968 - val_loss: 0.0373 - val_accuracy: 0.9915 - lr: 0.0010\n",
      "Epoch 24/40\n",
      "1/4 [======>.......................] - ETA: 0s - loss: 0.0043 - accuracy: 1.0000\n",
      "Epoch 24: ReduceLROnPlateau reducing learning rate to 0.00010000000474974513.\n",
      "4/4 [==============================] - 0s 21ms/step - loss: 0.0081 - accuracy: 0.9989 - val_loss: 0.0348 - val_accuracy: 0.9915 - lr: 0.0010\n",
      "Epoch 25/40\n",
      "4/4 [==============================] - 0s 18ms/step - loss: 0.0071 - accuracy: 0.9989 - val_loss: 0.0338 - val_accuracy: 0.9915 - lr: 1.0000e-04\n",
      "Epoch 26/40\n",
      "4/4 [==============================] - 0s 17ms/step - loss: 0.0068 - accuracy: 0.9989 - val_loss: 0.0331 - val_accuracy: 0.9915 - lr: 1.0000e-04\n",
      "Epoch 27/40\n",
      "1/4 [======>.......................] - ETA: 0s - loss: 0.0074 - accuracy: 0.9961Restoring model weights from the end of the best epoch: 21.\n",
      "\n",
      "Epoch 27: ReduceLROnPlateau reducing learning rate to 1.0000000474974514e-05.\n",
      "4/4 [==============================] - 0s 25ms/step - loss: 0.0065 - accuracy: 0.9989 - val_loss: 0.0328 - val_accuracy: 0.9915 - lr: 1.0000e-04\n",
      "Epoch 27: early stopping\n"
     ]
    }
   ],
   "source": [
    "history = model.fit(X_train, y_train, \n",
    "                    epochs=40, \n",
    "                    batch_size=256, \n",
    "                    validation_data=(X_val, y_val),\n",
    "                    callbacks=[early_stopping, reduce_on_plateau])"
   ]
  },
  {
   "cell_type": "code",
   "execution_count": 147,
   "metadata": {},
   "outputs": [
    {
     "data": {
      "image/png": "[encoded data removed]",
      "text/plain": [
       "<Figure size 640x480 with 1 Axes>"
      ]
     },
     "metadata": {},
     "output_type": "display_data"
    }
   ],
   "source": [
    "plt.plot(history.history['accuracy'], label='train')\n",
    "plt.plot(history.history['val_accuracy'], label='val')\n",
    "plt.legend()\n",
    "plt.show()"
   ]
  },
  {
   "cell_type": "markdown",
   "metadata": {},
   "source": [
    "Evaluate on the test set:"
   ]
  },
  {
   "cell_type": "code",
   "execution_count": 148,
   "metadata": {},
   "outputs": [
    {
     "name": "stdout",
     "output_type": "stream",
     "text": [
      "10/10 [==============================] - 0s 5ms/step - loss: 0.0461 - accuracy: 0.9932\n",
      "Test accuracy: 99.32%\n"
     ]
    }
   ],
   "source": [
    "test_loss, test_accuracy = model.evaluate(X_test, y_test)\n",
    "print(f\"Test accuracy: {test_accuracy * 100:.2f}%\")"
   ]
  },
  {
   "cell_type": "code",
   "execution_count": 149,
   "metadata": {},
   "outputs": [
    {
     "name": "stdout",
     "output_type": "stream",
     "text": [
      "10/10 [==============================] - 0s 2ms/step\n"
     ]
    },
    {
     "data": {
      "image/png": "[encoded data removed]",
      "text/plain": [
       "<Figure size 600x600 with 2 Axes>"
      ]
     },
     "metadata": {},
     "output_type": "display_data"
    }
   ],
   "source": [
    "# Predict on test set\n",
    "y_pred = model.predict(X_test)\n",
    "y_pred = y_pred = np.argmax(y_pred, axis=1)\n",
    "\n",
    "# Plot confusion matrix\n",
    "plot_confusion_matrix(y_test, y_pred, title=\"Confusion matrix for the test set\")"
   ]
  },
  {
   "cell_type": "markdown",
   "metadata": {},
   "source": [
    "A very strange behavior is observed: the model is not able to predict any class other than 0 (one type of attack) and 2 (normal traffic). This is probably due to the fact that the dataset is very unbalanced, and the model is not able to learn the other classes."
   ]
  },
  {
   "cell_type": "code",
   "execution_count": 150,
   "metadata": {},
   "outputs": [
    {
     "name": "stdout",
     "output_type": "stream",
     "text": [
      "Recall:  0.7477477477477478\n",
      "Precision:  0.7405208333333333\n",
      "F1-score:  0.7440644039109512\n",
      "Accuracy:  0.9931506849315068\n"
     ]
    },
    {
     "name": "stderr",
     "output_type": "stream",
     "text": [
      "c:\\Users\\Tom\\AppData\\Local\\Programs\\Python\\Python310\\lib\\site-packages\\sklearn\\metrics\\_classification.py:1469: UndefinedMetricWarning: Precision is ill-defined and being set to 0.0 in labels with no predicted samples. Use `zero_division` parameter to control this behavior.\n",
      "  _warn_prf(average, modifier, msg_start, len(result))\n"
     ]
    }
   ],
   "source": [
    "# get recall, precision, f1-score, and accuracy\n",
    "print(\"Recall: \", recall_score(y_test, y_pred, average='macro'))\n",
    "print(\"Precision: \", precision_score(y_test, y_pred, average='macro'))\n",
    "print(\"F1-score: \", f1_score(y_test, y_pred, average='macro'))\n",
    "print(\"Accuracy: \", accuracy_score(y_test, y_pred))"
   ]
  },
  {
   "cell_type": "markdown",
   "metadata": {},
   "source": [
    "As expected, only the accuracy is good, but the precision and recall are very low."
   ]
  },
  {
   "cell_type": "code",
   "execution_count": 151,
   "metadata": {},
   "outputs": [
    {
     "data": {
      "image/png": "[encoded data removed]",
      "text/plain": [
       "<Figure size 1000x600 with 1 Axes>"
      ]
     },
     "metadata": {},
     "output_type": "display_data"
    }
   ],
   "source": [
    "# feature importance for the network\n",
    "def get_feature_importance(model, X_train, y_train):\n",
    "    # get feature importance\n",
    "    feature_importance = np.zeros(X_train.shape[1])\n",
    "    for i in range(X_train.shape[1]):\n",
    "        X_train_perm = X_train.copy()\n",
    "        np.random.shuffle(X_train_perm[:, i])\n",
    "        feature_importance[i] = model.evaluate(X_train_perm, y_train, verbose=0)[1]\n",
    "    return feature_importance\n",
    "\n",
    "feature_importance = get_feature_importance(model, X_train, y_train)\n",
    "\n",
    "# plot top 5 features\n",
    "topk = 10\n",
    "top_features = np.argsort(feature_importance)[::-1][:topk]\n",
    "plt.figure(figsize=(10, 6))\n",
    "plt.bar(range(topk), feature_importance[top_features])\n",
    "plt.xticks(range(topk), df.columns[top_features], rotation=90)\n",
    "# scale down y-axis\n",
    "plt.ylim(feature_importance.min(), feature_importance.max())\n",
    "plt.show()"
   ]
  },
  {
   "cell_type": "markdown",
   "metadata": {},
   "source": [
    "### b. LSTM\n",
    "\n",
    "#### Binary classification"
   ]
  },
  {
   "cell_type": "code",
   "execution_count": 152,
   "metadata": {},
   "outputs": [],
   "source": [
    "X_train, X_test, y_train, y_test = train_test_split(df_physical_prepared, df_physical_labels[[\"new_labels\", \"label_n\"]], test_size=0.2, random_state=random_state)\n",
    "X_train, X_val, y_train, y_val = train_test_split(X_train, y_train, test_size=0.2, random_state=random_state)"
   ]
  },
  {
   "cell_type": "code",
   "execution_count": 153,
   "metadata": {},
   "outputs": [],
   "source": [
    "scaler = StandardScaler()\n",
    "X_train_scaled = scaler.fit_transform(X_train)\n",
    "X_test_scaled = scaler.transform(X_test)\n",
    "X_val_scaled = scaler.transform(X_val)"
   ]
  },
  {
   "cell_type": "markdown",
   "metadata": {},
   "source": [
    "Let's create a PyTorch dataset"
   ]
  },
  {
   "cell_type": "code",
   "execution_count": 154,
   "metadata": {},
   "outputs": [],
   "source": [
    "class HITLDataset(torch.utils.data.Dataset):\n",
    "    def __init__(self, X, y):\n",
    "        self.X = torch.tensor(X).float()\n",
    "        self.y = torch.tensor(y).long()\n",
    "\n",
    "    def __len__(self):\n",
    "        return len(self.X)\n",
    "\n",
    "    def __getitem__(self, idx):\n",
    "        return self.X[idx], self.y[idx]\n",
    "\n",
    "\n",
    "train_dataset = HITLDataset(X_train_scaled, y_train[\"label_n\"].to_numpy())\n",
    "test_dataset = HITLDataset(X_test_scaled, y_test[\"label_n\"].to_numpy())\n",
    "val_dataset = HITLDataset(X_val_scaled, y_val[\"label_n\"].to_numpy())\n",
    "\n",
    "# Create pytorch dataloader\n",
    "train_loader = torch.utils.data.DataLoader(train_dataset, batch_size=32, shuffle=True)\n",
    "test_loader = torch.utils.data.DataLoader(test_dataset, batch_size=32, shuffle=False)\n",
    "val_loader = torch.utils.data.DataLoader(val_dataset, batch_size=32, shuffle=True)"
   ]
  },
  {
   "cell_type": "code",
   "execution_count": 155,
   "metadata": {},
   "outputs": [
    {
     "data": {
      "text/plain": [
       "LSTM(\n",
       "  (lstm): LSTM(41, 32, batch_first=True)\n",
       "  (fc): Linear(in_features=32, out_features=2, bias=True)\n",
       ")"
      ]
     },
     "execution_count": 155,
     "metadata": {},
     "output_type": "execute_result"
    }
   ],
   "source": [
    "class LSTM(nn.Module):\n",
    "    def __init__(self, input_dim, hidden_dim, output_dim):\n",
    "        super().__init__()\n",
    "        self.hidden_dim = hidden_dim\n",
    "        self.lstm = nn.LSTM(input_dim, hidden_dim, batch_first=True)\n",
    "        self.fc = nn.Linear(hidden_dim, output_dim)\n",
    "\n",
    "    def forward(self, x):\n",
    "        out, _ = self.lstm(x)\n",
    "        out = self.fc(out)\n",
    "        return out\n",
    "    \n",
    "input_dim = X_train_scaled.shape[1]\n",
    "output_dim = len(y_train[\"label_n\"].unique())\n",
    "hidden_dim = 32\n",
    "model = LSTM(input_dim, hidden_dim, output_dim)\n",
    "model"
   ]
  },
  {
   "cell_type": "code",
   "execution_count": 156,
   "metadata": {},
   "outputs": [],
   "source": [
    "criterion = nn.CrossEntropyLoss()\n",
    "optimizer = torch.optim.Adam(model.parameters(), lr=0.001)"
   ]
  },
  {
   "cell_type": "code",
   "execution_count": 157,
   "metadata": {},
   "outputs": [],
   "source": [
    "from tqdm import tqdm\n",
    "\n",
    "def train(model, train_loader, val_loader, criterion, optimizer):\n",
    "    model.train()\n",
    "    train_loss = 0\n",
    "    train_acc = 0\n",
    "    val_loss = 0\n",
    "    val_acc = 0\n",
    "    for X, y in tqdm(train_loader, total=len(train_loader)):\n",
    "        optimizer.zero_grad()\n",
    "        y_pred = model(X)\n",
    "        loss = criterion(y_pred, y)\n",
    "        loss.backward()\n",
    "        optimizer.step()\n",
    "        train_loss += loss.item()\n",
    "        train_acc += (y_pred.argmax(1) == y).sum().item()\n",
    "\n",
    "    model.eval()\n",
    "    with torch.no_grad():\n",
    "        for X, y in tqdm(val_loader, total=len(val_loader)):\n",
    "            y_pred = model(X)\n",
    "            loss = criterion(y_pred, y)\n",
    "            val_loss += loss.item()\n",
    "            val_acc += (y_pred.argmax(1) == y).sum().item()\n",
    "    return train_loss / len(train_loader), train_acc / len(train_loader.dataset), val_loss / len(val_loader), val_acc / len(val_loader.dataset)\n",
    "\n",
    "def test(model, test_loader, criterion):\n",
    "    model.eval()\n",
    "    test_loss = 0\n",
    "    test_acc = 0\n",
    "    y_pred_list = []\n",
    "    y_true_list = []\n",
    "    with torch.no_grad():\n",
    "        for X, y in test_loader:\n",
    "            y_pred = model(X)\n",
    "            loss = criterion(y_pred, y)\n",
    "            test_loss += loss.item()\n",
    "            test_acc += (y_pred.argmax(1) == y).sum().item()\n",
    "            y_pred_list.append(y_pred.argmax(1).cpu().numpy())\n",
    "            y_true_list.append(y.cpu().numpy())\n",
    "    return test_loss / len(test_loader), test_acc / len(test_loader.dataset)"
   ]
  },
  {
   "cell_type": "code",
   "execution_count": 158,
   "metadata": {},
   "outputs": [
    {
     "name": "stderr",
     "output_type": "stream",
     "text": [
      " 51%|█████     | 94/185 [00:00<00:00, 290.06it/s]"
     ]
    },
    {
     "name": "stderr",
     "output_type": "stream",
     "text": [
      "100%|██████████| 185/185 [00:00<00:00, 242.60it/s]\n",
      "100%|██████████| 47/47 [00:00<00:00, 992.21it/s]\n"
     ]
    },
    {
     "name": "stdout",
     "output_type": "stream",
     "text": [
      "Train loss: 0.4603, Train acc: 0.8343, Val loss: 0.4073, Val acc: 0.8384\n"
     ]
    },
    {
     "name": "stderr",
     "output_type": "stream",
     "text": [
      "100%|██████████| 185/185 [00:00<00:00, 384.84it/s]\n",
      "100%|██████████| 47/47 [00:00<00:00, 1006.24it/s]\n"
     ]
    },
    {
     "name": "stdout",
     "output_type": "stream",
     "text": [
      "Train loss: 0.3780, Train acc: 0.8489, Val loss: 0.3580, Val acc: 0.8540\n"
     ]
    },
    {
     "name": "stderr",
     "output_type": "stream",
     "text": [
      "100%|██████████| 185/185 [00:00<00:00, 369.29it/s]\n",
      "100%|██████████| 47/47 [00:00<00:00, 1320.98it/s]\n"
     ]
    },
    {
     "name": "stdout",
     "output_type": "stream",
     "text": [
      "Train loss: 0.3328, Train acc: 0.8666, Val loss: 0.3122, Val acc: 0.8717\n"
     ]
    },
    {
     "name": "stderr",
     "output_type": "stream",
     "text": [
      "100%|██████████| 185/185 [00:00<00:00, 374.09it/s]\n",
      "100%|██████████| 47/47 [00:00<00:00, 1053.83it/s]\n"
     ]
    },
    {
     "name": "stdout",
     "output_type": "stream",
     "text": [
      "Train loss: 0.2954, Train acc: 0.8800, Val loss: 0.2737, Val acc: 0.8758\n"
     ]
    },
    {
     "name": "stderr",
     "output_type": "stream",
     "text": [
      "100%|██████████| 185/185 [00:00<00:00, 378.04it/s]\n",
      "100%|██████████| 47/47 [00:00<00:00, 946.52it/s]\n"
     ]
    },
    {
     "name": "stdout",
     "output_type": "stream",
     "text": [
      "Train loss: 0.2643, Train acc: 0.8885, Val loss: 0.2560, Val acc: 0.8893\n"
     ]
    },
    {
     "name": "stderr",
     "output_type": "stream",
     "text": [
      "100%|██████████| 185/185 [00:00<00:00, 362.55it/s]\n",
      "100%|██████████| 47/47 [00:00<00:00, 1018.40it/s]\n"
     ]
    },
    {
     "name": "stdout",
     "output_type": "stream",
     "text": [
      "Train loss: 0.2403, Train acc: 0.8976, Val loss: 0.2372, Val acc: 0.9050\n"
     ]
    },
    {
     "name": "stderr",
     "output_type": "stream",
     "text": [
      "100%|██████████| 185/185 [00:00<00:00, 326.33it/s]\n",
      "100%|██████████| 47/47 [00:00<00:00, 1113.08it/s]\n"
     ]
    },
    {
     "name": "stdout",
     "output_type": "stream",
     "text": [
      "Train loss: 0.2207, Train acc: 0.9082, Val loss: 0.2208, Val acc: 0.9138\n"
     ]
    },
    {
     "name": "stderr",
     "output_type": "stream",
     "text": [
      "100%|██████████| 185/185 [00:00<00:00, 385.63it/s]\n",
      "100%|██████████| 47/47 [00:00<00:00, 1228.06it/s]\n"
     ]
    },
    {
     "name": "stdout",
     "output_type": "stream",
     "text": [
      "Train loss: 0.2067, Train acc: 0.9151, Val loss: 0.2070, Val acc: 0.9226\n"
     ]
    },
    {
     "name": "stderr",
     "output_type": "stream",
     "text": [
      "100%|██████████| 185/185 [00:00<00:00, 386.22it/s]\n",
      "100%|██████████| 47/47 [00:00<00:00, 949.08it/s]\n"
     ]
    },
    {
     "name": "stdout",
     "output_type": "stream",
     "text": [
      "Train loss: 0.1945, Train acc: 0.9197, Val loss: 0.1964, Val acc: 0.9287\n"
     ]
    },
    {
     "name": "stderr",
     "output_type": "stream",
     "text": [
      "100%|██████████| 185/185 [00:00<00:00, 395.07it/s]\n",
      "100%|██████████| 47/47 [00:00<00:00, 1027.54it/s]\n"
     ]
    },
    {
     "name": "stdout",
     "output_type": "stream",
     "text": [
      "Train loss: 0.1828, Train acc: 0.9243, Val loss: 0.1971, Val acc: 0.9233\n"
     ]
    },
    {
     "name": "stderr",
     "output_type": "stream",
     "text": [
      "100%|██████████| 185/185 [00:00<00:00, 388.71it/s]\n",
      "100%|██████████| 47/47 [00:00<00:00, 1239.23it/s]\n"
     ]
    },
    {
     "name": "stdout",
     "output_type": "stream",
     "text": [
      "Train loss: 0.1746, Train acc: 0.9272, Val loss: 0.1678, Val acc: 0.9321\n"
     ]
    },
    {
     "name": "stderr",
     "output_type": "stream",
     "text": [
      "100%|██████████| 185/185 [00:00<00:00, 389.56it/s]\n",
      "100%|██████████| 47/47 [00:00<00:00, 1066.17it/s]\n"
     ]
    },
    {
     "name": "stdout",
     "output_type": "stream",
     "text": [
      "Train loss: 0.1664, Train acc: 0.9329, Val loss: 0.1652, Val acc: 0.9301\n"
     ]
    },
    {
     "name": "stderr",
     "output_type": "stream",
     "text": [
      "100%|██████████| 185/185 [00:00<00:00, 389.04it/s]\n",
      "100%|██████████| 47/47 [00:00<00:00, 923.52it/s]\n"
     ]
    },
    {
     "name": "stdout",
     "output_type": "stream",
     "text": [
      "Train loss: 0.1566, Train acc: 0.9408, Val loss: 0.1610, Val acc: 0.9308\n"
     ]
    },
    {
     "name": "stderr",
     "output_type": "stream",
     "text": [
      "100%|██████████| 185/185 [00:00<00:00, 393.78it/s]\n",
      "100%|██████████| 47/47 [00:00<00:00, 1049.48it/s]\n"
     ]
    },
    {
     "name": "stdout",
     "output_type": "stream",
     "text": [
      "Train loss: 0.1555, Train acc: 0.9374, Val loss: 0.1536, Val acc: 0.9355\n"
     ]
    },
    {
     "name": "stderr",
     "output_type": "stream",
     "text": [
      "100%|██████████| 185/185 [00:00<00:00, 385.04it/s]\n",
      "100%|██████████| 47/47 [00:00<00:00, 1222.28it/s]\n"
     ]
    },
    {
     "name": "stdout",
     "output_type": "stream",
     "text": [
      "Train loss: 0.1506, Train acc: 0.9387, Val loss: 0.1485, Val acc: 0.9382\n"
     ]
    },
    {
     "name": "stderr",
     "output_type": "stream",
     "text": [
      "100%|██████████| 185/185 [00:00<00:00, 387.46it/s]\n",
      "100%|██████████| 47/47 [00:00<00:00, 988.92it/s]\n"
     ]
    },
    {
     "name": "stdout",
     "output_type": "stream",
     "text": [
      "Train loss: 0.1436, Train acc: 0.9430, Val loss: 0.1440, Val acc: 0.9335\n"
     ]
    },
    {
     "name": "stderr",
     "output_type": "stream",
     "text": [
      "100%|██████████| 185/185 [00:00<00:00, 385.38it/s]\n",
      "100%|██████████| 47/47 [00:00<00:00, 1254.31it/s]\n"
     ]
    },
    {
     "name": "stdout",
     "output_type": "stream",
     "text": [
      "Train loss: 0.1382, Train acc: 0.9443, Val loss: 0.1411, Val acc: 0.9389\n"
     ]
    },
    {
     "name": "stderr",
     "output_type": "stream",
     "text": [
      "100%|██████████| 185/185 [00:00<00:00, 386.55it/s]\n",
      "100%|██████████| 47/47 [00:00<00:00, 1125.09it/s]\n"
     ]
    },
    {
     "name": "stdout",
     "output_type": "stream",
     "text": [
      "Train loss: 0.1339, Train acc: 0.9472, Val loss: 0.1418, Val acc: 0.9457\n"
     ]
    },
    {
     "name": "stderr",
     "output_type": "stream",
     "text": [
      "100%|██████████| 185/185 [00:00<00:00, 388.53it/s]\n",
      "100%|██████████| 47/47 [00:00<00:00, 1070.85it/s]\n"
     ]
    },
    {
     "name": "stdout",
     "output_type": "stream",
     "text": [
      "Train loss: 0.1302, Train acc: 0.9462, Val loss: 0.1380, Val acc: 0.9403\n"
     ]
    },
    {
     "name": "stderr",
     "output_type": "stream",
     "text": [
      "100%|██████████| 185/185 [00:00<00:00, 389.71it/s]\n",
      "100%|██████████| 47/47 [00:00<00:00, 1022.53it/s]\n"
     ]
    },
    {
     "name": "stdout",
     "output_type": "stream",
     "text": [
      "Train loss: 0.1255, Train acc: 0.9520, Val loss: 0.1351, Val acc: 0.9437\n"
     ]
    },
    {
     "name": "stderr",
     "output_type": "stream",
     "text": [
      "100%|██████████| 185/185 [00:00<00:00, 384.23it/s]\n",
      "100%|██████████| 47/47 [00:00<00:00, 1066.66it/s]\n"
     ]
    },
    {
     "name": "stdout",
     "output_type": "stream",
     "text": [
      "Train loss: 0.1237, Train acc: 0.9506, Val loss: 0.1310, Val acc: 0.9457\n"
     ]
    },
    {
     "name": "stderr",
     "output_type": "stream",
     "text": [
      "100%|██████████| 185/185 [00:00<00:00, 241.82it/s]\n",
      "100%|██████████| 47/47 [00:00<00:00, 248.76it/s]\n"
     ]
    },
    {
     "name": "stdout",
     "output_type": "stream",
     "text": [
      "Train loss: 0.1220, Train acc: 0.9513, Val loss: 0.1271, Val acc: 0.9511\n"
     ]
    },
    {
     "name": "stderr",
     "output_type": "stream",
     "text": [
      "100%|██████████| 185/185 [00:01<00:00, 147.12it/s]\n",
      "100%|██████████| 47/47 [00:00<00:00, 728.25it/s]\n"
     ]
    },
    {
     "name": "stdout",
     "output_type": "stream",
     "text": [
      "Train loss: 0.1173, Train acc: 0.9528, Val loss: 0.1223, Val acc: 0.9525\n"
     ]
    },
    {
     "name": "stderr",
     "output_type": "stream",
     "text": [
      "100%|██████████| 185/185 [00:00<00:00, 363.81it/s]\n",
      "100%|██████████| 47/47 [00:00<00:00, 1287.67it/s]\n"
     ]
    },
    {
     "name": "stdout",
     "output_type": "stream",
     "text": [
      "Train loss: 0.1170, Train acc: 0.9515, Val loss: 0.1260, Val acc: 0.9450\n"
     ]
    },
    {
     "name": "stderr",
     "output_type": "stream",
     "text": [
      "100%|██████████| 185/185 [00:00<00:00, 369.75it/s]\n",
      "100%|██████████| 47/47 [00:00<00:00, 1051.00it/s]\n"
     ]
    },
    {
     "name": "stdout",
     "output_type": "stream",
     "text": [
      "Train loss: 0.1144, Train acc: 0.9531, Val loss: 0.1270, Val acc: 0.9491\n"
     ]
    },
    {
     "name": "stderr",
     "output_type": "stream",
     "text": [
      "100%|██████████| 185/185 [00:00<00:00, 383.25it/s]\n",
      "100%|██████████| 47/47 [00:00<00:00, 1034.59it/s]\n"
     ]
    },
    {
     "name": "stdout",
     "output_type": "stream",
     "text": [
      "Train loss: 0.1112, Train acc: 0.9543, Val loss: 0.1178, Val acc: 0.9498\n"
     ]
    },
    {
     "name": "stderr",
     "output_type": "stream",
     "text": [
      "100%|██████████| 185/185 [00:00<00:00, 385.65it/s]\n",
      "100%|██████████| 47/47 [00:00<00:00, 1030.16it/s]\n"
     ]
    },
    {
     "name": "stdout",
     "output_type": "stream",
     "text": [
      "Train loss: 0.1102, Train acc: 0.9555, Val loss: 0.1129, Val acc: 0.9518\n"
     ]
    },
    {
     "name": "stderr",
     "output_type": "stream",
     "text": [
      "100%|██████████| 185/185 [00:00<00:00, 364.86it/s]\n",
      "100%|██████████| 47/47 [00:00<00:00, 972.86it/s]\n"
     ]
    },
    {
     "name": "stdout",
     "output_type": "stream",
     "text": [
      "Train loss: 0.1089, Train acc: 0.9552, Val loss: 0.1227, Val acc: 0.9538\n"
     ]
    },
    {
     "name": "stderr",
     "output_type": "stream",
     "text": [
      "100%|██████████| 185/185 [00:00<00:00, 325.21it/s]\n",
      "100%|██████████| 47/47 [00:00<00:00, 996.65it/s]\n"
     ]
    },
    {
     "name": "stdout",
     "output_type": "stream",
     "text": [
      "Train loss: 0.1057, Train acc: 0.9608, Val loss: 0.1213, Val acc: 0.9504\n"
     ]
    },
    {
     "name": "stderr",
     "output_type": "stream",
     "text": [
      "100%|██████████| 185/185 [00:00<00:00, 383.35it/s]\n",
      "100%|██████████| 47/47 [00:00<00:00, 892.81it/s]\n"
     ]
    },
    {
     "name": "stdout",
     "output_type": "stream",
     "text": [
      "Train loss: 0.1035, Train acc: 0.9581, Val loss: 0.1157, Val acc: 0.9538\n"
     ]
    },
    {
     "name": "stderr",
     "output_type": "stream",
     "text": [
      "100%|██████████| 185/185 [00:00<00:00, 335.28it/s]\n",
      "100%|██████████| 47/47 [00:00<00:00, 1053.99it/s]\n"
     ]
    },
    {
     "name": "stdout",
     "output_type": "stream",
     "text": [
      "Train loss: 0.1030, Train acc: 0.9586, Val loss: 0.1131, Val acc: 0.9532\n"
     ]
    },
    {
     "name": "stderr",
     "output_type": "stream",
     "text": [
      "100%|██████████| 185/185 [00:00<00:00, 333.41it/s]\n",
      "100%|██████████| 47/47 [00:00<00:00, 313.77it/s]\n"
     ]
    },
    {
     "name": "stdout",
     "output_type": "stream",
     "text": [
      "Train loss: 0.1010, Train acc: 0.9586, Val loss: 0.1163, Val acc: 0.9511\n"
     ]
    },
    {
     "name": "stderr",
     "output_type": "stream",
     "text": [
      "100%|██████████| 185/185 [00:00<00:00, 340.94it/s]\n",
      "100%|██████████| 47/47 [00:00<00:00, 774.11it/s]\n"
     ]
    },
    {
     "name": "stdout",
     "output_type": "stream",
     "text": [
      "Train loss: 0.0993, Train acc: 0.9615, Val loss: 0.1376, Val acc: 0.9552\n"
     ]
    },
    {
     "name": "stderr",
     "output_type": "stream",
     "text": [
      "100%|██████████| 185/185 [00:00<00:00, 342.66it/s]\n",
      "100%|██████████| 47/47 [00:00<00:00, 668.55it/s]\n"
     ]
    },
    {
     "name": "stdout",
     "output_type": "stream",
     "text": [
      "Train loss: 0.0983, Train acc: 0.9604, Val loss: 0.1118, Val acc: 0.9559\n"
     ]
    },
    {
     "name": "stderr",
     "output_type": "stream",
     "text": [
      "100%|██████████| 185/185 [00:00<00:00, 377.65it/s]\n",
      "100%|██████████| 47/47 [00:00<00:00, 1045.74it/s]\n"
     ]
    },
    {
     "name": "stdout",
     "output_type": "stream",
     "text": [
      "Train loss: 0.0987, Train acc: 0.9613, Val loss: 0.1055, Val acc: 0.9552\n"
     ]
    },
    {
     "name": "stderr",
     "output_type": "stream",
     "text": [
      "100%|██████████| 185/185 [00:00<00:00, 380.68it/s]\n",
      "100%|██████████| 47/47 [00:00<00:00, 1268.36it/s]\n"
     ]
    },
    {
     "name": "stdout",
     "output_type": "stream",
     "text": [
      "Train loss: 0.0944, Train acc: 0.9644, Val loss: 0.1066, Val acc: 0.9586\n"
     ]
    },
    {
     "name": "stderr",
     "output_type": "stream",
     "text": [
      "100%|██████████| 185/185 [00:00<00:00, 390.10it/s]\n",
      "100%|██████████| 47/47 [00:00<00:00, 919.50it/s]\n"
     ]
    },
    {
     "name": "stdout",
     "output_type": "stream",
     "text": [
      "Train loss: 0.0962, Train acc: 0.9627, Val loss: 0.1064, Val acc: 0.9579\n"
     ]
    },
    {
     "name": "stderr",
     "output_type": "stream",
     "text": [
      "100%|██████████| 185/185 [00:00<00:00, 390.00it/s]\n",
      "100%|██████████| 47/47 [00:00<00:00, 1048.14it/s]\n"
     ]
    },
    {
     "name": "stdout",
     "output_type": "stream",
     "text": [
      "Train loss: 0.0929, Train acc: 0.9647, Val loss: 0.1070, Val acc: 0.9552\n"
     ]
    },
    {
     "name": "stderr",
     "output_type": "stream",
     "text": [
      "100%|██████████| 185/185 [00:00<00:00, 385.51it/s]\n",
      "100%|██████████| 47/47 [00:00<00:00, 1056.71it/s]\n"
     ]
    },
    {
     "name": "stdout",
     "output_type": "stream",
     "text": [
      "Train loss: 0.0931, Train acc: 0.9630, Val loss: 0.1067, Val acc: 0.9538\n"
     ]
    },
    {
     "name": "stderr",
     "output_type": "stream",
     "text": [
      "100%|██████████| 185/185 [00:00<00:00, 381.10it/s]\n",
      "100%|██████████| 47/47 [00:00<00:00, 1162.00it/s]\n"
     ]
    },
    {
     "name": "stdout",
     "output_type": "stream",
     "text": [
      "Train loss: 0.0915, Train acc: 0.9645, Val loss: 0.1051, Val acc: 0.9599\n"
     ]
    },
    {
     "name": "stderr",
     "output_type": "stream",
     "text": [
      "100%|██████████| 185/185 [00:00<00:00, 384.59it/s]\n",
      "100%|██████████| 47/47 [00:00<00:00, 1029.02it/s]\n"
     ]
    },
    {
     "name": "stdout",
     "output_type": "stream",
     "text": [
      "Train loss: 0.0903, Train acc: 0.9640, Val loss: 0.0984, Val acc: 0.9627\n"
     ]
    },
    {
     "name": "stderr",
     "output_type": "stream",
     "text": [
      "100%|██████████| 185/185 [00:00<00:00, 373.11it/s]\n",
      "100%|██████████| 47/47 [00:00<00:00, 1006.20it/s]\n"
     ]
    },
    {
     "name": "stdout",
     "output_type": "stream",
     "text": [
      "Train loss: 0.0909, Train acc: 0.9638, Val loss: 0.1038, Val acc: 0.9593\n"
     ]
    },
    {
     "name": "stderr",
     "output_type": "stream",
     "text": [
      "100%|██████████| 185/185 [00:00<00:00, 387.62it/s]\n",
      "100%|██████████| 47/47 [00:00<00:00, 1051.28it/s]\n"
     ]
    },
    {
     "name": "stdout",
     "output_type": "stream",
     "text": [
      "Train loss: 0.0900, Train acc: 0.9647, Val loss: 0.1007, Val acc: 0.9613\n"
     ]
    },
    {
     "name": "stderr",
     "output_type": "stream",
     "text": [
      "100%|██████████| 185/185 [00:00<00:00, 392.54it/s]\n",
      "100%|██████████| 47/47 [00:00<00:00, 1111.39it/s]\n"
     ]
    },
    {
     "name": "stdout",
     "output_type": "stream",
     "text": [
      "Train loss: 0.0874, Train acc: 0.9669, Val loss: 0.0985, Val acc: 0.9627\n"
     ]
    },
    {
     "name": "stderr",
     "output_type": "stream",
     "text": [
      "100%|██████████| 185/185 [00:00<00:00, 382.88it/s]\n",
      "100%|██████████| 47/47 [00:00<00:00, 1112.60it/s]\n"
     ]
    },
    {
     "name": "stdout",
     "output_type": "stream",
     "text": [
      "Train loss: 0.0859, Train acc: 0.9671, Val loss: 0.0979, Val acc: 0.9606\n"
     ]
    },
    {
     "name": "stderr",
     "output_type": "stream",
     "text": [
      "100%|██████████| 185/185 [00:00<00:00, 380.28it/s]\n",
      "100%|██████████| 47/47 [00:00<00:00, 1014.17it/s]\n"
     ]
    },
    {
     "name": "stdout",
     "output_type": "stream",
     "text": [
      "Train loss: 0.0866, Train acc: 0.9645, Val loss: 0.0968, Val acc: 0.9572\n"
     ]
    },
    {
     "name": "stderr",
     "output_type": "stream",
     "text": [
      "100%|██████████| 185/185 [00:00<00:00, 335.80it/s]\n",
      "100%|██████████| 47/47 [00:00<00:00, 1014.02it/s]\n"
     ]
    },
    {
     "name": "stdout",
     "output_type": "stream",
     "text": [
      "Train loss: 0.0862, Train acc: 0.9660, Val loss: 0.0959, Val acc: 0.9667\n"
     ]
    },
    {
     "name": "stderr",
     "output_type": "stream",
     "text": [
      "100%|██████████| 185/185 [00:00<00:00, 395.05it/s]\n",
      "100%|██████████| 47/47 [00:00<00:00, 1228.77it/s]\n"
     ]
    },
    {
     "name": "stdout",
     "output_type": "stream",
     "text": [
      "Train loss: 0.0842, Train acc: 0.9659, Val loss: 0.0959, Val acc: 0.9586\n"
     ]
    },
    {
     "name": "stderr",
     "output_type": "stream",
     "text": [
      "100%|██████████| 185/185 [00:00<00:00, 327.49it/s]\n",
      "100%|██████████| 47/47 [00:00<00:00, 1218.39it/s]\n"
     ]
    },
    {
     "name": "stdout",
     "output_type": "stream",
     "text": [
      "Train loss: 0.0856, Train acc: 0.9679, Val loss: 0.0931, Val acc: 0.9661\n"
     ]
    },
    {
     "name": "stderr",
     "output_type": "stream",
     "text": [
      "100%|██████████| 185/185 [00:00<00:00, 391.04it/s]\n",
      "100%|██████████| 47/47 [00:00<00:00, 1309.31it/s]\n"
     ]
    },
    {
     "name": "stdout",
     "output_type": "stream",
     "text": [
      "Train loss: 0.0823, Train acc: 0.9679, Val loss: 0.0980, Val acc: 0.9633\n"
     ]
    },
    {
     "data": {
      "image/png": "[encoded data removed]",
      "text/plain": [
       "<Figure size 640x480 with 1 Axes>"
      ]
     },
     "metadata": {},
     "output_type": "display_data"
    }
   ],
   "source": [
    "EPOCHS = 50\n",
    "train_loss_list = []\n",
    "train_acc_list = []\n",
    "val_loss_list = []\n",
    "val_acc_list = []\n",
    "\n",
    "for _ in range(EPOCHS):\n",
    "    train_loss, train_acc, val_loss, val_acc = train(model, train_loader, val_loader, criterion, optimizer)\n",
    "    train_loss_list.append(train_loss)\n",
    "    train_acc_list.append(train_acc)\n",
    "    val_loss_list.append(val_loss)\n",
    "    val_acc_list.append(val_acc)\n",
    "    print(f\"Train loss: {train_loss:.4f}, Train acc: {train_acc:.4f}, Val loss: {val_loss:.4f}, Val acc: {val_acc:.4f}\")\n",
    "\n",
    "# Plot train loss and accuracy\n",
    "plt.plot(train_acc_list, label=\"train acc\")\n",
    "plt.plot(val_acc_list, label=\"val acc\")\n",
    "plt.legend()\n",
    "plt.show()"
   ]
  },
  {
   "cell_type": "code",
   "execution_count": 159,
   "metadata": {},
   "outputs": [
    {
     "name": "stdout",
     "output_type": "stream",
     "text": [
      "Test loss: 0.0904, Test acc: 0.9658\n"
     ]
    }
   ],
   "source": [
    "test_loss, test_acc = test(model, test_loader, criterion)\n",
    "print(f\"Test loss: {test_loss:.4f}, Test acc: {test_acc:.4f}\")"
   ]
  },
  {
   "cell_type": "code",
   "execution_count": 160,
   "metadata": {},
   "outputs": [
    {
     "data": {
      "image/png": "[encoded data removed]",
      "text/plain": [
       "<Figure size 600x600 with 2 Axes>"
      ]
     },
     "metadata": {},
     "output_type": "display_data"
    }
   ],
   "source": [
    "# Predict on test set\n",
    "y_pred_list = []\n",
    "y_true_list = []\n",
    "with torch.no_grad():\n",
    "    for X, y in test_loader:\n",
    "        y_pred = model(X)\n",
    "        y_pred_list.append(y_pred.argmax(1).cpu().numpy())\n",
    "        y_true_list.append(y.cpu().numpy())\n",
    "\n",
    "y_pred = np.concatenate(y_pred_list)\n",
    "y_true = np.concatenate(y_true_list)\n",
    "\n",
    "# Plot confusion matrix\n",
    "plot_confusion_matrix(y_true, y_pred, title=\"Confusion matrix for the test set\")"
   ]
  },
  {
   "cell_type": "markdown",
   "metadata": {},
   "source": [
    "#### Multiclass classification"
   ]
  },
  {
   "cell_type": "code",
   "execution_count": 161,
   "metadata": {},
   "outputs": [],
   "source": [
    "train_dataset = HITLDataset(X_train_scaled, y_train[\"new_labels\"].to_numpy())\n",
    "test_dataset = HITLDataset(X_test_scaled, y_test[\"new_labels\"].to_numpy())\n",
    "val_dataset = HITLDataset(X_val_scaled, y_val[\"new_labels\"].to_numpy())\n",
    "\n",
    "train_loader = torch.utils.data.DataLoader(train_dataset, batch_size=32, shuffle=True)\n",
    "test_loader = torch.utils.data.DataLoader(test_dataset, batch_size=32, shuffle=False)\n",
    "val_loader = torch.utils.data.DataLoader(val_dataset, batch_size=32, shuffle=True)"
   ]
  },
  {
   "cell_type": "code",
   "execution_count": 162,
   "metadata": {},
   "outputs": [],
   "source": [
    "input_dim = X_train_scaled.shape[1]\n",
    "output_dim = len(y_train[\"new_labels\"].unique())\n",
    "hidden_dim = 32\n",
    "model = LSTM(input_dim, hidden_dim, output_dim)\n",
    "\n",
    "# Define loss function and optimizer\n",
    "criterion = nn.CrossEntropyLoss()\n",
    "optimizer = torch.optim.Adam(model.parameters(), lr=0.001)"
   ]
  },
  {
   "cell_type": "code",
   "execution_count": 163,
   "metadata": {},
   "outputs": [
    {
     "name": "stderr",
     "output_type": "stream",
     "text": [
      "100%|██████████| 185/185 [00:00<00:00, 337.01it/s]\n",
      "100%|██████████| 47/47 [00:00<00:00, 1004.91it/s]\n"
     ]
    },
    {
     "name": "stdout",
     "output_type": "stream",
     "text": [
      "Train loss: 0.8696, Train acc: 0.7639, Val loss: 0.6215, Val acc: 0.8384\n"
     ]
    },
    {
     "name": "stderr",
     "output_type": "stream",
     "text": [
      "100%|██████████| 185/185 [00:00<00:00, 391.90it/s]\n",
      "100%|██████████| 47/47 [00:00<00:00, 1069.56it/s]\n"
     ]
    },
    {
     "name": "stdout",
     "output_type": "stream",
     "text": [
      "Train loss: 0.5468, Train acc: 0.8465, Val loss: 0.5273, Val acc: 0.8384\n"
     ]
    },
    {
     "name": "stderr",
     "output_type": "stream",
     "text": [
      "100%|██████████| 185/185 [00:00<00:00, 387.10it/s]\n",
      "100%|██████████| 47/47 [00:00<00:00, 1205.57it/s]\n"
     ]
    },
    {
     "name": "stdout",
     "output_type": "stream",
     "text": [
      "Train loss: 0.4816, Train acc: 0.8474, Val loss: 0.4688, Val acc: 0.8445\n"
     ]
    },
    {
     "name": "stderr",
     "output_type": "stream",
     "text": [
      "100%|██████████| 185/185 [00:00<00:00, 341.37it/s]\n",
      "100%|██████████| 47/47 [00:00<00:00, 1216.58it/s]\n"
     ]
    },
    {
     "name": "stdout",
     "output_type": "stream",
     "text": [
      "Train loss: 0.4415, Train acc: 0.8617, Val loss: 0.4282, Val acc: 0.8601\n"
     ]
    },
    {
     "name": "stderr",
     "output_type": "stream",
     "text": [
      "100%|██████████| 185/185 [00:00<00:00, 392.13it/s]\n",
      "100%|██████████| 47/47 [00:00<00:00, 1141.27it/s]\n"
     ]
    },
    {
     "name": "stdout",
     "output_type": "stream",
     "text": [
      "Train loss: 0.4021, Train acc: 0.8696, Val loss: 0.3875, Val acc: 0.8737\n"
     ]
    },
    {
     "name": "stderr",
     "output_type": "stream",
     "text": [
      "100%|██████████| 185/185 [00:00<00:00, 386.95it/s]\n",
      "100%|██████████| 47/47 [00:00<00:00, 938.77it/s]\n"
     ]
    },
    {
     "name": "stdout",
     "output_type": "stream",
     "text": [
      "Train loss: 0.3666, Train acc: 0.8776, Val loss: 0.3749, Val acc: 0.8751\n"
     ]
    },
    {
     "name": "stderr",
     "output_type": "stream",
     "text": [
      "100%|██████████| 185/185 [00:00<00:00, 385.82it/s]\n",
      "100%|██████████| 47/47 [00:00<00:00, 900.16it/s]\n"
     ]
    },
    {
     "name": "stdout",
     "output_type": "stream",
     "text": [
      "Train loss: 0.3444, Train acc: 0.8795, Val loss: 0.3361, Val acc: 0.8921\n"
     ]
    },
    {
     "name": "stderr",
     "output_type": "stream",
     "text": [
      "100%|██████████| 185/185 [00:00<00:00, 383.79it/s]\n",
      "100%|██████████| 47/47 [00:00<00:00, 1051.84it/s]\n"
     ]
    },
    {
     "name": "stdout",
     "output_type": "stream",
     "text": [
      "Train loss: 0.3204, Train acc: 0.8869, Val loss: 0.3131, Val acc: 0.8988\n"
     ]
    },
    {
     "name": "stderr",
     "output_type": "stream",
     "text": [
      "100%|██████████| 185/185 [00:00<00:00, 383.14it/s]\n",
      "100%|██████████| 47/47 [00:00<00:00, 752.09it/s]\n"
     ]
    },
    {
     "name": "stdout",
     "output_type": "stream",
     "text": [
      "Train loss: 0.2976, Train acc: 0.8939, Val loss: 0.2959, Val acc: 0.8934\n"
     ]
    },
    {
     "name": "stderr",
     "output_type": "stream",
     "text": [
      "100%|██████████| 185/185 [00:00<00:00, 375.52it/s]\n",
      "100%|██████████| 47/47 [00:00<00:00, 1162.11it/s]\n"
     ]
    },
    {
     "name": "stdout",
     "output_type": "stream",
     "text": [
      "Train loss: 0.2810, Train acc: 0.9004, Val loss: 0.2914, Val acc: 0.9104\n"
     ]
    },
    {
     "name": "stderr",
     "output_type": "stream",
     "text": [
      "100%|██████████| 185/185 [00:00<00:00, 371.84it/s]\n",
      "100%|██████████| 47/47 [00:00<00:00, 1093.51it/s]\n"
     ]
    },
    {
     "name": "stdout",
     "output_type": "stream",
     "text": [
      "Train loss: 0.2631, Train acc: 0.9043, Val loss: 0.2601, Val acc: 0.9117\n"
     ]
    },
    {
     "name": "stderr",
     "output_type": "stream",
     "text": [
      "100%|██████████| 185/185 [00:00<00:00, 392.02it/s]\n",
      "100%|██████████| 47/47 [00:00<00:00, 1008.88it/s]\n"
     ]
    },
    {
     "name": "stdout",
     "output_type": "stream",
     "text": [
      "Train loss: 0.2468, Train acc: 0.9114, Val loss: 0.2429, Val acc: 0.9124\n"
     ]
    },
    {
     "name": "stderr",
     "output_type": "stream",
     "text": [
      "100%|██████████| 185/185 [00:00<00:00, 389.64it/s]\n",
      "100%|██████████| 47/47 [00:00<00:00, 1147.65it/s]\n"
     ]
    },
    {
     "name": "stdout",
     "output_type": "stream",
     "text": [
      "Train loss: 0.2399, Train acc: 0.9158, Val loss: 0.2490, Val acc: 0.9151\n"
     ]
    },
    {
     "name": "stderr",
     "output_type": "stream",
     "text": [
      "100%|██████████| 185/185 [00:00<00:00, 381.95it/s]\n",
      "100%|██████████| 47/47 [00:00<00:00, 1150.25it/s]\n"
     ]
    },
    {
     "name": "stdout",
     "output_type": "stream",
     "text": [
      "Train loss: 0.2262, Train acc: 0.9167, Val loss: 0.2281, Val acc: 0.9240\n"
     ]
    },
    {
     "name": "stderr",
     "output_type": "stream",
     "text": [
      "100%|██████████| 185/185 [00:00<00:00, 387.53it/s]\n",
      "100%|██████████| 47/47 [00:00<00:00, 1337.68it/s]\n"
     ]
    },
    {
     "name": "stdout",
     "output_type": "stream",
     "text": [
      "Train loss: 0.2155, Train acc: 0.9206, Val loss: 0.2196, Val acc: 0.9308\n"
     ]
    },
    {
     "name": "stderr",
     "output_type": "stream",
     "text": [
      "100%|██████████| 185/185 [00:00<00:00, 381.58it/s]\n",
      "100%|██████████| 47/47 [00:00<00:00, 957.52it/s]\n"
     ]
    },
    {
     "name": "stdout",
     "output_type": "stream",
     "text": [
      "Train loss: 0.2123, Train acc: 0.9223, Val loss: 0.2061, Val acc: 0.9287\n"
     ]
    },
    {
     "name": "stderr",
     "output_type": "stream",
     "text": [
      "100%|██████████| 185/185 [00:00<00:00, 382.80it/s]\n",
      "100%|██████████| 47/47 [00:00<00:00, 893.44it/s]\n"
     ]
    },
    {
     "name": "stdout",
     "output_type": "stream",
     "text": [
      "Train loss: 0.1971, Train acc: 0.9285, Val loss: 0.2008, Val acc: 0.9267\n"
     ]
    },
    {
     "name": "stderr",
     "output_type": "stream",
     "text": [
      "100%|██████████| 185/185 [00:00<00:00, 383.52it/s]\n",
      "100%|██████████| 47/47 [00:00<00:00, 1002.96it/s]\n"
     ]
    },
    {
     "name": "stdout",
     "output_type": "stream",
     "text": [
      "Train loss: 0.1873, Train acc: 0.9304, Val loss: 0.2144, Val acc: 0.9301\n"
     ]
    },
    {
     "name": "stderr",
     "output_type": "stream",
     "text": [
      "100%|██████████| 185/185 [00:00<00:00, 395.21it/s]\n",
      "100%|██████████| 47/47 [00:00<00:00, 1286.30it/s]\n"
     ]
    },
    {
     "name": "stdout",
     "output_type": "stream",
     "text": [
      "Train loss: 0.1843, Train acc: 0.9318, Val loss: 0.1842, Val acc: 0.9389\n"
     ]
    },
    {
     "name": "stderr",
     "output_type": "stream",
     "text": [
      "100%|██████████| 185/185 [00:00<00:00, 459.00it/s]\n",
      "100%|██████████| 47/47 [00:00<00:00, 1293.19it/s]\n"
     ]
    },
    {
     "name": "stdout",
     "output_type": "stream",
     "text": [
      "Train loss: 0.1760, Train acc: 0.9369, Val loss: 0.1782, Val acc: 0.9416\n"
     ]
    },
    {
     "name": "stderr",
     "output_type": "stream",
     "text": [
      "100%|██████████| 185/185 [00:00<00:00, 437.39it/s]\n",
      "100%|██████████| 47/47 [00:00<00:00, 1210.74it/s]\n"
     ]
    },
    {
     "name": "stdout",
     "output_type": "stream",
     "text": [
      "Train loss: 0.1725, Train acc: 0.9346, Val loss: 0.1814, Val acc: 0.9369\n"
     ]
    },
    {
     "name": "stderr",
     "output_type": "stream",
     "text": [
      "100%|██████████| 185/185 [00:00<00:00, 457.36it/s]\n",
      "100%|██████████| 47/47 [00:00<00:00, 1486.21it/s]\n"
     ]
    },
    {
     "name": "stdout",
     "output_type": "stream",
     "text": [
      "Train loss: 0.1655, Train acc: 0.9363, Val loss: 0.1747, Val acc: 0.9382\n"
     ]
    },
    {
     "name": "stderr",
     "output_type": "stream",
     "text": [
      "100%|██████████| 185/185 [00:00<00:00, 452.73it/s]\n",
      "100%|██████████| 47/47 [00:00<00:00, 1290.38it/s]\n"
     ]
    },
    {
     "name": "stdout",
     "output_type": "stream",
     "text": [
      "Train loss: 0.1616, Train acc: 0.9392, Val loss: 0.1668, Val acc: 0.9423\n"
     ]
    },
    {
     "name": "stderr",
     "output_type": "stream",
     "text": [
      "100%|██████████| 185/185 [00:00<00:00, 417.66it/s]\n",
      "100%|██████████| 47/47 [00:00<00:00, 1088.82it/s]\n"
     ]
    },
    {
     "name": "stdout",
     "output_type": "stream",
     "text": [
      "Train loss: 0.1577, Train acc: 0.9423, Val loss: 0.1610, Val acc: 0.9437\n"
     ]
    },
    {
     "name": "stderr",
     "output_type": "stream",
     "text": [
      "100%|██████████| 185/185 [00:00<00:00, 446.82it/s]\n",
      "100%|██████████| 47/47 [00:00<00:00, 1260.57it/s]\n"
     ]
    },
    {
     "name": "stdout",
     "output_type": "stream",
     "text": [
      "Train loss: 0.1550, Train acc: 0.9436, Val loss: 0.1583, Val acc: 0.9450\n"
     ]
    },
    {
     "name": "stderr",
     "output_type": "stream",
     "text": [
      "100%|██████████| 185/185 [00:00<00:00, 458.68it/s]\n",
      "100%|██████████| 47/47 [00:00<00:00, 1285.70it/s]\n"
     ]
    },
    {
     "name": "stdout",
     "output_type": "stream",
     "text": [
      "Train loss: 0.1490, Train acc: 0.9465, Val loss: 0.1515, Val acc: 0.9437\n"
     ]
    },
    {
     "name": "stderr",
     "output_type": "stream",
     "text": [
      "100%|██████████| 185/185 [00:00<00:00, 463.40it/s]\n",
      "100%|██████████| 47/47 [00:00<00:00, 1170.94it/s]\n"
     ]
    },
    {
     "name": "stdout",
     "output_type": "stream",
     "text": [
      "Train loss: 0.1455, Train acc: 0.9467, Val loss: 0.1512, Val acc: 0.9477\n"
     ]
    },
    {
     "name": "stderr",
     "output_type": "stream",
     "text": [
      "100%|██████████| 185/185 [00:00<00:00, 453.38it/s]\n",
      "100%|██████████| 47/47 [00:00<00:00, 1356.86it/s]\n"
     ]
    },
    {
     "name": "stdout",
     "output_type": "stream",
     "text": [
      "Train loss: 0.1433, Train acc: 0.9467, Val loss: 0.1443, Val acc: 0.9457\n"
     ]
    },
    {
     "name": "stderr",
     "output_type": "stream",
     "text": [
      "100%|██████████| 185/185 [00:00<00:00, 444.57it/s]\n",
      "100%|██████████| 47/47 [00:00<00:00, 1160.46it/s]\n"
     ]
    },
    {
     "name": "stdout",
     "output_type": "stream",
     "text": [
      "Train loss: 0.1408, Train acc: 0.9464, Val loss: 0.1465, Val acc: 0.9484\n"
     ]
    },
    {
     "name": "stderr",
     "output_type": "stream",
     "text": [
      "100%|██████████| 185/185 [00:00<00:00, 446.82it/s]\n",
      "100%|██████████| 47/47 [00:00<00:00, 1141.26it/s]\n"
     ]
    },
    {
     "name": "stdout",
     "output_type": "stream",
     "text": [
      "Train loss: 0.1364, Train acc: 0.9487, Val loss: 0.1425, Val acc: 0.9498\n"
     ]
    },
    {
     "name": "stderr",
     "output_type": "stream",
     "text": [
      "100%|██████████| 185/185 [00:00<00:00, 455.55it/s]\n",
      "100%|██████████| 47/47 [00:00<00:00, 1208.08it/s]\n"
     ]
    },
    {
     "name": "stdout",
     "output_type": "stream",
     "text": [
      "Train loss: 0.1335, Train acc: 0.9523, Val loss: 0.1590, Val acc: 0.9491\n"
     ]
    },
    {
     "name": "stderr",
     "output_type": "stream",
     "text": [
      "100%|██████████| 185/185 [00:00<00:00, 444.07it/s]\n",
      "100%|██████████| 47/47 [00:00<00:00, 1135.42it/s]\n"
     ]
    },
    {
     "name": "stdout",
     "output_type": "stream",
     "text": [
      "Train loss: 0.1310, Train acc: 0.9520, Val loss: 0.1378, Val acc: 0.9504\n"
     ]
    },
    {
     "name": "stderr",
     "output_type": "stream",
     "text": [
      "100%|██████████| 185/185 [00:00<00:00, 438.52it/s]\n",
      "100%|██████████| 47/47 [00:00<00:00, 1002.65it/s]\n"
     ]
    },
    {
     "name": "stdout",
     "output_type": "stream",
     "text": [
      "Train loss: 0.1274, Train acc: 0.9520, Val loss: 0.1380, Val acc: 0.9450\n"
     ]
    },
    {
     "name": "stderr",
     "output_type": "stream",
     "text": [
      "100%|██████████| 185/185 [00:00<00:00, 441.07it/s]\n",
      "100%|██████████| 47/47 [00:00<00:00, 1144.49it/s]\n"
     ]
    },
    {
     "name": "stdout",
     "output_type": "stream",
     "text": [
      "Train loss: 0.1249, Train acc: 0.9552, Val loss: 0.1499, Val acc: 0.9525\n"
     ]
    },
    {
     "name": "stderr",
     "output_type": "stream",
     "text": [
      "100%|██████████| 185/185 [00:00<00:00, 445.18it/s]\n",
      "100%|██████████| 47/47 [00:00<00:00, 1146.92it/s]\n"
     ]
    },
    {
     "name": "stdout",
     "output_type": "stream",
     "text": [
      "Train loss: 0.1248, Train acc: 0.9554, Val loss: 0.1374, Val acc: 0.9450\n"
     ]
    },
    {
     "name": "stderr",
     "output_type": "stream",
     "text": [
      "100%|██████████| 185/185 [00:00<00:00, 445.78it/s]\n",
      "100%|██████████| 47/47 [00:00<00:00, 1097.60it/s]\n"
     ]
    },
    {
     "name": "stdout",
     "output_type": "stream",
     "text": [
      "Train loss: 0.1213, Train acc: 0.9537, Val loss: 0.1308, Val acc: 0.9538\n"
     ]
    },
    {
     "name": "stderr",
     "output_type": "stream",
     "text": [
      "100%|██████████| 185/185 [00:00<00:00, 402.74it/s]\n",
      "100%|██████████| 47/47 [00:00<00:00, 579.55it/s]\n"
     ]
    },
    {
     "name": "stdout",
     "output_type": "stream",
     "text": [
      "Train loss: 0.1235, Train acc: 0.9543, Val loss: 0.1249, Val acc: 0.9552\n"
     ]
    },
    {
     "name": "stderr",
     "output_type": "stream",
     "text": [
      "100%|██████████| 185/185 [00:00<00:00, 311.79it/s]\n",
      "100%|██████████| 47/47 [00:00<00:00, 646.50it/s]\n"
     ]
    },
    {
     "name": "stdout",
     "output_type": "stream",
     "text": [
      "Train loss: 0.1185, Train acc: 0.9576, Val loss: 0.1272, Val acc: 0.9518\n"
     ]
    },
    {
     "name": "stderr",
     "output_type": "stream",
     "text": [
      "100%|██████████| 185/185 [00:00<00:00, 360.38it/s]\n",
      "100%|██████████| 47/47 [00:00<00:00, 958.12it/s]\n"
     ]
    },
    {
     "name": "stdout",
     "output_type": "stream",
     "text": [
      "Train loss: 0.1152, Train acc: 0.9574, Val loss: 0.1476, Val acc: 0.9552\n"
     ]
    },
    {
     "name": "stderr",
     "output_type": "stream",
     "text": [
      "100%|██████████| 185/185 [00:00<00:00, 241.17it/s]\n",
      "100%|██████████| 47/47 [00:00<00:00, 1129.62it/s]\n"
     ]
    },
    {
     "name": "stdout",
     "output_type": "stream",
     "text": [
      "Train loss: 0.1155, Train acc: 0.9555, Val loss: 0.1348, Val acc: 0.9518\n"
     ]
    },
    {
     "name": "stderr",
     "output_type": "stream",
     "text": [
      "100%|██████████| 185/185 [00:00<00:00, 395.53it/s]\n",
      "100%|██████████| 47/47 [00:00<00:00, 1016.49it/s]\n"
     ]
    },
    {
     "name": "stdout",
     "output_type": "stream",
     "text": [
      "Train loss: 0.1125, Train acc: 0.9572, Val loss: 0.1207, Val acc: 0.9552\n"
     ]
    },
    {
     "name": "stderr",
     "output_type": "stream",
     "text": [
      "100%|██████████| 185/185 [00:00<00:00, 272.34it/s]\n",
      "100%|██████████| 47/47 [00:00<00:00, 1062.86it/s]\n"
     ]
    },
    {
     "name": "stdout",
     "output_type": "stream",
     "text": [
      "Train loss: 0.1094, Train acc: 0.9588, Val loss: 0.1209, Val acc: 0.9532\n"
     ]
    },
    {
     "name": "stderr",
     "output_type": "stream",
     "text": [
      "100%|██████████| 185/185 [00:00<00:00, 272.77it/s]\n",
      "100%|██████████| 47/47 [00:00<00:00, 720.55it/s]\n"
     ]
    },
    {
     "name": "stdout",
     "output_type": "stream",
     "text": [
      "Train loss: 0.1100, Train acc: 0.9586, Val loss: 0.1171, Val acc: 0.9586\n"
     ]
    },
    {
     "name": "stderr",
     "output_type": "stream",
     "text": [
      "100%|██████████| 185/185 [00:00<00:00, 242.19it/s]\n",
      "100%|██████████| 47/47 [00:00<00:00, 748.70it/s]\n"
     ]
    },
    {
     "name": "stdout",
     "output_type": "stream",
     "text": [
      "Train loss: 0.1046, Train acc: 0.9616, Val loss: 0.1204, Val acc: 0.9552\n"
     ]
    },
    {
     "name": "stderr",
     "output_type": "stream",
     "text": [
      "100%|██████████| 185/185 [00:00<00:00, 236.92it/s]\n",
      "100%|██████████| 47/47 [00:00<00:00, 641.56it/s]\n"
     ]
    },
    {
     "name": "stdout",
     "output_type": "stream",
     "text": [
      "Train loss: 0.1056, Train acc: 0.9589, Val loss: 0.1200, Val acc: 0.9525\n"
     ]
    },
    {
     "name": "stderr",
     "output_type": "stream",
     "text": [
      "100%|██████████| 185/185 [00:00<00:00, 323.79it/s]\n",
      "100%|██████████| 47/47 [00:00<00:00, 812.18it/s]\n"
     ]
    },
    {
     "name": "stdout",
     "output_type": "stream",
     "text": [
      "Train loss: 0.1033, Train acc: 0.9640, Val loss: 0.1167, Val acc: 0.9566\n"
     ]
    },
    {
     "name": "stderr",
     "output_type": "stream",
     "text": [
      "100%|██████████| 185/185 [00:00<00:00, 330.81it/s]\n",
      "100%|██████████| 47/47 [00:00<00:00, 1006.93it/s]\n"
     ]
    },
    {
     "name": "stdout",
     "output_type": "stream",
     "text": [
      "Train loss: 0.1016, Train acc: 0.9630, Val loss: 0.1105, Val acc: 0.9593\n"
     ]
    },
    {
     "name": "stderr",
     "output_type": "stream",
     "text": [
      "100%|██████████| 185/185 [00:00<00:00, 226.90it/s]\n",
      "100%|██████████| 47/47 [00:00<00:00, 780.90it/s]\n"
     ]
    },
    {
     "name": "stdout",
     "output_type": "stream",
     "text": [
      "Train loss: 0.1010, Train acc: 0.9616, Val loss: 0.1135, Val acc: 0.9559\n"
     ]
    },
    {
     "name": "stderr",
     "output_type": "stream",
     "text": [
      "100%|██████████| 185/185 [00:00<00:00, 236.09it/s]\n",
      "100%|██████████| 47/47 [00:00<00:00, 966.15it/s]\n"
     ]
    },
    {
     "name": "stdout",
     "output_type": "stream",
     "text": [
      "Train loss: 0.0977, Train acc: 0.9657, Val loss: 0.1124, Val acc: 0.9606\n"
     ]
    },
    {
     "name": "stderr",
     "output_type": "stream",
     "text": [
      "100%|██████████| 185/185 [00:00<00:00, 238.99it/s]\n",
      "100%|██████████| 47/47 [00:00<00:00, 530.19it/s]\n"
     ]
    },
    {
     "name": "stdout",
     "output_type": "stream",
     "text": [
      "Train loss: 0.0979, Train acc: 0.9645, Val loss: 0.1092, Val acc: 0.9586\n"
     ]
    },
    {
     "data": {
      "image/png": "[encoded data removed]",
      "text/plain": [
       "<Figure size 640x480 with 1 Axes>"
      ]
     },
     "metadata": {},
     "output_type": "display_data"
    }
   ],
   "source": [
    "EPOCHS = 50\n",
    "train_loss_list = []\n",
    "train_acc_list = []\n",
    "val_loss_list = []\n",
    "val_acc_list = []\n",
    "\n",
    "for _ in range(EPOCHS):\n",
    "    train_loss, train_acc, val_loss, val_acc = train(model, train_loader, val_loader, criterion, optimizer)\n",
    "    train_loss_list.append(train_loss)\n",
    "    train_acc_list.append(train_acc)\n",
    "    val_loss_list.append(val_loss)\n",
    "    val_acc_list.append(val_acc)\n",
    "    print(f\"Train loss: {train_loss:.4f}, Train acc: {train_acc:.4f}, Val loss: {val_loss:.4f}, Val acc: {val_acc:.4f}\")\n",
    "\n",
    "# Plot train loss and accuracy\n",
    "plt.plot(train_acc_list, label=\"train acc\")\n",
    "plt.plot(val_acc_list, label=\"val acc\")\n",
    "plt.legend()\n",
    "plt.show()"
   ]
  },
  {
   "cell_type": "code",
   "execution_count": 164,
   "metadata": {},
   "outputs": [
    {
     "name": "stdout",
     "output_type": "stream",
     "text": [
      "Test loss: 0.1054, Test acc: 0.9593\n"
     ]
    }
   ],
   "source": [
    "test_loss, test_acc = test(model, test_loader, criterion)\n",
    "print(f\"Test loss: {test_loss:.4f}, Test acc: {test_acc:.4f}\")"
   ]
  },
  {
   "cell_type": "code",
   "execution_count": 165,
   "metadata": {},
   "outputs": [
    {
     "data": {
      "image/png": "[encoded data removed]",
      "text/plain": [
       "<Figure size 600x600 with 2 Axes>"
      ]
     },
     "metadata": {},
     "output_type": "display_data"
    }
   ],
   "source": [
    "# Predict on test set\n",
    "y_pred_list = []\n",
    "y_true_list = []\n",
    "with torch.no_grad():\n",
    "    for X, y in test_loader:\n",
    "        y_pred = model(X)\n",
    "        y_pred_list.append(y_pred.argmax(1).cpu().numpy())\n",
    "        y_true_list.append(y.cpu().numpy())\n",
    "\n",
    "y_pred = np.concatenate(y_pred_list)\n",
    "y_true = np.concatenate(y_true_list)\n",
    "\n",
    "# Plot confusion matrix\n",
    "plot_confusion_matrix(y_true, y_pred, title=\"Confusion matrix for the test set\")"
   ]
  },
  {
   "cell_type": "markdown",
   "metadata": {},
   "source": [
    "## 3. Supervised classifiers\n",
    "\n",
    "### a. Decision Tree"
   ]
  },
  {
   "cell_type": "markdown",
   "metadata": {},
   "source": [
    "#### Multiclass classification\n",
    "\n",
    "We will not use the Decision Tree for the binary classification, as we want to focus on the features importance."
   ]
  },
  {
   "cell_type": "code",
   "execution_count": 166,
   "metadata": {},
   "outputs": [
    {
     "data": {
      "text/plain": [
       "((7364, 41), (1842, 41), (7364, 2), (1842, 2))"
      ]
     },
     "execution_count": 166,
     "metadata": {},
     "output_type": "execute_result"
    }
   ],
   "source": [
    "X_train, X_test, y_train, y_test = train_test_split(df_physical_prepared, df_physical_labels[[\"new_labels\", \"label_n\"]], test_size=0.2, random_state=random_state)\n",
    "X_train.shape, X_test.shape, y_train.shape, y_test.shape"
   ]
  },
  {
   "cell_type": "markdown",
   "metadata": {},
   "source": [
    "Define the model with empirical parameters"
   ]
  },
  {
   "cell_type": "code",
   "execution_count": 167,
   "metadata": {},
   "outputs": [],
   "source": [
    "params = {\n",
    "    'max_depth': 8,\n",
    "    'criterion': 'gini',\n",
    "    'splitter': 'best',\n",
    "    'random_state': random_state\n",
    "}\n",
    "\n",
    "clf = DecisionTreeClassifier(**params)"
   ]
  },
  {
   "cell_type": "code",
   "execution_count": 168,
   "metadata": {},
   "outputs": [
    {
     "data": {
      "text/html": [
       "<style>#sk-container-id-3 {color: black;}#sk-container-id-3 pre{padding: 0;}#sk-container-id-3 div.sk-toggleable {background-color: white;}#sk-container-id-3 label.sk-toggleable__label {cursor: pointer;display: block;width: 100%;margin-bottom: 0;padding: 0.3em;box-sizing: border-box;text-align: center;}#sk-container-id-3 label.sk-toggleable__label-arrow:before {content: \"▸\";float: left;margin-right: 0.25em;color: #696969;}#sk-container-id-3 label.sk-toggleable__label-arrow:hover:before {color: black;}#sk-container-id-3 div.sk-estimator:hover label.sk-toggleable__label-arrow:before {color: black;}#sk-container-id-3 div.sk-toggleable__content {max-height: 0;max-width: 0;overflow: hidden;text-align: left;background-color: #f0f8ff;}#sk-container-id-3 div.sk-toggleable__content pre {margin: 0.2em;color: black;border-radius: 0.25em;background-color: #f0f8ff;}#sk-container-id-3 input.sk-toggleable__control:checked~div.sk-toggleable__content {max-height: 200px;max-width: 100%;overflow: auto;}#sk-container-id-3 input.sk-toggleable__control:checked~label.sk-toggleable__label-arrow:before {content: \"▾\";}#sk-container-id-3 div.sk-estimator input.sk-toggleable__control:checked~label.sk-toggleable__label {background-color: #d4ebff;}#sk-container-id-3 div.sk-label input.sk-toggleable__control:checked~label.sk-toggleable__label {background-color: #d4ebff;}#sk-container-id-3 input.sk-hidden--visually {border: 0;clip: rect(1px 1px 1px 1px);clip: rect(1px, 1px, 1px, 1px);height: 1px;margin: -1px;overflow: hidden;padding: 0;position: absolute;width: 1px;}#sk-container-id-3 div.sk-estimator {font-family: monospace;background-color: #f0f8ff;border: 1px dotted black;border-radius: 0.25em;box-sizing: border-box;margin-bottom: 0.5em;}#sk-container-id-3 div.sk-estimator:hover {background-color: #d4ebff;}#sk-container-id-3 div.sk-parallel-item::after {content: \"\";width: 100%;border-bottom: 1px solid gray;flex-grow: 1;}#sk-container-id-3 div.sk-label:hover label.sk-toggleable__label {background-color: #d4ebff;}#sk-container-id-3 div.sk-serial::before {content: \"\";position: absolute;border-left: 1px solid gray;box-sizing: border-box;top: 0;bottom: 0;left: 50%;z-index: 0;}#sk-container-id-3 div.sk-serial {display: flex;flex-direction: column;align-items: center;background-color: white;padding-right: 0.2em;padding-left: 0.2em;position: relative;}#sk-container-id-3 div.sk-item {position: relative;z-index: 1;}#sk-container-id-3 div.sk-parallel {display: flex;align-items: stretch;justify-content: center;background-color: white;position: relative;}#sk-container-id-3 div.sk-item::before, #sk-container-id-3 div.sk-parallel-item::before {content: \"\";position: absolute;border-left: 1px solid gray;box-sizing: border-box;top: 0;bottom: 0;left: 50%;z-index: -1;}#sk-container-id-3 div.sk-parallel-item {display: flex;flex-direction: column;z-index: 1;position: relative;background-color: white;}#sk-container-id-3 div.sk-parallel-item:first-child::after {align-self: flex-end;width: 50%;}#sk-container-id-3 div.sk-parallel-item:last-child::after {align-self: flex-start;width: 50%;}#sk-container-id-3 div.sk-parallel-item:only-child::after {width: 0;}#sk-container-id-3 div.sk-dashed-wrapped {border: 1px dashed gray;margin: 0 0.4em 0.5em 0.4em;box-sizing: border-box;padding-bottom: 0.4em;background-color: white;}#sk-container-id-3 div.sk-label label {font-family: monospace;font-weight: bold;display: inline-block;line-height: 1.2em;}#sk-container-id-3 div.sk-label-container {text-align: center;}#sk-container-id-3 div.sk-container {/* jupyter's `normalize.less` sets `[hidden] { display: none; }` but bootstrap.min.css set `[hidden] { display: none !important; }` so we also need the `!important` here to be able to override the default hidden behavior on the sphinx rendered scikit-learn.org. See: https://github.com/scikit-learn/scikit-learn/issues/21755 */display: inline-block !important;position: relative;}#sk-container-id-3 div.sk-text-repr-fallback {display: none;}</style><div id=\"sk-container-id-3\" class=\"sk-top-container\"><div class=\"sk-text-repr-fallback\"><pre>Pipeline(steps=[(&#x27;standardscaler&#x27;, StandardScaler()),\n",
       "                (&#x27;decisiontreeclassifier&#x27;,\n",
       "                 DecisionTreeClassifier(max_depth=8, random_state=42))])</pre><b>In a Jupyter environment, please rerun this cell to show the HTML representation or trust the notebook. <br />On GitHub, the HTML representation is unable to render, please try loading this page with nbviewer.org.</b></div><div class=\"sk-container\" hidden><div class=\"sk-item sk-dashed-wrapped\"><div class=\"sk-label-container\"><div class=\"sk-label sk-toggleable\"><input class=\"sk-toggleable__control sk-hidden--visually\" id=\"sk-estimator-id-7\" type=\"checkbox\" ><label for=\"sk-estimator-id-7\" class=\"sk-toggleable__label sk-toggleable__label-arrow\">Pipeline</label><div class=\"sk-toggleable__content\"><pre>Pipeline(steps=[(&#x27;standardscaler&#x27;, StandardScaler()),\n",
       "                (&#x27;decisiontreeclassifier&#x27;,\n",
       "                 DecisionTreeClassifier(max_depth=8, random_state=42))])</pre></div></div></div><div class=\"sk-serial\"><div class=\"sk-item\"><div class=\"sk-estimator sk-toggleable\"><input class=\"sk-toggleable__control sk-hidden--visually\" id=\"sk-estimator-id-8\" type=\"checkbox\" ><label for=\"sk-estimator-id-8\" class=\"sk-toggleable__label sk-toggleable__label-arrow\">StandardScaler</label><div class=\"sk-toggleable__content\"><pre>StandardScaler()</pre></div></div></div><div class=\"sk-item\"><div class=\"sk-estimator sk-toggleable\"><input class=\"sk-toggleable__control sk-hidden--visually\" id=\"sk-estimator-id-9\" type=\"checkbox\" ><label for=\"sk-estimator-id-9\" class=\"sk-toggleable__label sk-toggleable__label-arrow\">DecisionTreeClassifier</label><div class=\"sk-toggleable__content\"><pre>DecisionTreeClassifier(max_depth=8, random_state=42)</pre></div></div></div></div></div></div></div>"
      ],
      "text/plain": [
       "Pipeline(steps=[('standardscaler', StandardScaler()),\n",
       "                ('decisiontreeclassifier',\n",
       "                 DecisionTreeClassifier(max_depth=8, random_state=42))])"
      ]
     },
     "execution_count": 168,
     "metadata": {},
     "output_type": "execute_result"
    }
   ],
   "source": [
    "pipeline = make_pipeline(\n",
    "    StandardScaler(),\n",
    "    clf\n",
    ")\n",
    "\n",
    "pipeline.fit(X_train, y_train[\"new_labels\"])"
   ]
  },
  {
   "cell_type": "code",
   "execution_count": 169,
   "metadata": {},
   "outputs": [],
   "source": [
    "preds = pipeline.predict(X_test)"
   ]
  },
  {
   "cell_type": "code",
   "execution_count": 170,
   "metadata": {},
   "outputs": [
    {
     "name": "stdout",
     "output_type": "stream",
     "text": [
      "Accuracy:  0.9467969598262758\n",
      "Recall:  0.6881698674841034\n",
      "F1:  0.7326219385662255\n",
      "MCC:  0.8133878482930105\n",
      "Balanced accuracy:  0.6881698674841034\n"
     ]
    }
   ],
   "source": [
    "print(\"Accuracy: \", accuracy_score(y_test[\"new_labels\"], preds.round()))\n",
    "print(\"Recall: \", recall_score(y_test[\"new_labels\"], preds.round(), average=\"macro\"))\n",
    "print(\"F1: \", f1_score(y_test[\"new_labels\"], preds.round(), average=\"macro\"))\n",
    "print(\"MCC: \", matthews_corrcoef(y_test[\"new_labels\"], preds.round()))\n",
    "print(\"Balanced accuracy: \", balanced_accuracy_score(y_test[\"new_labels\"], preds.round()))"
   ]
  },
  {
   "cell_type": "code",
   "execution_count": 171,
   "metadata": {},
   "outputs": [
    {
     "data": {
      "image/png": "[encoded data removed]",
      "text/plain": [
       "<Figure size 600x600 with 2 Axes>"
      ]
     },
     "metadata": {},
     "output_type": "display_data"
    }
   ],
   "source": [
    "plot_confusion_matrix(y_test[\"new_labels\"], preds.round(), title=\"Confusion matrix for the test set\")"
   ]
  },
  {
   "cell_type": "markdown",
   "metadata": {},
   "source": [
    "Let's see which feature is the most important"
   ]
  },
  {
   "cell_type": "code",
   "execution_count": 172,
   "metadata": {},
   "outputs": [
    {
     "data": {
      "image/png": "[encoded data removed]",
      "text/plain": [
       "<Figure size 1500x600 with 1 Axes>"
      ]
     },
     "metadata": {},
     "output_type": "display_data"
    }
   ],
   "source": [
    "def plot_feature_importance(clf):\n",
    "    importance = clf.feature_importances_\n",
    "    # keep 10 most important features\n",
    "    idx = np.argsort(importance)[-10:]\n",
    "    importance = importance[idx]\n",
    "\n",
    "    # plot feature importance\n",
    "    plt.figure(figsize=(15, 6))\n",
    "    plt.title(\"Feature importance\")\n",
    "    plt.bar([x for x in range(len(importance))], importance)\n",
    "    plt.xticks([x for x in range(len(importance))], X_train.columns[idx], rotation='vertical')\n",
    "    plt.show()\n",
    "\n",
    "plot_feature_importance(clf)"
   ]
  },
  {
   "cell_type": "markdown",
   "metadata": {},
   "source": [
    "#### Without contextual information"
   ]
  },
  {
   "cell_type": "code",
   "execution_count": 173,
   "metadata": {},
   "outputs": [
    {
     "data": {
      "text/html": [
       "<div>\n",
       "<style scoped>\n",
       "    .dataframe tbody tr th:only-of-type {\n",
       "        vertical-align: middle;\n",
       "    }\n",
       "\n",
       "    .dataframe tbody tr th {\n",
       "        vertical-align: top;\n",
       "    }\n",
       "\n",
       "    .dataframe thead th {\n",
       "        text-align: right;\n",
       "    }\n",
       "</style>\n",
       "<table border=\"1\" class=\"dataframe\">\n",
       "  <thead>\n",
       "    <tr style=\"text-align: right;\">\n",
       "      <th></th>\n",
       "      <th>tank_1</th>\n",
       "      <th>tank_2</th>\n",
       "      <th>tank_3</th>\n",
       "      <th>tank_4</th>\n",
       "      <th>tank_5</th>\n",
       "      <th>tank_6</th>\n",
       "      <th>tank_7</th>\n",
       "      <th>tank_8</th>\n",
       "      <th>pump_1</th>\n",
       "      <th>pump_2</th>\n",
       "      <th>...</th>\n",
       "      <th>valv_16</th>\n",
       "      <th>valv_17</th>\n",
       "      <th>valv_18</th>\n",
       "      <th>valv_19</th>\n",
       "      <th>valv_20</th>\n",
       "      <th>valv_21</th>\n",
       "      <th>valv_22</th>\n",
       "      <th>label_n</th>\n",
       "      <th>label</th>\n",
       "      <th>attack</th>\n",
       "    </tr>\n",
       "  </thead>\n",
       "  <tbody>\n",
       "    <tr>\n",
       "      <th>0</th>\n",
       "      <td>0</td>\n",
       "      <td>0</td>\n",
       "      <td>0</td>\n",
       "      <td>0</td>\n",
       "      <td>0</td>\n",
       "      <td>0</td>\n",
       "      <td>0</td>\n",
       "      <td>0</td>\n",
       "      <td>0</td>\n",
       "      <td>0</td>\n",
       "      <td>...</td>\n",
       "      <td>0</td>\n",
       "      <td>0</td>\n",
       "      <td>0</td>\n",
       "      <td>0</td>\n",
       "      <td>0</td>\n",
       "      <td>0</td>\n",
       "      <td>0</td>\n",
       "      <td>0.0</td>\n",
       "      <td>normal</td>\n",
       "      <td>1</td>\n",
       "    </tr>\n",
       "    <tr>\n",
       "      <th>1</th>\n",
       "      <td>0</td>\n",
       "      <td>0</td>\n",
       "      <td>0</td>\n",
       "      <td>0</td>\n",
       "      <td>0</td>\n",
       "      <td>0</td>\n",
       "      <td>0</td>\n",
       "      <td>0</td>\n",
       "      <td>0</td>\n",
       "      <td>0</td>\n",
       "      <td>...</td>\n",
       "      <td>0</td>\n",
       "      <td>0</td>\n",
       "      <td>0</td>\n",
       "      <td>0</td>\n",
       "      <td>0</td>\n",
       "      <td>0</td>\n",
       "      <td>0</td>\n",
       "      <td>0.0</td>\n",
       "      <td>normal</td>\n",
       "      <td>1</td>\n",
       "    </tr>\n",
       "    <tr>\n",
       "      <th>2</th>\n",
       "      <td>0</td>\n",
       "      <td>0</td>\n",
       "      <td>0</td>\n",
       "      <td>0</td>\n",
       "      <td>0</td>\n",
       "      <td>0</td>\n",
       "      <td>0</td>\n",
       "      <td>0</td>\n",
       "      <td>0</td>\n",
       "      <td>0</td>\n",
       "      <td>...</td>\n",
       "      <td>0</td>\n",
       "      <td>0</td>\n",
       "      <td>0</td>\n",
       "      <td>0</td>\n",
       "      <td>0</td>\n",
       "      <td>0</td>\n",
       "      <td>0</td>\n",
       "      <td>0.0</td>\n",
       "      <td>normal</td>\n",
       "      <td>1</td>\n",
       "    </tr>\n",
       "    <tr>\n",
       "      <th>3</th>\n",
       "      <td>0</td>\n",
       "      <td>0</td>\n",
       "      <td>0</td>\n",
       "      <td>0</td>\n",
       "      <td>0</td>\n",
       "      <td>0</td>\n",
       "      <td>0</td>\n",
       "      <td>0</td>\n",
       "      <td>0</td>\n",
       "      <td>0</td>\n",
       "      <td>...</td>\n",
       "      <td>0</td>\n",
       "      <td>0</td>\n",
       "      <td>0</td>\n",
       "      <td>0</td>\n",
       "      <td>0</td>\n",
       "      <td>0</td>\n",
       "      <td>0</td>\n",
       "      <td>0.0</td>\n",
       "      <td>normal</td>\n",
       "      <td>1</td>\n",
       "    </tr>\n",
       "    <tr>\n",
       "      <th>4</th>\n",
       "      <td>0</td>\n",
       "      <td>0</td>\n",
       "      <td>0</td>\n",
       "      <td>0</td>\n",
       "      <td>0</td>\n",
       "      <td>0</td>\n",
       "      <td>0</td>\n",
       "      <td>0</td>\n",
       "      <td>1</td>\n",
       "      <td>1</td>\n",
       "      <td>...</td>\n",
       "      <td>0</td>\n",
       "      <td>0</td>\n",
       "      <td>0</td>\n",
       "      <td>0</td>\n",
       "      <td>0</td>\n",
       "      <td>0</td>\n",
       "      <td>0</td>\n",
       "      <td>0.0</td>\n",
       "      <td>normal</td>\n",
       "      <td>1</td>\n",
       "    </tr>\n",
       "    <tr>\n",
       "      <th>...</th>\n",
       "      <td>...</td>\n",
       "      <td>...</td>\n",
       "      <td>...</td>\n",
       "      <td>...</td>\n",
       "      <td>...</td>\n",
       "      <td>...</td>\n",
       "      <td>...</td>\n",
       "      <td>...</td>\n",
       "      <td>...</td>\n",
       "      <td>...</td>\n",
       "      <td>...</td>\n",
       "      <td>...</td>\n",
       "      <td>...</td>\n",
       "      <td>...</td>\n",
       "      <td>...</td>\n",
       "      <td>...</td>\n",
       "      <td>...</td>\n",
       "      <td>...</td>\n",
       "      <td>...</td>\n",
       "      <td>...</td>\n",
       "      <td>...</td>\n",
       "    </tr>\n",
       "    <tr>\n",
       "      <th>9201</th>\n",
       "      <td>4</td>\n",
       "      <td>1037</td>\n",
       "      <td>7</td>\n",
       "      <td>452</td>\n",
       "      <td>300</td>\n",
       "      <td>432</td>\n",
       "      <td>80</td>\n",
       "      <td>0</td>\n",
       "      <td>1</td>\n",
       "      <td>0</td>\n",
       "      <td>...</td>\n",
       "      <td>0</td>\n",
       "      <td>0</td>\n",
       "      <td>0</td>\n",
       "      <td>0</td>\n",
       "      <td>1</td>\n",
       "      <td>0</td>\n",
       "      <td>0</td>\n",
       "      <td>0.0</td>\n",
       "      <td>normal</td>\n",
       "      <td>0</td>\n",
       "    </tr>\n",
       "    <tr>\n",
       "      <th>9202</th>\n",
       "      <td>3</td>\n",
       "      <td>1059</td>\n",
       "      <td>7</td>\n",
       "      <td>439</td>\n",
       "      <td>296</td>\n",
       "      <td>431</td>\n",
       "      <td>88</td>\n",
       "      <td>0</td>\n",
       "      <td>1</td>\n",
       "      <td>0</td>\n",
       "      <td>...</td>\n",
       "      <td>0</td>\n",
       "      <td>0</td>\n",
       "      <td>0</td>\n",
       "      <td>0</td>\n",
       "      <td>1</td>\n",
       "      <td>0</td>\n",
       "      <td>0</td>\n",
       "      <td>0.0</td>\n",
       "      <td>normal</td>\n",
       "      <td>0</td>\n",
       "    </tr>\n",
       "    <tr>\n",
       "      <th>9203</th>\n",
       "      <td>4</td>\n",
       "      <td>1091</td>\n",
       "      <td>8</td>\n",
       "      <td>429</td>\n",
       "      <td>291</td>\n",
       "      <td>431</td>\n",
       "      <td>96</td>\n",
       "      <td>0</td>\n",
       "      <td>1</td>\n",
       "      <td>0</td>\n",
       "      <td>...</td>\n",
       "      <td>0</td>\n",
       "      <td>0</td>\n",
       "      <td>0</td>\n",
       "      <td>0</td>\n",
       "      <td>1</td>\n",
       "      <td>0</td>\n",
       "      <td>0</td>\n",
       "      <td>0.0</td>\n",
       "      <td>normal</td>\n",
       "      <td>0</td>\n",
       "    </tr>\n",
       "    <tr>\n",
       "      <th>9204</th>\n",
       "      <td>4</td>\n",
       "      <td>1131</td>\n",
       "      <td>8</td>\n",
       "      <td>417</td>\n",
       "      <td>288</td>\n",
       "      <td>421</td>\n",
       "      <td>96</td>\n",
       "      <td>0</td>\n",
       "      <td>1</td>\n",
       "      <td>0</td>\n",
       "      <td>...</td>\n",
       "      <td>0</td>\n",
       "      <td>0</td>\n",
       "      <td>0</td>\n",
       "      <td>0</td>\n",
       "      <td>1</td>\n",
       "      <td>0</td>\n",
       "      <td>0</td>\n",
       "      <td>0.0</td>\n",
       "      <td>normal</td>\n",
       "      <td>0</td>\n",
       "    </tr>\n",
       "    <tr>\n",
       "      <th>9205</th>\n",
       "      <td>4</td>\n",
       "      <td>1135</td>\n",
       "      <td>7</td>\n",
       "      <td>404</td>\n",
       "      <td>282</td>\n",
       "      <td>421</td>\n",
       "      <td>112</td>\n",
       "      <td>0</td>\n",
       "      <td>1</td>\n",
       "      <td>0</td>\n",
       "      <td>...</td>\n",
       "      <td>0</td>\n",
       "      <td>0</td>\n",
       "      <td>0</td>\n",
       "      <td>0</td>\n",
       "      <td>1</td>\n",
       "      <td>0</td>\n",
       "      <td>0</td>\n",
       "      <td>0.0</td>\n",
       "      <td>normal</td>\n",
       "      <td>0</td>\n",
       "    </tr>\n",
       "  </tbody>\n",
       "</table>\n",
       "<p>9206 rows × 43 columns</p>\n",
       "</div>"
      ],
      "text/plain": [
       "      tank_1  tank_2  tank_3  tank_4  tank_5  tank_6  tank_7  tank_8  pump_1  \\\n",
       "0          0       0       0       0       0       0       0       0       0   \n",
       "1          0       0       0       0       0       0       0       0       0   \n",
       "2          0       0       0       0       0       0       0       0       0   \n",
       "3          0       0       0       0       0       0       0       0       0   \n",
       "4          0       0       0       0       0       0       0       0       1   \n",
       "...      ...     ...     ...     ...     ...     ...     ...     ...     ...   \n",
       "9201       4    1037       7     452     300     432      80       0       1   \n",
       "9202       3    1059       7     439     296     431      88       0       1   \n",
       "9203       4    1091       8     429     291     431      96       0       1   \n",
       "9204       4    1131       8     417     288     421      96       0       1   \n",
       "9205       4    1135       7     404     282     421     112       0       1   \n",
       "\n",
       "      pump_2  ...  valv_16  valv_17  valv_18  valv_19  valv_20  valv_21  \\\n",
       "0          0  ...        0        0        0        0        0        0   \n",
       "1          0  ...        0        0        0        0        0        0   \n",
       "2          0  ...        0        0        0        0        0        0   \n",
       "3          0  ...        0        0        0        0        0        0   \n",
       "4          1  ...        0        0        0        0        0        0   \n",
       "...      ...  ...      ...      ...      ...      ...      ...      ...   \n",
       "9201       0  ...        0        0        0        0        1        0   \n",
       "9202       0  ...        0        0        0        0        1        0   \n",
       "9203       0  ...        0        0        0        0        1        0   \n",
       "9204       0  ...        0        0        0        0        1        0   \n",
       "9205       0  ...        0        0        0        0        1        0   \n",
       "\n",
       "      valv_22  label_n   label  attack  \n",
       "0           0      0.0  normal       1  \n",
       "1           0      0.0  normal       1  \n",
       "2           0      0.0  normal       1  \n",
       "3           0      0.0  normal       1  \n",
       "4           0      0.0  normal       1  \n",
       "...       ...      ...     ...     ...  \n",
       "9201        0      0.0  normal       0  \n",
       "9202        0      0.0  normal       0  \n",
       "9203        0      0.0  normal       0  \n",
       "9204        0      0.0  normal       0  \n",
       "9205        0      0.0  normal       0  \n",
       "\n",
       "[9206 rows x 43 columns]"
      ]
     },
     "execution_count": 173,
     "metadata": {},
     "output_type": "execute_result"
    }
   ],
   "source": [
    "df_physical_no_context = remove_physical_contextual_columns(df_physical)\n",
    "df_physical_no_context"
   ]
  },
  {
   "cell_type": "code",
   "execution_count": 174,
   "metadata": {},
   "outputs": [
    {
     "data": {
      "text/html": [
       "<div>\n",
       "<style scoped>\n",
       "    .dataframe tbody tr th:only-of-type {\n",
       "        vertical-align: middle;\n",
       "    }\n",
       "\n",
       "    .dataframe tbody tr th {\n",
       "        vertical-align: top;\n",
       "    }\n",
       "\n",
       "    .dataframe thead th {\n",
       "        text-align: right;\n",
       "    }\n",
       "</style>\n",
       "<table border=\"1\" class=\"dataframe\">\n",
       "  <thead>\n",
       "    <tr style=\"text-align: right;\">\n",
       "      <th></th>\n",
       "      <th>tank_1</th>\n",
       "      <th>tank_2</th>\n",
       "      <th>tank_3</th>\n",
       "      <th>tank_4</th>\n",
       "      <th>tank_5</th>\n",
       "      <th>tank_6</th>\n",
       "      <th>tank_7</th>\n",
       "      <th>tank_8</th>\n",
       "      <th>pump_1</th>\n",
       "      <th>pump_2</th>\n",
       "      <th>...</th>\n",
       "      <th>valv_13</th>\n",
       "      <th>valv_14</th>\n",
       "      <th>valv_15</th>\n",
       "      <th>valv_16</th>\n",
       "      <th>valv_17</th>\n",
       "      <th>valv_18</th>\n",
       "      <th>valv_19</th>\n",
       "      <th>valv_20</th>\n",
       "      <th>valv_21</th>\n",
       "      <th>valv_22</th>\n",
       "    </tr>\n",
       "  </thead>\n",
       "  <tbody>\n",
       "    <tr>\n",
       "      <th>0</th>\n",
       "      <td>0</td>\n",
       "      <td>0</td>\n",
       "      <td>0</td>\n",
       "      <td>0</td>\n",
       "      <td>0</td>\n",
       "      <td>0</td>\n",
       "      <td>0</td>\n",
       "      <td>0</td>\n",
       "      <td>0</td>\n",
       "      <td>0</td>\n",
       "      <td>...</td>\n",
       "      <td>0</td>\n",
       "      <td>0</td>\n",
       "      <td>0</td>\n",
       "      <td>0</td>\n",
       "      <td>0</td>\n",
       "      <td>0</td>\n",
       "      <td>0</td>\n",
       "      <td>0</td>\n",
       "      <td>0</td>\n",
       "      <td>0</td>\n",
       "    </tr>\n",
       "    <tr>\n",
       "      <th>1</th>\n",
       "      <td>0</td>\n",
       "      <td>0</td>\n",
       "      <td>0</td>\n",
       "      <td>0</td>\n",
       "      <td>0</td>\n",
       "      <td>0</td>\n",
       "      <td>0</td>\n",
       "      <td>0</td>\n",
       "      <td>0</td>\n",
       "      <td>0</td>\n",
       "      <td>...</td>\n",
       "      <td>0</td>\n",
       "      <td>0</td>\n",
       "      <td>0</td>\n",
       "      <td>0</td>\n",
       "      <td>0</td>\n",
       "      <td>0</td>\n",
       "      <td>0</td>\n",
       "      <td>0</td>\n",
       "      <td>0</td>\n",
       "      <td>0</td>\n",
       "    </tr>\n",
       "    <tr>\n",
       "      <th>2</th>\n",
       "      <td>0</td>\n",
       "      <td>0</td>\n",
       "      <td>0</td>\n",
       "      <td>0</td>\n",
       "      <td>0</td>\n",
       "      <td>0</td>\n",
       "      <td>0</td>\n",
       "      <td>0</td>\n",
       "      <td>0</td>\n",
       "      <td>0</td>\n",
       "      <td>...</td>\n",
       "      <td>0</td>\n",
       "      <td>0</td>\n",
       "      <td>0</td>\n",
       "      <td>0</td>\n",
       "      <td>0</td>\n",
       "      <td>0</td>\n",
       "      <td>0</td>\n",
       "      <td>0</td>\n",
       "      <td>0</td>\n",
       "      <td>0</td>\n",
       "    </tr>\n",
       "    <tr>\n",
       "      <th>3</th>\n",
       "      <td>0</td>\n",
       "      <td>0</td>\n",
       "      <td>0</td>\n",
       "      <td>0</td>\n",
       "      <td>0</td>\n",
       "      <td>0</td>\n",
       "      <td>0</td>\n",
       "      <td>0</td>\n",
       "      <td>0</td>\n",
       "      <td>0</td>\n",
       "      <td>...</td>\n",
       "      <td>0</td>\n",
       "      <td>0</td>\n",
       "      <td>0</td>\n",
       "      <td>0</td>\n",
       "      <td>0</td>\n",
       "      <td>0</td>\n",
       "      <td>0</td>\n",
       "      <td>0</td>\n",
       "      <td>0</td>\n",
       "      <td>0</td>\n",
       "    </tr>\n",
       "    <tr>\n",
       "      <th>4</th>\n",
       "      <td>0</td>\n",
       "      <td>0</td>\n",
       "      <td>0</td>\n",
       "      <td>0</td>\n",
       "      <td>0</td>\n",
       "      <td>0</td>\n",
       "      <td>0</td>\n",
       "      <td>0</td>\n",
       "      <td>1</td>\n",
       "      <td>1</td>\n",
       "      <td>...</td>\n",
       "      <td>0</td>\n",
       "      <td>0</td>\n",
       "      <td>0</td>\n",
       "      <td>0</td>\n",
       "      <td>0</td>\n",
       "      <td>0</td>\n",
       "      <td>0</td>\n",
       "      <td>0</td>\n",
       "      <td>0</td>\n",
       "      <td>0</td>\n",
       "    </tr>\n",
       "  </tbody>\n",
       "</table>\n",
       "<p>5 rows × 40 columns</p>\n",
       "</div>"
      ],
      "text/plain": [
       "   tank_1  tank_2  tank_3  tank_4  tank_5  tank_6  tank_7  tank_8  pump_1  \\\n",
       "0       0       0       0       0       0       0       0       0       0   \n",
       "1       0       0       0       0       0       0       0       0       0   \n",
       "2       0       0       0       0       0       0       0       0       0   \n",
       "3       0       0       0       0       0       0       0       0       0   \n",
       "4       0       0       0       0       0       0       0       0       1   \n",
       "\n",
       "   pump_2  ...  valv_13  valv_14  valv_15  valv_16  valv_17  valv_18  valv_19  \\\n",
       "0       0  ...        0        0        0        0        0        0        0   \n",
       "1       0  ...        0        0        0        0        0        0        0   \n",
       "2       0  ...        0        0        0        0        0        0        0   \n",
       "3       0  ...        0        0        0        0        0        0        0   \n",
       "4       1  ...        0        0        0        0        0        0        0   \n",
       "\n",
       "   valv_20  valv_21  valv_22  \n",
       "0        0        0        0  \n",
       "1        0        0        0  \n",
       "2        0        0        0  \n",
       "3        0        0        0  \n",
       "4        0        0        0  \n",
       "\n",
       "[5 rows x 40 columns]"
      ]
     },
     "execution_count": 174,
     "metadata": {},
     "output_type": "execute_result"
    }
   ],
   "source": [
    "df_physical_prepared, df_physical_labels = prepare_HTIL_physical_dataset(df_physical_no_context)\n",
    "df_physical_prepared.head()"
   ]
  },
  {
   "cell_type": "code",
   "execution_count": 175,
   "metadata": {},
   "outputs": [
    {
     "data": {
      "text/plain": [
       "((7364, 40), (1842, 40), (7364, 2), (1842, 2))"
      ]
     },
     "execution_count": 175,
     "metadata": {},
     "output_type": "execute_result"
    }
   ],
   "source": [
    "X_train, X_test, y_train, y_test = train_test_split(df_physical_prepared, df_physical_labels[[\"new_labels\", \"label_n\"]], test_size=0.2, random_state=random_state)\n",
    "X_train.shape, X_test.shape, y_train.shape, y_test.shape"
   ]
  },
  {
   "cell_type": "code",
   "execution_count": 176,
   "metadata": {},
   "outputs": [],
   "source": [
    "params = {\n",
    "    'max_depth': 8,\n",
    "    'criterion': 'gini',\n",
    "    'splitter': 'best',\n",
    "    'random_state': random_state\n",
    "}\n",
    "\n",
    "clf = DecisionTreeClassifier(**params)"
   ]
  },
  {
   "cell_type": "code",
   "execution_count": 177,
   "metadata": {},
   "outputs": [
    {
     "data": {
      "text/html": [
       "<style>#sk-container-id-4 {color: black;}#sk-container-id-4 pre{padding: 0;}#sk-container-id-4 div.sk-toggleable {background-color: white;}#sk-container-id-4 label.sk-toggleable__label {cursor: pointer;display: block;width: 100%;margin-bottom: 0;padding: 0.3em;box-sizing: border-box;text-align: center;}#sk-container-id-4 label.sk-toggleable__label-arrow:before {content: \"▸\";float: left;margin-right: 0.25em;color: #696969;}#sk-container-id-4 label.sk-toggleable__label-arrow:hover:before {color: black;}#sk-container-id-4 div.sk-estimator:hover label.sk-toggleable__label-arrow:before {color: black;}#sk-container-id-4 div.sk-toggleable__content {max-height: 0;max-width: 0;overflow: hidden;text-align: left;background-color: #f0f8ff;}#sk-container-id-4 div.sk-toggleable__content pre {margin: 0.2em;color: black;border-radius: 0.25em;background-color: #f0f8ff;}#sk-container-id-4 input.sk-toggleable__control:checked~div.sk-toggleable__content {max-height: 200px;max-width: 100%;overflow: auto;}#sk-container-id-4 input.sk-toggleable__control:checked~label.sk-toggleable__label-arrow:before {content: \"▾\";}#sk-container-id-4 div.sk-estimator input.sk-toggleable__control:checked~label.sk-toggleable__label {background-color: #d4ebff;}#sk-container-id-4 div.sk-label input.sk-toggleable__control:checked~label.sk-toggleable__label {background-color: #d4ebff;}#sk-container-id-4 input.sk-hidden--visually {border: 0;clip: rect(1px 1px 1px 1px);clip: rect(1px, 1px, 1px, 1px);height: 1px;margin: -1px;overflow: hidden;padding: 0;position: absolute;width: 1px;}#sk-container-id-4 div.sk-estimator {font-family: monospace;background-color: #f0f8ff;border: 1px dotted black;border-radius: 0.25em;box-sizing: border-box;margin-bottom: 0.5em;}#sk-container-id-4 div.sk-estimator:hover {background-color: #d4ebff;}#sk-container-id-4 div.sk-parallel-item::after {content: \"\";width: 100%;border-bottom: 1px solid gray;flex-grow: 1;}#sk-container-id-4 div.sk-label:hover label.sk-toggleable__label {background-color: #d4ebff;}#sk-container-id-4 div.sk-serial::before {content: \"\";position: absolute;border-left: 1px solid gray;box-sizing: border-box;top: 0;bottom: 0;left: 50%;z-index: 0;}#sk-container-id-4 div.sk-serial {display: flex;flex-direction: column;align-items: center;background-color: white;padding-right: 0.2em;padding-left: 0.2em;position: relative;}#sk-container-id-4 div.sk-item {position: relative;z-index: 1;}#sk-container-id-4 div.sk-parallel {display: flex;align-items: stretch;justify-content: center;background-color: white;position: relative;}#sk-container-id-4 div.sk-item::before, #sk-container-id-4 div.sk-parallel-item::before {content: \"\";position: absolute;border-left: 1px solid gray;box-sizing: border-box;top: 0;bottom: 0;left: 50%;z-index: -1;}#sk-container-id-4 div.sk-parallel-item {display: flex;flex-direction: column;z-index: 1;position: relative;background-color: white;}#sk-container-id-4 div.sk-parallel-item:first-child::after {align-self: flex-end;width: 50%;}#sk-container-id-4 div.sk-parallel-item:last-child::after {align-self: flex-start;width: 50%;}#sk-container-id-4 div.sk-parallel-item:only-child::after {width: 0;}#sk-container-id-4 div.sk-dashed-wrapped {border: 1px dashed gray;margin: 0 0.4em 0.5em 0.4em;box-sizing: border-box;padding-bottom: 0.4em;background-color: white;}#sk-container-id-4 div.sk-label label {font-family: monospace;font-weight: bold;display: inline-block;line-height: 1.2em;}#sk-container-id-4 div.sk-label-container {text-align: center;}#sk-container-id-4 div.sk-container {/* jupyter's `normalize.less` sets `[hidden] { display: none; }` but bootstrap.min.css set `[hidden] { display: none !important; }` so we also need the `!important` here to be able to override the default hidden behavior on the sphinx rendered scikit-learn.org. See: https://github.com/scikit-learn/scikit-learn/issues/21755 */display: inline-block !important;position: relative;}#sk-container-id-4 div.sk-text-repr-fallback {display: none;}</style><div id=\"sk-container-id-4\" class=\"sk-top-container\"><div class=\"sk-text-repr-fallback\"><pre>Pipeline(steps=[(&#x27;standardscaler&#x27;, StandardScaler()),\n",
       "                (&#x27;decisiontreeclassifier&#x27;,\n",
       "                 DecisionTreeClassifier(max_depth=8, random_state=42))])</pre><b>In a Jupyter environment, please rerun this cell to show the HTML representation or trust the notebook. <br />On GitHub, the HTML representation is unable to render, please try loading this page with nbviewer.org.</b></div><div class=\"sk-container\" hidden><div class=\"sk-item sk-dashed-wrapped\"><div class=\"sk-label-container\"><div class=\"sk-label sk-toggleable\"><input class=\"sk-toggleable__control sk-hidden--visually\" id=\"sk-estimator-id-10\" type=\"checkbox\" ><label for=\"sk-estimator-id-10\" class=\"sk-toggleable__label sk-toggleable__label-arrow\">Pipeline</label><div class=\"sk-toggleable__content\"><pre>Pipeline(steps=[(&#x27;standardscaler&#x27;, StandardScaler()),\n",
       "                (&#x27;decisiontreeclassifier&#x27;,\n",
       "                 DecisionTreeClassifier(max_depth=8, random_state=42))])</pre></div></div></div><div class=\"sk-serial\"><div class=\"sk-item\"><div class=\"sk-estimator sk-toggleable\"><input class=\"sk-toggleable__control sk-hidden--visually\" id=\"sk-estimator-id-11\" type=\"checkbox\" ><label for=\"sk-estimator-id-11\" class=\"sk-toggleable__label sk-toggleable__label-arrow\">StandardScaler</label><div class=\"sk-toggleable__content\"><pre>StandardScaler()</pre></div></div></div><div class=\"sk-item\"><div class=\"sk-estimator sk-toggleable\"><input class=\"sk-toggleable__control sk-hidden--visually\" id=\"sk-estimator-id-12\" type=\"checkbox\" ><label for=\"sk-estimator-id-12\" class=\"sk-toggleable__label sk-toggleable__label-arrow\">DecisionTreeClassifier</label><div class=\"sk-toggleable__content\"><pre>DecisionTreeClassifier(max_depth=8, random_state=42)</pre></div></div></div></div></div></div></div>"
      ],
      "text/plain": [
       "Pipeline(steps=[('standardscaler', StandardScaler()),\n",
       "                ('decisiontreeclassifier',\n",
       "                 DecisionTreeClassifier(max_depth=8, random_state=42))])"
      ]
     },
     "execution_count": 177,
     "metadata": {},
     "output_type": "execute_result"
    }
   ],
   "source": [
    "pipeline = make_pipeline(\n",
    "    StandardScaler(),\n",
    "    clf\n",
    ")\n",
    "\n",
    "pipeline.fit(X_train, y_train[\"new_labels\"])"
   ]
  },
  {
   "cell_type": "code",
   "execution_count": 178,
   "metadata": {},
   "outputs": [],
   "source": [
    "preds = pipeline.predict(X_test)"
   ]
  },
  {
   "cell_type": "code",
   "execution_count": 179,
   "metadata": {},
   "outputs": [
    {
     "name": "stdout",
     "output_type": "stream",
     "text": [
      "Accuracy:  0.9098805646036916\n",
      "Recall:  0.6005756884527672\n",
      "F1:  0.6716904212164876\n",
      "MCC:  0.6660129300122372\n",
      "Balanced accuracy:  0.6005756884527672\n"
     ]
    }
   ],
   "source": [
    "print(\"Accuracy: \", accuracy_score(y_test[\"new_labels\"], preds.round()))\n",
    "print(\"Recall: \", recall_score(y_test[\"new_labels\"], preds.round(), average=\"macro\"))\n",
    "print(\"F1: \", f1_score(y_test[\"new_labels\"], preds.round(), average=\"macro\"))\n",
    "print(\"MCC: \", matthews_corrcoef(y_test[\"new_labels\"], preds.round()))\n",
    "print(\"Balanced accuracy: \", balanced_accuracy_score(y_test[\"new_labels\"], preds.round()))"
   ]
  },
  {
   "cell_type": "code",
   "execution_count": 180,
   "metadata": {},
   "outputs": [
    {
     "data": {
      "image/png": "[encoded data removed]",
      "text/plain": [
       "<Figure size 600x600 with 2 Axes>"
      ]
     },
     "metadata": {},
     "output_type": "display_data"
    }
   ],
   "source": [
    "plot_confusion_matrix(y_test[\"new_labels\"], preds.round(), title=\"Confusion matrix for the test set\")"
   ]
  },
  {
   "cell_type": "code",
   "execution_count": 181,
   "metadata": {},
   "outputs": [
    {
     "data": {
      "image/png": "[encoded data removed]",
      "text/plain": [
       "<Figure size 1500x600 with 1 Axes>"
      ]
     },
     "metadata": {},
     "output_type": "display_data"
    }
   ],
   "source": [
    "plot_feature_importance(clf)"
   ]
  },
  {
   "cell_type": "markdown",
   "metadata": {},
   "source": [
    "### b. Random Forest"
   ]
  },
  {
   "cell_type": "code",
   "execution_count": null,
   "metadata": {},
   "outputs": [],
   "source": []
  },
  {
   "cell_type": "markdown",
   "metadata": {},
   "source": [
    "### c. XGBoost"
   ]
  },
  {
   "cell_type": "code",
   "execution_count": null,
   "metadata": {},
   "outputs": [],
   "source": []
  }
 ],
 "metadata": {
  "kernelspec": {
   "display_name": ".venv",
   "language": "python",
   "name": "python3"
  },
  "language_info": {
   "codemirror_mode": {
    "name": "ipython",
    "version": 3
   },
   "file_extension": ".py",
   "mimetype": "text/x-python",
   "name": "python",
   "nbconvert_exporter": "python",
   "pygments_lexer": "ipython3",
   "version": "3.10.0"
  }
 },
 "nbformat": 4,
 "nbformat_minor": 2
}
