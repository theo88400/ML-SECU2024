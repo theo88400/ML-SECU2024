{
 "cells": [
  {
   "cell_type": "markdown",
   "metadata": {},
   "source": [
    "# Study of the physical dataset\n",
    "\n",
    "In this notebook, we will study how different models perform on the physical dataset. Some of the models we will study are:\n",
    "1. Non-supervised:\n",
    "    - Isolation Forest (IF)\n",
    "    - Local Outlier Factor (LOF)\n",
    "2. Neural physicals:\n",
    "    - DNN\n",
    "    - LSTM\n",
    "3. Supervised classifiers:\n",
    "    - Decision Tree\n",
    "    - Random Forest\n",
    "    - XGBoost\n",
    "\n",
    "First, let's import the necessary libraries."
   ]
  },
  {
   "cell_type": "code",
   "execution_count": 1,
   "metadata": {},
   "outputs": [
    {
     "name": "stderr",
     "output_type": "stream",
     "text": [
      "2023-11-08 00:29:27.502442: I tensorflow/core/platform/cpu_feature_guard.cc:182] This TensorFlow binary is optimized to use available CPU instructions in performance-critical operations.\n",
      "To enable the following instructions: AVX2 FMA, in other operations, rebuild TensorFlow with the appropriate compiler flags.\n"
     ]
    }
   ],
   "source": [
    "from preprocess_data import get_HITL, clean_HITL, prepare_HTIL_physical_dataset, remove_physical_contextual_columns\n",
    "\n",
    "from mlsecu.data_exploration_utils import (\n",
    "    get_column_names,\n",
    "    get_nb_of_dimensions,\n",
    "    get_nb_of_rows,\n",
    "    get_object_column_names,\n",
    "    get_number_column_names,\n",
    ")\n",
    "from mlsecu.anomaly_detection_use_case import *\n",
    "from mlsecu.data_preparation_utils import (\n",
    "    get_one_hot_encoded_dataframe,\n",
    "    remove_nan_through_mean_imputation,\n",
    ")\n",
    "\n",
    "from sklearn.model_selection import train_test_split\n",
    "from sklearn.pipeline import make_pipeline\n",
    "from sklearn.tree import DecisionTreeClassifier\n",
    "from sklearn.preprocessing import StandardScaler\n",
    "from sklearn.metrics import (\n",
    "    accuracy_score,\n",
    "    precision_score,\n",
    "    recall_score,\n",
    "    f1_score,\n",
    "    roc_auc_score,\n",
    "    matthews_corrcoef,\n",
    "    balanced_accuracy_score,\n",
    "    confusion_matrix,\n",
    ")\n",
    "\n",
    "import matplotlib.pyplot as plt\n",
    "import numpy as np\n",
    "import pandas as pd\n",
    "import seaborn as sns\n",
    "\n",
    "import torch\n",
    "import torch.nn as nn\n",
    "import torch.nn.functional as F\n",
    "\n",
    "import tensorflow as tf\n",
    "from tensorflow.keras.activations import swish, sigmoid, softmax\n",
    "\n",
    "BASE_PATH = \"../../data/\"\n",
    "random_state = 42\n",
    "np.random.seed(random_state)\n",
    "tf.random.set_seed(random_state)"
   ]
  },
  {
   "cell_type": "markdown",
   "metadata": {},
   "source": [
    "# Load and prepare the dataset\n",
    "\n",
    "We have defined multiple preprocessing functions in the `preprocessing.py` file. We will use them to load and prepare the dataset."
   ]
  },
  {
   "cell_type": "code",
   "execution_count": 2,
   "metadata": {},
   "outputs": [
    {
     "name": "stdout",
     "output_type": "stream",
     "text": [
      "Physical dataset shape:  (9206, 44)\n"
     ]
    }
   ],
   "source": [
    "hitl_dict = get_HITL(\"../../data/HardwareInTheLoop/\", small=False)\n",
    "_, df_physical = clean_HITL(hitl_dict) # Clean-up helper function\n",
    "\n",
    "print(\"Physical dataset shape: \", df_physical.shape)"
   ]
  },
  {
   "cell_type": "markdown",
   "metadata": {},
   "source": [
    "This dataset has way fewer rows than the network one, this might cause some problems later."
   ]
  },
  {
   "cell_type": "code",
   "execution_count": 3,
   "metadata": {},
   "outputs": [
    {
     "data": {
      "text/html": [
       "<div>\n",
       "<style scoped>\n",
       "    .dataframe tbody tr th:only-of-type {\n",
       "        vertical-align: middle;\n",
       "    }\n",
       "\n",
       "    .dataframe tbody tr th {\n",
       "        vertical-align: top;\n",
       "    }\n",
       "\n",
       "    .dataframe thead th {\n",
       "        text-align: right;\n",
       "    }\n",
       "</style>\n",
       "<table border=\"1\" class=\"dataframe\">\n",
       "  <thead>\n",
       "    <tr style=\"text-align: right;\">\n",
       "      <th></th>\n",
       "      <th>time</th>\n",
       "      <th>tank_1</th>\n",
       "      <th>tank_2</th>\n",
       "      <th>tank_3</th>\n",
       "      <th>tank_4</th>\n",
       "      <th>tank_5</th>\n",
       "      <th>tank_6</th>\n",
       "      <th>tank_7</th>\n",
       "      <th>tank_8</th>\n",
       "      <th>pump_1</th>\n",
       "      <th>...</th>\n",
       "      <th>valv_13</th>\n",
       "      <th>valv_14</th>\n",
       "      <th>valv_15</th>\n",
       "      <th>valv_16</th>\n",
       "      <th>valv_17</th>\n",
       "      <th>valv_18</th>\n",
       "      <th>valv_19</th>\n",
       "      <th>valv_20</th>\n",
       "      <th>valv_21</th>\n",
       "      <th>valv_22</th>\n",
       "    </tr>\n",
       "  </thead>\n",
       "  <tbody>\n",
       "    <tr>\n",
       "      <th>0</th>\n",
       "      <td>1.630780e+09</td>\n",
       "      <td>0</td>\n",
       "      <td>0</td>\n",
       "      <td>0</td>\n",
       "      <td>0</td>\n",
       "      <td>0</td>\n",
       "      <td>0</td>\n",
       "      <td>0</td>\n",
       "      <td>0</td>\n",
       "      <td>0</td>\n",
       "      <td>...</td>\n",
       "      <td>0</td>\n",
       "      <td>0</td>\n",
       "      <td>0</td>\n",
       "      <td>0</td>\n",
       "      <td>0</td>\n",
       "      <td>0</td>\n",
       "      <td>0</td>\n",
       "      <td>0</td>\n",
       "      <td>0</td>\n",
       "      <td>0</td>\n",
       "    </tr>\n",
       "    <tr>\n",
       "      <th>1</th>\n",
       "      <td>1.630780e+09</td>\n",
       "      <td>0</td>\n",
       "      <td>0</td>\n",
       "      <td>0</td>\n",
       "      <td>0</td>\n",
       "      <td>0</td>\n",
       "      <td>0</td>\n",
       "      <td>0</td>\n",
       "      <td>0</td>\n",
       "      <td>0</td>\n",
       "      <td>...</td>\n",
       "      <td>0</td>\n",
       "      <td>0</td>\n",
       "      <td>0</td>\n",
       "      <td>0</td>\n",
       "      <td>0</td>\n",
       "      <td>0</td>\n",
       "      <td>0</td>\n",
       "      <td>0</td>\n",
       "      <td>0</td>\n",
       "      <td>0</td>\n",
       "    </tr>\n",
       "    <tr>\n",
       "      <th>2</th>\n",
       "      <td>1.630780e+09</td>\n",
       "      <td>0</td>\n",
       "      <td>0</td>\n",
       "      <td>0</td>\n",
       "      <td>0</td>\n",
       "      <td>0</td>\n",
       "      <td>0</td>\n",
       "      <td>0</td>\n",
       "      <td>0</td>\n",
       "      <td>0</td>\n",
       "      <td>...</td>\n",
       "      <td>0</td>\n",
       "      <td>0</td>\n",
       "      <td>0</td>\n",
       "      <td>0</td>\n",
       "      <td>0</td>\n",
       "      <td>0</td>\n",
       "      <td>0</td>\n",
       "      <td>0</td>\n",
       "      <td>0</td>\n",
       "      <td>0</td>\n",
       "    </tr>\n",
       "    <tr>\n",
       "      <th>3</th>\n",
       "      <td>1.630780e+09</td>\n",
       "      <td>0</td>\n",
       "      <td>0</td>\n",
       "      <td>0</td>\n",
       "      <td>0</td>\n",
       "      <td>0</td>\n",
       "      <td>0</td>\n",
       "      <td>0</td>\n",
       "      <td>0</td>\n",
       "      <td>0</td>\n",
       "      <td>...</td>\n",
       "      <td>0</td>\n",
       "      <td>0</td>\n",
       "      <td>0</td>\n",
       "      <td>0</td>\n",
       "      <td>0</td>\n",
       "      <td>0</td>\n",
       "      <td>0</td>\n",
       "      <td>0</td>\n",
       "      <td>0</td>\n",
       "      <td>0</td>\n",
       "    </tr>\n",
       "    <tr>\n",
       "      <th>4</th>\n",
       "      <td>1.630780e+09</td>\n",
       "      <td>0</td>\n",
       "      <td>0</td>\n",
       "      <td>0</td>\n",
       "      <td>0</td>\n",
       "      <td>0</td>\n",
       "      <td>0</td>\n",
       "      <td>0</td>\n",
       "      <td>0</td>\n",
       "      <td>1</td>\n",
       "      <td>...</td>\n",
       "      <td>0</td>\n",
       "      <td>0</td>\n",
       "      <td>0</td>\n",
       "      <td>0</td>\n",
       "      <td>0</td>\n",
       "      <td>0</td>\n",
       "      <td>0</td>\n",
       "      <td>0</td>\n",
       "      <td>0</td>\n",
       "      <td>0</td>\n",
       "    </tr>\n",
       "  </tbody>\n",
       "</table>\n",
       "<p>5 rows × 41 columns</p>\n",
       "</div>"
      ],
      "text/plain": [
       "           time  tank_1  tank_2  tank_3  tank_4  tank_5  tank_6  tank_7  \\\n",
       "0  1.630780e+09       0       0       0       0       0       0       0   \n",
       "1  1.630780e+09       0       0       0       0       0       0       0   \n",
       "2  1.630780e+09       0       0       0       0       0       0       0   \n",
       "3  1.630780e+09       0       0       0       0       0       0       0   \n",
       "4  1.630780e+09       0       0       0       0       0       0       0   \n",
       "\n",
       "   tank_8  pump_1  ...  valv_13  valv_14  valv_15  valv_16  valv_17  valv_18  \\\n",
       "0       0       0  ...        0        0        0        0        0        0   \n",
       "1       0       0  ...        0        0        0        0        0        0   \n",
       "2       0       0  ...        0        0        0        0        0        0   \n",
       "3       0       0  ...        0        0        0        0        0        0   \n",
       "4       0       1  ...        0        0        0        0        0        0   \n",
       "\n",
       "   valv_19  valv_20  valv_21  valv_22  \n",
       "0        0        0        0        0  \n",
       "1        0        0        0        0  \n",
       "2        0        0        0        0  \n",
       "3        0        0        0        0  \n",
       "4        0        0        0        0  \n",
       "\n",
       "[5 rows x 41 columns]"
      ]
     },
     "execution_count": 3,
     "metadata": {},
     "output_type": "execute_result"
    }
   ],
   "source": [
    "df_physical_prepared, df_physical_labels = prepare_HTIL_physical_dataset(df_physical)\n",
    "df_physical_prepared.head()"
   ]
  },
  {
   "cell_type": "markdown",
   "metadata": {},
   "source": [
    "The features are :\n",
    "- `time`: the timestamp of the measurement\n",
    "- `tank_X`: the level of the tank X\n",
    "- `pump_Y`: the level of the pump Y\n",
    "- `valv_Z`: the level of the valve Z"
   ]
  },
  {
   "cell_type": "code",
   "execution_count": 4,
   "metadata": {},
   "outputs": [
    {
     "data": {
      "text/html": [
       "<div>\n",
       "<style scoped>\n",
       "    .dataframe tbody tr th:only-of-type {\n",
       "        vertical-align: middle;\n",
       "    }\n",
       "\n",
       "    .dataframe tbody tr th {\n",
       "        vertical-align: top;\n",
       "    }\n",
       "\n",
       "    .dataframe thead th {\n",
       "        text-align: right;\n",
       "    }\n",
       "</style>\n",
       "<table border=\"1\" class=\"dataframe\">\n",
       "  <thead>\n",
       "    <tr style=\"text-align: right;\">\n",
       "      <th></th>\n",
       "      <th>label_n</th>\n",
       "      <th>label</th>\n",
       "      <th>attack</th>\n",
       "      <th>new_labels</th>\n",
       "    </tr>\n",
       "  </thead>\n",
       "  <tbody>\n",
       "    <tr>\n",
       "      <th>0</th>\n",
       "      <td>0.0</td>\n",
       "      <td>normal</td>\n",
       "      <td>1</td>\n",
       "      <td>2</td>\n",
       "    </tr>\n",
       "    <tr>\n",
       "      <th>1</th>\n",
       "      <td>0.0</td>\n",
       "      <td>normal</td>\n",
       "      <td>1</td>\n",
       "      <td>2</td>\n",
       "    </tr>\n",
       "    <tr>\n",
       "      <th>2</th>\n",
       "      <td>0.0</td>\n",
       "      <td>normal</td>\n",
       "      <td>1</td>\n",
       "      <td>2</td>\n",
       "    </tr>\n",
       "    <tr>\n",
       "      <th>3</th>\n",
       "      <td>0.0</td>\n",
       "      <td>normal</td>\n",
       "      <td>1</td>\n",
       "      <td>2</td>\n",
       "    </tr>\n",
       "    <tr>\n",
       "      <th>4</th>\n",
       "      <td>0.0</td>\n",
       "      <td>normal</td>\n",
       "      <td>1</td>\n",
       "      <td>2</td>\n",
       "    </tr>\n",
       "  </tbody>\n",
       "</table>\n",
       "</div>"
      ],
      "text/plain": [
       "   label_n   label  attack  new_labels\n",
       "0      0.0  normal       1           2\n",
       "1      0.0  normal       1           2\n",
       "2      0.0  normal       1           2\n",
       "3      0.0  normal       1           2\n",
       "4      0.0  normal       1           2"
      ]
     },
     "execution_count": 4,
     "metadata": {},
     "output_type": "execute_result"
    }
   ],
   "source": [
    "df_physical_labels.head()"
   ]
  },
  {
   "cell_type": "markdown",
   "metadata": {},
   "source": [
    "# Models analysis"
   ]
  },
  {
   "cell_type": "markdown",
   "metadata": {},
   "source": [
    "## 1. Non-supervised models"
   ]
  },
  {
   "cell_type": "markdown",
   "metadata": {},
   "source": [
    "### a. Isolation Forest\n",
    "\n",
    "As a first step, let's try default parameters for the Isolation Forest model."
   ]
  },
  {
   "cell_type": "code",
   "execution_count": null,
   "metadata": {},
   "outputs": [
    {
     "data": {
      "text/plain": [
       "label_n\n",
       "0.0    7747\n",
       "1.0    1459\n",
       "Name: count, dtype: int64"
      ]
     },
     "execution_count": 5,
     "metadata": {},
     "output_type": "execute_result"
    }
   ],
   "source": [
    "df_physical_labels[\"label_n\"].value_counts()"
   ]
  },
  {
   "cell_type": "code",
   "execution_count": null,
   "metadata": {},
   "outputs": [
    {
     "name": "stderr",
     "output_type": "stream",
     "text": [
      "/Users/theoripoll/.pyenv/versions/3.11.2/envs/env_MLSECU_PROJECT/lib/python3.11/site-packages/sklearn/utils/validation.py:757: FutureWarning: is_sparse is deprecated and will be removed in a future version. Check `isinstance(dtype, pd.SparseDtype)` instead.\n",
      "  if not hasattr(array, \"sparse\") and array.dtypes.apply(is_sparse).any():\n",
      "/Users/theoripoll/.pyenv/versions/3.11.2/envs/env_MLSECU_PROJECT/lib/python3.11/site-packages/sklearn/utils/validation.py:595: FutureWarning: is_sparse is deprecated and will be removed in a future version. Check `isinstance(dtype, pd.SparseDtype)` instead.\n",
      "  if is_sparse(pd_dtype):\n",
      "/Users/theoripoll/.pyenv/versions/3.11.2/envs/env_MLSECU_PROJECT/lib/python3.11/site-packages/sklearn/utils/validation.py:604: FutureWarning: is_sparse is deprecated and will be removed in a future version. Check `isinstance(dtype, pd.SparseDtype)` instead.\n",
      "  if is_sparse(pd_dtype) or not is_extension_array_dtype(pd_dtype):\n"
     ]
    },
    {
     "name": "stderr",
     "output_type": "stream",
     "text": [
      "/Users/theoripoll/.pyenv/versions/3.11.2/envs/env_MLSECU_PROJECT/lib/python3.11/site-packages/sklearn/utils/validation.py:757: FutureWarning: is_sparse is deprecated and will be removed in a future version. Check `isinstance(dtype, pd.SparseDtype)` instead.\n",
      "  if not hasattr(array, \"sparse\") and array.dtypes.apply(is_sparse).any():\n",
      "/Users/theoripoll/.pyenv/versions/3.11.2/envs/env_MLSECU_PROJECT/lib/python3.11/site-packages/sklearn/utils/validation.py:595: FutureWarning: is_sparse is deprecated and will be removed in a future version. Check `isinstance(dtype, pd.SparseDtype)` instead.\n",
      "  if is_sparse(pd_dtype):\n",
      "/Users/theoripoll/.pyenv/versions/3.11.2/envs/env_MLSECU_PROJECT/lib/python3.11/site-packages/sklearn/utils/validation.py:604: FutureWarning: is_sparse is deprecated and will be removed in a future version. Check `isinstance(dtype, pd.SparseDtype)` instead.\n",
      "  if is_sparse(pd_dtype) or not is_extension_array_dtype(pd_dtype):\n"
     ]
    },
    {
     "data": {
      "text/plain": [
       "6177"
      ]
     },
     "execution_count": 6,
     "metadata": {},
     "output_type": "execute_result"
    }
   ],
   "source": [
    "clf = IsolationForest(random_state=42)\n",
    "y_pred = clf.fit_predict(df_physical_prepared)\n",
    "if_outliers = df_physical_prepared[y_pred == -1].index.values.tolist()\n",
    "len(if_outliers)"
   ]
  },
  {
   "cell_type": "code",
   "execution_count": null,
   "metadata": {},
   "outputs": [
    {
     "data": {
      "text/plain": [
       "label_n\n",
       "0.0    7747\n",
       "1.0    1459\n",
       "Name: count, dtype: int64"
      ]
     },
     "execution_count": 7,
     "metadata": {},
     "output_type": "execute_result"
    }
   ],
   "source": [
    "df_physical_labels[\"label_n\"].value_counts()"
   ]
  },
  {
   "cell_type": "code",
   "execution_count": null,
   "metadata": {},
   "outputs": [
    {
     "data": {
      "text/plain": [
       "label_n\n",
       "0.0    4997\n",
       "1.0    1180\n",
       "Name: count, dtype: int64"
      ]
     },
     "execution_count": 8,
     "metadata": {},
     "output_type": "execute_result"
    }
   ],
   "source": [
    "df_physical_labels.iloc[if_outliers][\"label_n\"].value_counts()"
   ]
  },
  {
   "cell_type": "markdown",
   "metadata": {},
   "source": [
    "Out of the 6177 outliers found, 1180 are real anomalies (19%). This is not a great result knowing there are only 1459 outliers, let's see if we can do better with a fixed contamination rate."
   ]
  },
  {
   "cell_type": "code",
   "execution_count": null,
   "metadata": {},
   "outputs": [
    {
     "data": {
      "text/plain": [
       "0.1584835976537041"
      ]
     },
     "execution_count": 9,
     "metadata": {},
     "output_type": "execute_result"
    }
   ],
   "source": [
    "val_counts_labels = df_physical_labels[\"label_n\"].value_counts()\n",
    "contamination_rate = val_counts_labels[1] / (val_counts_labels[0] + val_counts_labels[1])\n",
    "contamination_rate"
   ]
  },
  {
   "cell_type": "code",
   "execution_count": null,
   "metadata": {},
   "outputs": [
    {
     "name": "stderr",
     "output_type": "stream",
     "text": [
      "/Users/theoripoll/.pyenv/versions/3.11.2/envs/env_MLSECU_PROJECT/lib/python3.11/site-packages/sklearn/utils/validation.py:757: FutureWarning: is_sparse is deprecated and will be removed in a future version. Check `isinstance(dtype, pd.SparseDtype)` instead.\n",
      "  if not hasattr(array, \"sparse\") and array.dtypes.apply(is_sparse).any():\n",
      "/Users/theoripoll/.pyenv/versions/3.11.2/envs/env_MLSECU_PROJECT/lib/python3.11/site-packages/sklearn/utils/validation.py:595: FutureWarning: is_sparse is deprecated and will be removed in a future version. Check `isinstance(dtype, pd.SparseDtype)` instead.\n",
      "  if is_sparse(pd_dtype):\n",
      "/Users/theoripoll/.pyenv/versions/3.11.2/envs/env_MLSECU_PROJECT/lib/python3.11/site-packages/sklearn/utils/validation.py:604: FutureWarning: is_sparse is deprecated and will be removed in a future version. Check `isinstance(dtype, pd.SparseDtype)` instead.\n",
      "  if is_sparse(pd_dtype) or not is_extension_array_dtype(pd_dtype):\n"
     ]
    },
    {
     "name": "stderr",
     "output_type": "stream",
     "text": [
      "/Users/theoripoll/.pyenv/versions/3.11.2/envs/env_MLSECU_PROJECT/lib/python3.11/site-packages/sklearn/base.py:450: UserWarning: X does not have valid feature names, but IsolationForest was fitted with feature names\n",
      "  warnings.warn(\n",
      "/Users/theoripoll/.pyenv/versions/3.11.2/envs/env_MLSECU_PROJECT/lib/python3.11/site-packages/sklearn/utils/validation.py:757: FutureWarning: is_sparse is deprecated and will be removed in a future version. Check `isinstance(dtype, pd.SparseDtype)` instead.\n",
      "  if not hasattr(array, \"sparse\") and array.dtypes.apply(is_sparse).any():\n",
      "/Users/theoripoll/.pyenv/versions/3.11.2/envs/env_MLSECU_PROJECT/lib/python3.11/site-packages/sklearn/utils/validation.py:595: FutureWarning: is_sparse is deprecated and will be removed in a future version. Check `isinstance(dtype, pd.SparseDtype)` instead.\n",
      "  if is_sparse(pd_dtype):\n",
      "/Users/theoripoll/.pyenv/versions/3.11.2/envs/env_MLSECU_PROJECT/lib/python3.11/site-packages/sklearn/utils/validation.py:604: FutureWarning: is_sparse is deprecated and will be removed in a future version. Check `isinstance(dtype, pd.SparseDtype)` instead.\n",
      "  if is_sparse(pd_dtype) or not is_extension_array_dtype(pd_dtype):\n"
     ]
    },
    {
     "data": {
      "text/plain": [
       "1459"
      ]
     },
     "execution_count": 10,
     "metadata": {},
     "output_type": "execute_result"
    }
   ],
   "source": [
    "clf = IsolationForest(n_estimators=100, n_jobs=-1, bootstrap=True, random_state=42, contamination=contamination_rate)\n",
    "y_pred = clf.fit_predict(df_physical_prepared)\n",
    "if_outliers_cr = df_physical_prepared[y_pred == -1].index.values.tolist()\n",
    "len(if_outliers_cr)"
   ]
  },
  {
   "cell_type": "code",
   "execution_count": null,
   "metadata": {},
   "outputs": [
    {
     "data": {
      "text/plain": [
       "label_n\n",
       "0.0    940\n",
       "1.0    519\n",
       "Name: count, dtype: int64"
      ]
     },
     "execution_count": 11,
     "metadata": {},
     "output_type": "execute_result"
    }
   ],
   "source": [
    "df_physical_labels.iloc[if_outliers_cr][\"label_n\"].value_counts()"
   ]
  },
  {
   "cell_type": "markdown",
   "metadata": {},
   "source": [
    "With a fixed contamination rate, the model gets a total of 1459 outliers, out of which 519 are real anomalies (35.5%). This is a better result than with the default parameters and less false positives are found."
   ]
  },
  {
   "cell_type": "markdown",
   "metadata": {},
   "source": [
    "### b. Local Outlier Factor"
   ]
  },
  {
   "cell_type": "code",
   "execution_count": null,
   "metadata": {},
   "outputs": [
    {
     "name": "stderr",
     "output_type": "stream",
     "text": [
      "/Users/theoripoll/.pyenv/versions/3.11.2/envs/env_MLSECU_PROJECT/lib/python3.11/site-packages/sklearn/utils/validation.py:757: FutureWarning: is_sparse is deprecated and will be removed in a future version. Check `isinstance(dtype, pd.SparseDtype)` instead.\n",
      "  if not hasattr(array, \"sparse\") and array.dtypes.apply(is_sparse).any():\n",
      "/Users/theoripoll/.pyenv/versions/3.11.2/envs/env_MLSECU_PROJECT/lib/python3.11/site-packages/sklearn/utils/validation.py:595: FutureWarning: is_sparse is deprecated and will be removed in a future version. Check `isinstance(dtype, pd.SparseDtype)` instead.\n",
      "  if is_sparse(pd_dtype):\n",
      "/Users/theoripoll/.pyenv/versions/3.11.2/envs/env_MLSECU_PROJECT/lib/python3.11/site-packages/sklearn/utils/validation.py:604: FutureWarning: is_sparse is deprecated and will be removed in a future version. Check `isinstance(dtype, pd.SparseDtype)` instead.\n",
      "  if is_sparse(pd_dtype) or not is_extension_array_dtype(pd_dtype):\n"
     ]
    },
    {
     "name": "stderr",
     "output_type": "stream",
     "text": [
      "/Users/theoripoll/.pyenv/versions/3.11.2/envs/env_MLSECU_PROJECT/lib/python3.11/site-packages/threadpoolctl.py:1010: RuntimeWarning: \n",
      "Found Intel OpenMP ('libiomp') and LLVM OpenMP ('libomp') loaded at\n",
      "the same time. Both libraries are known to be incompatible and this\n",
      "can cause random crashes or deadlocks on Linux when loaded in the\n",
      "same Python program.\n",
      "Using threadpoolctl may cause crashes or deadlocks. For more\n",
      "information and possible workarounds, please see\n",
      "    https://github.com/joblib/threadpoolctl/blob/master/multiple_openmp.md\n",
      "\n",
      "  warnings.warn(msg, RuntimeWarning)\n"
     ]
    },
    {
     "data": {
      "text/plain": [
       "71"
      ]
     },
     "execution_count": 12,
     "metadata": {},
     "output_type": "execute_result"
    }
   ],
   "source": [
    "clf = LocalOutlierFactor(n_neighbors=5)\n",
    "y_pred = clf.fit_predict(df_physical_prepared)\n",
    "lof_outliers = df_physical_prepared[y_pred == -1].index.values.tolist()\n",
    "len(lof_outliers)"
   ]
  },
  {
   "cell_type": "code",
   "execution_count": null,
   "metadata": {},
   "outputs": [
    {
     "data": {
      "text/plain": [
       "label_n\n",
       "0.0    47\n",
       "1.0    24\n",
       "Name: count, dtype: int64"
      ]
     },
     "execution_count": 13,
     "metadata": {},
     "output_type": "execute_result"
    }
   ],
   "source": [
    "df_physical_labels.iloc[lof_outliers][\"label_n\"].value_counts()"
   ]
  },
  {
   "cell_type": "markdown",
   "metadata": {},
   "source": [
    "We get terrible results, it barely detects outliers. This model isn't suited for the dataset."
   ]
  },
  {
   "cell_type": "markdown",
   "metadata": {},
   "source": [
    "## 2. Neural Networks"
   ]
  },
  {
   "cell_type": "markdown",
   "metadata": {},
   "source": [
    "### a. DNN\n",
    "\n",
    "We will use only some of the columns for the DNN model. We are removing contextual information such as the time. To make it easier to manipulate, we will merge back the labels with the predictions."
   ]
  },
  {
   "cell_type": "markdown",
   "metadata": {},
   "source": [
    "#### Binary classification"
   ]
  },
  {
   "cell_type": "code",
   "execution_count": 5,
   "metadata": {},
   "outputs": [
    {
     "data": {
      "text/html": [
       "<div>\n",
       "<style scoped>\n",
       "    .dataframe tbody tr th:only-of-type {\n",
       "        vertical-align: middle;\n",
       "    }\n",
       "\n",
       "    .dataframe tbody tr th {\n",
       "        vertical-align: top;\n",
       "    }\n",
       "\n",
       "    .dataframe thead th {\n",
       "        text-align: right;\n",
       "    }\n",
       "</style>\n",
       "<table border=\"1\" class=\"dataframe\">\n",
       "  <thead>\n",
       "    <tr style=\"text-align: right;\">\n",
       "      <th></th>\n",
       "      <th>time</th>\n",
       "      <th>tank_1</th>\n",
       "      <th>tank_2</th>\n",
       "      <th>tank_3</th>\n",
       "      <th>tank_4</th>\n",
       "      <th>tank_5</th>\n",
       "      <th>tank_6</th>\n",
       "      <th>tank_7</th>\n",
       "      <th>tank_8</th>\n",
       "      <th>pump_1</th>\n",
       "      <th>...</th>\n",
       "      <th>valv_14</th>\n",
       "      <th>valv_15</th>\n",
       "      <th>valv_16</th>\n",
       "      <th>valv_17</th>\n",
       "      <th>valv_18</th>\n",
       "      <th>valv_19</th>\n",
       "      <th>valv_20</th>\n",
       "      <th>valv_21</th>\n",
       "      <th>valv_22</th>\n",
       "      <th>label_n</th>\n",
       "    </tr>\n",
       "  </thead>\n",
       "  <tbody>\n",
       "    <tr>\n",
       "      <th>0</th>\n",
       "      <td>1.630780e+09</td>\n",
       "      <td>0</td>\n",
       "      <td>0</td>\n",
       "      <td>0</td>\n",
       "      <td>0</td>\n",
       "      <td>0</td>\n",
       "      <td>0</td>\n",
       "      <td>0</td>\n",
       "      <td>0</td>\n",
       "      <td>0</td>\n",
       "      <td>...</td>\n",
       "      <td>0</td>\n",
       "      <td>0</td>\n",
       "      <td>0</td>\n",
       "      <td>0</td>\n",
       "      <td>0</td>\n",
       "      <td>0</td>\n",
       "      <td>0</td>\n",
       "      <td>0</td>\n",
       "      <td>0</td>\n",
       "      <td>0.0</td>\n",
       "    </tr>\n",
       "    <tr>\n",
       "      <th>1</th>\n",
       "      <td>1.630780e+09</td>\n",
       "      <td>0</td>\n",
       "      <td>0</td>\n",
       "      <td>0</td>\n",
       "      <td>0</td>\n",
       "      <td>0</td>\n",
       "      <td>0</td>\n",
       "      <td>0</td>\n",
       "      <td>0</td>\n",
       "      <td>0</td>\n",
       "      <td>...</td>\n",
       "      <td>0</td>\n",
       "      <td>0</td>\n",
       "      <td>0</td>\n",
       "      <td>0</td>\n",
       "      <td>0</td>\n",
       "      <td>0</td>\n",
       "      <td>0</td>\n",
       "      <td>0</td>\n",
       "      <td>0</td>\n",
       "      <td>0.0</td>\n",
       "    </tr>\n",
       "    <tr>\n",
       "      <th>2</th>\n",
       "      <td>1.630780e+09</td>\n",
       "      <td>0</td>\n",
       "      <td>0</td>\n",
       "      <td>0</td>\n",
       "      <td>0</td>\n",
       "      <td>0</td>\n",
       "      <td>0</td>\n",
       "      <td>0</td>\n",
       "      <td>0</td>\n",
       "      <td>0</td>\n",
       "      <td>...</td>\n",
       "      <td>0</td>\n",
       "      <td>0</td>\n",
       "      <td>0</td>\n",
       "      <td>0</td>\n",
       "      <td>0</td>\n",
       "      <td>0</td>\n",
       "      <td>0</td>\n",
       "      <td>0</td>\n",
       "      <td>0</td>\n",
       "      <td>0.0</td>\n",
       "    </tr>\n",
       "    <tr>\n",
       "      <th>3</th>\n",
       "      <td>1.630780e+09</td>\n",
       "      <td>0</td>\n",
       "      <td>0</td>\n",
       "      <td>0</td>\n",
       "      <td>0</td>\n",
       "      <td>0</td>\n",
       "      <td>0</td>\n",
       "      <td>0</td>\n",
       "      <td>0</td>\n",
       "      <td>0</td>\n",
       "      <td>...</td>\n",
       "      <td>0</td>\n",
       "      <td>0</td>\n",
       "      <td>0</td>\n",
       "      <td>0</td>\n",
       "      <td>0</td>\n",
       "      <td>0</td>\n",
       "      <td>0</td>\n",
       "      <td>0</td>\n",
       "      <td>0</td>\n",
       "      <td>0.0</td>\n",
       "    </tr>\n",
       "    <tr>\n",
       "      <th>4</th>\n",
       "      <td>1.630780e+09</td>\n",
       "      <td>0</td>\n",
       "      <td>0</td>\n",
       "      <td>0</td>\n",
       "      <td>0</td>\n",
       "      <td>0</td>\n",
       "      <td>0</td>\n",
       "      <td>0</td>\n",
       "      <td>0</td>\n",
       "      <td>1</td>\n",
       "      <td>...</td>\n",
       "      <td>0</td>\n",
       "      <td>0</td>\n",
       "      <td>0</td>\n",
       "      <td>0</td>\n",
       "      <td>0</td>\n",
       "      <td>0</td>\n",
       "      <td>0</td>\n",
       "      <td>0</td>\n",
       "      <td>0</td>\n",
       "      <td>0.0</td>\n",
       "    </tr>\n",
       "  </tbody>\n",
       "</table>\n",
       "<p>5 rows × 42 columns</p>\n",
       "</div>"
      ],
      "text/plain": [
       "           time  tank_1  tank_2  tank_3  tank_4  tank_5  tank_6  tank_7  \\\n",
       "0  1.630780e+09       0       0       0       0       0       0       0   \n",
       "1  1.630780e+09       0       0       0       0       0       0       0   \n",
       "2  1.630780e+09       0       0       0       0       0       0       0   \n",
       "3  1.630780e+09       0       0       0       0       0       0       0   \n",
       "4  1.630780e+09       0       0       0       0       0       0       0   \n",
       "\n",
       "   tank_8  pump_1  ...  valv_14  valv_15  valv_16  valv_17  valv_18  valv_19  \\\n",
       "0       0       0  ...        0        0        0        0        0        0   \n",
       "1       0       0  ...        0        0        0        0        0        0   \n",
       "2       0       0  ...        0        0        0        0        0        0   \n",
       "3       0       0  ...        0        0        0        0        0        0   \n",
       "4       0       1  ...        0        0        0        0        0        0   \n",
       "\n",
       "   valv_20  valv_21  valv_22  label_n  \n",
       "0        0        0        0      0.0  \n",
       "1        0        0        0      0.0  \n",
       "2        0        0        0      0.0  \n",
       "3        0        0        0      0.0  \n",
       "4        0        0        0      0.0  \n",
       "\n",
       "[5 rows x 42 columns]"
      ]
     },
     "execution_count": 5,
     "metadata": {},
     "output_type": "execute_result"
    }
   ],
   "source": [
    "df = df_physical_prepared.copy()\n",
    "df[\"label_n\"] = df_physical_labels[\"label_n\"]\n",
    "df.head()"
   ]
  },
  {
   "cell_type": "code",
   "execution_count": 6,
   "metadata": {},
   "outputs": [
    {
     "name": "stderr",
     "output_type": "stream",
     "text": [
      "/Users/theoripoll/.pyenv/versions/3.11.2/envs/env_MLSECU_PROJECT/lib/python3.11/site-packages/sklearn/utils/validation.py:757: FutureWarning: is_sparse is deprecated and will be removed in a future version. Check `isinstance(dtype, pd.SparseDtype)` instead.\n",
      "  if not hasattr(array, \"sparse\") and array.dtypes.apply(is_sparse).any():\n",
      "/Users/theoripoll/.pyenv/versions/3.11.2/envs/env_MLSECU_PROJECT/lib/python3.11/site-packages/sklearn/utils/validation.py:595: FutureWarning: is_sparse is deprecated and will be removed in a future version. Check `isinstance(dtype, pd.SparseDtype)` instead.\n",
      "  if is_sparse(pd_dtype):\n",
      "/Users/theoripoll/.pyenv/versions/3.11.2/envs/env_MLSECU_PROJECT/lib/python3.11/site-packages/sklearn/utils/validation.py:604: FutureWarning: is_sparse is deprecated and will be removed in a future version. Check `isinstance(dtype, pd.SparseDtype)` instead.\n",
      "  if is_sparse(pd_dtype) or not is_extension_array_dtype(pd_dtype):\n",
      "/Users/theoripoll/.pyenv/versions/3.11.2/envs/env_MLSECU_PROJECT/lib/python3.11/site-packages/sklearn/utils/validation.py:757: FutureWarning: is_sparse is deprecated and will be removed in a future version. Check `isinstance(dtype, pd.SparseDtype)` instead.\n",
      "  if not hasattr(array, \"sparse\") and array.dtypes.apply(is_sparse).any():\n",
      "/Users/theoripoll/.pyenv/versions/3.11.2/envs/env_MLSECU_PROJECT/lib/python3.11/site-packages/sklearn/utils/validation.py:595: FutureWarning: is_sparse is deprecated and will be removed in a future version. Check `isinstance(dtype, pd.SparseDtype)` instead.\n",
      "  if is_sparse(pd_dtype):\n",
      "/Users/theoripoll/.pyenv/versions/3.11.2/envs/env_MLSECU_PROJECT/lib/python3.11/site-packages/sklearn/utils/validation.py:604: FutureWarning: is_sparse is deprecated and will be removed in a future version. Check `isinstance(dtype, pd.SparseDtype)` instead.\n",
      "  if is_sparse(pd_dtype) or not is_extension_array_dtype(pd_dtype):\n",
      "/Users/theoripoll/.pyenv/versions/3.11.2/envs/env_MLSECU_PROJECT/lib/python3.11/site-packages/sklearn/utils/validation.py:757: FutureWarning: is_sparse is deprecated and will be removed in a future version. Check `isinstance(dtype, pd.SparseDtype)` instead.\n",
      "  if not hasattr(array, \"sparse\") and array.dtypes.apply(is_sparse).any():\n",
      "/Users/theoripoll/.pyenv/versions/3.11.2/envs/env_MLSECU_PROJECT/lib/python3.11/site-packages/sklearn/utils/validation.py:595: FutureWarning: is_sparse is deprecated and will be removed in a future version. Check `isinstance(dtype, pd.SparseDtype)` instead.\n",
      "  if is_sparse(pd_dtype):\n",
      "/Users/theoripoll/.pyenv/versions/3.11.2/envs/env_MLSECU_PROJECT/lib/python3.11/site-packages/sklearn/utils/validation.py:604: FutureWarning: is_sparse is deprecated and will be removed in a future version. Check `isinstance(dtype, pd.SparseDtype)` instead.\n",
      "  if is_sparse(pd_dtype) or not is_extension_array_dtype(pd_dtype):\n",
      "/Users/theoripoll/.pyenv/versions/3.11.2/envs/env_MLSECU_PROJECT/lib/python3.11/site-packages/sklearn/utils/validation.py:757: FutureWarning: is_sparse is deprecated and will be removed in a future version. Check `isinstance(dtype, pd.SparseDtype)` instead.\n",
      "  if not hasattr(array, \"sparse\") and array.dtypes.apply(is_sparse).any():\n",
      "/Users/theoripoll/.pyenv/versions/3.11.2/envs/env_MLSECU_PROJECT/lib/python3.11/site-packages/sklearn/utils/validation.py:595: FutureWarning: is_sparse is deprecated and will be removed in a future version. Check `isinstance(dtype, pd.SparseDtype)` instead.\n",
      "  if is_sparse(pd_dtype):\n",
      "/Users/theoripoll/.pyenv/versions/3.11.2/envs/env_MLSECU_PROJECT/lib/python3.11/site-packages/sklearn/utils/validation.py:604: FutureWarning: is_sparse is deprecated and will be removed in a future version. Check `isinstance(dtype, pd.SparseDtype)` instead.\n",
      "  if is_sparse(pd_dtype) or not is_extension_array_dtype(pd_dtype):\n"
     ]
    },
    {
     "data": {
      "text/plain": [
       "((5891, 41), (1473, 41), (1842, 41))"
      ]
     },
     "execution_count": 6,
     "metadata": {},
     "output_type": "execute_result"
    }
   ],
   "source": [
    "# convert bool columns to int\n",
    "bool_cols = df.columns[df.dtypes == bool]\n",
    "df[bool_cols] = df[bool_cols].astype(int)\n",
    "\n",
    "# remove time column\n",
    "if \"Time\" in df.columns:\n",
    "    df.drop(columns=['Time'], inplace=True)\n",
    "\n",
    "# Split data into train, validation, and test sets\n",
    "train_df, test_df = train_test_split(df, test_size=0.2, random_state=42, stratify=df['label_n'])\n",
    "train_df, val_df = train_test_split(train_df, test_size=0.2, random_state=42, stratify=train_df['label_n'])\n",
    "\n",
    "# Separate features and target\n",
    "X_train = train_df.drop(columns=['label_n'])\n",
    "y_train = train_df['label_n']\n",
    "X_val = val_df.drop(columns=['label_n'])\n",
    "y_val = val_df['label_n']\n",
    "X_test = test_df.drop(columns=['label_n'])\n",
    "y_test = test_df['label_n']\n",
    "\n",
    "# Normalize numerical features\n",
    "scaler = StandardScaler()\n",
    "X_train = scaler.fit_transform(X_train)\n",
    "X_val = scaler.transform(X_val)\n",
    "X_test = scaler.transform(X_test)\n",
    "\n",
    "X_train.shape, X_val.shape, X_test.shape"
   ]
  },
  {
   "cell_type": "code",
   "execution_count": 7,
   "metadata": {},
   "outputs": [
    {
     "data": {
      "text/plain": [
       "array([-1.8453872 ,  0.80077463,  1.38978397, -0.31653682, -0.80836626,\n",
       "       -1.32533143, -0.10188866,  2.305095  , -0.92628226,  1.33125328,\n",
       "        1.85997322,  0.        , -0.51106364,  1.29715255, -0.77736917,\n",
       "        1.29761189, -0.77821244,  0.        , -0.75693134,  0.        ,\n",
       "        0.        ,  0.        ,  0.        ,  0.        ,  0.        ,\n",
       "        0.        ,  0.        ,  0.        , -1.2205967 , -1.2205967 ,\n",
       "       -1.22016572, -0.82129835, -0.82129835, -0.82158816,  0.        ,\n",
       "        0.91201897, -0.55179071,  0.        , -1.33567454,  0.        ,\n",
       "       -0.91326873])"
      ]
     },
     "execution_count": 7,
     "metadata": {},
     "output_type": "execute_result"
    }
   ],
   "source": [
    "X_train[0]"
   ]
  },
  {
   "cell_type": "code",
   "execution_count": 8,
   "metadata": {},
   "outputs": [
    {
     "name": "stdout",
     "output_type": "stream",
     "text": [
      "Model: \"sequential\"\n",
      "_________________________________________________________________\n",
      " Layer (type)                Output Shape              Param #   \n",
      "=================================================================\n",
      " dense (Dense)               (None, 1024)              43008     \n",
      "                                                                 \n",
      " dense_1 (Dense)             (None, 256)               262400    \n",
      "                                                                 \n",
      " dense_2 (Dense)             (None, 64)                16448     \n",
      "                                                                 \n",
      " dense_3 (Dense)             (None, 1)                 65        \n",
      "                                                                 \n",
      "=================================================================\n",
      "Total params: 321921 (1.23 MB)\n",
      "Trainable params: 321921 (1.23 MB)\n",
      "Non-trainable params: 0 (0.00 Byte)\n",
      "_________________________________________________________________\n"
     ]
    }
   ],
   "source": [
    "# Define the neural network model\n",
    "model = tf.keras.Sequential([\n",
    "    tf.keras.layers.Input(shape=(X_train[0].shape[0],)),  # Input layer\n",
    "    tf.keras.layers.Dense(1024, activation=swish),  # Hidden layer 1\n",
    "    tf.keras.layers.Dense(256, activation=swish),   # Hidden layer 2\n",
    "    tf.keras.layers.Dense(64, activation=swish),   # Hidden layer 3\n",
    "    tf.keras.layers.Dense(1, activation=sigmoid)  # Output layer\n",
    "])\n",
    "\n",
    "# Compile the model\n",
    "model.compile(optimizer='adam',\n",
    "              loss='binary_crossentropy',\n",
    "              metrics=['accuracy'])\n",
    "\n",
    "model.summary()"
   ]
  },
  {
   "cell_type": "markdown",
   "metadata": {},
   "source": [
    "Let's define callbacks and train the model."
   ]
  },
  {
   "cell_type": "code",
   "execution_count": 9,
   "metadata": {},
   "outputs": [
    {
     "name": "stdout",
     "output_type": "stream",
     "text": [
      "Epoch 1/40\n",
      "24/24 [==============================] - 2s 23ms/step - loss: 0.4592 - accuracy: 0.8134 - val_loss: 0.3581 - val_accuracy: 0.8554 - lr: 0.0010\n",
      "Epoch 2/40\n",
      "24/24 [==============================] - 0s 9ms/step - loss: 0.3669 - accuracy: 0.8448 - val_loss: 0.3287 - val_accuracy: 0.8608 - lr: 0.0010\n",
      "Epoch 3/40\n",
      "24/24 [==============================] - 0s 10ms/step - loss: 0.3080 - accuracy: 0.8735 - val_loss: 0.2714 - val_accuracy: 0.8819 - lr: 0.0010\n",
      "Epoch 4/40\n",
      "24/24 [==============================] - 0s 9ms/step - loss: 0.2941 - accuracy: 0.8695 - val_loss: 0.2667 - val_accuracy: 0.8846 - lr: 0.0010\n",
      "Epoch 5/40\n",
      "24/24 [==============================] - 0s 8ms/step - loss: 0.2779 - accuracy: 0.8830 - val_loss: 0.2514 - val_accuracy: 0.8893 - lr: 0.0010\n",
      "Epoch 6/40\n",
      "24/24 [==============================] - 0s 10ms/step - loss: 0.2388 - accuracy: 0.8965 - val_loss: 0.2245 - val_accuracy: 0.8968 - lr: 0.0010\n",
      "Epoch 7/40\n",
      "24/24 [==============================] - 0s 8ms/step - loss: 0.2463 - accuracy: 0.8912 - val_loss: 0.2154 - val_accuracy: 0.9050 - lr: 0.0010\n",
      "Epoch 8/40\n",
      "24/24 [==============================] - 0s 8ms/step - loss: 0.2068 - accuracy: 0.9083 - val_loss: 0.1916 - val_accuracy: 0.9212 - lr: 0.0010\n",
      "Epoch 9/40\n",
      "24/24 [==============================] - 0s 9ms/step - loss: 0.1826 - accuracy: 0.9170 - val_loss: 0.1783 - val_accuracy: 0.9260 - lr: 0.0010\n",
      "Epoch 10/40\n",
      "24/24 [==============================] - 0s 8ms/step - loss: 0.1715 - accuracy: 0.9238 - val_loss: 0.1683 - val_accuracy: 0.9260 - lr: 0.0010\n",
      "Epoch 11/40\n",
      "24/24 [==============================] - 0s 16ms/step - loss: 0.1557 - accuracy: 0.9319 - val_loss: 0.1566 - val_accuracy: 0.9301 - lr: 0.0010\n",
      "Epoch 12/40\n",
      "24/24 [==============================] - 0s 11ms/step - loss: 0.1467 - accuracy: 0.9353 - val_loss: 0.1553 - val_accuracy: 0.9382 - lr: 0.0010\n",
      "Epoch 13/40\n",
      "24/24 [==============================] - 0s 13ms/step - loss: 0.1681 - accuracy: 0.9258 - val_loss: 0.1588 - val_accuracy: 0.9308 - lr: 0.0010\n",
      "Epoch 14/40\n",
      "24/24 [==============================] - 0s 9ms/step - loss: 0.1366 - accuracy: 0.9394 - val_loss: 0.1462 - val_accuracy: 0.9409 - lr: 0.0010\n",
      "Epoch 15/40\n",
      "24/24 [==============================] - 0s 9ms/step - loss: 0.1265 - accuracy: 0.9464 - val_loss: 0.1435 - val_accuracy: 0.9355 - lr: 0.0010\n",
      "Epoch 16/40\n",
      "24/24 [==============================] - 0s 8ms/step - loss: 0.1252 - accuracy: 0.9426 - val_loss: 0.1424 - val_accuracy: 0.9450 - lr: 0.0010\n",
      "Epoch 17/40\n",
      "24/24 [==============================] - 0s 8ms/step - loss: 0.1140 - accuracy: 0.9504 - val_loss: 0.1321 - val_accuracy: 0.9511 - lr: 0.0010\n",
      "Epoch 18/40\n",
      "24/24 [==============================] - 0s 9ms/step - loss: 0.1200 - accuracy: 0.9511 - val_loss: 0.1221 - val_accuracy: 0.9552 - lr: 0.0010\n",
      "Epoch 19/40\n",
      "24/24 [==============================] - 0s 10ms/step - loss: 0.1084 - accuracy: 0.9584 - val_loss: 0.1386 - val_accuracy: 0.9443 - lr: 0.0010\n",
      "Epoch 20/40\n",
      "24/24 [==============================] - 0s 9ms/step - loss: 0.1272 - accuracy: 0.9455 - val_loss: 0.1175 - val_accuracy: 0.9620 - lr: 0.0010\n",
      "Epoch 21/40\n",
      "24/24 [==============================] - 0s 9ms/step - loss: 0.1201 - accuracy: 0.9531 - val_loss: 0.1215 - val_accuracy: 0.9538 - lr: 0.0010\n",
      "Epoch 22/40\n",
      "24/24 [==============================] - 0s 8ms/step - loss: 0.1023 - accuracy: 0.9599 - val_loss: 0.1343 - val_accuracy: 0.9491 - lr: 0.0010\n",
      "Epoch 23/40\n",
      "23/24 [===========================>..] - ETA: 0s - loss: 0.1082 - accuracy: 0.9565\n",
      "Epoch 23: ReduceLROnPlateau reducing learning rate to 0.00010000000474974513.\n",
      "24/24 [==============================] - 0s 9ms/step - loss: 0.1082 - accuracy: 0.9565 - val_loss: 0.1344 - val_accuracy: 0.9532 - lr: 0.0010\n",
      "Epoch 24/40\n",
      "24/24 [==============================] - 0s 9ms/step - loss: 0.0972 - accuracy: 0.9567 - val_loss: 0.1127 - val_accuracy: 0.9559 - lr: 1.0000e-04\n",
      "Epoch 25/40\n",
      "24/24 [==============================] - 0s 15ms/step - loss: 0.0863 - accuracy: 0.9628 - val_loss: 0.1074 - val_accuracy: 0.9613 - lr: 1.0000e-04\n",
      "Epoch 26/40\n",
      "24/24 [==============================] - 0s 8ms/step - loss: 0.0840 - accuracy: 0.9644 - val_loss: 0.1070 - val_accuracy: 0.9633 - lr: 1.0000e-04\n",
      "Epoch 27/40\n",
      "24/24 [==============================] - 0s 8ms/step - loss: 0.0856 - accuracy: 0.9666 - val_loss: 0.1058 - val_accuracy: 0.9640 - lr: 1.0000e-04\n",
      "Epoch 28/40\n",
      "24/24 [==============================] - 0s 8ms/step - loss: 0.0832 - accuracy: 0.9688 - val_loss: 0.1025 - val_accuracy: 0.9674 - lr: 1.0000e-04\n",
      "Epoch 29/40\n",
      "24/24 [==============================] - 0s 8ms/step - loss: 0.0838 - accuracy: 0.9672 - val_loss: 0.1017 - val_accuracy: 0.9647 - lr: 1.0000e-04\n",
      "Epoch 30/40\n",
      "24/24 [==============================] - 0s 7ms/step - loss: 0.0812 - accuracy: 0.9703 - val_loss: 0.1026 - val_accuracy: 0.9647 - lr: 1.0000e-04\n",
      "Epoch 31/40\n",
      "24/24 [==============================] - 0s 7ms/step - loss: 0.0822 - accuracy: 0.9711 - val_loss: 0.1034 - val_accuracy: 0.9661 - lr: 1.0000e-04\n",
      "Epoch 32/40\n",
      "19/24 [======================>.......] - ETA: 0s - loss: 0.0808 - accuracy: 0.9704\n",
      "Epoch 32: ReduceLROnPlateau reducing learning rate to 1.0000000474974514e-05.\n",
      "24/24 [==============================] - 0s 8ms/step - loss: 0.0807 - accuracy: 0.9710 - val_loss: 0.1027 - val_accuracy: 0.9654 - lr: 1.0000e-04\n",
      "Epoch 33/40\n",
      "24/24 [==============================] - 0s 8ms/step - loss: 0.0791 - accuracy: 0.9711 - val_loss: 0.1025 - val_accuracy: 0.9661 - lr: 1.0000e-05\n",
      "Epoch 34/40\n",
      "24/24 [==============================] - 0s 7ms/step - loss: 0.0795 - accuracy: 0.9703 - val_loss: 0.1027 - val_accuracy: 0.9654 - lr: 1.0000e-05\n",
      "Epoch 35/40\n",
      "19/24 [======================>.......] - ETA: 0s - loss: 0.0807 - accuracy: 0.9702Restoring model weights from the end of the best epoch: 29.\n",
      "\n",
      "Epoch 35: ReduceLROnPlateau reducing learning rate to 1.0000000656873453e-06.\n",
      "24/24 [==============================] - 0s 8ms/step - loss: 0.0793 - accuracy: 0.9701 - val_loss: 0.1023 - val_accuracy: 0.9654 - lr: 1.0000e-05\n",
      "Epoch 35: early stopping\n"
     ]
    }
   ],
   "source": [
    "# callbacks\n",
    "early_stopping = tf.keras.callbacks.EarlyStopping(\n",
    "    monitor='val_loss', min_delta=0, patience=6, verbose=1,\n",
    "    mode='auto', baseline=None, restore_best_weights=True\n",
    ")\n",
    "reduce_on_plateau = tf.keras.callbacks.ReduceLROnPlateau(\n",
    "    monitor='val_loss', factor=0.1, patience=3, verbose=1,\n",
    "    mode='auto', min_delta=0.0001, cooldown=0, min_lr=0\n",
    ")\n",
    "\n",
    "# Train the model\n",
    "history = model.fit(X_train, y_train, \n",
    "                    epochs=40, \n",
    "                    batch_size=256, \n",
    "                    validation_data=(X_val, y_val),\n",
    "                    callbacks=[early_stopping, reduce_on_plateau])"
   ]
  },
  {
   "cell_type": "code",
   "execution_count": 10,
   "metadata": {},
   "outputs": [
    {
     "data": {
      "image/png": "[encoded data removed]",
      "text/plain": [
       "<Figure size 640x480 with 1 Axes>"
      ]
     },
     "metadata": {},
     "output_type": "display_data"
    }
   ],
   "source": [
    "plt.plot(history.history['accuracy'], label='train')\n",
    "plt.plot(history.history['val_accuracy'], label='val')\n",
    "plt.legend()\n",
    "plt.show()"
   ]
  },
  {
   "cell_type": "markdown",
   "metadata": {},
   "source": [
    "Evaluation on the test set:"
   ]
  },
  {
   "cell_type": "code",
   "execution_count": 11,
   "metadata": {},
   "outputs": [
    {
     "name": "stdout",
     "output_type": "stream",
     "text": [
      "58/58 [==============================] - 0s 2ms/step - loss: 0.0933 - accuracy: 0.9696\n",
      "Test accuracy: 96.96%\n"
     ]
    }
   ],
   "source": [
    "test_loss, test_accuracy = model.evaluate(X_test, y_test)\n",
    "print(f\"Test accuracy: {test_accuracy * 100:.2f}%\")"
   ]
  },
  {
   "cell_type": "code",
   "execution_count": 12,
   "metadata": {},
   "outputs": [],
   "source": [
    "def plot_confusion_matrix(y_true, y_pred, title=None):\n",
    "    fig, ax = plt.subplots(figsize=(6, 6))\n",
    "    cm = confusion_matrix(y_true, y_pred)\n",
    "\n",
    "    # normalize it\n",
    "    cm = cm.astype(float) / cm.sum(axis=1)[:, np.newaxis]\n",
    "\n",
    "    sns.heatmap(cm, annot=True, ax=ax, cmap=\"Blues\")\n",
    "    ax.set_ylabel(\"Actual\")\n",
    "    ax.set_xlabel(\"Predicted\")\n",
    "    if title:\n",
    "        ax.set_title(title)\n",
    "    plt.show()"
   ]
  },
  {
   "cell_type": "code",
   "execution_count": 13,
   "metadata": {},
   "outputs": [
    {
     "name": "stdout",
     "output_type": "stream",
     "text": [
      "58/58 [==============================] - 0s 2ms/step\n"
     ]
    },
    {
     "data": {
      "image/png": "[encoded data removed]",
      "text/plain": [
       "<Figure size 600x600 with 2 Axes>"
      ]
     },
     "metadata": {},
     "output_type": "display_data"
    }
   ],
   "source": [
    "# Predict on test set\n",
    "y_pred = model.predict(X_test)\n",
    "y_pred = np.round(y_pred).astype(int).reshape(-1)\n",
    "\n",
    "# Plot confusion matrix\n",
    "plot_confusion_matrix(y_test, y_pred, title=\"Confusion matrix for the test set\")"
   ]
  },
  {
   "cell_type": "markdown",
   "metadata": {},
   "source": [
    "The results are promising, we get a good recall and precision. The model is able to detect 85% of the anomalies and has a low false positive rate. However we still have a lot of false negatives."
   ]
  },
  {
   "cell_type": "markdown",
   "metadata": {},
   "source": [
    "#### Multiclass classification\n",
    "\n",
    "Now, we want to create an alternative DNN which will give us more precision on the type of attack. We will use the same architecture as before, but we will change the output layer to have 5 neurons, one for each type of attack."
   ]
  },
  {
   "cell_type": "code",
   "execution_count": 14,
   "metadata": {},
   "outputs": [
    {
     "data": {
      "text/plain": [
       "new_labels\n",
       "2    7747\n",
       "1     743\n",
       "3     552\n",
       "0     157\n",
       "4       7\n",
       "Name: count, dtype: int64"
      ]
     },
     "execution_count": 14,
     "metadata": {},
     "output_type": "execute_result"
    }
   ],
   "source": [
    "df.drop(columns=['label_n'], inplace=True)\n",
    "df[\"new_labels\"] = df_physical_labels[\"new_labels\"]\n",
    "df[\"new_labels\"].value_counts()"
   ]
  },
  {
   "cell_type": "markdown",
   "metadata": {},
   "source": [
    "The 5th class has only 7 rows, which is not enough to train a model. We will remove it from the dataset."
   ]
  },
  {
   "cell_type": "code",
   "execution_count": 15,
   "metadata": {},
   "outputs": [],
   "source": [
    "# let's remove the 5th class\n",
    "df = df[df[\"new_labels\"] != 4]"
   ]
  },
  {
   "cell_type": "code",
   "execution_count": 61,
   "metadata": {},
   "outputs": [
    {
     "name": "stderr",
     "output_type": "stream",
     "text": [
      "/Users/theoripoll/.pyenv/versions/3.11.2/envs/env_MLSECU_PROJECT/lib/python3.11/site-packages/sklearn/utils/validation.py:757: FutureWarning: is_sparse is deprecated and will be removed in a future version. Check `isinstance(dtype, pd.SparseDtype)` instead.\n",
      "  if not hasattr(array, \"sparse\") and array.dtypes.apply(is_sparse).any():\n",
      "/Users/theoripoll/.pyenv/versions/3.11.2/envs/env_MLSECU_PROJECT/lib/python3.11/site-packages/sklearn/utils/validation.py:595: FutureWarning: is_sparse is deprecated and will be removed in a future version. Check `isinstance(dtype, pd.SparseDtype)` instead.\n",
      "  if is_sparse(pd_dtype):\n",
      "/Users/theoripoll/.pyenv/versions/3.11.2/envs/env_MLSECU_PROJECT/lib/python3.11/site-packages/sklearn/utils/validation.py:604: FutureWarning: is_sparse is deprecated and will be removed in a future version. Check `isinstance(dtype, pd.SparseDtype)` instead.\n",
      "  if is_sparse(pd_dtype) or not is_extension_array_dtype(pd_dtype):\n",
      "/Users/theoripoll/.pyenv/versions/3.11.2/envs/env_MLSECU_PROJECT/lib/python3.11/site-packages/sklearn/utils/validation.py:757: FutureWarning: is_sparse is deprecated and will be removed in a future version. Check `isinstance(dtype, pd.SparseDtype)` instead.\n",
      "  if not hasattr(array, \"sparse\") and array.dtypes.apply(is_sparse).any():\n",
      "/Users/theoripoll/.pyenv/versions/3.11.2/envs/env_MLSECU_PROJECT/lib/python3.11/site-packages/sklearn/utils/validation.py:595: FutureWarning: is_sparse is deprecated and will be removed in a future version. Check `isinstance(dtype, pd.SparseDtype)` instead.\n",
      "  if is_sparse(pd_dtype):\n",
      "/Users/theoripoll/.pyenv/versions/3.11.2/envs/env_MLSECU_PROJECT/lib/python3.11/site-packages/sklearn/utils/validation.py:604: FutureWarning: is_sparse is deprecated and will be removed in a future version. Check `isinstance(dtype, pd.SparseDtype)` instead.\n",
      "  if is_sparse(pd_dtype) or not is_extension_array_dtype(pd_dtype):\n",
      "/Users/theoripoll/.pyenv/versions/3.11.2/envs/env_MLSECU_PROJECT/lib/python3.11/site-packages/sklearn/utils/validation.py:757: FutureWarning: is_sparse is deprecated and will be removed in a future version. Check `isinstance(dtype, pd.SparseDtype)` instead.\n",
      "  if not hasattr(array, \"sparse\") and array.dtypes.apply(is_sparse).any():\n",
      "/Users/theoripoll/.pyenv/versions/3.11.2/envs/env_MLSECU_PROJECT/lib/python3.11/site-packages/sklearn/utils/validation.py:595: FutureWarning: is_sparse is deprecated and will be removed in a future version. Check `isinstance(dtype, pd.SparseDtype)` instead.\n",
      "  if is_sparse(pd_dtype):\n",
      "/Users/theoripoll/.pyenv/versions/3.11.2/envs/env_MLSECU_PROJECT/lib/python3.11/site-packages/sklearn/utils/validation.py:604: FutureWarning: is_sparse is deprecated and will be removed in a future version. Check `isinstance(dtype, pd.SparseDtype)` instead.\n",
      "  if is_sparse(pd_dtype) or not is_extension_array_dtype(pd_dtype):\n",
      "/Users/theoripoll/.pyenv/versions/3.11.2/envs/env_MLSECU_PROJECT/lib/python3.11/site-packages/sklearn/utils/validation.py:757: FutureWarning: is_sparse is deprecated and will be removed in a future version. Check `isinstance(dtype, pd.SparseDtype)` instead.\n",
      "  if not hasattr(array, \"sparse\") and array.dtypes.apply(is_sparse).any():\n",
      "/Users/theoripoll/.pyenv/versions/3.11.2/envs/env_MLSECU_PROJECT/lib/python3.11/site-packages/sklearn/utils/validation.py:595: FutureWarning: is_sparse is deprecated and will be removed in a future version. Check `isinstance(dtype, pd.SparseDtype)` instead.\n",
      "  if is_sparse(pd_dtype):\n",
      "/Users/theoripoll/.pyenv/versions/3.11.2/envs/env_MLSECU_PROJECT/lib/python3.11/site-packages/sklearn/utils/validation.py:604: FutureWarning: is_sparse is deprecated and will be removed in a future version. Check `isinstance(dtype, pd.SparseDtype)` instead.\n",
      "  if is_sparse(pd_dtype) or not is_extension_array_dtype(pd_dtype):\n"
     ]
    },
    {
     "data": {
      "text/plain": [
       "((5887, 41), (1472, 41), (1840, 41))"
      ]
     },
     "execution_count": 61,
     "metadata": {},
     "output_type": "execute_result"
    }
   ],
   "source": [
    "# Split data into train, validation, and test sets\n",
    "train_df, test_df = train_test_split(df, test_size=0.2, random_state=42, stratify=df['new_labels'])\n",
    "train_df, val_df = train_test_split(train_df, test_size=0.2, random_state=42, stratify=train_df['new_labels'])\n",
    "\n",
    "# Separate features and target\n",
    "X_train = train_df.drop(columns=['new_labels'])\n",
    "y_train = train_df['new_labels']\n",
    "X_val = val_df.drop(columns=['new_labels'])\n",
    "y_val = val_df['new_labels']\n",
    "X_test = test_df.drop(columns=['new_labels'])\n",
    "y_test = test_df['new_labels']\n",
    "\n",
    "# Normalize numerical features\n",
    "scaler = StandardScaler()\n",
    "X_train = scaler.fit_transform(X_train)\n",
    "X_val = scaler.transform(X_val)\n",
    "X_test = scaler.transform(X_test)\n",
    "\n",
    "X_train.shape, X_val.shape, X_test.shape"
   ]
  },
  {
   "cell_type": "code",
   "execution_count": 62,
   "metadata": {},
   "outputs": [
    {
     "name": "stdout",
     "output_type": "stream",
     "text": [
      "Model: \"sequential_3\"\n",
      "_________________________________________________________________\n",
      " Layer (type)                Output Shape              Param #   \n",
      "=================================================================\n",
      " dense_12 (Dense)            (None, 1024)              43008     \n",
      "                                                                 \n",
      " dense_13 (Dense)            (None, 256)               262400    \n",
      "                                                                 \n",
      " dense_14 (Dense)            (None, 64)                16448     \n",
      "                                                                 \n",
      " dense_15 (Dense)            (None, 5)                 325       \n",
      "                                                                 \n",
      "=================================================================\n",
      "Total params: 322181 (1.23 MB)\n",
      "Trainable params: 322181 (1.23 MB)\n",
      "Non-trainable params: 0 (0.00 Byte)\n",
      "_________________________________________________________________\n"
     ]
    }
   ],
   "source": [
    "# Define the neural network model\n",
    "model = tf.keras.Sequential([\n",
    "    tf.keras.layers.Input(shape=(X_train[0].shape[0],)),  # Input layer\n",
    "    tf.keras.layers.Dense(1024, activation=swish),  # Hidden layer 1\n",
    "    tf.keras.layers.Dense(256, activation=swish),   # Hidden layer 2\n",
    "    tf.keras.layers.Dense(64, activation=swish),   # Hidden layer 3\n",
    "    tf.keras.layers.Dense(5, activation=softmax)  # Output layer\n",
    "])\n",
    "\n",
    "# Compile the model\n",
    "optimizer = tf.keras.optimizers.Adam()\n",
    "loss = tf.keras.losses.SparseCategoricalCrossentropy()\n",
    "model.compile(optimizer=optimizer,\n",
    "              loss=loss,\n",
    "              metrics=['accuracy'])\n",
    "\n",
    "model.summary()"
   ]
  },
  {
   "cell_type": "code",
   "execution_count": 63,
   "metadata": {},
   "outputs": [
    {
     "name": "stdout",
     "output_type": "stream",
     "text": [
      "Epoch 1/40\n"
     ]
    },
    {
     "name": "stdout",
     "output_type": "stream",
     "text": [
      "23/23 [==============================] - 1s 15ms/step - loss: 0.7900 - accuracy: 0.7970 - val_loss: 0.4704 - val_accuracy: 0.8587 - lr: 0.0010\n",
      "Epoch 2/40\n",
      "23/23 [==============================] - 0s 8ms/step - loss: 0.3857 - accuracy: 0.8718 - val_loss: 0.3557 - val_accuracy: 0.8696 - lr: 0.0010\n",
      "Epoch 3/40\n",
      "23/23 [==============================] - 0s 11ms/step - loss: 0.2973 - accuracy: 0.8867 - val_loss: 0.2950 - val_accuracy: 0.8838 - lr: 0.0010\n",
      "Epoch 4/40\n",
      "23/23 [==============================] - 0s 9ms/step - loss: 0.2403 - accuracy: 0.9056 - val_loss: 0.2487 - val_accuracy: 0.9110 - lr: 0.0010\n",
      "Epoch 5/40\n",
      "23/23 [==============================] - 0s 8ms/step - loss: 0.1990 - accuracy: 0.9251 - val_loss: 0.2111 - val_accuracy: 0.9185 - lr: 0.0010\n",
      "Epoch 6/40\n",
      "23/23 [==============================] - 0s 8ms/step - loss: 0.1724 - accuracy: 0.9324 - val_loss: 0.1827 - val_accuracy: 0.9232 - lr: 0.0010\n",
      "Epoch 7/40\n",
      "23/23 [==============================] - 0s 7ms/step - loss: 0.1483 - accuracy: 0.9383 - val_loss: 0.1593 - val_accuracy: 0.9300 - lr: 0.0010\n",
      "Epoch 8/40\n",
      "23/23 [==============================] - 0s 8ms/step - loss: 0.1350 - accuracy: 0.9456 - val_loss: 0.1638 - val_accuracy: 0.9266 - lr: 0.0010\n",
      "Epoch 9/40\n",
      "23/23 [==============================] - 0s 8ms/step - loss: 0.1198 - accuracy: 0.9524 - val_loss: 0.1449 - val_accuracy: 0.9429 - lr: 0.0010\n",
      "Epoch 10/40\n",
      "23/23 [==============================] - 0s 8ms/step - loss: 0.1191 - accuracy: 0.9528 - val_loss: 0.1444 - val_accuracy: 0.9450 - lr: 0.0010\n",
      "Epoch 11/40\n",
      "23/23 [==============================] - 0s 8ms/step - loss: 0.1107 - accuracy: 0.9575 - val_loss: 0.1360 - val_accuracy: 0.9463 - lr: 0.0010\n",
      "Epoch 12/40\n",
      "23/23 [==============================] - 0s 8ms/step - loss: 0.0943 - accuracy: 0.9620 - val_loss: 0.1241 - val_accuracy: 0.9470 - lr: 0.0010\n",
      "Epoch 13/40\n",
      "23/23 [==============================] - 0s 13ms/step - loss: 0.0891 - accuracy: 0.9638 - val_loss: 0.1118 - val_accuracy: 0.9572 - lr: 0.0010\n",
      "Epoch 14/40\n",
      "23/23 [==============================] - 0s 9ms/step - loss: 0.0872 - accuracy: 0.9672 - val_loss: 0.1168 - val_accuracy: 0.9457 - lr: 0.0010\n",
      "Epoch 15/40\n",
      "23/23 [==============================] - 0s 8ms/step - loss: 0.0921 - accuracy: 0.9630 - val_loss: 0.1289 - val_accuracy: 0.9497 - lr: 0.0010\n",
      "Epoch 16/40\n",
      "23/23 [==============================] - 0s 10ms/step - loss: 0.0839 - accuracy: 0.9701 - val_loss: 0.0994 - val_accuracy: 0.9626 - lr: 0.0010\n",
      "Epoch 17/40\n",
      "23/23 [==============================] - 0s 9ms/step - loss: 0.0785 - accuracy: 0.9686 - val_loss: 0.1162 - val_accuracy: 0.9552 - lr: 0.0010\n",
      "Epoch 18/40\n",
      "23/23 [==============================] - 0s 8ms/step - loss: 0.0739 - accuracy: 0.9720 - val_loss: 0.0985 - val_accuracy: 0.9586 - lr: 0.0010\n",
      "Epoch 19/40\n",
      "23/23 [==============================] - 0s 11ms/step - loss: 0.0746 - accuracy: 0.9694 - val_loss: 0.1050 - val_accuracy: 0.9599 - lr: 0.0010\n",
      "Epoch 20/40\n",
      "23/23 [==============================] - 0s 8ms/step - loss: 0.0827 - accuracy: 0.9655 - val_loss: 0.1030 - val_accuracy: 0.9660 - lr: 0.0010\n",
      "Epoch 21/40\n",
      "23/23 [==============================] - 0s 8ms/step - loss: 0.0685 - accuracy: 0.9744 - val_loss: 0.0938 - val_accuracy: 0.9701 - lr: 0.0010\n",
      "Epoch 22/40\n",
      "23/23 [==============================] - 0s 8ms/step - loss: 0.0696 - accuracy: 0.9732 - val_loss: 0.0960 - val_accuracy: 0.9620 - lr: 0.0010\n",
      "Epoch 23/40\n",
      "23/23 [==============================] - 0s 8ms/step - loss: 0.0619 - accuracy: 0.9777 - val_loss: 0.1016 - val_accuracy: 0.9531 - lr: 0.0010\n",
      "Epoch 24/40\n",
      "19/23 [=======================>......] - ETA: 0s - loss: 0.0626 - accuracy: 0.9725\n",
      "Epoch 24: ReduceLROnPlateau reducing learning rate to 0.00010000000474974513.\n",
      "23/23 [==============================] - 0s 9ms/step - loss: 0.0615 - accuracy: 0.9733 - val_loss: 0.0938 - val_accuracy: 0.9606 - lr: 0.0010\n",
      "Epoch 25/40\n",
      "23/23 [==============================] - 0s 8ms/step - loss: 0.0504 - accuracy: 0.9810 - val_loss: 0.0833 - val_accuracy: 0.9701 - lr: 1.0000e-04\n",
      "Epoch 26/40\n",
      "23/23 [==============================] - 0s 8ms/step - loss: 0.0445 - accuracy: 0.9842 - val_loss: 0.0795 - val_accuracy: 0.9735 - lr: 1.0000e-04\n",
      "Epoch 27/40\n",
      "23/23 [==============================] - 0s 9ms/step - loss: 0.0434 - accuracy: 0.9851 - val_loss: 0.0775 - val_accuracy: 0.9721 - lr: 1.0000e-04\n",
      "Epoch 28/40\n",
      "23/23 [==============================] - 0s 8ms/step - loss: 0.0429 - accuracy: 0.9851 - val_loss: 0.0777 - val_accuracy: 0.9728 - lr: 1.0000e-04\n",
      "Epoch 29/40\n",
      "23/23 [==============================] - 0s 8ms/step - loss: 0.0428 - accuracy: 0.9845 - val_loss: 0.0766 - val_accuracy: 0.9721 - lr: 1.0000e-04\n",
      "Epoch 30/40\n",
      "23/23 [==============================] - 0s 7ms/step - loss: 0.0422 - accuracy: 0.9861 - val_loss: 0.0765 - val_accuracy: 0.9735 - lr: 1.0000e-04\n",
      "Epoch 31/40\n",
      "23/23 [==============================] - 0s 8ms/step - loss: 0.0418 - accuracy: 0.9854 - val_loss: 0.0760 - val_accuracy: 0.9728 - lr: 1.0000e-04\n",
      "Epoch 32/40\n",
      "23/23 [==============================] - 0s 8ms/step - loss: 0.0420 - accuracy: 0.9845 - val_loss: 0.0756 - val_accuracy: 0.9735 - lr: 1.0000e-04\n",
      "Epoch 33/40\n",
      "23/23 [==============================] - 0s 9ms/step - loss: 0.0421 - accuracy: 0.9849 - val_loss: 0.0756 - val_accuracy: 0.9715 - lr: 1.0000e-04\n",
      "Epoch 34/40\n",
      "23/23 [==============================] - 0s 8ms/step - loss: 0.0411 - accuracy: 0.9851 - val_loss: 0.0758 - val_accuracy: 0.9735 - lr: 1.0000e-04\n",
      "Epoch 35/40\n",
      "23/23 [==============================] - 0s 8ms/step - loss: 0.0413 - accuracy: 0.9849 - val_loss: 0.0754 - val_accuracy: 0.9728 - lr: 1.0000e-04\n",
      "Epoch 36/40\n",
      "23/23 [==============================] - 0s 12ms/step - loss: 0.0408 - accuracy: 0.9857 - val_loss: 0.0748 - val_accuracy: 0.9721 - lr: 1.0000e-04\n",
      "Epoch 37/40\n",
      "23/23 [==============================] - 0s 9ms/step - loss: 0.0405 - accuracy: 0.9851 - val_loss: 0.0751 - val_accuracy: 0.9728 - lr: 1.0000e-04\n",
      "Epoch 38/40\n",
      "23/23 [==============================] - 0s 9ms/step - loss: 0.0404 - accuracy: 0.9859 - val_loss: 0.0752 - val_accuracy: 0.9735 - lr: 1.0000e-04\n",
      "Epoch 39/40\n",
      "23/23 [==============================] - 0s 8ms/step - loss: 0.0401 - accuracy: 0.9852 - val_loss: 0.0740 - val_accuracy: 0.9742 - lr: 1.0000e-04\n",
      "Epoch 40/40\n",
      "23/23 [==============================] - 0s 8ms/step - loss: 0.0402 - accuracy: 0.9857 - val_loss: 0.0755 - val_accuracy: 0.9728 - lr: 1.0000e-04\n"
     ]
    }
   ],
   "source": [
    "history = model.fit(X_train, y_train, \n",
    "                    epochs=40, \n",
    "                    batch_size=256, \n",
    "                    validation_data=(X_val, y_val),\n",
    "                    callbacks=[early_stopping, reduce_on_plateau])"
   ]
  },
  {
   "cell_type": "code",
   "execution_count": 64,
   "metadata": {},
   "outputs": [
    {
     "data": {
      "image/png": "[encoded data removed]",
      "text/plain": [
       "<Figure size 640x480 with 1 Axes>"
      ]
     },
     "metadata": {},
     "output_type": "display_data"
    }
   ],
   "source": [
    "plt.plot(history.history['accuracy'], label='train')\n",
    "plt.plot(history.history['val_accuracy'], label='val')\n",
    "plt.legend()\n",
    "plt.show()"
   ]
  },
  {
   "cell_type": "markdown",
   "metadata": {},
   "source": [
    "Evaluate on the test set:"
   ]
  },
  {
   "cell_type": "code",
   "execution_count": 65,
   "metadata": {},
   "outputs": [
    {
     "name": "stdout",
     "output_type": "stream",
     "text": [
      "58/58 [==============================] - 0s 3ms/step - loss: 0.0639 - accuracy: 0.9777\n",
      "Test accuracy: 97.77%\n"
     ]
    }
   ],
   "source": [
    "test_loss, test_accuracy = model.evaluate(X_test, y_test)\n",
    "print(f\"Test accuracy: {test_accuracy * 100:.2f}%\")"
   ]
  },
  {
   "cell_type": "code",
   "execution_count": 66,
   "metadata": {},
   "outputs": [
    {
     "name": "stdout",
     "output_type": "stream",
     "text": [
      "58/58 [==============================] - 0s 1ms/step\n"
     ]
    },
    {
     "data": {
      "image/png": "[encoded data removed]",
      "text/plain": [
       "<Figure size 600x600 with 2 Axes>"
      ]
     },
     "metadata": {},
     "output_type": "display_data"
    }
   ],
   "source": [
    "# Predict on test set\n",
    "y_pred = model.predict(X_test)\n",
    "y_pred = y_pred = np.argmax(y_pred, axis=1)\n",
    "\n",
    "# Plot confusion matrix\n",
    "plot_confusion_matrix(y_test, y_pred, title=\"Confusion matrix for the test set\")"
   ]
  },
  {
   "cell_type": "code",
   "execution_count": 67,
   "metadata": {},
   "outputs": [
    {
     "name": "stdout",
     "output_type": "stream",
     "text": [
      "Recall:  0.9399998031844752\n",
      "Precision:  0.9467276996532316\n",
      "F1-score:  0.9432945431593642\n",
      "Accuracy:  0.9777173913043479\n"
     ]
    }
   ],
   "source": [
    "# get recall, precision, f1-score, and accuracy\n",
    "print(\"Recall: \", recall_score(y_test, y_pred, average='macro'))\n",
    "print(\"Precision: \", precision_score(y_test, y_pred, average='macro'))\n",
    "print(\"F1-score: \", f1_score(y_test, y_pred, average='macro'))\n",
    "print(\"Accuracy: \", accuracy_score(y_test, y_pred))"
   ]
  },
  {
   "cell_type": "markdown",
   "metadata": {},
   "source": [
    "The model has better results overall with 98% accuracy. The number of false negatives has been significantly reduced, but we still have a lot of false positives. We could say this is an improvement from before, as it's generally better for security to have false positives than false negatives."
   ]
  },
  {
   "cell_type": "code",
   "execution_count": 68,
   "metadata": {},
   "outputs": [
    {
     "data": {
      "image/png": "[encoded data removed]",
      "text/plain": [
       "<Figure size 1000x600 with 1 Axes>"
      ]
     },
     "metadata": {},
     "output_type": "display_data"
    }
   ],
   "source": [
    "# feature importance for the network\n",
    "def get_feature_importance(model, X_train, y_train):\n",
    "    # get feature importance\n",
    "    feature_importance = np.zeros(X_train.shape[1])\n",
    "    for i in range(X_train.shape[1]):\n",
    "        X_train_perm = X_train.copy()\n",
    "        np.random.shuffle(X_train_perm[:, i])\n",
    "        feature_importance[i] = model.evaluate(X_train_perm, y_train, verbose=0)[1]\n",
    "    return feature_importance\n",
    "\n",
    "feature_importance = get_feature_importance(model, X_train, y_train)\n",
    "\n",
    "# plot top 25 features\n",
    "topk = 25\n",
    "top_features = np.argsort(feature_importance)[::-1][:topk]\n",
    "plt.figure(figsize=(10, 6))\n",
    "plt.bar(range(topk), feature_importance[top_features])\n",
    "plt.xticks(range(topk), df.columns[top_features], rotation=90)\n",
    "# scale down y-axis\n",
    "plt.ylim(feature_importance.min(), feature_importance.max())\n",
    "plt.show()"
   ]
  },
  {
   "cell_type": "markdown",
   "metadata": {},
   "source": [
    "Many features seems to be as important as the others. This tells us that the model is not overfitting and that the features are all relevant."
   ]
  },
  {
   "cell_type": "markdown",
   "metadata": {},
   "source": [
    "#### Adversarial attacks"
   ]
  },
  {
   "cell_type": "markdown",
   "metadata": {},
   "source": [
    "Let's try to look at the robustness of our model against adversarial attacks"
   ]
  },
  {
   "cell_type": "markdown",
   "metadata": {},
   "source": [
    "As our model is a DNN (deep neural network) trained with gradient descent, we will use an evasion attack called FastGradientMethod to generate the adversarial samples from both the training and the test set. It works as follow: \n",
    "\n",
    "The Fast Gradient Sign Method (FGSM) is a technique for crafting adversarial examples to fool machine learning models:\n",
    "\n",
    "* Start with a legitimate input.\n",
    "* Compute the gradient of the loss.\n",
    "* Take the sign of the gradient.\n",
    "* Multiply by a small constant ε for perturbation.\n",
    "* Add this perturbation to the input.\n",
    "* The modified input often fools the model into making incorrect predictions.\n",
    "FGSM is efficient and widely used but has led to research in defense mechanisms against such attacks."
   ]
  },
  {
   "cell_type": "code",
   "execution_count": 69,
   "metadata": {},
   "outputs": [],
   "source": [
    "from art.attacks.evasion import FastGradientMethod\n",
    "from art.estimators.classification import TensorFlowV2Classifier\n",
    "from copy import deepcopy\n",
    "# let's duplicate the model\n",
    "model_copy = deepcopy(model)\n",
    "loss = tf.keras.losses.SparseCategoricalCrossentropy()\n",
    "optimizer = tf.keras.optimizers.Adam()\n",
    "\n",
    "classifier = TensorFlowV2Classifier(model=model_copy, nb_classes=5, input_shape=(X_train.shape[0],), loss_object=loss, optimizer=optimizer, clip_values=(X_train.min(), X_train.max()))\n",
    "\n",
    "# no need to fit the model again as we have a copy of the original model already fitted\n",
    "#classifier.fit(X_train, y_train, epochs=40, batch_size=256)"
   ]
  },
  {
   "cell_type": "code",
   "execution_count": 70,
   "metadata": {},
   "outputs": [
    {
     "name": "stdout",
     "output_type": "stream",
     "text": [
      "Accuracy on benign test examples: 97.77173913043478%\n"
     ]
    }
   ],
   "source": [
    "# let's verify we still have the same accuracy\n",
    "predictions = classifier.predict(X_test)\n",
    "accuracy = np.sum(np.argmax(predictions, axis=1) == y_test) / len(y_test)\n",
    "print(\"Accuracy on benign test examples: {}%\".format(accuracy * 100))"
   ]
  },
  {
   "cell_type": "code",
   "execution_count": 71,
   "metadata": {},
   "outputs": [],
   "source": [
    "# Generate adversarial test examples by using Fast Gradient Method\n",
    "attack = FastGradientMethod(estimator=classifier, eps=0.2)\n",
    "x_test_adv = attack.generate(x=X_test)"
   ]
  },
  {
   "cell_type": "code",
   "execution_count": 72,
   "metadata": {},
   "outputs": [
    {
     "name": "stdout",
     "output_type": "stream",
     "text": [
      "Accuracy on adversarial test examples: 48.69565217391305%\n"
     ]
    }
   ],
   "source": [
    "predictions = classifier.predict(x_test_adv)\n",
    "accuracy = np.sum(np.argmax(predictions, axis=1) == y_test) / len(y_test)\n",
    "print(\"Accuracy on adversarial test examples: {}%\".format(accuracy * 100))"
   ]
  },
  {
   "cell_type": "code",
   "execution_count": 73,
   "metadata": {},
   "outputs": [
    {
     "name": "stdout",
     "output_type": "stream",
     "text": [
      "58/58 [==============================] - 0s 2ms/step - loss: 2.6133 - accuracy: 0.4870\n"
     ]
    },
    {
     "data": {
      "text/plain": [
       "[2.6133041381835938, 0.48695650696754456]"
      ]
     },
     "execution_count": 73,
     "metadata": {},
     "output_type": "execute_result"
    }
   ],
   "source": [
    "model_copy.evaluate(x_test_adv, y_test)"
   ]
  },
  {
   "cell_type": "markdown",
   "metadata": {},
   "source": [
    "We can see that the accuracy dropped from 97% to 49% on the attack exemples.\n",
    "Let's see if we fine tune our base model with the adversarial attacks if we can make it robuster"
   ]
  },
  {
   "cell_type": "code",
   "execution_count": 74,
   "metadata": {},
   "outputs": [
    {
     "data": {
      "text/plain": [
       "(5887, 41)"
      ]
     },
     "execution_count": 74,
     "metadata": {},
     "output_type": "execute_result"
    }
   ],
   "source": [
    "x_train_adv = attack.generate(x=X_train)\n",
    "x_train_adv.shape"
   ]
  },
  {
   "cell_type": "code",
   "execution_count": 75,
   "metadata": {},
   "outputs": [],
   "source": [
    "# let's generate different adversarial examples with different epsilons\n",
    "# this will be useful in the next steps\n",
    "epsilons = [0.01, 0.05, 0.1, 0.15, 0.2, 0.25, 0.3, 0.5, 1]\n",
    "attack_points = {}\n",
    "for e in epsilons:\n",
    "    attack = FastGradientMethod(estimator=classifier, eps=e)\n",
    "    x_adv = attack.generate(x=X_test)\n",
    "    attack_points[e] = x_adv"
   ]
  },
  {
   "cell_type": "code",
   "execution_count": 76,
   "metadata": {},
   "outputs": [
    {
     "name": "stdout",
     "output_type": "stream",
     "text": [
      "Epoch 1/10\n"
     ]
    },
    {
     "name": "stdout",
     "output_type": "stream",
     "text": [
      "23/23 [==============================] - 1s 12ms/step - loss: 1.6219 - accuracy: 0.7201 - val_loss: 0.2673 - val_accuracy: 0.9246\n",
      "Epoch 2/10\n",
      "23/23 [==============================] - 0s 8ms/step - loss: 0.6856 - accuracy: 0.8109 - val_loss: 0.1949 - val_accuracy: 0.9205\n",
      "Epoch 3/10\n",
      "23/23 [==============================] - 0s 8ms/step - loss: 0.4278 - accuracy: 0.8607 - val_loss: 0.1940 - val_accuracy: 0.9178\n",
      "Epoch 4/10\n",
      "23/23 [==============================] - 0s 8ms/step - loss: 0.3192 - accuracy: 0.8879 - val_loss: 0.1741 - val_accuracy: 0.9164\n",
      "Epoch 5/10\n",
      "23/23 [==============================] - 0s 8ms/step - loss: 0.2567 - accuracy: 0.9052 - val_loss: 0.1709 - val_accuracy: 0.9198\n",
      "Epoch 6/10\n",
      "23/23 [==============================] - 0s 8ms/step - loss: 0.2154 - accuracy: 0.9205 - val_loss: 0.1678 - val_accuracy: 0.9212\n",
      "Epoch 7/10\n",
      "23/23 [==============================] - 0s 8ms/step - loss: 0.1850 - accuracy: 0.9319 - val_loss: 0.1655 - val_accuracy: 0.9205\n",
      "Epoch 8/10\n",
      "23/23 [==============================] - 0s 8ms/step - loss: 0.1624 - accuracy: 0.9428 - val_loss: 0.1627 - val_accuracy: 0.9198\n",
      "Epoch 9/10\n",
      "23/23 [==============================] - 0s 8ms/step - loss: 0.1446 - accuracy: 0.9497 - val_loss: 0.1615 - val_accuracy: 0.9226\n",
      "Epoch 10/10\n",
      "23/23 [==============================] - 0s 11ms/step - loss: 0.1299 - accuracy: 0.9587 - val_loss: 0.1605 - val_accuracy: 0.9212\n"
     ]
    }
   ],
   "source": [
    "history_fine_tune = model_copy.fit(x_train_adv, y_train, epochs=10, batch_size=256, validation_data=(X_val, y_val))"
   ]
  },
  {
   "cell_type": "code",
   "execution_count": 77,
   "metadata": {},
   "outputs": [
    {
     "data": {
      "image/png": "[encoded data removed]",
      "text/plain": [
       "<Figure size 640x480 with 1 Axes>"
      ]
     },
     "metadata": {},
     "output_type": "display_data"
    }
   ],
   "source": [
    "plt.plot(history_fine_tune.history['accuracy'], label='train')\n",
    "plt.plot(history_fine_tune.history['val_accuracy'], label='val')\n",
    "plt.legend()\n",
    "plt.show()"
   ]
  },
  {
   "cell_type": "code",
   "execution_count": 78,
   "metadata": {},
   "outputs": [
    {
     "name": "stdout",
     "output_type": "stream",
     "text": [
      "58/58 [==============================] - 0s 4ms/step - loss: 0.1506 - accuracy: 0.9315\n"
     ]
    },
    {
     "data": {
      "text/plain": [
       "[0.1505502313375473, 0.9315217137336731]"
      ]
     },
     "execution_count": 78,
     "metadata": {},
     "output_type": "execute_result"
    }
   ],
   "source": [
    "model_copy.evaluate(X_test, y_test)"
   ]
  },
  {
   "cell_type": "code",
   "execution_count": 79,
   "metadata": {},
   "outputs": [
    {
     "name": "stdout",
     "output_type": "stream",
     "text": [
      " 1/58 [..............................] - ETA: 1s - loss: 0.1315 - accuracy: 0.9062"
     ]
    },
    {
     "name": "stdout",
     "output_type": "stream",
     "text": [
      "58/58 [==============================] - 0s 2ms/step - loss: 0.1558 - accuracy: 0.9500\n"
     ]
    },
    {
     "data": {
      "text/plain": [
       "[0.15580178797245026, 0.949999988079071]"
      ]
     },
     "execution_count": 79,
     "metadata": {},
     "output_type": "execute_result"
    }
   ],
   "source": [
    "model_copy.evaluate(x_test_adv, y_test)"
   ]
  },
  {
   "cell_type": "markdown",
   "metadata": {},
   "source": [
    "We 've lost 2% on the accuracy on normal exemple but we improved from 0.47 to 0.94 on adversarial sample which means that our model is way more robust now."
   ]
  },
  {
   "cell_type": "markdown",
   "metadata": {},
   "source": [
    "Let's see the robustness as a function of the perturbation"
   ]
  },
  {
   "cell_type": "code",
   "execution_count": 81,
   "metadata": {},
   "outputs": [
    {
     "data": {
      "image/png": "[encoded data removed]",
      "text/plain": [
       "<Figure size 1000x600 with 1 Axes>"
      ]
     },
     "metadata": {},
     "output_type": "display_data"
    }
   ],
   "source": [
    "accuracies = []\n",
    "for pts in attack_points.values():\n",
    "    scores = model_copy.evaluate(pts, y_test, verbose=0)\n",
    "    accuracies.append(scores[1])\n",
    "\n",
    "plt.figure(figsize=(10, 6))\n",
    "plt.plot(attack_points.keys(), accuracies, \"*-\")\n",
    "plt.xlabel(\"Epsilon\")\n",
    "plt.ylabel(\"Robust Accuracy\")\n",
    "plt.show()"
   ]
  },
  {
   "cell_type": "markdown",
   "metadata": {},
   "source": [
    "We can see that after the fine tuning the model is pretty robust with a slighty increase until 0.2 before falling down. It's logical since the model has been fine tuned with adversarial exemple that were generated using a value of 0.2 for the epsilon."
   ]
  },
  {
   "cell_type": "markdown",
   "metadata": {},
   "source": [
    "### b. LSTM\n",
    "\n",
    "#### Binary classification"
   ]
  },
  {
   "cell_type": "code",
   "execution_count": null,
   "metadata": {},
   "outputs": [],
   "source": [
    "X_train, X_test, y_train, y_test = train_test_split(df_physical_prepared, df_physical_labels[[\"new_labels\", \"label_n\"]], test_size=0.2, random_state=random_state)\n",
    "X_train, X_val, y_train, y_val = train_test_split(X_train, y_train, test_size=0.2, random_state=random_state)"
   ]
  },
  {
   "cell_type": "code",
   "execution_count": null,
   "metadata": {},
   "outputs": [
    {
     "name": "stderr",
     "output_type": "stream",
     "text": [
      "/Users/theoripoll/.pyenv/versions/3.11.2/envs/env_MLSECU_PROJECT/lib/python3.11/site-packages/sklearn/utils/validation.py:757: FutureWarning: is_sparse is deprecated and will be removed in a future version. Check `isinstance(dtype, pd.SparseDtype)` instead.\n",
      "  if not hasattr(array, \"sparse\") and array.dtypes.apply(is_sparse).any():\n",
      "/Users/theoripoll/.pyenv/versions/3.11.2/envs/env_MLSECU_PROJECT/lib/python3.11/site-packages/sklearn/utils/validation.py:595: FutureWarning: is_sparse is deprecated and will be removed in a future version. Check `isinstance(dtype, pd.SparseDtype)` instead.\n",
      "  if is_sparse(pd_dtype):\n",
      "/Users/theoripoll/.pyenv/versions/3.11.2/envs/env_MLSECU_PROJECT/lib/python3.11/site-packages/sklearn/utils/validation.py:604: FutureWarning: is_sparse is deprecated and will be removed in a future version. Check `isinstance(dtype, pd.SparseDtype)` instead.\n",
      "  if is_sparse(pd_dtype) or not is_extension_array_dtype(pd_dtype):\n",
      "/Users/theoripoll/.pyenv/versions/3.11.2/envs/env_MLSECU_PROJECT/lib/python3.11/site-packages/sklearn/utils/validation.py:757: FutureWarning: is_sparse is deprecated and will be removed in a future version. Check `isinstance(dtype, pd.SparseDtype)` instead.\n",
      "  if not hasattr(array, \"sparse\") and array.dtypes.apply(is_sparse).any():\n",
      "/Users/theoripoll/.pyenv/versions/3.11.2/envs/env_MLSECU_PROJECT/lib/python3.11/site-packages/sklearn/utils/validation.py:595: FutureWarning: is_sparse is deprecated and will be removed in a future version. Check `isinstance(dtype, pd.SparseDtype)` instead.\n",
      "  if is_sparse(pd_dtype):\n",
      "/Users/theoripoll/.pyenv/versions/3.11.2/envs/env_MLSECU_PROJECT/lib/python3.11/site-packages/sklearn/utils/validation.py:604: FutureWarning: is_sparse is deprecated and will be removed in a future version. Check `isinstance(dtype, pd.SparseDtype)` instead.\n",
      "  if is_sparse(pd_dtype) or not is_extension_array_dtype(pd_dtype):\n",
      "/Users/theoripoll/.pyenv/versions/3.11.2/envs/env_MLSECU_PROJECT/lib/python3.11/site-packages/sklearn/utils/validation.py:757: FutureWarning: is_sparse is deprecated and will be removed in a future version. Check `isinstance(dtype, pd.SparseDtype)` instead.\n",
      "  if not hasattr(array, \"sparse\") and array.dtypes.apply(is_sparse).any():\n",
      "/Users/theoripoll/.pyenv/versions/3.11.2/envs/env_MLSECU_PROJECT/lib/python3.11/site-packages/sklearn/utils/validation.py:595: FutureWarning: is_sparse is deprecated and will be removed in a future version. Check `isinstance(dtype, pd.SparseDtype)` instead.\n",
      "  if is_sparse(pd_dtype):\n",
      "/Users/theoripoll/.pyenv/versions/3.11.2/envs/env_MLSECU_PROJECT/lib/python3.11/site-packages/sklearn/utils/validation.py:604: FutureWarning: is_sparse is deprecated and will be removed in a future version. Check `isinstance(dtype, pd.SparseDtype)` instead.\n",
      "  if is_sparse(pd_dtype) or not is_extension_array_dtype(pd_dtype):\n",
      "/Users/theoripoll/.pyenv/versions/3.11.2/envs/env_MLSECU_PROJECT/lib/python3.11/site-packages/sklearn/utils/validation.py:757: FutureWarning: is_sparse is deprecated and will be removed in a future version. Check `isinstance(dtype, pd.SparseDtype)` instead.\n",
      "  if not hasattr(array, \"sparse\") and array.dtypes.apply(is_sparse).any():\n",
      "/Users/theoripoll/.pyenv/versions/3.11.2/envs/env_MLSECU_PROJECT/lib/python3.11/site-packages/sklearn/utils/validation.py:595: FutureWarning: is_sparse is deprecated and will be removed in a future version. Check `isinstance(dtype, pd.SparseDtype)` instead.\n",
      "  if is_sparse(pd_dtype):\n",
      "/Users/theoripoll/.pyenv/versions/3.11.2/envs/env_MLSECU_PROJECT/lib/python3.11/site-packages/sklearn/utils/validation.py:604: FutureWarning: is_sparse is deprecated and will be removed in a future version. Check `isinstance(dtype, pd.SparseDtype)` instead.\n",
      "  if is_sparse(pd_dtype) or not is_extension_array_dtype(pd_dtype):\n"
     ]
    }
   ],
   "source": [
    "scaler = StandardScaler()\n",
    "X_train_scaled = scaler.fit_transform(X_train)\n",
    "X_test_scaled = scaler.transform(X_test)\n",
    "X_val_scaled = scaler.transform(X_val)"
   ]
  },
  {
   "cell_type": "markdown",
   "metadata": {},
   "source": [
    "Let's create a PyTorch dataset"
   ]
  },
  {
   "cell_type": "code",
   "execution_count": null,
   "metadata": {},
   "outputs": [],
   "source": [
    "class HITLDataset(torch.utils.data.Dataset):\n",
    "    def __init__(self, X, y):\n",
    "        self.X = torch.tensor(X).float()\n",
    "        self.y = torch.tensor(y).long()\n",
    "\n",
    "    def __len__(self):\n",
    "        return len(self.X)\n",
    "\n",
    "    def __getitem__(self, idx):\n",
    "        return self.X[idx], self.y[idx]\n",
    "\n",
    "\n",
    "train_dataset = HITLDataset(X_train_scaled, y_train[\"label_n\"].to_numpy())\n",
    "test_dataset = HITLDataset(X_test_scaled, y_test[\"label_n\"].to_numpy())\n",
    "val_dataset = HITLDataset(X_val_scaled, y_val[\"label_n\"].to_numpy())\n",
    "\n",
    "# Create pytorch dataloader\n",
    "train_loader = torch.utils.data.DataLoader(train_dataset, batch_size=32, shuffle=True)\n",
    "test_loader = torch.utils.data.DataLoader(test_dataset, batch_size=32, shuffle=False)\n",
    "val_loader = torch.utils.data.DataLoader(val_dataset, batch_size=32, shuffle=True)"
   ]
  },
  {
   "cell_type": "code",
   "execution_count": null,
   "metadata": {},
   "outputs": [
    {
     "data": {
      "text/plain": [
       "LSTM(\n",
       "  (lstm): LSTM(41, 32, batch_first=True)\n",
       "  (fc): Linear(in_features=32, out_features=2, bias=True)\n",
       ")"
      ]
     },
     "execution_count": 36,
     "metadata": {},
     "output_type": "execute_result"
    }
   ],
   "source": [
    "class LSTM(nn.Module):\n",
    "    def __init__(self, input_dim, hidden_dim, output_dim):\n",
    "        super().__init__()\n",
    "        self.hidden_dim = hidden_dim\n",
    "        self.lstm = nn.LSTM(input_dim, hidden_dim, batch_first=True)\n",
    "        self.fc = nn.Linear(hidden_dim, output_dim)\n",
    "\n",
    "    def forward(self, x):\n",
    "        out, _ = self.lstm(x)\n",
    "        out = self.fc(out)\n",
    "        return out\n",
    "    \n",
    "input_dim = X_train_scaled.shape[1]\n",
    "output_dim = len(y_train[\"label_n\"].unique())\n",
    "hidden_dim = 32\n",
    "model = LSTM(input_dim, hidden_dim, output_dim)\n",
    "model"
   ]
  },
  {
   "cell_type": "code",
   "execution_count": null,
   "metadata": {},
   "outputs": [],
   "source": [
    "criterion = nn.CrossEntropyLoss()\n",
    "optimizer = torch.optim.Adam(model.parameters(), lr=0.001)"
   ]
  },
  {
   "cell_type": "code",
   "execution_count": null,
   "metadata": {},
   "outputs": [],
   "source": [
    "from tqdm import tqdm\n",
    "\n",
    "def train(model, train_loader, val_loader, criterion, optimizer):\n",
    "    model.train()\n",
    "    train_loss = 0\n",
    "    train_acc = 0\n",
    "    val_loss = 0\n",
    "    val_acc = 0\n",
    "    for X, y in tqdm(train_loader, total=len(train_loader)):\n",
    "        optimizer.zero_grad()\n",
    "        y_pred = model(X)\n",
    "        loss = criterion(y_pred, y)\n",
    "        loss.backward()\n",
    "        optimizer.step()\n",
    "        train_loss += loss.item()\n",
    "        train_acc += (y_pred.argmax(1) == y).sum().item()\n",
    "\n",
    "    model.eval()\n",
    "    with torch.no_grad():\n",
    "        for X, y in tqdm(val_loader, total=len(val_loader)):\n",
    "            y_pred = model(X)\n",
    "            loss = criterion(y_pred, y)\n",
    "            val_loss += loss.item()\n",
    "            val_acc += (y_pred.argmax(1) == y).sum().item()\n",
    "    return train_loss / len(train_loader), train_acc / len(train_loader.dataset), val_loss / len(val_loader), val_acc / len(val_loader.dataset)\n",
    "\n",
    "def test(model, test_loader, criterion):\n",
    "    model.eval()\n",
    "    test_loss = 0\n",
    "    test_acc = 0\n",
    "    y_pred_list = []\n",
    "    y_true_list = []\n",
    "    with torch.no_grad():\n",
    "        for X, y in test_loader:\n",
    "            y_pred = model(X)\n",
    "            loss = criterion(y_pred, y)\n",
    "            test_loss += loss.item()\n",
    "            test_acc += (y_pred.argmax(1) == y).sum().item()\n",
    "            y_pred_list.append(y_pred.argmax(1).cpu().numpy())\n",
    "            y_true_list.append(y.cpu().numpy())\n",
    "    return test_loss / len(test_loader), test_acc / len(test_loader.dataset)"
   ]
  },
  {
   "cell_type": "code",
   "execution_count": null,
   "metadata": {},
   "outputs": [
    {
     "name": "stderr",
     "output_type": "stream",
     "text": [
      "  0%|          | 0/185 [00:00<?, ?it/s]"
     ]
    },
    {
     "name": "stderr",
     "output_type": "stream",
     "text": [
      "100%|██████████| 185/185 [00:00<00:00, 248.16it/s]\n",
      "100%|██████████| 47/47 [00:00<00:00, 1347.40it/s]\n"
     ]
    },
    {
     "name": "stdout",
     "output_type": "stream",
     "text": [
      "Train loss: 0.4559, Train acc: 0.8374, Val loss: 0.4211, Val acc: 0.8384\n"
     ]
    },
    {
     "name": "stderr",
     "output_type": "stream",
     "text": [
      "100%|██████████| 185/185 [00:00<00:00, 541.95it/s]\n",
      "100%|██████████| 47/47 [00:00<00:00, 1611.57it/s]\n"
     ]
    },
    {
     "name": "stdout",
     "output_type": "stream",
     "text": [
      "Train loss: 0.3887, Train acc: 0.8477, Val loss: 0.3724, Val acc: 0.8398\n"
     ]
    },
    {
     "name": "stderr",
     "output_type": "stream",
     "text": [
      "100%|██████████| 185/185 [00:00<00:00, 504.47it/s]\n",
      "100%|██████████| 47/47 [00:00<00:00, 1720.12it/s]\n"
     ]
    },
    {
     "name": "stdout",
     "output_type": "stream",
     "text": [
      "Train loss: 0.3428, Train acc: 0.8632, Val loss: 0.3267, Val acc: 0.8690\n"
     ]
    },
    {
     "name": "stderr",
     "output_type": "stream",
     "text": [
      "100%|██████████| 185/185 [00:00<00:00, 596.07it/s]\n",
      "100%|██████████| 47/47 [00:00<00:00, 1669.03it/s]\n"
     ]
    },
    {
     "name": "stdout",
     "output_type": "stream",
     "text": [
      "Train loss: 0.3002, Train acc: 0.8825, Val loss: 0.2892, Val acc: 0.8832\n"
     ]
    },
    {
     "name": "stderr",
     "output_type": "stream",
     "text": [
      "100%|██████████| 185/185 [00:00<00:00, 577.56it/s]\n",
      "100%|██████████| 47/47 [00:00<00:00, 1796.72it/s]\n"
     ]
    },
    {
     "name": "stdout",
     "output_type": "stream",
     "text": [
      "Train loss: 0.2738, Train acc: 0.8878, Val loss: 0.2655, Val acc: 0.8893\n"
     ]
    },
    {
     "name": "stderr",
     "output_type": "stream",
     "text": [
      "100%|██████████| 185/185 [00:00<00:00, 472.49it/s]\n",
      "100%|██████████| 47/47 [00:00<00:00, 1721.05it/s]\n"
     ]
    },
    {
     "name": "stdout",
     "output_type": "stream",
     "text": [
      "Train loss: 0.2500, Train acc: 0.8968, Val loss: 0.2433, Val acc: 0.8975\n"
     ]
    },
    {
     "name": "stderr",
     "output_type": "stream",
     "text": [
      "100%|██████████| 185/185 [00:00<00:00, 604.28it/s]\n",
      "100%|██████████| 47/47 [00:00<00:00, 1831.88it/s]\n"
     ]
    },
    {
     "name": "stdout",
     "output_type": "stream",
     "text": [
      "Train loss: 0.2291, Train acc: 0.9041, Val loss: 0.2199, Val acc: 0.9158\n"
     ]
    },
    {
     "name": "stderr",
     "output_type": "stream",
     "text": [
      "100%|██████████| 185/185 [00:00<00:00, 607.59it/s]\n",
      "100%|██████████| 47/47 [00:00<00:00, 1031.29it/s]\n"
     ]
    },
    {
     "name": "stdout",
     "output_type": "stream",
     "text": [
      "Train loss: 0.2143, Train acc: 0.9107, Val loss: 0.2107, Val acc: 0.9131\n"
     ]
    },
    {
     "name": "stderr",
     "output_type": "stream",
     "text": [
      "100%|██████████| 185/185 [00:00<00:00, 467.06it/s]\n",
      "100%|██████████| 47/47 [00:00<00:00, 1663.18it/s]\n"
     ]
    },
    {
     "name": "stdout",
     "output_type": "stream",
     "text": [
      "Train loss: 0.2012, Train acc: 0.9161, Val loss: 0.2089, Val acc: 0.9246\n"
     ]
    },
    {
     "name": "stderr",
     "output_type": "stream",
     "text": [
      "100%|██████████| 185/185 [00:00<00:00, 564.32it/s]\n",
      "100%|██████████| 47/47 [00:00<00:00, 1623.77it/s]\n"
     ]
    },
    {
     "name": "stdout",
     "output_type": "stream",
     "text": [
      "Train loss: 0.1911, Train acc: 0.9219, Val loss: 0.1811, Val acc: 0.9206\n"
     ]
    },
    {
     "name": "stderr",
     "output_type": "stream",
     "text": [
      "100%|██████████| 185/185 [00:00<00:00, 594.27it/s]\n",
      "100%|██████████| 47/47 [00:00<00:00, 1851.70it/s]\n"
     ]
    },
    {
     "name": "stdout",
     "output_type": "stream",
     "text": [
      "Train loss: 0.1812, Train acc: 0.9275, Val loss: 0.1770, Val acc: 0.9233\n"
     ]
    },
    {
     "name": "stderr",
     "output_type": "stream",
     "text": [
      "100%|██████████| 185/185 [00:00<00:00, 574.57it/s]\n",
      "100%|██████████| 47/47 [00:00<00:00, 1744.36it/s]\n"
     ]
    },
    {
     "name": "stdout",
     "output_type": "stream",
     "text": [
      "Train loss: 0.1709, Train acc: 0.9299, Val loss: 0.1658, Val acc: 0.9382\n"
     ]
    },
    {
     "name": "stderr",
     "output_type": "stream",
     "text": [
      "100%|██████████| 185/185 [00:00<00:00, 597.00it/s]\n",
      "100%|██████████| 47/47 [00:00<00:00, 1839.38it/s]\n"
     ]
    },
    {
     "name": "stdout",
     "output_type": "stream",
     "text": [
      "Train loss: 0.1655, Train acc: 0.9321, Val loss: 0.1618, Val acc: 0.9335\n"
     ]
    },
    {
     "name": "stderr",
     "output_type": "stream",
     "text": [
      "100%|██████████| 185/185 [00:00<00:00, 481.53it/s]\n",
      "100%|██████████| 47/47 [00:00<00:00, 1306.10it/s]\n"
     ]
    },
    {
     "name": "stdout",
     "output_type": "stream",
     "text": [
      "Train loss: 0.1593, Train acc: 0.9369, Val loss: 0.1587, Val acc: 0.9314\n"
     ]
    },
    {
     "name": "stderr",
     "output_type": "stream",
     "text": [
      "100%|██████████| 185/185 [00:00<00:00, 579.93it/s]\n",
      "100%|██████████| 47/47 [00:00<00:00, 1658.13it/s]\n"
     ]
    },
    {
     "name": "stdout",
     "output_type": "stream",
     "text": [
      "Train loss: 0.1539, Train acc: 0.9360, Val loss: 0.1492, Val acc: 0.9355\n"
     ]
    },
    {
     "name": "stderr",
     "output_type": "stream",
     "text": [
      "100%|██████████| 185/185 [00:00<00:00, 579.07it/s]\n",
      "100%|██████████| 47/47 [00:00<00:00, 1243.26it/s]\n"
     ]
    },
    {
     "name": "stdout",
     "output_type": "stream",
     "text": [
      "Train loss: 0.1486, Train acc: 0.9382, Val loss: 0.1475, Val acc: 0.9437\n"
     ]
    },
    {
     "name": "stderr",
     "output_type": "stream",
     "text": [
      "100%|██████████| 185/185 [00:00<00:00, 516.34it/s]\n",
      "100%|██████████| 47/47 [00:00<00:00, 1486.56it/s]\n"
     ]
    },
    {
     "name": "stdout",
     "output_type": "stream",
     "text": [
      "Train loss: 0.1412, Train acc: 0.9425, Val loss: 0.1520, Val acc: 0.9382\n"
     ]
    },
    {
     "name": "stderr",
     "output_type": "stream",
     "text": [
      "100%|██████████| 185/185 [00:00<00:00, 553.09it/s]\n",
      "100%|██████████| 47/47 [00:00<00:00, 1697.56it/s]\n"
     ]
    },
    {
     "name": "stdout",
     "output_type": "stream",
     "text": [
      "Train loss: 0.1383, Train acc: 0.9421, Val loss: 0.1388, Val acc: 0.9437\n"
     ]
    },
    {
     "name": "stderr",
     "output_type": "stream",
     "text": [
      "100%|██████████| 185/185 [00:00<00:00, 561.52it/s]\n",
      "100%|██████████| 47/47 [00:00<00:00, 1539.99it/s]\n"
     ]
    },
    {
     "name": "stdout",
     "output_type": "stream",
     "text": [
      "Train loss: 0.1348, Train acc: 0.9477, Val loss: 0.1369, Val acc: 0.9382\n"
     ]
    },
    {
     "name": "stderr",
     "output_type": "stream",
     "text": [
      "100%|██████████| 185/185 [00:00<00:00, 590.23it/s]\n",
      "100%|██████████| 47/47 [00:00<00:00, 1421.57it/s]\n"
     ]
    },
    {
     "name": "stdout",
     "output_type": "stream",
     "text": [
      "Train loss: 0.1314, Train acc: 0.9477, Val loss: 0.1362, Val acc: 0.9457\n"
     ]
    },
    {
     "name": "stderr",
     "output_type": "stream",
     "text": [
      "100%|██████████| 185/185 [00:00<00:00, 541.23it/s]\n",
      "100%|██████████| 47/47 [00:00<00:00, 1631.03it/s]\n"
     ]
    },
    {
     "name": "stdout",
     "output_type": "stream",
     "text": [
      "Train loss: 0.1279, Train acc: 0.9489, Val loss: 0.1290, Val acc: 0.9477\n"
     ]
    },
    {
     "name": "stderr",
     "output_type": "stream",
     "text": [
      "100%|██████████| 185/185 [00:00<00:00, 516.14it/s]\n",
      "100%|██████████| 47/47 [00:00<00:00, 1791.92it/s]\n"
     ]
    },
    {
     "name": "stdout",
     "output_type": "stream",
     "text": [
      "Train loss: 0.1251, Train acc: 0.9506, Val loss: 0.1315, Val acc: 0.9484\n"
     ]
    },
    {
     "name": "stderr",
     "output_type": "stream",
     "text": [
      "100%|██████████| 185/185 [00:00<00:00, 381.88it/s]\n",
      "100%|██████████| 47/47 [00:00<00:00, 1279.51it/s]\n"
     ]
    },
    {
     "name": "stdout",
     "output_type": "stream",
     "text": [
      "Train loss: 0.1251, Train acc: 0.9492, Val loss: 0.1260, Val acc: 0.9457\n"
     ]
    },
    {
     "name": "stderr",
     "output_type": "stream",
     "text": [
      "100%|██████████| 185/185 [00:00<00:00, 535.16it/s]\n",
      "100%|██████████| 47/47 [00:00<00:00, 1750.78it/s]\n"
     ]
    },
    {
     "name": "stdout",
     "output_type": "stream",
     "text": [
      "Train loss: 0.1201, Train acc: 0.9521, Val loss: 0.1219, Val acc: 0.9484\n"
     ]
    },
    {
     "name": "stderr",
     "output_type": "stream",
     "text": [
      "100%|██████████| 185/185 [00:00<00:00, 476.79it/s]\n",
      "100%|██████████| 47/47 [00:00<00:00, 1412.39it/s]\n"
     ]
    },
    {
     "name": "stdout",
     "output_type": "stream",
     "text": [
      "Train loss: 0.1169, Train acc: 0.9569, Val loss: 0.1205, Val acc: 0.9552\n"
     ]
    },
    {
     "name": "stderr",
     "output_type": "stream",
     "text": [
      "100%|██████████| 185/185 [00:00<00:00, 441.26it/s]\n",
      "100%|██████████| 47/47 [00:00<00:00, 1609.97it/s]\n"
     ]
    },
    {
     "name": "stdout",
     "output_type": "stream",
     "text": [
      "Train loss: 0.1182, Train acc: 0.9538, Val loss: 0.1527, Val acc: 0.9532\n"
     ]
    },
    {
     "name": "stderr",
     "output_type": "stream",
     "text": [
      "100%|██████████| 185/185 [00:00<00:00, 587.09it/s]\n",
      "100%|██████████| 47/47 [00:00<00:00, 1625.61it/s]\n"
     ]
    },
    {
     "name": "stdout",
     "output_type": "stream",
     "text": [
      "Train loss: 0.1130, Train acc: 0.9552, Val loss: 0.1181, Val acc: 0.9525\n"
     ]
    },
    {
     "name": "stderr",
     "output_type": "stream",
     "text": [
      "100%|██████████| 185/185 [00:00<00:00, 566.95it/s]\n",
      "100%|██████████| 47/47 [00:00<00:00, 1594.79it/s]\n"
     ]
    },
    {
     "name": "stdout",
     "output_type": "stream",
     "text": [
      "Train loss: 0.1106, Train acc: 0.9581, Val loss: 0.1162, Val acc: 0.9532\n"
     ]
    },
    {
     "name": "stderr",
     "output_type": "stream",
     "text": [
      "100%|██████████| 185/185 [00:00<00:00, 546.64it/s]\n",
      "100%|██████████| 47/47 [00:00<00:00, 1625.62it/s]\n"
     ]
    },
    {
     "name": "stdout",
     "output_type": "stream",
     "text": [
      "Train loss: 0.1075, Train acc: 0.9588, Val loss: 0.1151, Val acc: 0.9525\n"
     ]
    },
    {
     "name": "stderr",
     "output_type": "stream",
     "text": [
      "100%|██████████| 185/185 [00:00<00:00, 512.24it/s]\n",
      "100%|██████████| 47/47 [00:00<00:00, 1390.54it/s]\n"
     ]
    },
    {
     "name": "stdout",
     "output_type": "stream",
     "text": [
      "Train loss: 0.1049, Train acc: 0.9596, Val loss: 0.1145, Val acc: 0.9559\n"
     ]
    },
    {
     "name": "stderr",
     "output_type": "stream",
     "text": [
      "100%|██████████| 185/185 [00:00<00:00, 508.42it/s]\n",
      "100%|██████████| 47/47 [00:00<00:00, 1533.48it/s]\n"
     ]
    },
    {
     "name": "stdout",
     "output_type": "stream",
     "text": [
      "Train loss: 0.1038, Train acc: 0.9591, Val loss: 0.1120, Val acc: 0.9552\n"
     ]
    },
    {
     "name": "stderr",
     "output_type": "stream",
     "text": [
      "100%|██████████| 185/185 [00:00<00:00, 447.40it/s]\n",
      "100%|██████████| 47/47 [00:00<00:00, 1607.45it/s]\n"
     ]
    },
    {
     "name": "stdout",
     "output_type": "stream",
     "text": [
      "Train loss: 0.1019, Train acc: 0.9606, Val loss: 0.1204, Val acc: 0.9545\n"
     ]
    },
    {
     "name": "stderr",
     "output_type": "stream",
     "text": [
      "100%|██████████| 185/185 [00:00<00:00, 561.82it/s]\n",
      "100%|██████████| 47/47 [00:00<00:00, 1620.74it/s]\n"
     ]
    },
    {
     "name": "stdout",
     "output_type": "stream",
     "text": [
      "Train loss: 0.1027, Train acc: 0.9598, Val loss: 0.1097, Val acc: 0.9511\n"
     ]
    },
    {
     "name": "stderr",
     "output_type": "stream",
     "text": [
      "100%|██████████| 185/185 [00:00<00:00, 555.62it/s]\n",
      "100%|██████████| 47/47 [00:00<00:00, 1547.93it/s]\n"
     ]
    },
    {
     "name": "stdout",
     "output_type": "stream",
     "text": [
      "Train loss: 0.0986, Train acc: 0.9623, Val loss: 0.1091, Val acc: 0.9559\n"
     ]
    },
    {
     "name": "stderr",
     "output_type": "stream",
     "text": [
      "100%|██████████| 185/185 [00:00<00:00, 525.72it/s]\n",
      "100%|██████████| 47/47 [00:00<00:00, 1448.61it/s]\n"
     ]
    },
    {
     "name": "stdout",
     "output_type": "stream",
     "text": [
      "Train loss: 0.0974, Train acc: 0.9620, Val loss: 0.1116, Val acc: 0.9538\n"
     ]
    },
    {
     "name": "stderr",
     "output_type": "stream",
     "text": [
      "100%|██████████| 185/185 [00:00<00:00, 529.26it/s]\n",
      "100%|██████████| 47/47 [00:00<00:00, 1417.85it/s]\n"
     ]
    },
    {
     "name": "stdout",
     "output_type": "stream",
     "text": [
      "Train loss: 0.0953, Train acc: 0.9635, Val loss: 0.1101, Val acc: 0.9538\n"
     ]
    },
    {
     "name": "stderr",
     "output_type": "stream",
     "text": [
      "100%|██████████| 185/185 [00:00<00:00, 552.57it/s]\n",
      "100%|██████████| 47/47 [00:00<00:00, 1752.49it/s]\n"
     ]
    },
    {
     "name": "stdout",
     "output_type": "stream",
     "text": [
      "Train loss: 0.0964, Train acc: 0.9654, Val loss: 0.1035, Val acc: 0.9654\n"
     ]
    },
    {
     "name": "stderr",
     "output_type": "stream",
     "text": [
      "100%|██████████| 185/185 [00:00<00:00, 606.00it/s]\n",
      "100%|██████████| 47/47 [00:00<00:00, 1330.29it/s]\n"
     ]
    },
    {
     "name": "stdout",
     "output_type": "stream",
     "text": [
      "Train loss: 0.0923, Train acc: 0.9659, Val loss: 0.1027, Val acc: 0.9593\n"
     ]
    },
    {
     "name": "stderr",
     "output_type": "stream",
     "text": [
      "100%|██████████| 185/185 [00:00<00:00, 382.97it/s]\n",
      "100%|██████████| 47/47 [00:00<00:00, 1793.42it/s]\n"
     ]
    },
    {
     "name": "stdout",
     "output_type": "stream",
     "text": [
      "Train loss: 0.0913, Train acc: 0.9650, Val loss: 0.1018, Val acc: 0.9579\n"
     ]
    },
    {
     "name": "stderr",
     "output_type": "stream",
     "text": [
      "100%|██████████| 185/185 [00:00<00:00, 575.78it/s]\n",
      "100%|██████████| 47/47 [00:00<00:00, 1733.29it/s]\n"
     ]
    },
    {
     "name": "stdout",
     "output_type": "stream",
     "text": [
      "Train loss: 0.0891, Train acc: 0.9694, Val loss: 0.1029, Val acc: 0.9559\n"
     ]
    },
    {
     "name": "stderr",
     "output_type": "stream",
     "text": [
      "100%|██████████| 185/185 [00:00<00:00, 567.88it/s]\n",
      "100%|██████████| 47/47 [00:00<00:00, 1645.70it/s]\n"
     ]
    },
    {
     "name": "stdout",
     "output_type": "stream",
     "text": [
      "Train loss: 0.0875, Train acc: 0.9674, Val loss: 0.1038, Val acc: 0.9599\n"
     ]
    },
    {
     "name": "stderr",
     "output_type": "stream",
     "text": [
      "100%|██████████| 185/185 [00:00<00:00, 574.54it/s]\n",
      "100%|██████████| 47/47 [00:00<00:00, 1626.41it/s]\n"
     ]
    },
    {
     "name": "stdout",
     "output_type": "stream",
     "text": [
      "Train loss: 0.0886, Train acc: 0.9655, Val loss: 0.1020, Val acc: 0.9566\n"
     ]
    },
    {
     "name": "stderr",
     "output_type": "stream",
     "text": [
      "100%|██████████| 185/185 [00:00<00:00, 558.08it/s]\n",
      "100%|██████████| 47/47 [00:00<00:00, 1773.12it/s]\n"
     ]
    },
    {
     "name": "stdout",
     "output_type": "stream",
     "text": [
      "Train loss: 0.0870, Train acc: 0.9655, Val loss: 0.1007, Val acc: 0.9545\n"
     ]
    },
    {
     "name": "stderr",
     "output_type": "stream",
     "text": [
      "100%|██████████| 185/185 [00:00<00:00, 597.87it/s]\n",
      "100%|██████████| 47/47 [00:00<00:00, 1765.86it/s]\n"
     ]
    },
    {
     "name": "stdout",
     "output_type": "stream",
     "text": [
      "Train loss: 0.0869, Train acc: 0.9676, Val loss: 0.0968, Val acc: 0.9599\n"
     ]
    },
    {
     "name": "stderr",
     "output_type": "stream",
     "text": [
      "100%|██████████| 185/185 [00:00<00:00, 475.05it/s]\n",
      "100%|██████████| 47/47 [00:00<00:00, 1741.57it/s]\n"
     ]
    },
    {
     "name": "stdout",
     "output_type": "stream",
     "text": [
      "Train loss: 0.0834, Train acc: 0.9667, Val loss: 0.0952, Val acc: 0.9654\n"
     ]
    },
    {
     "name": "stderr",
     "output_type": "stream",
     "text": [
      "100%|██████████| 185/185 [00:00<00:00, 450.62it/s]\n",
      "100%|██████████| 47/47 [00:00<00:00, 1579.41it/s]\n"
     ]
    },
    {
     "name": "stdout",
     "output_type": "stream",
     "text": [
      "Train loss: 0.0838, Train acc: 0.9684, Val loss: 0.0928, Val acc: 0.9627\n"
     ]
    },
    {
     "name": "stderr",
     "output_type": "stream",
     "text": [
      "100%|██████████| 185/185 [00:00<00:00, 536.34it/s]\n",
      "100%|██████████| 47/47 [00:00<00:00, 1576.16it/s]\n"
     ]
    },
    {
     "name": "stdout",
     "output_type": "stream",
     "text": [
      "Train loss: 0.0807, Train acc: 0.9713, Val loss: 0.0993, Val acc: 0.9606\n"
     ]
    },
    {
     "name": "stderr",
     "output_type": "stream",
     "text": [
      "100%|██████████| 185/185 [00:00<00:00, 561.86it/s]\n",
      "100%|██████████| 47/47 [00:00<00:00, 1774.24it/s]\n"
     ]
    },
    {
     "name": "stdout",
     "output_type": "stream",
     "text": [
      "Train loss: 0.0804, Train acc: 0.9681, Val loss: 0.0929, Val acc: 0.9613\n"
     ]
    },
    {
     "name": "stderr",
     "output_type": "stream",
     "text": [
      "100%|██████████| 185/185 [00:00<00:00, 488.31it/s]\n",
      "100%|██████████| 47/47 [00:00<00:00, 1591.02it/s]\n"
     ]
    },
    {
     "name": "stdout",
     "output_type": "stream",
     "text": [
      "Train loss: 0.0826, Train acc: 0.9693, Val loss: 0.0960, Val acc: 0.9661\n"
     ]
    },
    {
     "name": "stderr",
     "output_type": "stream",
     "text": [
      "100%|██████████| 185/185 [00:00<00:00, 577.25it/s]\n",
      "100%|██████████| 47/47 [00:00<00:00, 1296.49it/s]\n"
     ]
    },
    {
     "name": "stdout",
     "output_type": "stream",
     "text": [
      "Train loss: 0.0794, Train acc: 0.9691, Val loss: 0.0949, Val acc: 0.9654\n"
     ]
    },
    {
     "data": {
      "image/png": "[encoded data removed]",
      "text/plain": [
       "<Figure size 640x480 with 1 Axes>"
      ]
     },
     "metadata": {},
     "output_type": "display_data"
    }
   ],
   "source": [
    "EPOCHS = 50\n",
    "train_loss_list = []\n",
    "train_acc_list = []\n",
    "val_loss_list = []\n",
    "val_acc_list = []\n",
    "\n",
    "for _ in range(EPOCHS):\n",
    "    train_loss, train_acc, val_loss, val_acc = train(model, train_loader, val_loader, criterion, optimizer)\n",
    "    train_loss_list.append(train_loss)\n",
    "    train_acc_list.append(train_acc)\n",
    "    val_loss_list.append(val_loss)\n",
    "    val_acc_list.append(val_acc)\n",
    "    print(f\"Train loss: {train_loss:.4f}, Train acc: {train_acc:.4f}, Val loss: {val_loss:.4f}, Val acc: {val_acc:.4f}\")\n",
    "\n",
    "# Plot train loss and accuracy\n",
    "plt.plot(train_acc_list, label=\"train acc\")\n",
    "plt.plot(val_acc_list, label=\"val acc\")\n",
    "plt.legend()\n",
    "plt.show()"
   ]
  },
  {
   "cell_type": "code",
   "execution_count": null,
   "metadata": {},
   "outputs": [
    {
     "name": "stdout",
     "output_type": "stream",
     "text": [
      "Test loss: 0.0881, Test acc: 0.9631\n"
     ]
    }
   ],
   "source": [
    "test_loss, test_acc = test(model, test_loader, criterion)\n",
    "print(f\"Test loss: {test_loss:.4f}, Test acc: {test_acc:.4f}\")"
   ]
  },
  {
   "cell_type": "code",
   "execution_count": null,
   "metadata": {},
   "outputs": [
    {
     "data": {
      "image/png": "[encoded data removed]",
      "text/plain": [
       "<Figure size 600x600 with 2 Axes>"
      ]
     },
     "metadata": {},
     "output_type": "display_data"
    }
   ],
   "source": [
    "# Predict on test set\n",
    "y_pred_list = []\n",
    "y_true_list = []\n",
    "with torch.no_grad():\n",
    "    for X, y in test_loader:\n",
    "        y_pred = model(X)\n",
    "        y_pred_list.append(y_pred.argmax(1).cpu().numpy())\n",
    "        y_true_list.append(y.cpu().numpy())\n",
    "\n",
    "y_pred = np.concatenate(y_pred_list)\n",
    "y_true = np.concatenate(y_true_list)\n",
    "\n",
    "# Plot confusion matrix\n",
    "plot_confusion_matrix(y_true, y_pred, title=\"Confusion matrix for the test set\")"
   ]
  },
  {
   "cell_type": "markdown",
   "metadata": {},
   "source": [
    "The binary class LSTM has a lot of false negatives, just like the DNN, let's see if the multiclass LSTM can do better."
   ]
  },
  {
   "cell_type": "markdown",
   "metadata": {},
   "source": [
    "#### Multiclass classification"
   ]
  },
  {
   "cell_type": "code",
   "execution_count": null,
   "metadata": {},
   "outputs": [],
   "source": [
    "train_dataset = HITLDataset(X_train_scaled, y_train[\"new_labels\"].to_numpy())\n",
    "test_dataset = HITLDataset(X_test_scaled, y_test[\"new_labels\"].to_numpy())\n",
    "val_dataset = HITLDataset(X_val_scaled, y_val[\"new_labels\"].to_numpy())\n",
    "\n",
    "train_loader = torch.utils.data.DataLoader(train_dataset, batch_size=32, shuffle=True)\n",
    "test_loader = torch.utils.data.DataLoader(test_dataset, batch_size=32, shuffle=False)\n",
    "val_loader = torch.utils.data.DataLoader(val_dataset, batch_size=32, shuffle=True)"
   ]
  },
  {
   "cell_type": "code",
   "execution_count": null,
   "metadata": {},
   "outputs": [],
   "source": [
    "input_dim = X_train_scaled.shape[1]\n",
    "output_dim = len(y_train[\"new_labels\"].unique())\n",
    "hidden_dim = 32\n",
    "model = LSTM(input_dim, hidden_dim, output_dim)\n",
    "\n",
    "# Define loss function and optimizer\n",
    "criterion = nn.CrossEntropyLoss()\n",
    "optimizer = torch.optim.Adam(model.parameters(), lr=0.001)"
   ]
  },
  {
   "cell_type": "code",
   "execution_count": null,
   "metadata": {},
   "outputs": [
    {
     "name": "stderr",
     "output_type": "stream",
     "text": [
      "100%|██████████| 185/185 [00:00<00:00, 379.48it/s]\n",
      "100%|██████████| 47/47 [00:00<00:00, 1342.39it/s]\n"
     ]
    },
    {
     "name": "stdout",
     "output_type": "stream",
     "text": [
      "Train loss: 0.8677, Train acc: 0.7449, Val loss: 0.6449, Val acc: 0.8384\n"
     ]
    },
    {
     "name": "stderr",
     "output_type": "stream",
     "text": [
      "100%|██████████| 185/185 [00:00<00:00, 417.55it/s]\n",
      "100%|██████████| 47/47 [00:00<00:00, 1270.27it/s]\n"
     ]
    },
    {
     "name": "stdout",
     "output_type": "stream",
     "text": [
      "Train loss: 0.5596, Train acc: 0.8474, Val loss: 0.5522, Val acc: 0.8384\n"
     ]
    },
    {
     "name": "stderr",
     "output_type": "stream",
     "text": [
      "100%|██████████| 185/185 [00:00<00:00, 447.94it/s]\n",
      "100%|██████████| 47/47 [00:00<00:00, 1305.51it/s]\n"
     ]
    },
    {
     "name": "stdout",
     "output_type": "stream",
     "text": [
      "Train loss: 0.5080, Train acc: 0.8471, Val loss: 0.4942, Val acc: 0.8405\n"
     ]
    },
    {
     "name": "stderr",
     "output_type": "stream",
     "text": [
      "100%|██████████| 185/185 [00:00<00:00, 454.54it/s]\n",
      "100%|██████████| 47/47 [00:00<00:00, 1205.07it/s]\n"
     ]
    },
    {
     "name": "stdout",
     "output_type": "stream",
     "text": [
      "Train loss: 0.4663, Train acc: 0.8508, Val loss: 0.4587, Val acc: 0.8486\n"
     ]
    },
    {
     "name": "stderr",
     "output_type": "stream",
     "text": [
      "100%|██████████| 185/185 [00:00<00:00, 397.85it/s]\n",
      "100%|██████████| 47/47 [00:00<00:00, 1381.78it/s]\n"
     ]
    },
    {
     "name": "stdout",
     "output_type": "stream",
     "text": [
      "Train loss: 0.4298, Train acc: 0.8576, Val loss: 0.4252, Val acc: 0.8527\n"
     ]
    },
    {
     "name": "stderr",
     "output_type": "stream",
     "text": [
      "100%|██████████| 185/185 [00:00<00:00, 456.79it/s]\n",
      "100%|██████████| 47/47 [00:00<00:00, 1236.82it/s]\n"
     ]
    },
    {
     "name": "stdout",
     "output_type": "stream",
     "text": [
      "Train loss: 0.4048, Train acc: 0.8673, Val loss: 0.4047, Val acc: 0.8697\n"
     ]
    },
    {
     "name": "stderr",
     "output_type": "stream",
     "text": [
      "100%|██████████| 185/185 [00:00<00:00, 464.78it/s]\n",
      "100%|██████████| 47/47 [00:00<00:00, 1342.68it/s]\n"
     ]
    },
    {
     "name": "stdout",
     "output_type": "stream",
     "text": [
      "Train loss: 0.3836, Train acc: 0.8769, Val loss: 0.4131, Val acc: 0.8710\n"
     ]
    },
    {
     "name": "stderr",
     "output_type": "stream",
     "text": [
      "100%|██████████| 185/185 [00:00<00:00, 463.67it/s]\n",
      "100%|██████████| 47/47 [00:00<00:00, 1270.22it/s]\n"
     ]
    },
    {
     "name": "stdout",
     "output_type": "stream",
     "text": [
      "Train loss: 0.3600, Train acc: 0.8781, Val loss: 0.3666, Val acc: 0.8771\n"
     ]
    },
    {
     "name": "stderr",
     "output_type": "stream",
     "text": [
      "100%|██████████| 185/185 [00:00<00:00, 460.76it/s]\n",
      "100%|██████████| 47/47 [00:00<00:00, 1424.28it/s]\n"
     ]
    },
    {
     "name": "stdout",
     "output_type": "stream",
     "text": [
      "Train loss: 0.3469, Train acc: 0.8805, Val loss: 0.3447, Val acc: 0.8873\n"
     ]
    },
    {
     "name": "stderr",
     "output_type": "stream",
     "text": [
      "100%|██████████| 185/185 [00:00<00:00, 442.59it/s]\n",
      "100%|██████████| 47/47 [00:00<00:00, 894.00it/s]\n"
     ]
    },
    {
     "name": "stdout",
     "output_type": "stream",
     "text": [
      "Train loss: 0.3247, Train acc: 0.8858, Val loss: 0.3252, Val acc: 0.8873\n"
     ]
    },
    {
     "name": "stderr",
     "output_type": "stream",
     "text": [
      "100%|██████████| 185/185 [00:00<00:00, 403.05it/s]\n",
      "100%|██████████| 47/47 [00:00<00:00, 1236.80it/s]\n"
     ]
    },
    {
     "name": "stdout",
     "output_type": "stream",
     "text": [
      "Train loss: 0.3116, Train acc: 0.8863, Val loss: 0.3383, Val acc: 0.8887\n"
     ]
    },
    {
     "name": "stderr",
     "output_type": "stream",
     "text": [
      "100%|██████████| 185/185 [00:00<00:00, 438.39it/s]\n",
      "100%|██████████| 47/47 [00:00<00:00, 1342.84it/s]\n"
     ]
    },
    {
     "name": "stdout",
     "output_type": "stream",
     "text": [
      "Train loss: 0.3001, Train acc: 0.8890, Val loss: 0.2954, Val acc: 0.9002\n"
     ]
    },
    {
     "name": "stderr",
     "output_type": "stream",
     "text": [
      "100%|██████████| 185/185 [00:00<00:00, 433.25it/s]\n",
      "100%|██████████| 47/47 [00:00<00:00, 1270.27it/s]\n"
     ]
    },
    {
     "name": "stdout",
     "output_type": "stream",
     "text": [
      "Train loss: 0.2820, Train acc: 0.8932, Val loss: 0.2968, Val acc: 0.8934\n"
     ]
    },
    {
     "name": "stderr",
     "output_type": "stream",
     "text": [
      "100%|██████████| 185/185 [00:00<00:00, 379.88it/s]\n",
      "100%|██████████| 47/47 [00:00<00:00, 1119.66it/s]\n"
     ]
    },
    {
     "name": "stdout",
     "output_type": "stream",
     "text": [
      "Train loss: 0.2701, Train acc: 0.8975, Val loss: 0.2680, Val acc: 0.9077\n"
     ]
    },
    {
     "name": "stderr",
     "output_type": "stream",
     "text": [
      "100%|██████████| 185/185 [00:00<00:00, 310.40it/s]\n",
      "100%|██████████| 47/47 [00:00<00:00, 939.98it/s]\n"
     ]
    },
    {
     "name": "stdout",
     "output_type": "stream",
     "text": [
      "Train loss: 0.2568, Train acc: 0.9054, Val loss: 0.2623, Val acc: 0.9050\n"
     ]
    },
    {
     "name": "stderr",
     "output_type": "stream",
     "text": [
      "100%|██████████| 185/185 [00:00<00:00, 333.93it/s]\n",
      "100%|██████████| 47/47 [00:00<00:00, 691.20it/s]\n"
     ]
    },
    {
     "name": "stdout",
     "output_type": "stream",
     "text": [
      "Train loss: 0.2537, Train acc: 0.9070, Val loss: 0.2584, Val acc: 0.9145\n"
     ]
    },
    {
     "name": "stderr",
     "output_type": "stream",
     "text": [
      "100%|██████████| 185/185 [00:00<00:00, 373.74it/s]\n",
      "100%|██████████| 47/47 [00:00<00:00, 1119.04it/s]\n"
     ]
    },
    {
     "name": "stdout",
     "output_type": "stream",
     "text": [
      "Train loss: 0.2388, Train acc: 0.9116, Val loss: 0.2404, Val acc: 0.9117\n"
     ]
    },
    {
     "name": "stderr",
     "output_type": "stream",
     "text": [
      "100%|██████████| 185/185 [00:00<00:00, 278.20it/s]\n",
      "100%|██████████| 47/47 [00:00<00:00, 722.89it/s]\n"
     ]
    },
    {
     "name": "stdout",
     "output_type": "stream",
     "text": [
      "Train loss: 0.2287, Train acc: 0.9173, Val loss: 0.2319, Val acc: 0.9165\n"
     ]
    },
    {
     "name": "stderr",
     "output_type": "stream",
     "text": [
      "100%|██████████| 185/185 [00:00<00:00, 286.82it/s]\n",
      "100%|██████████| 47/47 [00:00<00:00, 921.60it/s]\n"
     ]
    },
    {
     "name": "stdout",
     "output_type": "stream",
     "text": [
      "Train loss: 0.2205, Train acc: 0.9197, Val loss: 0.2254, Val acc: 0.9226\n"
     ]
    },
    {
     "name": "stderr",
     "output_type": "stream",
     "text": [
      "100%|██████████| 185/185 [00:00<00:00, 318.36it/s]\n",
      "100%|██████████| 47/47 [00:00<00:00, 691.15it/s]\n"
     ]
    },
    {
     "name": "stdout",
     "output_type": "stream",
     "text": [
      "Train loss: 0.2113, Train acc: 0.9236, Val loss: 0.2393, Val acc: 0.9185\n"
     ]
    },
    {
     "name": "stderr",
     "output_type": "stream",
     "text": [
      "100%|██████████| 185/185 [00:00<00:00, 225.89it/s]\n",
      "100%|██████████| 47/47 [00:00<00:00, 701.47it/s]\n"
     ]
    },
    {
     "name": "stdout",
     "output_type": "stream",
     "text": [
      "Train loss: 0.2037, Train acc: 0.9243, Val loss: 0.2056, Val acc: 0.9246\n"
     ]
    },
    {
     "name": "stderr",
     "output_type": "stream",
     "text": [
      "100%|██████████| 185/185 [00:00<00:00, 230.67it/s]\n",
      "100%|██████████| 47/47 [00:00<00:00, 758.05it/s]\n"
     ]
    },
    {
     "name": "stdout",
     "output_type": "stream",
     "text": [
      "Train loss: 0.1964, Train acc: 0.9280, Val loss: 0.1998, Val acc: 0.9314\n"
     ]
    },
    {
     "name": "stderr",
     "output_type": "stream",
     "text": [
      "100%|██████████| 185/185 [00:01<00:00, 166.79it/s]\n",
      "100%|██████████| 47/47 [00:00<00:00, 770.35it/s]\n"
     ]
    },
    {
     "name": "stdout",
     "output_type": "stream",
     "text": [
      "Train loss: 0.1897, Train acc: 0.9314, Val loss: 0.1926, Val acc: 0.9328\n"
     ]
    },
    {
     "name": "stderr",
     "output_type": "stream",
     "text": [
      "100%|██████████| 185/185 [00:00<00:00, 279.79it/s]\n",
      "100%|██████████| 47/47 [00:00<00:00, 379.03it/s]\n"
     ]
    },
    {
     "name": "stdout",
     "output_type": "stream",
     "text": [
      "Train loss: 0.1834, Train acc: 0.9346, Val loss: 0.1838, Val acc: 0.9409\n"
     ]
    },
    {
     "name": "stderr",
     "output_type": "stream",
     "text": [
      "100%|██████████| 185/185 [00:00<00:00, 196.79it/s]\n",
      "100%|██████████| 47/47 [00:00<00:00, 1236.86it/s]\n"
     ]
    },
    {
     "name": "stdout",
     "output_type": "stream",
     "text": [
      "Train loss: 0.1758, Train acc: 0.9357, Val loss: 0.1795, Val acc: 0.9375\n"
     ]
    },
    {
     "name": "stderr",
     "output_type": "stream",
     "text": [
      "100%|██████████| 185/185 [00:00<00:00, 222.28it/s]\n",
      "100%|██████████| 47/47 [00:00<00:00, 626.77it/s]\n"
     ]
    },
    {
     "name": "stdout",
     "output_type": "stream",
     "text": [
      "Train loss: 0.1702, Train acc: 0.9392, Val loss: 0.1725, Val acc: 0.9375\n"
     ]
    },
    {
     "name": "stderr",
     "output_type": "stream",
     "text": [
      "100%|██████████| 185/185 [00:00<00:00, 185.37it/s]\n",
      "100%|██████████| 47/47 [00:00<00:00, 602.57it/s]\n"
     ]
    },
    {
     "name": "stdout",
     "output_type": "stream",
     "text": [
      "Train loss: 0.1705, Train acc: 0.9399, Val loss: 0.1743, Val acc: 0.9450\n"
     ]
    },
    {
     "name": "stderr",
     "output_type": "stream",
     "text": [
      "100%|██████████| 185/185 [00:00<00:00, 257.39it/s]\n",
      "100%|██████████| 47/47 [00:00<00:00, 824.53it/s]\n"
     ]
    },
    {
     "name": "stdout",
     "output_type": "stream",
     "text": [
      "Train loss: 0.1630, Train acc: 0.9416, Val loss: 0.1617, Val acc: 0.9477\n"
     ]
    },
    {
     "name": "stderr",
     "output_type": "stream",
     "text": [
      "100%|██████████| 185/185 [00:00<00:00, 252.56it/s]\n",
      "100%|██████████| 47/47 [00:00<00:00, 903.92it/s]\n"
     ]
    },
    {
     "name": "stdout",
     "output_type": "stream",
     "text": [
      "Train loss: 0.1551, Train acc: 0.9435, Val loss: 0.1642, Val acc: 0.9464\n"
     ]
    },
    {
     "name": "stderr",
     "output_type": "stream",
     "text": [
      "100%|██████████| 185/185 [00:00<00:00, 247.32it/s]\n",
      "100%|██████████| 47/47 [00:00<00:00, 1137.32it/s]\n"
     ]
    },
    {
     "name": "stdout",
     "output_type": "stream",
     "text": [
      "Train loss: 0.1508, Train acc: 0.9457, Val loss: 0.1555, Val acc: 0.9437\n"
     ]
    },
    {
     "name": "stderr",
     "output_type": "stream",
     "text": [
      "100%|██████████| 185/185 [00:00<00:00, 434.03it/s]\n",
      "100%|██████████| 47/47 [00:00<00:00, 1419.56it/s]\n"
     ]
    },
    {
     "name": "stdout",
     "output_type": "stream",
     "text": [
      "Train loss: 0.1493, Train acc: 0.9443, Val loss: 0.1513, Val acc: 0.9470\n"
     ]
    },
    {
     "name": "stderr",
     "output_type": "stream",
     "text": [
      "100%|██████████| 185/185 [00:00<00:00, 440.98it/s]\n",
      "100%|██████████| 47/47 [00:00<00:00, 973.44it/s]\n"
     ]
    },
    {
     "name": "stdout",
     "output_type": "stream",
     "text": [
      "Train loss: 0.1421, Train acc: 0.9481, Val loss: 0.1499, Val acc: 0.9518\n"
     ]
    },
    {
     "name": "stderr",
     "output_type": "stream",
     "text": [
      "100%|██████████| 185/185 [00:00<00:00, 416.88it/s]\n",
      "100%|██████████| 47/47 [00:00<00:00, 1236.85it/s]\n"
     ]
    },
    {
     "name": "stdout",
     "output_type": "stream",
     "text": [
      "Train loss: 0.1424, Train acc: 0.9462, Val loss: 0.1460, Val acc: 0.9518\n"
     ]
    },
    {
     "name": "stderr",
     "output_type": "stream",
     "text": [
      "100%|██████████| 185/185 [00:00<00:00, 412.37it/s]\n",
      "100%|██████████| 47/47 [00:00<00:00, 1149.89it/s]\n"
     ]
    },
    {
     "name": "stdout",
     "output_type": "stream",
     "text": [
      "Train loss: 0.1377, Train acc: 0.9484, Val loss: 0.1448, Val acc: 0.9491\n"
     ]
    },
    {
     "name": "stderr",
     "output_type": "stream",
     "text": [
      "100%|██████████| 185/185 [00:00<00:00, 411.45it/s]\n",
      "100%|██████████| 47/47 [00:00<00:00, 1205.19it/s]\n"
     ]
    },
    {
     "name": "stdout",
     "output_type": "stream",
     "text": [
      "Train loss: 0.1356, Train acc: 0.9489, Val loss: 0.1407, Val acc: 0.9532\n"
     ]
    },
    {
     "name": "stderr",
     "output_type": "stream",
     "text": [
      "100%|██████████| 185/185 [00:00<00:00, 397.40it/s]\n",
      "100%|██████████| 47/47 [00:00<00:00, 1192.88it/s]\n"
     ]
    },
    {
     "name": "stdout",
     "output_type": "stream",
     "text": [
      "Train loss: 0.1322, Train acc: 0.9491, Val loss: 0.1339, Val acc: 0.9477\n"
     ]
    },
    {
     "name": "stderr",
     "output_type": "stream",
     "text": [
      "100%|██████████| 185/185 [00:00<00:00, 422.54it/s]\n",
      "100%|██████████| 47/47 [00:00<00:00, 1256.52it/s]\n"
     ]
    },
    {
     "name": "stdout",
     "output_type": "stream",
     "text": [
      "Train loss: 0.1315, Train acc: 0.9492, Val loss: 0.1331, Val acc: 0.9566\n"
     ]
    },
    {
     "name": "stderr",
     "output_type": "stream",
     "text": [
      "100%|██████████| 185/185 [00:00<00:00, 369.98it/s]\n",
      "100%|██████████| 47/47 [00:00<00:00, 1021.68it/s]\n"
     ]
    },
    {
     "name": "stdout",
     "output_type": "stream",
     "text": [
      "Train loss: 0.1263, Train acc: 0.9526, Val loss: 0.1375, Val acc: 0.9450\n"
     ]
    },
    {
     "name": "stderr",
     "output_type": "stream",
     "text": [
      "100%|██████████| 185/185 [00:00<00:00, 364.44it/s]\n",
      "100%|██████████| 47/47 [00:00<00:00, 1059.45it/s]\n"
     ]
    },
    {
     "name": "stdout",
     "output_type": "stream",
     "text": [
      "Train loss: 0.1227, Train acc: 0.9548, Val loss: 0.1461, Val acc: 0.9525\n"
     ]
    },
    {
     "name": "stderr",
     "output_type": "stream",
     "text": [
      "100%|██████████| 185/185 [00:00<00:00, 420.53it/s]\n",
      "100%|██████████| 47/47 [00:00<00:00, 807.36it/s]\n"
     ]
    },
    {
     "name": "stdout",
     "output_type": "stream",
     "text": [
      "Train loss: 0.1237, Train acc: 0.9503, Val loss: 0.1287, Val acc: 0.9532\n"
     ]
    },
    {
     "name": "stderr",
     "output_type": "stream",
     "text": [
      "100%|██████████| 185/185 [00:00<00:00, 399.65it/s]\n",
      "100%|██████████| 47/47 [00:00<00:00, 1089.74it/s]\n"
     ]
    },
    {
     "name": "stdout",
     "output_type": "stream",
     "text": [
      "Train loss: 0.1172, Train acc: 0.9557, Val loss: 0.1268, Val acc: 0.9532\n"
     ]
    },
    {
     "name": "stderr",
     "output_type": "stream",
     "text": [
      "100%|██████████| 185/185 [00:00<00:00, 394.85it/s]\n",
      "100%|██████████| 47/47 [00:00<00:00, 1059.35it/s]\n"
     ]
    },
    {
     "name": "stdout",
     "output_type": "stream",
     "text": [
      "Train loss: 0.1163, Train acc: 0.9535, Val loss: 0.1427, Val acc: 0.9470\n"
     ]
    },
    {
     "name": "stderr",
     "output_type": "stream",
     "text": [
      "100%|██████████| 185/185 [00:00<00:00, 387.73it/s]\n",
      "100%|██████████| 47/47 [00:00<00:00, 1233.16it/s]\n"
     ]
    },
    {
     "name": "stdout",
     "output_type": "stream",
     "text": [
      "Train loss: 0.1156, Train acc: 0.9571, Val loss: 0.1246, Val acc: 0.9538\n"
     ]
    },
    {
     "name": "stderr",
     "output_type": "stream",
     "text": [
      "100%|██████████| 185/185 [00:00<00:00, 372.00it/s]\n",
      "100%|██████████| 47/47 [00:00<00:00, 979.17it/s]\n"
     ]
    },
    {
     "name": "stdout",
     "output_type": "stream",
     "text": [
      "Train loss: 0.1158, Train acc: 0.9547, Val loss: 0.1247, Val acc: 0.9498\n"
     ]
    },
    {
     "name": "stderr",
     "output_type": "stream",
     "text": [
      "100%|██████████| 185/185 [00:00<00:00, 409.83it/s]\n",
      "100%|██████████| 47/47 [00:00<00:00, 1142.97it/s]\n"
     ]
    },
    {
     "name": "stdout",
     "output_type": "stream",
     "text": [
      "Train loss: 0.1113, Train acc: 0.9577, Val loss: 0.1198, Val acc: 0.9599\n"
     ]
    },
    {
     "name": "stderr",
     "output_type": "stream",
     "text": [
      "100%|██████████| 185/185 [00:00<00:00, 375.70it/s]\n",
      "100%|██████████| 47/47 [00:00<00:00, 1236.98it/s]\n"
     ]
    },
    {
     "name": "stdout",
     "output_type": "stream",
     "text": [
      "Train loss: 0.1095, Train acc: 0.9584, Val loss: 0.1203, Val acc: 0.9586\n"
     ]
    },
    {
     "name": "stderr",
     "output_type": "stream",
     "text": [
      "100%|██████████| 185/185 [00:00<00:00, 413.52it/s]\n",
      "100%|██████████| 47/47 [00:00<00:00, 1174.94it/s]\n"
     ]
    },
    {
     "name": "stdout",
     "output_type": "stream",
     "text": [
      "Train loss: 0.1095, Train acc: 0.9599, Val loss: 0.1227, Val acc: 0.9559\n"
     ]
    },
    {
     "name": "stderr",
     "output_type": "stream",
     "text": [
      "100%|██████████| 185/185 [00:00<00:00, 408.82it/s]\n",
      "100%|██████████| 47/47 [00:00<00:00, 1143.01it/s]\n"
     ]
    },
    {
     "name": "stdout",
     "output_type": "stream",
     "text": [
      "Train loss: 0.1049, Train acc: 0.9608, Val loss: 0.1191, Val acc: 0.9518\n"
     ]
    },
    {
     "name": "stderr",
     "output_type": "stream",
     "text": [
      "100%|██████████| 185/185 [00:00<00:00, 413.77it/s]\n",
      "100%|██████████| 47/47 [00:00<00:00, 979.37it/s]\n"
     ]
    },
    {
     "name": "stdout",
     "output_type": "stream",
     "text": [
      "Train loss: 0.1030, Train acc: 0.9628, Val loss: 0.1242, Val acc: 0.9552\n"
     ]
    },
    {
     "name": "stderr",
     "output_type": "stream",
     "text": [
      "100%|██████████| 185/185 [00:00<00:00, 405.73it/s]\n",
      "100%|██████████| 47/47 [00:00<00:00, 1414.89it/s]\n"
     ]
    },
    {
     "name": "stdout",
     "output_type": "stream",
     "text": [
      "Train loss: 0.1026, Train acc: 0.9603, Val loss: 0.1144, Val acc: 0.9606\n"
     ]
    },
    {
     "data": {
      "image/png": "[encoded data removed]",
      "text/plain": [
       "<Figure size 640x480 with 1 Axes>"
      ]
     },
     "metadata": {},
     "output_type": "display_data"
    }
   ],
   "source": [
    "EPOCHS = 50\n",
    "train_loss_list = []\n",
    "train_acc_list = []\n",
    "val_loss_list = []\n",
    "val_acc_list = []\n",
    "\n",
    "for _ in range(EPOCHS):\n",
    "    train_loss, train_acc, val_loss, val_acc = train(model, train_loader, val_loader, criterion, optimizer)\n",
    "    train_loss_list.append(train_loss)\n",
    "    train_acc_list.append(train_acc)\n",
    "    val_loss_list.append(val_loss)\n",
    "    val_acc_list.append(val_acc)\n",
    "    print(f\"Train loss: {train_loss:.4f}, Train acc: {train_acc:.4f}, Val loss: {val_loss:.4f}, Val acc: {val_acc:.4f}\")\n",
    "\n",
    "# Plot train loss and accuracy\n",
    "plt.plot(train_acc_list, label=\"train acc\")\n",
    "plt.plot(val_acc_list, label=\"val acc\")\n",
    "plt.legend()\n",
    "plt.show()"
   ]
  },
  {
   "cell_type": "code",
   "execution_count": null,
   "metadata": {},
   "outputs": [
    {
     "name": "stdout",
     "output_type": "stream",
     "text": [
      "Test loss: 0.1079, Test acc: 0.9620\n"
     ]
    }
   ],
   "source": [
    "test_loss, test_acc = test(model, test_loader, criterion)\n",
    "print(f\"Test loss: {test_loss:.4f}, Test acc: {test_acc:.4f}\")"
   ]
  },
  {
   "cell_type": "code",
   "execution_count": null,
   "metadata": {},
   "outputs": [
    {
     "data": {
      "image/png": "[encoded data removed]",
      "text/plain": [
       "<Figure size 600x600 with 2 Axes>"
      ]
     },
     "metadata": {},
     "output_type": "display_data"
    }
   ],
   "source": [
    "# Predict on test set\n",
    "y_pred_list = []\n",
    "y_true_list = []\n",
    "with torch.no_grad():\n",
    "    for X, y in test_loader:\n",
    "        y_pred = model(X)\n",
    "        y_pred_list.append(y_pred.argmax(1).cpu().numpy())\n",
    "        y_true_list.append(y.cpu().numpy())\n",
    "\n",
    "y_pred = np.concatenate(y_pred_list)\n",
    "y_true = np.concatenate(y_true_list)\n",
    "\n",
    "# Plot confusion matrix\n",
    "plot_confusion_matrix(y_true, y_pred, title=\"Confusion matrix for the test set\")"
   ]
  },
  {
   "cell_type": "markdown",
   "metadata": {},
   "source": [
    "This is better overall, however we can see that the model is struggly with the 3rd class, as it's confusing it with other classes. It's because the class is more present in the dataset. The LSTM architecture is not suited for this kind of problem as its sensitive to the class imbalance."
   ]
  },
  {
   "cell_type": "code",
   "execution_count": null,
   "metadata": {},
   "outputs": [
    {
     "data": {
      "text/plain": [
       "new_labels\n",
       "2    6222\n",
       "1     580\n",
       "3     429\n",
       "0     126\n",
       "4       7\n",
       "Name: count, dtype: int64"
      ]
     },
     "execution_count": 71,
     "metadata": {},
     "output_type": "execute_result"
    }
   ],
   "source": [
    "y_train[\"new_labels\"].value_counts()"
   ]
  },
  {
   "cell_type": "markdown",
   "metadata": {},
   "source": [
    "## 3. Supervised classifiers\n",
    "\n",
    "### a. Decision Tree"
   ]
  },
  {
   "cell_type": "markdown",
   "metadata": {},
   "source": [
    "#### Multiclass classification\n",
    "\n",
    "We will not use the Decision Tree for the binary classification, as we want to focus on the features importance."
   ]
  },
  {
   "cell_type": "code",
   "execution_count": 304,
   "metadata": {},
   "outputs": [
    {
     "data": {
      "text/plain": [
       "((7364, 41), (1842, 41), (7364, 2), (1842, 2))"
      ]
     },
     "execution_count": 304,
     "metadata": {},
     "output_type": "execute_result"
    }
   ],
   "source": [
    "X_train, X_test, y_train, y_test = train_test_split(df_physical_prepared, df_physical_labels[[\"new_labels\", \"label_n\"]], test_size=0.2, random_state=random_state)\n",
    "X_train.shape, X_test.shape, y_train.shape, y_test.shape"
   ]
  },
  {
   "cell_type": "markdown",
   "metadata": {},
   "source": [
    "Define the model with empirical parameters"
   ]
  },
  {
   "cell_type": "code",
   "execution_count": 305,
   "metadata": {},
   "outputs": [],
   "source": [
    "params = {\n",
    "    'max_depth': 8,\n",
    "    'criterion': 'gini',\n",
    "    'splitter': 'best',\n",
    "    'random_state': random_state\n",
    "}\n",
    "\n",
    "clf = DecisionTreeClassifier(**params)"
   ]
  },
  {
   "cell_type": "code",
   "execution_count": 306,
   "metadata": {},
   "outputs": [
    {
     "name": "stderr",
     "output_type": "stream",
     "text": [
      "/Users/theoripoll/.pyenv/versions/3.11.2/envs/env_MLSECU_PROJECT/lib/python3.11/site-packages/sklearn/utils/validation.py:757: FutureWarning: is_sparse is deprecated and will be removed in a future version. Check `isinstance(dtype, pd.SparseDtype)` instead.\n",
      "  if not hasattr(array, \"sparse\") and array.dtypes.apply(is_sparse).any():\n",
      "/Users/theoripoll/.pyenv/versions/3.11.2/envs/env_MLSECU_PROJECT/lib/python3.11/site-packages/sklearn/utils/validation.py:595: FutureWarning: is_sparse is deprecated and will be removed in a future version. Check `isinstance(dtype, pd.SparseDtype)` instead.\n",
      "  if is_sparse(pd_dtype):\n",
      "/Users/theoripoll/.pyenv/versions/3.11.2/envs/env_MLSECU_PROJECT/lib/python3.11/site-packages/sklearn/utils/validation.py:604: FutureWarning: is_sparse is deprecated and will be removed in a future version. Check `isinstance(dtype, pd.SparseDtype)` instead.\n",
      "  if is_sparse(pd_dtype) or not is_extension_array_dtype(pd_dtype):\n",
      "/Users/theoripoll/.pyenv/versions/3.11.2/envs/env_MLSECU_PROJECT/lib/python3.11/site-packages/sklearn/utils/validation.py:757: FutureWarning: is_sparse is deprecated and will be removed in a future version. Check `isinstance(dtype, pd.SparseDtype)` instead.\n",
      "  if not hasattr(array, \"sparse\") and array.dtypes.apply(is_sparse).any():\n",
      "/Users/theoripoll/.pyenv/versions/3.11.2/envs/env_MLSECU_PROJECT/lib/python3.11/site-packages/sklearn/utils/validation.py:595: FutureWarning: is_sparse is deprecated and will be removed in a future version. Check `isinstance(dtype, pd.SparseDtype)` instead.\n",
      "  if is_sparse(pd_dtype):\n",
      "/Users/theoripoll/.pyenv/versions/3.11.2/envs/env_MLSECU_PROJECT/lib/python3.11/site-packages/sklearn/utils/validation.py:604: FutureWarning: is_sparse is deprecated and will be removed in a future version. Check `isinstance(dtype, pd.SparseDtype)` instead.\n",
      "  if is_sparse(pd_dtype) or not is_extension_array_dtype(pd_dtype):\n"
     ]
    },
    {
     "data": {
      "text/html": [
       "<style>#sk-container-id-1 {color: black;background-color: white;}#sk-container-id-1 pre{padding: 0;}#sk-container-id-1 div.sk-toggleable {background-color: white;}#sk-container-id-1 label.sk-toggleable__label {cursor: pointer;display: block;width: 100%;margin-bottom: 0;padding: 0.3em;box-sizing: border-box;text-align: center;}#sk-container-id-1 label.sk-toggleable__label-arrow:before {content: \"▸\";float: left;margin-right: 0.25em;color: #696969;}#sk-container-id-1 label.sk-toggleable__label-arrow:hover:before {color: black;}#sk-container-id-1 div.sk-estimator:hover label.sk-toggleable__label-arrow:before {color: black;}#sk-container-id-1 div.sk-toggleable__content {max-height: 0;max-width: 0;overflow: hidden;text-align: left;background-color: #f0f8ff;}#sk-container-id-1 div.sk-toggleable__content pre {margin: 0.2em;color: black;border-radius: 0.25em;background-color: #f0f8ff;}#sk-container-id-1 input.sk-toggleable__control:checked~div.sk-toggleable__content {max-height: 200px;max-width: 100%;overflow: auto;}#sk-container-id-1 input.sk-toggleable__control:checked~label.sk-toggleable__label-arrow:before {content: \"▾\";}#sk-container-id-1 div.sk-estimator input.sk-toggleable__control:checked~label.sk-toggleable__label {background-color: #d4ebff;}#sk-container-id-1 div.sk-label input.sk-toggleable__control:checked~label.sk-toggleable__label {background-color: #d4ebff;}#sk-container-id-1 input.sk-hidden--visually {border: 0;clip: rect(1px 1px 1px 1px);clip: rect(1px, 1px, 1px, 1px);height: 1px;margin: -1px;overflow: hidden;padding: 0;position: absolute;width: 1px;}#sk-container-id-1 div.sk-estimator {font-family: monospace;background-color: #f0f8ff;border: 1px dotted black;border-radius: 0.25em;box-sizing: border-box;margin-bottom: 0.5em;}#sk-container-id-1 div.sk-estimator:hover {background-color: #d4ebff;}#sk-container-id-1 div.sk-parallel-item::after {content: \"\";width: 100%;border-bottom: 1px solid gray;flex-grow: 1;}#sk-container-id-1 div.sk-label:hover label.sk-toggleable__label {background-color: #d4ebff;}#sk-container-id-1 div.sk-serial::before {content: \"\";position: absolute;border-left: 1px solid gray;box-sizing: border-box;top: 0;bottom: 0;left: 50%;z-index: 0;}#sk-container-id-1 div.sk-serial {display: flex;flex-direction: column;align-items: center;background-color: white;padding-right: 0.2em;padding-left: 0.2em;position: relative;}#sk-container-id-1 div.sk-item {position: relative;z-index: 1;}#sk-container-id-1 div.sk-parallel {display: flex;align-items: stretch;justify-content: center;background-color: white;position: relative;}#sk-container-id-1 div.sk-item::before, #sk-container-id-1 div.sk-parallel-item::before {content: \"\";position: absolute;border-left: 1px solid gray;box-sizing: border-box;top: 0;bottom: 0;left: 50%;z-index: -1;}#sk-container-id-1 div.sk-parallel-item {display: flex;flex-direction: column;z-index: 1;position: relative;background-color: white;}#sk-container-id-1 div.sk-parallel-item:first-child::after {align-self: flex-end;width: 50%;}#sk-container-id-1 div.sk-parallel-item:last-child::after {align-self: flex-start;width: 50%;}#sk-container-id-1 div.sk-parallel-item:only-child::after {width: 0;}#sk-container-id-1 div.sk-dashed-wrapped {border: 1px dashed gray;margin: 0 0.4em 0.5em 0.4em;box-sizing: border-box;padding-bottom: 0.4em;background-color: white;}#sk-container-id-1 div.sk-label label {font-family: monospace;font-weight: bold;display: inline-block;line-height: 1.2em;}#sk-container-id-1 div.sk-label-container {text-align: center;}#sk-container-id-1 div.sk-container {/* jupyter's `normalize.less` sets `[hidden] { display: none; }` but bootstrap.min.css set `[hidden] { display: none !important; }` so we also need the `!important` here to be able to override the default hidden behavior on the sphinx rendered scikit-learn.org. See: https://github.com/scikit-learn/scikit-learn/issues/21755 */display: inline-block !important;position: relative;}#sk-container-id-1 div.sk-text-repr-fallback {display: none;}</style><div id=\"sk-container-id-1\" class=\"sk-top-container\"><div class=\"sk-text-repr-fallback\"><pre>Pipeline(steps=[(&#x27;standardscaler&#x27;, StandardScaler()),\n",
       "                (&#x27;decisiontreeclassifier&#x27;,\n",
       "                 DecisionTreeClassifier(max_depth=8, random_state=42))])</pre><b>In a Jupyter environment, please rerun this cell to show the HTML representation or trust the notebook. <br />On GitHub, the HTML representation is unable to render, please try loading this page with nbviewer.org.</b></div><div class=\"sk-container\" hidden><div class=\"sk-item sk-dashed-wrapped\"><div class=\"sk-label-container\"><div class=\"sk-label sk-toggleable\"><input class=\"sk-toggleable__control sk-hidden--visually\" id=\"sk-estimator-id-1\" type=\"checkbox\" ><label for=\"sk-estimator-id-1\" class=\"sk-toggleable__label sk-toggleable__label-arrow\">Pipeline</label><div class=\"sk-toggleable__content\"><pre>Pipeline(steps=[(&#x27;standardscaler&#x27;, StandardScaler()),\n",
       "                (&#x27;decisiontreeclassifier&#x27;,\n",
       "                 DecisionTreeClassifier(max_depth=8, random_state=42))])</pre></div></div></div><div class=\"sk-serial\"><div class=\"sk-item\"><div class=\"sk-estimator sk-toggleable\"><input class=\"sk-toggleable__control sk-hidden--visually\" id=\"sk-estimator-id-2\" type=\"checkbox\" ><label for=\"sk-estimator-id-2\" class=\"sk-toggleable__label sk-toggleable__label-arrow\">StandardScaler</label><div class=\"sk-toggleable__content\"><pre>StandardScaler()</pre></div></div></div><div class=\"sk-item\"><div class=\"sk-estimator sk-toggleable\"><input class=\"sk-toggleable__control sk-hidden--visually\" id=\"sk-estimator-id-3\" type=\"checkbox\" ><label for=\"sk-estimator-id-3\" class=\"sk-toggleable__label sk-toggleable__label-arrow\">DecisionTreeClassifier</label><div class=\"sk-toggleable__content\"><pre>DecisionTreeClassifier(max_depth=8, random_state=42)</pre></div></div></div></div></div></div></div>"
      ],
      "text/plain": [
       "Pipeline(steps=[('standardscaler', StandardScaler()),\n",
       "                ('decisiontreeclassifier',\n",
       "                 DecisionTreeClassifier(max_depth=8, random_state=42))])"
      ]
     },
     "execution_count": 306,
     "metadata": {},
     "output_type": "execute_result"
    }
   ],
   "source": [
    "pipeline = make_pipeline(\n",
    "    StandardScaler(),\n",
    "    clf\n",
    ")\n",
    "\n",
    "pipeline.fit(X_train, y_train[\"new_labels\"])"
   ]
  },
  {
   "cell_type": "code",
   "execution_count": 307,
   "metadata": {},
   "outputs": [
    {
     "name": "stderr",
     "output_type": "stream",
     "text": [
      "/Users/theoripoll/.pyenv/versions/3.11.2/envs/env_MLSECU_PROJECT/lib/python3.11/site-packages/sklearn/utils/validation.py:757: FutureWarning: is_sparse is deprecated and will be removed in a future version. Check `isinstance(dtype, pd.SparseDtype)` instead.\n",
      "  if not hasattr(array, \"sparse\") and array.dtypes.apply(is_sparse).any():\n",
      "/Users/theoripoll/.pyenv/versions/3.11.2/envs/env_MLSECU_PROJECT/lib/python3.11/site-packages/sklearn/utils/validation.py:595: FutureWarning: is_sparse is deprecated and will be removed in a future version. Check `isinstance(dtype, pd.SparseDtype)` instead.\n",
      "  if is_sparse(pd_dtype):\n",
      "/Users/theoripoll/.pyenv/versions/3.11.2/envs/env_MLSECU_PROJECT/lib/python3.11/site-packages/sklearn/utils/validation.py:604: FutureWarning: is_sparse is deprecated and will be removed in a future version. Check `isinstance(dtype, pd.SparseDtype)` instead.\n",
      "  if is_sparse(pd_dtype) or not is_extension_array_dtype(pd_dtype):\n"
     ]
    }
   ],
   "source": [
    "preds = pipeline.predict(X_test)"
   ]
  },
  {
   "cell_type": "code",
   "execution_count": 308,
   "metadata": {},
   "outputs": [
    {
     "name": "stdout",
     "output_type": "stream",
     "text": [
      "Accuracy:  0.9467969598262758\n",
      "Recall:  0.6881698674841034\n",
      "F1:  0.7326219385662255\n",
      "MCC:  0.8133878482930105\n",
      "Balanced accuracy:  0.6881698674841034\n"
     ]
    }
   ],
   "source": [
    "print(\"Accuracy: \", accuracy_score(y_test[\"new_labels\"], preds.round()))\n",
    "print(\"Recall: \", recall_score(y_test[\"new_labels\"], preds.round(), average=\"macro\"))\n",
    "print(\"F1: \", f1_score(y_test[\"new_labels\"], preds.round(), average=\"macro\"))\n",
    "print(\"MCC: \", matthews_corrcoef(y_test[\"new_labels\"], preds.round()))\n",
    "print(\"Balanced accuracy: \", balanced_accuracy_score(y_test[\"new_labels\"], preds.round()))"
   ]
  },
  {
   "cell_type": "code",
   "execution_count": 309,
   "metadata": {},
   "outputs": [
    {
     "data": {
      "image/png": "[encoded data removed]",
      "text/plain": [
       "<Figure size 600x600 with 2 Axes>"
      ]
     },
     "metadata": {},
     "output_type": "display_data"
    }
   ],
   "source": [
    "plot_confusion_matrix(y_test[\"new_labels\"], preds.round(), title=\"Confusion matrix for the test set\")"
   ]
  },
  {
   "cell_type": "markdown",
   "metadata": {},
   "source": [
    "The decision tree is very sensitive to data imbalance, explaining the bad results."
   ]
  },
  {
   "cell_type": "code",
   "execution_count": 310,
   "metadata": {},
   "outputs": [
    {
     "data": {
      "image/png": "[encoded data removed]",
      "text/plain": [
       "<Figure size 1500x600 with 1 Axes>"
      ]
     },
     "metadata": {},
     "output_type": "display_data"
    }
   ],
   "source": [
    "def plot_feature_importance(clf):\n",
    "    importance = clf.feature_importances_\n",
    "    # keep 10 most important features\n",
    "    idx = np.argsort(importance)[-10:]\n",
    "    importance = importance[idx]\n",
    "\n",
    "    # plot feature importance\n",
    "    plt.figure(figsize=(15, 6))\n",
    "    plt.title(\"Feature importance\")\n",
    "    plt.bar([x for x in range(len(importance))], importance)\n",
    "    plt.xticks([x for x in range(len(importance))], X_train.columns[idx], rotation='vertical')\n",
    "    plt.show()\n",
    "\n",
    "plot_feature_importance(clf)"
   ]
  },
  {
   "cell_type": "markdown",
   "metadata": {},
   "source": [
    "#### Without contextual information"
   ]
  },
  {
   "cell_type": "code",
   "execution_count": 311,
   "metadata": {},
   "outputs": [
    {
     "data": {
      "text/html": [
       "<div>\n",
       "<style scoped>\n",
       "    .dataframe tbody tr th:only-of-type {\n",
       "        vertical-align: middle;\n",
       "    }\n",
       "\n",
       "    .dataframe tbody tr th {\n",
       "        vertical-align: top;\n",
       "    }\n",
       "\n",
       "    .dataframe thead th {\n",
       "        text-align: right;\n",
       "    }\n",
       "</style>\n",
       "<table border=\"1\" class=\"dataframe\">\n",
       "  <thead>\n",
       "    <tr style=\"text-align: right;\">\n",
       "      <th></th>\n",
       "      <th>tank_1</th>\n",
       "      <th>tank_2</th>\n",
       "      <th>tank_3</th>\n",
       "      <th>tank_4</th>\n",
       "      <th>tank_5</th>\n",
       "      <th>tank_6</th>\n",
       "      <th>tank_7</th>\n",
       "      <th>tank_8</th>\n",
       "      <th>pump_1</th>\n",
       "      <th>pump_2</th>\n",
       "      <th>...</th>\n",
       "      <th>valv_16</th>\n",
       "      <th>valv_17</th>\n",
       "      <th>valv_18</th>\n",
       "      <th>valv_19</th>\n",
       "      <th>valv_20</th>\n",
       "      <th>valv_21</th>\n",
       "      <th>valv_22</th>\n",
       "      <th>label_n</th>\n",
       "      <th>label</th>\n",
       "      <th>attack</th>\n",
       "    </tr>\n",
       "  </thead>\n",
       "  <tbody>\n",
       "    <tr>\n",
       "      <th>0</th>\n",
       "      <td>0</td>\n",
       "      <td>0</td>\n",
       "      <td>0</td>\n",
       "      <td>0</td>\n",
       "      <td>0</td>\n",
       "      <td>0</td>\n",
       "      <td>0</td>\n",
       "      <td>0</td>\n",
       "      <td>0</td>\n",
       "      <td>0</td>\n",
       "      <td>...</td>\n",
       "      <td>0</td>\n",
       "      <td>0</td>\n",
       "      <td>0</td>\n",
       "      <td>0</td>\n",
       "      <td>0</td>\n",
       "      <td>0</td>\n",
       "      <td>0</td>\n",
       "      <td>0.0</td>\n",
       "      <td>normal</td>\n",
       "      <td>1</td>\n",
       "    </tr>\n",
       "    <tr>\n",
       "      <th>1</th>\n",
       "      <td>0</td>\n",
       "      <td>0</td>\n",
       "      <td>0</td>\n",
       "      <td>0</td>\n",
       "      <td>0</td>\n",
       "      <td>0</td>\n",
       "      <td>0</td>\n",
       "      <td>0</td>\n",
       "      <td>0</td>\n",
       "      <td>0</td>\n",
       "      <td>...</td>\n",
       "      <td>0</td>\n",
       "      <td>0</td>\n",
       "      <td>0</td>\n",
       "      <td>0</td>\n",
       "      <td>0</td>\n",
       "      <td>0</td>\n",
       "      <td>0</td>\n",
       "      <td>0.0</td>\n",
       "      <td>normal</td>\n",
       "      <td>1</td>\n",
       "    </tr>\n",
       "    <tr>\n",
       "      <th>2</th>\n",
       "      <td>0</td>\n",
       "      <td>0</td>\n",
       "      <td>0</td>\n",
       "      <td>0</td>\n",
       "      <td>0</td>\n",
       "      <td>0</td>\n",
       "      <td>0</td>\n",
       "      <td>0</td>\n",
       "      <td>0</td>\n",
       "      <td>0</td>\n",
       "      <td>...</td>\n",
       "      <td>0</td>\n",
       "      <td>0</td>\n",
       "      <td>0</td>\n",
       "      <td>0</td>\n",
       "      <td>0</td>\n",
       "      <td>0</td>\n",
       "      <td>0</td>\n",
       "      <td>0.0</td>\n",
       "      <td>normal</td>\n",
       "      <td>1</td>\n",
       "    </tr>\n",
       "    <tr>\n",
       "      <th>3</th>\n",
       "      <td>0</td>\n",
       "      <td>0</td>\n",
       "      <td>0</td>\n",
       "      <td>0</td>\n",
       "      <td>0</td>\n",
       "      <td>0</td>\n",
       "      <td>0</td>\n",
       "      <td>0</td>\n",
       "      <td>0</td>\n",
       "      <td>0</td>\n",
       "      <td>...</td>\n",
       "      <td>0</td>\n",
       "      <td>0</td>\n",
       "      <td>0</td>\n",
       "      <td>0</td>\n",
       "      <td>0</td>\n",
       "      <td>0</td>\n",
       "      <td>0</td>\n",
       "      <td>0.0</td>\n",
       "      <td>normal</td>\n",
       "      <td>1</td>\n",
       "    </tr>\n",
       "    <tr>\n",
       "      <th>4</th>\n",
       "      <td>0</td>\n",
       "      <td>0</td>\n",
       "      <td>0</td>\n",
       "      <td>0</td>\n",
       "      <td>0</td>\n",
       "      <td>0</td>\n",
       "      <td>0</td>\n",
       "      <td>0</td>\n",
       "      <td>1</td>\n",
       "      <td>1</td>\n",
       "      <td>...</td>\n",
       "      <td>0</td>\n",
       "      <td>0</td>\n",
       "      <td>0</td>\n",
       "      <td>0</td>\n",
       "      <td>0</td>\n",
       "      <td>0</td>\n",
       "      <td>0</td>\n",
       "      <td>0.0</td>\n",
       "      <td>normal</td>\n",
       "      <td>1</td>\n",
       "    </tr>\n",
       "    <tr>\n",
       "      <th>...</th>\n",
       "      <td>...</td>\n",
       "      <td>...</td>\n",
       "      <td>...</td>\n",
       "      <td>...</td>\n",
       "      <td>...</td>\n",
       "      <td>...</td>\n",
       "      <td>...</td>\n",
       "      <td>...</td>\n",
       "      <td>...</td>\n",
       "      <td>...</td>\n",
       "      <td>...</td>\n",
       "      <td>...</td>\n",
       "      <td>...</td>\n",
       "      <td>...</td>\n",
       "      <td>...</td>\n",
       "      <td>...</td>\n",
       "      <td>...</td>\n",
       "      <td>...</td>\n",
       "      <td>...</td>\n",
       "      <td>...</td>\n",
       "      <td>...</td>\n",
       "    </tr>\n",
       "    <tr>\n",
       "      <th>9201</th>\n",
       "      <td>4</td>\n",
       "      <td>1037</td>\n",
       "      <td>7</td>\n",
       "      <td>452</td>\n",
       "      <td>300</td>\n",
       "      <td>432</td>\n",
       "      <td>80</td>\n",
       "      <td>0</td>\n",
       "      <td>1</td>\n",
       "      <td>0</td>\n",
       "      <td>...</td>\n",
       "      <td>0</td>\n",
       "      <td>0</td>\n",
       "      <td>0</td>\n",
       "      <td>0</td>\n",
       "      <td>1</td>\n",
       "      <td>0</td>\n",
       "      <td>0</td>\n",
       "      <td>0.0</td>\n",
       "      <td>normal</td>\n",
       "      <td>0</td>\n",
       "    </tr>\n",
       "    <tr>\n",
       "      <th>9202</th>\n",
       "      <td>3</td>\n",
       "      <td>1059</td>\n",
       "      <td>7</td>\n",
       "      <td>439</td>\n",
       "      <td>296</td>\n",
       "      <td>431</td>\n",
       "      <td>88</td>\n",
       "      <td>0</td>\n",
       "      <td>1</td>\n",
       "      <td>0</td>\n",
       "      <td>...</td>\n",
       "      <td>0</td>\n",
       "      <td>0</td>\n",
       "      <td>0</td>\n",
       "      <td>0</td>\n",
       "      <td>1</td>\n",
       "      <td>0</td>\n",
       "      <td>0</td>\n",
       "      <td>0.0</td>\n",
       "      <td>normal</td>\n",
       "      <td>0</td>\n",
       "    </tr>\n",
       "    <tr>\n",
       "      <th>9203</th>\n",
       "      <td>4</td>\n",
       "      <td>1091</td>\n",
       "      <td>8</td>\n",
       "      <td>429</td>\n",
       "      <td>291</td>\n",
       "      <td>431</td>\n",
       "      <td>96</td>\n",
       "      <td>0</td>\n",
       "      <td>1</td>\n",
       "      <td>0</td>\n",
       "      <td>...</td>\n",
       "      <td>0</td>\n",
       "      <td>0</td>\n",
       "      <td>0</td>\n",
       "      <td>0</td>\n",
       "      <td>1</td>\n",
       "      <td>0</td>\n",
       "      <td>0</td>\n",
       "      <td>0.0</td>\n",
       "      <td>normal</td>\n",
       "      <td>0</td>\n",
       "    </tr>\n",
       "    <tr>\n",
       "      <th>9204</th>\n",
       "      <td>4</td>\n",
       "      <td>1131</td>\n",
       "      <td>8</td>\n",
       "      <td>417</td>\n",
       "      <td>288</td>\n",
       "      <td>421</td>\n",
       "      <td>96</td>\n",
       "      <td>0</td>\n",
       "      <td>1</td>\n",
       "      <td>0</td>\n",
       "      <td>...</td>\n",
       "      <td>0</td>\n",
       "      <td>0</td>\n",
       "      <td>0</td>\n",
       "      <td>0</td>\n",
       "      <td>1</td>\n",
       "      <td>0</td>\n",
       "      <td>0</td>\n",
       "      <td>0.0</td>\n",
       "      <td>normal</td>\n",
       "      <td>0</td>\n",
       "    </tr>\n",
       "    <tr>\n",
       "      <th>9205</th>\n",
       "      <td>4</td>\n",
       "      <td>1135</td>\n",
       "      <td>7</td>\n",
       "      <td>404</td>\n",
       "      <td>282</td>\n",
       "      <td>421</td>\n",
       "      <td>112</td>\n",
       "      <td>0</td>\n",
       "      <td>1</td>\n",
       "      <td>0</td>\n",
       "      <td>...</td>\n",
       "      <td>0</td>\n",
       "      <td>0</td>\n",
       "      <td>0</td>\n",
       "      <td>0</td>\n",
       "      <td>1</td>\n",
       "      <td>0</td>\n",
       "      <td>0</td>\n",
       "      <td>0.0</td>\n",
       "      <td>normal</td>\n",
       "      <td>0</td>\n",
       "    </tr>\n",
       "  </tbody>\n",
       "</table>\n",
       "<p>9206 rows × 43 columns</p>\n",
       "</div>"
      ],
      "text/plain": [
       "      tank_1  tank_2  tank_3  tank_4  tank_5  tank_6  tank_7  tank_8  pump_1  \\\n",
       "0          0       0       0       0       0       0       0       0       0   \n",
       "1          0       0       0       0       0       0       0       0       0   \n",
       "2          0       0       0       0       0       0       0       0       0   \n",
       "3          0       0       0       0       0       0       0       0       0   \n",
       "4          0       0       0       0       0       0       0       0       1   \n",
       "...      ...     ...     ...     ...     ...     ...     ...     ...     ...   \n",
       "9201       4    1037       7     452     300     432      80       0       1   \n",
       "9202       3    1059       7     439     296     431      88       0       1   \n",
       "9203       4    1091       8     429     291     431      96       0       1   \n",
       "9204       4    1131       8     417     288     421      96       0       1   \n",
       "9205       4    1135       7     404     282     421     112       0       1   \n",
       "\n",
       "      pump_2  ...  valv_16  valv_17  valv_18  valv_19  valv_20  valv_21  \\\n",
       "0          0  ...        0        0        0        0        0        0   \n",
       "1          0  ...        0        0        0        0        0        0   \n",
       "2          0  ...        0        0        0        0        0        0   \n",
       "3          0  ...        0        0        0        0        0        0   \n",
       "4          1  ...        0        0        0        0        0        0   \n",
       "...      ...  ...      ...      ...      ...      ...      ...      ...   \n",
       "9201       0  ...        0        0        0        0        1        0   \n",
       "9202       0  ...        0        0        0        0        1        0   \n",
       "9203       0  ...        0        0        0        0        1        0   \n",
       "9204       0  ...        0        0        0        0        1        0   \n",
       "9205       0  ...        0        0        0        0        1        0   \n",
       "\n",
       "      valv_22  label_n   label  attack  \n",
       "0           0      0.0  normal       1  \n",
       "1           0      0.0  normal       1  \n",
       "2           0      0.0  normal       1  \n",
       "3           0      0.0  normal       1  \n",
       "4           0      0.0  normal       1  \n",
       "...       ...      ...     ...     ...  \n",
       "9201        0      0.0  normal       0  \n",
       "9202        0      0.0  normal       0  \n",
       "9203        0      0.0  normal       0  \n",
       "9204        0      0.0  normal       0  \n",
       "9205        0      0.0  normal       0  \n",
       "\n",
       "[9206 rows x 43 columns]"
      ]
     },
     "execution_count": 311,
     "metadata": {},
     "output_type": "execute_result"
    }
   ],
   "source": [
    "df_physical_no_context = remove_physical_contextual_columns(df_physical)\n",
    "df_physical_no_context"
   ]
  },
  {
   "cell_type": "code",
   "execution_count": 312,
   "metadata": {},
   "outputs": [
    {
     "data": {
      "text/html": [
       "<div>\n",
       "<style scoped>\n",
       "    .dataframe tbody tr th:only-of-type {\n",
       "        vertical-align: middle;\n",
       "    }\n",
       "\n",
       "    .dataframe tbody tr th {\n",
       "        vertical-align: top;\n",
       "    }\n",
       "\n",
       "    .dataframe thead th {\n",
       "        text-align: right;\n",
       "    }\n",
       "</style>\n",
       "<table border=\"1\" class=\"dataframe\">\n",
       "  <thead>\n",
       "    <tr style=\"text-align: right;\">\n",
       "      <th></th>\n",
       "      <th>tank_1</th>\n",
       "      <th>tank_2</th>\n",
       "      <th>tank_3</th>\n",
       "      <th>tank_4</th>\n",
       "      <th>tank_5</th>\n",
       "      <th>tank_6</th>\n",
       "      <th>tank_7</th>\n",
       "      <th>tank_8</th>\n",
       "      <th>pump_1</th>\n",
       "      <th>pump_2</th>\n",
       "      <th>...</th>\n",
       "      <th>valv_13</th>\n",
       "      <th>valv_14</th>\n",
       "      <th>valv_15</th>\n",
       "      <th>valv_16</th>\n",
       "      <th>valv_17</th>\n",
       "      <th>valv_18</th>\n",
       "      <th>valv_19</th>\n",
       "      <th>valv_20</th>\n",
       "      <th>valv_21</th>\n",
       "      <th>valv_22</th>\n",
       "    </tr>\n",
       "  </thead>\n",
       "  <tbody>\n",
       "    <tr>\n",
       "      <th>0</th>\n",
       "      <td>0</td>\n",
       "      <td>0</td>\n",
       "      <td>0</td>\n",
       "      <td>0</td>\n",
       "      <td>0</td>\n",
       "      <td>0</td>\n",
       "      <td>0</td>\n",
       "      <td>0</td>\n",
       "      <td>0</td>\n",
       "      <td>0</td>\n",
       "      <td>...</td>\n",
       "      <td>0</td>\n",
       "      <td>0</td>\n",
       "      <td>0</td>\n",
       "      <td>0</td>\n",
       "      <td>0</td>\n",
       "      <td>0</td>\n",
       "      <td>0</td>\n",
       "      <td>0</td>\n",
       "      <td>0</td>\n",
       "      <td>0</td>\n",
       "    </tr>\n",
       "    <tr>\n",
       "      <th>1</th>\n",
       "      <td>0</td>\n",
       "      <td>0</td>\n",
       "      <td>0</td>\n",
       "      <td>0</td>\n",
       "      <td>0</td>\n",
       "      <td>0</td>\n",
       "      <td>0</td>\n",
       "      <td>0</td>\n",
       "      <td>0</td>\n",
       "      <td>0</td>\n",
       "      <td>...</td>\n",
       "      <td>0</td>\n",
       "      <td>0</td>\n",
       "      <td>0</td>\n",
       "      <td>0</td>\n",
       "      <td>0</td>\n",
       "      <td>0</td>\n",
       "      <td>0</td>\n",
       "      <td>0</td>\n",
       "      <td>0</td>\n",
       "      <td>0</td>\n",
       "    </tr>\n",
       "    <tr>\n",
       "      <th>2</th>\n",
       "      <td>0</td>\n",
       "      <td>0</td>\n",
       "      <td>0</td>\n",
       "      <td>0</td>\n",
       "      <td>0</td>\n",
       "      <td>0</td>\n",
       "      <td>0</td>\n",
       "      <td>0</td>\n",
       "      <td>0</td>\n",
       "      <td>0</td>\n",
       "      <td>...</td>\n",
       "      <td>0</td>\n",
       "      <td>0</td>\n",
       "      <td>0</td>\n",
       "      <td>0</td>\n",
       "      <td>0</td>\n",
       "      <td>0</td>\n",
       "      <td>0</td>\n",
       "      <td>0</td>\n",
       "      <td>0</td>\n",
       "      <td>0</td>\n",
       "    </tr>\n",
       "    <tr>\n",
       "      <th>3</th>\n",
       "      <td>0</td>\n",
       "      <td>0</td>\n",
       "      <td>0</td>\n",
       "      <td>0</td>\n",
       "      <td>0</td>\n",
       "      <td>0</td>\n",
       "      <td>0</td>\n",
       "      <td>0</td>\n",
       "      <td>0</td>\n",
       "      <td>0</td>\n",
       "      <td>...</td>\n",
       "      <td>0</td>\n",
       "      <td>0</td>\n",
       "      <td>0</td>\n",
       "      <td>0</td>\n",
       "      <td>0</td>\n",
       "      <td>0</td>\n",
       "      <td>0</td>\n",
       "      <td>0</td>\n",
       "      <td>0</td>\n",
       "      <td>0</td>\n",
       "    </tr>\n",
       "    <tr>\n",
       "      <th>4</th>\n",
       "      <td>0</td>\n",
       "      <td>0</td>\n",
       "      <td>0</td>\n",
       "      <td>0</td>\n",
       "      <td>0</td>\n",
       "      <td>0</td>\n",
       "      <td>0</td>\n",
       "      <td>0</td>\n",
       "      <td>1</td>\n",
       "      <td>1</td>\n",
       "      <td>...</td>\n",
       "      <td>0</td>\n",
       "      <td>0</td>\n",
       "      <td>0</td>\n",
       "      <td>0</td>\n",
       "      <td>0</td>\n",
       "      <td>0</td>\n",
       "      <td>0</td>\n",
       "      <td>0</td>\n",
       "      <td>0</td>\n",
       "      <td>0</td>\n",
       "    </tr>\n",
       "  </tbody>\n",
       "</table>\n",
       "<p>5 rows × 40 columns</p>\n",
       "</div>"
      ],
      "text/plain": [
       "   tank_1  tank_2  tank_3  tank_4  tank_5  tank_6  tank_7  tank_8  pump_1  \\\n",
       "0       0       0       0       0       0       0       0       0       0   \n",
       "1       0       0       0       0       0       0       0       0       0   \n",
       "2       0       0       0       0       0       0       0       0       0   \n",
       "3       0       0       0       0       0       0       0       0       0   \n",
       "4       0       0       0       0       0       0       0       0       1   \n",
       "\n",
       "   pump_2  ...  valv_13  valv_14  valv_15  valv_16  valv_17  valv_18  valv_19  \\\n",
       "0       0  ...        0        0        0        0        0        0        0   \n",
       "1       0  ...        0        0        0        0        0        0        0   \n",
       "2       0  ...        0        0        0        0        0        0        0   \n",
       "3       0  ...        0        0        0        0        0        0        0   \n",
       "4       1  ...        0        0        0        0        0        0        0   \n",
       "\n",
       "   valv_20  valv_21  valv_22  \n",
       "0        0        0        0  \n",
       "1        0        0        0  \n",
       "2        0        0        0  \n",
       "3        0        0        0  \n",
       "4        0        0        0  \n",
       "\n",
       "[5 rows x 40 columns]"
      ]
     },
     "execution_count": 312,
     "metadata": {},
     "output_type": "execute_result"
    }
   ],
   "source": [
    "df_physical_prepared, df_physical_labels = prepare_HTIL_physical_dataset(df_physical_no_context)\n",
    "df_physical_prepared.head()"
   ]
  },
  {
   "cell_type": "code",
   "execution_count": 313,
   "metadata": {},
   "outputs": [
    {
     "data": {
      "text/plain": [
       "((7364, 40), (1842, 40), (7364, 2), (1842, 2))"
      ]
     },
     "execution_count": 313,
     "metadata": {},
     "output_type": "execute_result"
    }
   ],
   "source": [
    "X_train, X_test, y_train, y_test = train_test_split(df_physical_prepared, df_physical_labels[[\"new_labels\", \"label_n\"]], test_size=0.2, random_state=random_state)\n",
    "X_train.shape, X_test.shape, y_train.shape, y_test.shape"
   ]
  },
  {
   "cell_type": "code",
   "execution_count": 314,
   "metadata": {},
   "outputs": [],
   "source": [
    "params = {\n",
    "    'max_depth': 8,\n",
    "    'criterion': 'gini',\n",
    "    'splitter': 'best',\n",
    "    'random_state': random_state\n",
    "}\n",
    "\n",
    "clf = DecisionTreeClassifier(**params)"
   ]
  },
  {
   "cell_type": "code",
   "execution_count": 315,
   "metadata": {},
   "outputs": [
    {
     "name": "stderr",
     "output_type": "stream",
     "text": [
      "/Users/theoripoll/.pyenv/versions/3.11.2/envs/env_MLSECU_PROJECT/lib/python3.11/site-packages/sklearn/utils/validation.py:757: FutureWarning: is_sparse is deprecated and will be removed in a future version. Check `isinstance(dtype, pd.SparseDtype)` instead.\n",
      "  if not hasattr(array, \"sparse\") and array.dtypes.apply(is_sparse).any():\n",
      "/Users/theoripoll/.pyenv/versions/3.11.2/envs/env_MLSECU_PROJECT/lib/python3.11/site-packages/sklearn/utils/validation.py:595: FutureWarning: is_sparse is deprecated and will be removed in a future version. Check `isinstance(dtype, pd.SparseDtype)` instead.\n",
      "  if is_sparse(pd_dtype):\n",
      "/Users/theoripoll/.pyenv/versions/3.11.2/envs/env_MLSECU_PROJECT/lib/python3.11/site-packages/sklearn/utils/validation.py:604: FutureWarning: is_sparse is deprecated and will be removed in a future version. Check `isinstance(dtype, pd.SparseDtype)` instead.\n",
      "  if is_sparse(pd_dtype) or not is_extension_array_dtype(pd_dtype):\n",
      "/Users/theoripoll/.pyenv/versions/3.11.2/envs/env_MLSECU_PROJECT/lib/python3.11/site-packages/sklearn/utils/validation.py:757: FutureWarning: is_sparse is deprecated and will be removed in a future version. Check `isinstance(dtype, pd.SparseDtype)` instead.\n",
      "  if not hasattr(array, \"sparse\") and array.dtypes.apply(is_sparse).any():\n",
      "/Users/theoripoll/.pyenv/versions/3.11.2/envs/env_MLSECU_PROJECT/lib/python3.11/site-packages/sklearn/utils/validation.py:595: FutureWarning: is_sparse is deprecated and will be removed in a future version. Check `isinstance(dtype, pd.SparseDtype)` instead.\n",
      "  if is_sparse(pd_dtype):\n",
      "/Users/theoripoll/.pyenv/versions/3.11.2/envs/env_MLSECU_PROJECT/lib/python3.11/site-packages/sklearn/utils/validation.py:604: FutureWarning: is_sparse is deprecated and will be removed in a future version. Check `isinstance(dtype, pd.SparseDtype)` instead.\n",
      "  if is_sparse(pd_dtype) or not is_extension_array_dtype(pd_dtype):\n"
     ]
    },
    {
     "data": {
      "text/html": [
       "<style>#sk-container-id-2 {color: black;background-color: white;}#sk-container-id-2 pre{padding: 0;}#sk-container-id-2 div.sk-toggleable {background-color: white;}#sk-container-id-2 label.sk-toggleable__label {cursor: pointer;display: block;width: 100%;margin-bottom: 0;padding: 0.3em;box-sizing: border-box;text-align: center;}#sk-container-id-2 label.sk-toggleable__label-arrow:before {content: \"▸\";float: left;margin-right: 0.25em;color: #696969;}#sk-container-id-2 label.sk-toggleable__label-arrow:hover:before {color: black;}#sk-container-id-2 div.sk-estimator:hover label.sk-toggleable__label-arrow:before {color: black;}#sk-container-id-2 div.sk-toggleable__content {max-height: 0;max-width: 0;overflow: hidden;text-align: left;background-color: #f0f8ff;}#sk-container-id-2 div.sk-toggleable__content pre {margin: 0.2em;color: black;border-radius: 0.25em;background-color: #f0f8ff;}#sk-container-id-2 input.sk-toggleable__control:checked~div.sk-toggleable__content {max-height: 200px;max-width: 100%;overflow: auto;}#sk-container-id-2 input.sk-toggleable__control:checked~label.sk-toggleable__label-arrow:before {content: \"▾\";}#sk-container-id-2 div.sk-estimator input.sk-toggleable__control:checked~label.sk-toggleable__label {background-color: #d4ebff;}#sk-container-id-2 div.sk-label input.sk-toggleable__control:checked~label.sk-toggleable__label {background-color: #d4ebff;}#sk-container-id-2 input.sk-hidden--visually {border: 0;clip: rect(1px 1px 1px 1px);clip: rect(1px, 1px, 1px, 1px);height: 1px;margin: -1px;overflow: hidden;padding: 0;position: absolute;width: 1px;}#sk-container-id-2 div.sk-estimator {font-family: monospace;background-color: #f0f8ff;border: 1px dotted black;border-radius: 0.25em;box-sizing: border-box;margin-bottom: 0.5em;}#sk-container-id-2 div.sk-estimator:hover {background-color: #d4ebff;}#sk-container-id-2 div.sk-parallel-item::after {content: \"\";width: 100%;border-bottom: 1px solid gray;flex-grow: 1;}#sk-container-id-2 div.sk-label:hover label.sk-toggleable__label {background-color: #d4ebff;}#sk-container-id-2 div.sk-serial::before {content: \"\";position: absolute;border-left: 1px solid gray;box-sizing: border-box;top: 0;bottom: 0;left: 50%;z-index: 0;}#sk-container-id-2 div.sk-serial {display: flex;flex-direction: column;align-items: center;background-color: white;padding-right: 0.2em;padding-left: 0.2em;position: relative;}#sk-container-id-2 div.sk-item {position: relative;z-index: 1;}#sk-container-id-2 div.sk-parallel {display: flex;align-items: stretch;justify-content: center;background-color: white;position: relative;}#sk-container-id-2 div.sk-item::before, #sk-container-id-2 div.sk-parallel-item::before {content: \"\";position: absolute;border-left: 1px solid gray;box-sizing: border-box;top: 0;bottom: 0;left: 50%;z-index: -1;}#sk-container-id-2 div.sk-parallel-item {display: flex;flex-direction: column;z-index: 1;position: relative;background-color: white;}#sk-container-id-2 div.sk-parallel-item:first-child::after {align-self: flex-end;width: 50%;}#sk-container-id-2 div.sk-parallel-item:last-child::after {align-self: flex-start;width: 50%;}#sk-container-id-2 div.sk-parallel-item:only-child::after {width: 0;}#sk-container-id-2 div.sk-dashed-wrapped {border: 1px dashed gray;margin: 0 0.4em 0.5em 0.4em;box-sizing: border-box;padding-bottom: 0.4em;background-color: white;}#sk-container-id-2 div.sk-label label {font-family: monospace;font-weight: bold;display: inline-block;line-height: 1.2em;}#sk-container-id-2 div.sk-label-container {text-align: center;}#sk-container-id-2 div.sk-container {/* jupyter's `normalize.less` sets `[hidden] { display: none; }` but bootstrap.min.css set `[hidden] { display: none !important; }` so we also need the `!important` here to be able to override the default hidden behavior on the sphinx rendered scikit-learn.org. See: https://github.com/scikit-learn/scikit-learn/issues/21755 */display: inline-block !important;position: relative;}#sk-container-id-2 div.sk-text-repr-fallback {display: none;}</style><div id=\"sk-container-id-2\" class=\"sk-top-container\"><div class=\"sk-text-repr-fallback\"><pre>Pipeline(steps=[(&#x27;standardscaler&#x27;, StandardScaler()),\n",
       "                (&#x27;decisiontreeclassifier&#x27;,\n",
       "                 DecisionTreeClassifier(max_depth=8, random_state=42))])</pre><b>In a Jupyter environment, please rerun this cell to show the HTML representation or trust the notebook. <br />On GitHub, the HTML representation is unable to render, please try loading this page with nbviewer.org.</b></div><div class=\"sk-container\" hidden><div class=\"sk-item sk-dashed-wrapped\"><div class=\"sk-label-container\"><div class=\"sk-label sk-toggleable\"><input class=\"sk-toggleable__control sk-hidden--visually\" id=\"sk-estimator-id-4\" type=\"checkbox\" ><label for=\"sk-estimator-id-4\" class=\"sk-toggleable__label sk-toggleable__label-arrow\">Pipeline</label><div class=\"sk-toggleable__content\"><pre>Pipeline(steps=[(&#x27;standardscaler&#x27;, StandardScaler()),\n",
       "                (&#x27;decisiontreeclassifier&#x27;,\n",
       "                 DecisionTreeClassifier(max_depth=8, random_state=42))])</pre></div></div></div><div class=\"sk-serial\"><div class=\"sk-item\"><div class=\"sk-estimator sk-toggleable\"><input class=\"sk-toggleable__control sk-hidden--visually\" id=\"sk-estimator-id-5\" type=\"checkbox\" ><label for=\"sk-estimator-id-5\" class=\"sk-toggleable__label sk-toggleable__label-arrow\">StandardScaler</label><div class=\"sk-toggleable__content\"><pre>StandardScaler()</pre></div></div></div><div class=\"sk-item\"><div class=\"sk-estimator sk-toggleable\"><input class=\"sk-toggleable__control sk-hidden--visually\" id=\"sk-estimator-id-6\" type=\"checkbox\" ><label for=\"sk-estimator-id-6\" class=\"sk-toggleable__label sk-toggleable__label-arrow\">DecisionTreeClassifier</label><div class=\"sk-toggleable__content\"><pre>DecisionTreeClassifier(max_depth=8, random_state=42)</pre></div></div></div></div></div></div></div>"
      ],
      "text/plain": [
       "Pipeline(steps=[('standardscaler', StandardScaler()),\n",
       "                ('decisiontreeclassifier',\n",
       "                 DecisionTreeClassifier(max_depth=8, random_state=42))])"
      ]
     },
     "execution_count": 315,
     "metadata": {},
     "output_type": "execute_result"
    }
   ],
   "source": [
    "pipeline = make_pipeline(\n",
    "    StandardScaler(),\n",
    "    clf\n",
    ")\n",
    "\n",
    "pipeline.fit(X_train, y_train[\"new_labels\"])"
   ]
  },
  {
   "cell_type": "code",
   "execution_count": 316,
   "metadata": {},
   "outputs": [
    {
     "name": "stderr",
     "output_type": "stream",
     "text": [
      "/Users/theoripoll/.pyenv/versions/3.11.2/envs/env_MLSECU_PROJECT/lib/python3.11/site-packages/sklearn/utils/validation.py:757: FutureWarning: is_sparse is deprecated and will be removed in a future version. Check `isinstance(dtype, pd.SparseDtype)` instead.\n",
      "  if not hasattr(array, \"sparse\") and array.dtypes.apply(is_sparse).any():\n",
      "/Users/theoripoll/.pyenv/versions/3.11.2/envs/env_MLSECU_PROJECT/lib/python3.11/site-packages/sklearn/utils/validation.py:595: FutureWarning: is_sparse is deprecated and will be removed in a future version. Check `isinstance(dtype, pd.SparseDtype)` instead.\n",
      "  if is_sparse(pd_dtype):\n",
      "/Users/theoripoll/.pyenv/versions/3.11.2/envs/env_MLSECU_PROJECT/lib/python3.11/site-packages/sklearn/utils/validation.py:604: FutureWarning: is_sparse is deprecated and will be removed in a future version. Check `isinstance(dtype, pd.SparseDtype)` instead.\n",
      "  if is_sparse(pd_dtype) or not is_extension_array_dtype(pd_dtype):\n"
     ]
    }
   ],
   "source": [
    "preds = pipeline.predict(X_test)"
   ]
  },
  {
   "cell_type": "code",
   "execution_count": 317,
   "metadata": {},
   "outputs": [
    {
     "name": "stdout",
     "output_type": "stream",
     "text": [
      "Accuracy:  0.9098805646036916\n",
      "Recall:  0.6005756884527672\n",
      "F1:  0.6716904212164876\n",
      "MCC:  0.6660129300122372\n",
      "Balanced accuracy:  0.6005756884527672\n"
     ]
    }
   ],
   "source": [
    "print(\"Accuracy: \", accuracy_score(y_test[\"new_labels\"], preds.round()))\n",
    "print(\"Recall: \", recall_score(y_test[\"new_labels\"], preds.round(), average=\"macro\"))\n",
    "print(\"F1: \", f1_score(y_test[\"new_labels\"], preds.round(), average=\"macro\"))\n",
    "print(\"MCC: \", matthews_corrcoef(y_test[\"new_labels\"], preds.round()))\n",
    "print(\"Balanced accuracy: \", balanced_accuracy_score(y_test[\"new_labels\"], preds.round()))"
   ]
  },
  {
   "cell_type": "code",
   "execution_count": 318,
   "metadata": {},
   "outputs": [
    {
     "data": {
      "image/png": "[encoded data removed]",
      "text/plain": [
       "<Figure size 600x600 with 2 Axes>"
      ]
     },
     "metadata": {},
     "output_type": "display_data"
    }
   ],
   "source": [
    "plot_confusion_matrix(y_test[\"new_labels\"], preds.round(), title=\"Confusion matrix for the test set\")"
   ]
  },
  {
   "cell_type": "markdown",
   "metadata": {},
   "source": [
    "It is still not great, but it's better than before. We will try to fix this by using the `class_weight` parameter."
   ]
  },
  {
   "cell_type": "code",
   "execution_count": 319,
   "metadata": {},
   "outputs": [
    {
     "data": {
      "image/png": "[encoded data removed]",
      "text/plain": [
       "<Figure size 1500x600 with 1 Axes>"
      ]
     },
     "metadata": {},
     "output_type": "display_data"
    }
   ],
   "source": [
    "plot_feature_importance(clf)"
   ]
  },
  {
   "cell_type": "code",
   "execution_count": 320,
   "metadata": {},
   "outputs": [
    {
     "name": "stderr",
     "output_type": "stream",
     "text": [
      "/Users/theoripoll/.pyenv/versions/3.11.2/envs/env_MLSECU_PROJECT/lib/python3.11/site-packages/sklearn/utils/validation.py:757: FutureWarning: is_sparse is deprecated and will be removed in a future version. Check `isinstance(dtype, pd.SparseDtype)` instead.\n",
      "  if not hasattr(array, \"sparse\") and array.dtypes.apply(is_sparse).any():\n",
      "/Users/theoripoll/.pyenv/versions/3.11.2/envs/env_MLSECU_PROJECT/lib/python3.11/site-packages/sklearn/utils/validation.py:595: FutureWarning: is_sparse is deprecated and will be removed in a future version. Check `isinstance(dtype, pd.SparseDtype)` instead.\n",
      "  if is_sparse(pd_dtype):\n",
      "/Users/theoripoll/.pyenv/versions/3.11.2/envs/env_MLSECU_PROJECT/lib/python3.11/site-packages/sklearn/utils/validation.py:604: FutureWarning: is_sparse is deprecated and will be removed in a future version. Check `isinstance(dtype, pd.SparseDtype)` instead.\n",
      "  if is_sparse(pd_dtype) or not is_extension_array_dtype(pd_dtype):\n",
      "/Users/theoripoll/.pyenv/versions/3.11.2/envs/env_MLSECU_PROJECT/lib/python3.11/site-packages/sklearn/utils/validation.py:757: FutureWarning: is_sparse is deprecated and will be removed in a future version. Check `isinstance(dtype, pd.SparseDtype)` instead.\n",
      "  if not hasattr(array, \"sparse\") and array.dtypes.apply(is_sparse).any():\n",
      "/Users/theoripoll/.pyenv/versions/3.11.2/envs/env_MLSECU_PROJECT/lib/python3.11/site-packages/sklearn/utils/validation.py:595: FutureWarning: is_sparse is deprecated and will be removed in a future version. Check `isinstance(dtype, pd.SparseDtype)` instead.\n",
      "  if is_sparse(pd_dtype):\n",
      "/Users/theoripoll/.pyenv/versions/3.11.2/envs/env_MLSECU_PROJECT/lib/python3.11/site-packages/sklearn/utils/validation.py:604: FutureWarning: is_sparse is deprecated and will be removed in a future version. Check `isinstance(dtype, pd.SparseDtype)` instead.\n",
      "  if is_sparse(pd_dtype) or not is_extension_array_dtype(pd_dtype):\n",
      "/Users/theoripoll/.pyenv/versions/3.11.2/envs/env_MLSECU_PROJECT/lib/python3.11/site-packages/sklearn/utils/validation.py:757: FutureWarning: is_sparse is deprecated and will be removed in a future version. Check `isinstance(dtype, pd.SparseDtype)` instead.\n",
      "  if not hasattr(array, \"sparse\") and array.dtypes.apply(is_sparse).any():\n",
      "/Users/theoripoll/.pyenv/versions/3.11.2/envs/env_MLSECU_PROJECT/lib/python3.11/site-packages/sklearn/utils/validation.py:595: FutureWarning: is_sparse is deprecated and will be removed in a future version. Check `isinstance(dtype, pd.SparseDtype)` instead.\n",
      "  if is_sparse(pd_dtype):\n",
      "/Users/theoripoll/.pyenv/versions/3.11.2/envs/env_MLSECU_PROJECT/lib/python3.11/site-packages/sklearn/utils/validation.py:604: FutureWarning: is_sparse is deprecated and will be removed in a future version. Check `isinstance(dtype, pd.SparseDtype)` instead.\n",
      "  if is_sparse(pd_dtype) or not is_extension_array_dtype(pd_dtype):\n"
     ]
    },
    {
     "name": "stdout",
     "output_type": "stream",
     "text": [
      "Accuracy:  0.8610206297502715\n",
      "Recall:  0.905293469919902\n",
      "F1:  0.8210253799620744\n",
      "MCC:  0.6657174507771821\n",
      "Balanced accuracy:  0.905293469919902\n"
     ]
    },
    {
     "data": {
      "image/png": "[encoded data removed]",
      "text/plain": [
       "<Figure size 600x600 with 2 Axes>"
      ]
     },
     "metadata": {},
     "output_type": "display_data"
    },
    {
     "data": {
      "image/png": "[encoded data removed]",
      "text/plain": [
       "<Figure size 1500x600 with 1 Axes>"
      ]
     },
     "metadata": {},
     "output_type": "display_data"
    }
   ],
   "source": [
    "# class weight training on decision tree\n",
    "params = {\n",
    "    'max_depth': 8,\n",
    "    'criterion': 'gini',\n",
    "    'splitter': 'best',\n",
    "    'random_state': random_state,\n",
    "    'class_weight': 'balanced'\n",
    "}\n",
    "\n",
    "clf = DecisionTreeClassifier(**params)\n",
    "\n",
    "pipeline = make_pipeline(\n",
    "    StandardScaler(),\n",
    "    clf\n",
    ")\n",
    "\n",
    "# remove 4th class\n",
    "X_train = X_train[y_train[\"new_labels\"] != 4]\n",
    "y_train = y_train[y_train[\"new_labels\"] != 4]\n",
    "X_test = X_test[y_test[\"new_labels\"] != 4]\n",
    "y_test = y_test[y_test[\"new_labels\"] != 4]\n",
    "\n",
    "pipeline.fit(X_train, y_train[\"new_labels\"])\n",
    "\n",
    "preds = pipeline.predict(X_test)\n",
    "\n",
    "print(\"Accuracy: \", accuracy_score(y_test[\"new_labels\"], preds.round()))\n",
    "print(\"Recall: \", recall_score(y_test[\"new_labels\"], preds.round(), average=\"macro\"))\n",
    "print(\"F1: \", f1_score(y_test[\"new_labels\"], preds.round(), average=\"macro\"))\n",
    "print(\"MCC: \", matthews_corrcoef(y_test[\"new_labels\"], preds.round()))\n",
    "print(\"Balanced accuracy: \", balanced_accuracy_score(y_test[\"new_labels\"], preds.round()))\n",
    "\n",
    "plot_confusion_matrix(y_test[\"new_labels\"], preds.round(), title=\"Confusion matrix for the test set\")\n",
    "\n",
    "plot_feature_importance(clf)"
   ]
  },
  {
   "cell_type": "markdown",
   "metadata": {},
   "source": [
    "After applying the balanced class weight, the results are better. The model is able to detect 100% of the anomalies, but it has a lot of confusion between 2->1 and 3->2."
   ]
  },
  {
   "cell_type": "markdown",
   "metadata": {},
   "source": [
    "### b. Random Forest"
   ]
  },
  {
   "cell_type": "markdown",
   "metadata": {},
   "source": [
    "Let's apply the balanced class weights everytime from now on."
   ]
  },
  {
   "cell_type": "code",
   "execution_count": 321,
   "metadata": {},
   "outputs": [
    {
     "name": "stderr",
     "output_type": "stream",
     "text": [
      "/Users/theoripoll/.pyenv/versions/3.11.2/envs/env_MLSECU_PROJECT/lib/python3.11/site-packages/sklearn/utils/validation.py:757: FutureWarning: is_sparse is deprecated and will be removed in a future version. Check `isinstance(dtype, pd.SparseDtype)` instead.\n",
      "  if not hasattr(array, \"sparse\") and array.dtypes.apply(is_sparse).any():\n",
      "/Users/theoripoll/.pyenv/versions/3.11.2/envs/env_MLSECU_PROJECT/lib/python3.11/site-packages/sklearn/utils/validation.py:595: FutureWarning: is_sparse is deprecated and will be removed in a future version. Check `isinstance(dtype, pd.SparseDtype)` instead.\n",
      "  if is_sparse(pd_dtype):\n",
      "/Users/theoripoll/.pyenv/versions/3.11.2/envs/env_MLSECU_PROJECT/lib/python3.11/site-packages/sklearn/utils/validation.py:604: FutureWarning: is_sparse is deprecated and will be removed in a future version. Check `isinstance(dtype, pd.SparseDtype)` instead.\n",
      "  if is_sparse(pd_dtype) or not is_extension_array_dtype(pd_dtype):\n",
      "/Users/theoripoll/.pyenv/versions/3.11.2/envs/env_MLSECU_PROJECT/lib/python3.11/site-packages/sklearn/utils/validation.py:757: FutureWarning: is_sparse is deprecated and will be removed in a future version. Check `isinstance(dtype, pd.SparseDtype)` instead.\n",
      "  if not hasattr(array, \"sparse\") and array.dtypes.apply(is_sparse).any():\n",
      "/Users/theoripoll/.pyenv/versions/3.11.2/envs/env_MLSECU_PROJECT/lib/python3.11/site-packages/sklearn/utils/validation.py:595: FutureWarning: is_sparse is deprecated and will be removed in a future version. Check `isinstance(dtype, pd.SparseDtype)` instead.\n",
      "  if is_sparse(pd_dtype):\n",
      "/Users/theoripoll/.pyenv/versions/3.11.2/envs/env_MLSECU_PROJECT/lib/python3.11/site-packages/sklearn/utils/validation.py:604: FutureWarning: is_sparse is deprecated and will be removed in a future version. Check `isinstance(dtype, pd.SparseDtype)` instead.\n",
      "  if is_sparse(pd_dtype) or not is_extension_array_dtype(pd_dtype):\n",
      "/Users/theoripoll/.pyenv/versions/3.11.2/envs/env_MLSECU_PROJECT/lib/python3.11/site-packages/sklearn/utils/validation.py:757: FutureWarning: is_sparse is deprecated and will be removed in a future version. Check `isinstance(dtype, pd.SparseDtype)` instead.\n",
      "  if not hasattr(array, \"sparse\") and array.dtypes.apply(is_sparse).any():\n",
      "/Users/theoripoll/.pyenv/versions/3.11.2/envs/env_MLSECU_PROJECT/lib/python3.11/site-packages/sklearn/utils/validation.py:595: FutureWarning: is_sparse is deprecated and will be removed in a future version. Check `isinstance(dtype, pd.SparseDtype)` instead.\n",
      "  if is_sparse(pd_dtype):\n",
      "/Users/theoripoll/.pyenv/versions/3.11.2/envs/env_MLSECU_PROJECT/lib/python3.11/site-packages/sklearn/utils/validation.py:604: FutureWarning: is_sparse is deprecated and will be removed in a future version. Check `isinstance(dtype, pd.SparseDtype)` instead.\n",
      "  if is_sparse(pd_dtype) or not is_extension_array_dtype(pd_dtype):\n"
     ]
    },
    {
     "name": "stdout",
     "output_type": "stream",
     "text": [
      "Accuracy:  0.9201954397394136\n",
      "Recall:  0.9509380587101528\n",
      "F1:  0.8842700752905684\n",
      "MCC:  0.7889849844064595\n",
      "Balanced accuracy:  0.9509380587101528\n"
     ]
    },
    {
     "data": {
      "image/png": "[encoded data removed]",
      "text/plain": [
       "<Figure size 600x600 with 2 Axes>"
      ]
     },
     "metadata": {},
     "output_type": "display_data"
    }
   ],
   "source": [
    "# random forest classification on the X_train, X_test, y_train, y_test datasets\n",
    "from sklearn.ensemble import RandomForestClassifier\n",
    "\n",
    "params = {\n",
    "    'max_depth': 8,\n",
    "    'criterion': 'gini',\n",
    "    'n_estimators': 100,\n",
    "    'random_state': 42,\n",
    "    'class_weight': 'balanced'\n",
    "}\n",
    "\n",
    "clf = RandomForestClassifier(**params)\n",
    "\n",
    "pipeline = make_pipeline(\n",
    "    StandardScaler(),\n",
    "    clf\n",
    ")\n",
    "\n",
    "pipeline.fit(X_train, y_train[\"new_labels\"])\n",
    "\n",
    "preds = pipeline.predict(X_test)\n",
    "\n",
    "print(\"Accuracy: \", accuracy_score(y_test[\"new_labels\"], preds.round()))\n",
    "print(\"Recall: \", recall_score(y_test[\"new_labels\"], preds.round(), average=\"macro\"))\n",
    "print(\"F1: \", f1_score(y_test[\"new_labels\"], preds.round(), average=\"macro\"))\n",
    "print(\"MCC: \", matthews_corrcoef(y_test[\"new_labels\"], preds.round()))\n",
    "print(\"Balanced accuracy: \", balanced_accuracy_score(y_test[\"new_labels\"], preds.round()))\n",
    "\n",
    "plot_confusion_matrix(y_test[\"new_labels\"], preds.round(), title=\"Confusion matrix for the test set\")"
   ]
  },
  {
   "cell_type": "code",
   "execution_count": 322,
   "metadata": {},
   "outputs": [
    {
     "data": {
      "image/png": "[encoded data removed]",
      "text/plain": [
       "<Figure size 1500x600 with 1 Axes>"
      ]
     },
     "metadata": {},
     "output_type": "display_data"
    }
   ],
   "source": [
    "plot_feature_importance(clf)"
   ]
  },
  {
   "cell_type": "markdown",
   "metadata": {},
   "source": [
    "Solid results."
   ]
  },
  {
   "cell_type": "markdown",
   "metadata": {},
   "source": [
    "### c. XGBoost"
   ]
  },
  {
   "cell_type": "code",
   "execution_count": 323,
   "metadata": {},
   "outputs": [
    {
     "name": "stderr",
     "output_type": "stream",
     "text": [
      "/Users/theoripoll/.pyenv/versions/3.11.2/envs/env_MLSECU_PROJECT/lib/python3.11/site-packages/sklearn/utils/validation.py:757: FutureWarning: is_sparse is deprecated and will be removed in a future version. Check `isinstance(dtype, pd.SparseDtype)` instead.\n",
      "  if not hasattr(array, \"sparse\") and array.dtypes.apply(is_sparse).any():\n",
      "/Users/theoripoll/.pyenv/versions/3.11.2/envs/env_MLSECU_PROJECT/lib/python3.11/site-packages/sklearn/utils/validation.py:595: FutureWarning: is_sparse is deprecated and will be removed in a future version. Check `isinstance(dtype, pd.SparseDtype)` instead.\n",
      "  if is_sparse(pd_dtype):\n",
      "/Users/theoripoll/.pyenv/versions/3.11.2/envs/env_MLSECU_PROJECT/lib/python3.11/site-packages/sklearn/utils/validation.py:604: FutureWarning: is_sparse is deprecated and will be removed in a future version. Check `isinstance(dtype, pd.SparseDtype)` instead.\n",
      "  if is_sparse(pd_dtype) or not is_extension_array_dtype(pd_dtype):\n",
      "/Users/theoripoll/.pyenv/versions/3.11.2/envs/env_MLSECU_PROJECT/lib/python3.11/site-packages/sklearn/utils/validation.py:757: FutureWarning: is_sparse is deprecated and will be removed in a future version. Check `isinstance(dtype, pd.SparseDtype)` instead.\n",
      "  if not hasattr(array, \"sparse\") and array.dtypes.apply(is_sparse).any():\n",
      "/Users/theoripoll/.pyenv/versions/3.11.2/envs/env_MLSECU_PROJECT/lib/python3.11/site-packages/sklearn/utils/validation.py:595: FutureWarning: is_sparse is deprecated and will be removed in a future version. Check `isinstance(dtype, pd.SparseDtype)` instead.\n",
      "  if is_sparse(pd_dtype):\n",
      "/Users/theoripoll/.pyenv/versions/3.11.2/envs/env_MLSECU_PROJECT/lib/python3.11/site-packages/sklearn/utils/validation.py:604: FutureWarning: is_sparse is deprecated and will be removed in a future version. Check `isinstance(dtype, pd.SparseDtype)` instead.\n",
      "  if is_sparse(pd_dtype) or not is_extension_array_dtype(pd_dtype):\n",
      "/Users/theoripoll/.pyenv/versions/3.11.2/envs/env_MLSECU_PROJECT/lib/python3.11/site-packages/xgboost/data.py:520: FutureWarning: is_sparse is deprecated and will be removed in a future version. Check `isinstance(dtype, pd.SparseDtype)` instead.\n",
      "  if is_sparse(data):\n",
      "/Users/theoripoll/.pyenv/versions/3.11.2/envs/env_MLSECU_PROJECT/lib/python3.11/site-packages/sklearn/utils/validation.py:757: FutureWarning: is_sparse is deprecated and will be removed in a future version. Check `isinstance(dtype, pd.SparseDtype)` instead.\n",
      "  if not hasattr(array, \"sparse\") and array.dtypes.apply(is_sparse).any():\n",
      "/Users/theoripoll/.pyenv/versions/3.11.2/envs/env_MLSECU_PROJECT/lib/python3.11/site-packages/sklearn/utils/validation.py:595: FutureWarning: is_sparse is deprecated and will be removed in a future version. Check `isinstance(dtype, pd.SparseDtype)` instead.\n",
      "  if is_sparse(pd_dtype):\n",
      "/Users/theoripoll/.pyenv/versions/3.11.2/envs/env_MLSECU_PROJECT/lib/python3.11/site-packages/sklearn/utils/validation.py:604: FutureWarning: is_sparse is deprecated and will be removed in a future version. Check `isinstance(dtype, pd.SparseDtype)` instead.\n",
      "  if is_sparse(pd_dtype) or not is_extension_array_dtype(pd_dtype):\n"
     ]
    },
    {
     "name": "stdout",
     "output_type": "stream",
     "text": [
      "Accuracy:  0.990228013029316\n",
      "Recall:  0.9688472058897267\n",
      "F1:  0.9791810382614426\n",
      "MCC:  0.9673650912082422\n",
      "Balanced accuracy:  0.9688472058897267\n"
     ]
    },
    {
     "data": {
      "image/png": "[encoded data removed]",
      "text/plain": [
       "<Figure size 600x600 with 2 Axes>"
      ]
     },
     "metadata": {},
     "output_type": "display_data"
    }
   ],
   "source": [
    "# xgboost classification on the X_train, X_test, y_train, y_test datasets\n",
    "from xgboost import XGBClassifier\n",
    "\n",
    "params = {\n",
    "    'max_depth': 8,\n",
    "    'n_estimators': 100,\n",
    "    'random_state': 42\n",
    "}\n",
    "\n",
    "clf = XGBClassifier(**params)\n",
    "\n",
    "pipeline = make_pipeline(\n",
    "    StandardScaler(),\n",
    "    clf\n",
    ")\n",
    "\n",
    "pipeline.fit(X_train, y_train[\"new_labels\"])\n",
    "\n",
    "preds = pipeline.predict(X_test)\n",
    "\n",
    "print(\"Accuracy: \", accuracy_score(y_test[\"new_labels\"], preds.round()))\n",
    "print(\"Recall: \", recall_score(y_test[\"new_labels\"], preds.round(), average=\"macro\"))\n",
    "print(\"F1: \", f1_score(y_test[\"new_labels\"], preds.round(), average=\"macro\"))\n",
    "print(\"MCC: \", matthews_corrcoef(y_test[\"new_labels\"], preds.round()))\n",
    "print(\"Balanced accuracy: \", balanced_accuracy_score(y_test[\"new_labels\"], preds.round()))\n",
    "\n",
    "plot_confusion_matrix(y_test[\"new_labels\"], preds.round(), title=\"Confusion matrix for the test set\")"
   ]
  },
  {
   "cell_type": "markdown",
   "metadata": {},
   "source": [
    "The XGBoost model is the best so far, with almost 97% Recall and 99% Accuracy."
   ]
  },
  {
   "cell_type": "code",
   "execution_count": 324,
   "metadata": {},
   "outputs": [
    {
     "data": {
      "image/png": "[encoded data removed]",
      "text/plain": [
       "<Figure size 1500x600 with 1 Axes>"
      ]
     },
     "metadata": {},
     "output_type": "display_data"
    }
   ],
   "source": [
    "plot_feature_importance(clf)"
   ]
  },
  {
   "cell_type": "markdown",
   "metadata": {},
   "source": [
    "## 4. Conclusion\n",
    "\n",
    "In conclusion, the XGBoost model is the best one for this dataset. It has the best recall and accuracy. The DNN model is also a good choice, as it has a good recall and precision, but it's not as good as the XGBoost.\n",
    "\n",
    "The multiclass classification is better than the binary classification, as it has a better recall and accuracy. The binary classification is not suited for this dataset, as it gives us a lot of false negatives in most models.\n",
    "\n",
    "Removing contextual information such as the time is a good idea, as it improves the results of the models. However, it's not enough to get good results, we also need to balance the classes. Once done, the results are much better."
   ]
  }
 ],
 "metadata": {
  "kernelspec": {
   "display_name": ".venv",
   "language": "python",
   "name": "python3"
  },
  "language_info": {
   "codemirror_mode": {
    "name": "ipython",
    "version": 3
   },
   "file_extension": ".py",
   "mimetype": "text/x-python",
   "name": "python",
   "nbconvert_exporter": "python",
   "pygments_lexer": "ipython3",
   "version": "3.11.2"
  }
 },
 "nbformat": 4,
 "nbformat_minor": 2
}
