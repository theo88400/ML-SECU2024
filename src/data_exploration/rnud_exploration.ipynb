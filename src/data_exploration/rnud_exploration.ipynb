{
 "cells": [
  {
   "cell_type": "markdown",
   "metadata": {},
   "source": [
    "## Data Exploration"
   ]
  },
  {
   "cell_type": "code",
   "execution_count": 1,
   "metadata": {},
   "outputs": [],
   "source": [
    "from preprocess_data import get_HITL, get_SWT\n",
    "import pandas as pd\n",
    "\n",
    "random_state = 42"
   ]
  },
  {
   "cell_type": "markdown",
   "metadata": {},
   "source": [
    "# HITL - Network Dataset"
   ]
  },
  {
   "cell_type": "code",
   "execution_count": 2,
   "metadata": {},
   "outputs": [],
   "source": [
    "hitl_dict = get_HITL(path=\"../../data/HardwareInTheLoop/\", small=True)"
   ]
  },
  {
   "cell_type": "code",
   "execution_count": 3,
   "metadata": {},
   "outputs": [
    {
     "name": "stdout",
     "output_type": "stream",
     "text": [
      "network_dataset_attack\n",
      "len:  3\n",
      "network_dataset_normal\n",
      "physical_dataset_attack\n",
      "len:  3\n",
      "physical_dataset_normal\n"
     ]
    }
   ],
   "source": [
    "for key, value in hitl_dict.items():\n",
    "    print(key)\n",
    "    if key.endswith(\"attack\"):\n",
    "        print(\"len: \", len(value))"
   ]
  },
  {
   "cell_type": "code",
   "execution_count": 4,
   "metadata": {},
   "outputs": [],
   "source": [
    "network_dataset_attack = hitl_dict[\"network_dataset_attack\"]\n",
    "network_dataset_normal = hitl_dict[\"network_dataset_normal\"]\n",
    "for dataset in [*network_dataset_attack, network_dataset_normal]:\n",
    "    dataset.rename(columns=lambda x: x.strip().lower(), inplace=True) # remove whitespace from column names"
   ]
  },
  {
   "cell_type": "code",
   "execution_count": 5,
   "metadata": {},
   "outputs": [
    {
     "name": "stdout",
     "output_type": "stream",
     "text": [
      "sport        int64\n",
      "dport        int64\n",
      "flags        int64\n",
      "n_pkt_src    int64\n",
      "n_pkt_dst    int64\n",
      "dtype: object\n",
      "sport        float64\n",
      "dport        float64\n",
      "flags        float64\n",
      "n_pkt_src    float64\n",
      "n_pkt_dst    float64\n",
      "dtype: object\n"
     ]
    }
   ],
   "source": [
    "# Check which columns are different between normal and attack\n",
    "normal_dtypes = network_dataset_normal.dtypes\n",
    "attack_dtypes = network_dataset_attack[0].dtypes\n",
    "mask = attack_dtypes == normal_dtypes\n",
    "print(normal_dtypes[~mask])\n",
    "print(attack_dtypes[~mask])"
   ]
  },
  {
   "cell_type": "code",
   "execution_count": 6,
   "metadata": {},
   "outputs": [],
   "source": [
    "# Update to broader dtype\n",
    "network_dataset_normal[normal_dtypes[~mask].index] = network_dataset_normal[normal_dtypes[~mask].index].astype(\"float64\")"
   ]
  },
  {
   "cell_type": "code",
   "execution_count": 7,
   "metadata": {},
   "outputs": [
    {
     "name": "stdout",
     "output_type": "stream",
     "text": [
      "Dataset shape:  (243065, 16)\n"
     ]
    },
    {
     "data": {
      "text/html": [
       "<div>\n",
       "<style scoped>\n",
       "    .dataframe tbody tr th:only-of-type {\n",
       "        vertical-align: middle;\n",
       "    }\n",
       "\n",
       "    .dataframe tbody tr th {\n",
       "        vertical-align: top;\n",
       "    }\n",
       "\n",
       "    .dataframe thead th {\n",
       "        text-align: right;\n",
       "    }\n",
       "</style>\n",
       "<table border=\"1\" class=\"dataframe\">\n",
       "  <thead>\n",
       "    <tr style=\"text-align: right;\">\n",
       "      <th></th>\n",
       "      <th>time</th>\n",
       "      <th>mac_s</th>\n",
       "      <th>mac_d</th>\n",
       "      <th>ip_s</th>\n",
       "      <th>ip_d</th>\n",
       "      <th>sport</th>\n",
       "      <th>dport</th>\n",
       "      <th>proto</th>\n",
       "      <th>flags</th>\n",
       "      <th>size</th>\n",
       "      <th>modbus_fn</th>\n",
       "      <th>n_pkt_src</th>\n",
       "      <th>n_pkt_dst</th>\n",
       "      <th>modbus_response</th>\n",
       "      <th>label_n</th>\n",
       "      <th>label</th>\n",
       "    </tr>\n",
       "  </thead>\n",
       "  <tbody>\n",
       "    <tr>\n",
       "      <th>0</th>\n",
       "      <td>2021-04-09 18:23:28.430018</td>\n",
       "      <td>74:46:a0:bd:a7:1b</td>\n",
       "      <td>e6:3f:ac:c9:a8:8c</td>\n",
       "      <td>84.3.251.20</td>\n",
       "      <td>84.3.251.101</td>\n",
       "      <td>56666.0</td>\n",
       "      <td>502.0</td>\n",
       "      <td>Modbus</td>\n",
       "      <td>11000.0</td>\n",
       "      <td>66</td>\n",
       "      <td>Read Holding Registers</td>\n",
       "      <td>50.0</td>\n",
       "      <td>15.0</td>\n",
       "      <td>NaN</td>\n",
       "      <td>0</td>\n",
       "      <td>normal</td>\n",
       "    </tr>\n",
       "    <tr>\n",
       "      <th>1</th>\n",
       "      <td>2021-04-09 18:23:28.475587</td>\n",
       "      <td>e6:3f:ac:c9:a8:8c</td>\n",
       "      <td>74:46:a0:bd:a7:1b</td>\n",
       "      <td>84.3.251.101</td>\n",
       "      <td>84.3.251.20</td>\n",
       "      <td>502.0</td>\n",
       "      <td>56666.0</td>\n",
       "      <td>Modbus</td>\n",
       "      <td>11000.0</td>\n",
       "      <td>64</td>\n",
       "      <td>Read Coils Response</td>\n",
       "      <td>15.0</td>\n",
       "      <td>50.0</td>\n",
       "      <td>[0]</td>\n",
       "      <td>0</td>\n",
       "      <td>normal</td>\n",
       "    </tr>\n",
       "    <tr>\n",
       "      <th>2</th>\n",
       "      <td>2021-04-09 18:23:28.523120</td>\n",
       "      <td>74:46:a0:bd:a7:1b</td>\n",
       "      <td>fa:00:bc:90:d7:fa</td>\n",
       "      <td>84.3.251.20</td>\n",
       "      <td>84.3.251.103</td>\n",
       "      <td>56668.0</td>\n",
       "      <td>502.0</td>\n",
       "      <td>Modbus</td>\n",
       "      <td>11000.0</td>\n",
       "      <td>66</td>\n",
       "      <td>Read Holding Registers</td>\n",
       "      <td>50.0</td>\n",
       "      <td>15.0</td>\n",
       "      <td>NaN</td>\n",
       "      <td>0</td>\n",
       "      <td>normal</td>\n",
       "    </tr>\n",
       "    <tr>\n",
       "      <th>3</th>\n",
       "      <td>2021-04-09 18:23:28.568588</td>\n",
       "      <td>fa:00:bc:90:d7:fa</td>\n",
       "      <td>74:46:a0:bd:a7:1b</td>\n",
       "      <td>84.3.251.103</td>\n",
       "      <td>84.3.251.20</td>\n",
       "      <td>502.0</td>\n",
       "      <td>56668.0</td>\n",
       "      <td>Modbus</td>\n",
       "      <td>11000.0</td>\n",
       "      <td>65</td>\n",
       "      <td>Read Holding Registers Response</td>\n",
       "      <td>15.0</td>\n",
       "      <td>50.0</td>\n",
       "      <td>[0]</td>\n",
       "      <td>0</td>\n",
       "      <td>normal</td>\n",
       "    </tr>\n",
       "    <tr>\n",
       "      <th>4</th>\n",
       "      <td>2021-04-09 18:23:28.617394</td>\n",
       "      <td>e6:3f:ac:c9:a8:8c</td>\n",
       "      <td>74:46:a0:bd:a7:1b</td>\n",
       "      <td>84.3.251.101</td>\n",
       "      <td>84.3.251.20</td>\n",
       "      <td>502.0</td>\n",
       "      <td>56666.0</td>\n",
       "      <td>Modbus</td>\n",
       "      <td>11000.0</td>\n",
       "      <td>65</td>\n",
       "      <td>Read Holding Registers Response</td>\n",
       "      <td>15.0</td>\n",
       "      <td>50.0</td>\n",
       "      <td>[0]</td>\n",
       "      <td>0</td>\n",
       "      <td>normal</td>\n",
       "    </tr>\n",
       "  </tbody>\n",
       "</table>\n",
       "</div>"
      ],
      "text/plain": [
       "                         time              mac_s              mac_d  \\\n",
       "0  2021-04-09 18:23:28.430018  74:46:a0:bd:a7:1b  e6:3f:ac:c9:a8:8c   \n",
       "1  2021-04-09 18:23:28.475587  e6:3f:ac:c9:a8:8c  74:46:a0:bd:a7:1b   \n",
       "2  2021-04-09 18:23:28.523120  74:46:a0:bd:a7:1b  fa:00:bc:90:d7:fa   \n",
       "3  2021-04-09 18:23:28.568588  fa:00:bc:90:d7:fa  74:46:a0:bd:a7:1b   \n",
       "4  2021-04-09 18:23:28.617394  e6:3f:ac:c9:a8:8c  74:46:a0:bd:a7:1b   \n",
       "\n",
       "           ip_s          ip_d    sport    dport   proto    flags  size  \\\n",
       "0   84.3.251.20  84.3.251.101  56666.0    502.0  Modbus  11000.0    66   \n",
       "1  84.3.251.101   84.3.251.20    502.0  56666.0  Modbus  11000.0    64   \n",
       "2   84.3.251.20  84.3.251.103  56668.0    502.0  Modbus  11000.0    66   \n",
       "3  84.3.251.103   84.3.251.20    502.0  56668.0  Modbus  11000.0    65   \n",
       "4  84.3.251.101   84.3.251.20    502.0  56666.0  Modbus  11000.0    65   \n",
       "\n",
       "                         modbus_fn  n_pkt_src  n_pkt_dst modbus_response  \\\n",
       "0           Read Holding Registers       50.0       15.0             NaN   \n",
       "1              Read Coils Response       15.0       50.0             [0]   \n",
       "2           Read Holding Registers       50.0       15.0             NaN   \n",
       "3  Read Holding Registers Response       15.0       50.0             [0]   \n",
       "4  Read Holding Registers Response       15.0       50.0             [0]   \n",
       "\n",
       "   label_n   label  \n",
       "0        0  normal  \n",
       "1        0  normal  \n",
       "2        0  normal  \n",
       "3        0  normal  \n",
       "4        0  normal  "
      ]
     },
     "execution_count": 7,
     "metadata": {},
     "output_type": "execute_result"
    }
   ],
   "source": [
    "# Concat whole dataset\n",
    "network_dataset = pd.concat([*network_dataset_attack, network_dataset_normal], ignore_index=True)\n",
    "print(\"Dataset shape: \", network_dataset.shape)\n",
    "network_dataset.head()"
   ]
  },
  {
   "cell_type": "markdown",
   "metadata": {},
   "source": [
    "## Labels"
   ]
  },
  {
   "cell_type": "code",
   "execution_count": 8,
   "metadata": {},
   "outputs": [],
   "source": [
    "network_dataset_labels = network_dataset[[\"label_n\", \"label\"]]\n",
    "network_dataset = network_dataset.drop(columns=[\"label_n\", \"label\"])"
   ]
  },
  {
   "cell_type": "code",
   "execution_count": 9,
   "metadata": {},
   "outputs": [
    {
     "data": {
      "text/html": [
       "<div>\n",
       "<style scoped>\n",
       "    .dataframe tbody tr th:only-of-type {\n",
       "        vertical-align: middle;\n",
       "    }\n",
       "\n",
       "    .dataframe tbody tr th {\n",
       "        vertical-align: top;\n",
       "    }\n",
       "\n",
       "    .dataframe thead th {\n",
       "        text-align: right;\n",
       "    }\n",
       "</style>\n",
       "<table border=\"1\" class=\"dataframe\">\n",
       "  <thead>\n",
       "    <tr style=\"text-align: right;\">\n",
       "      <th></th>\n",
       "      <th>label_n</th>\n",
       "      <th>label</th>\n",
       "    </tr>\n",
       "  </thead>\n",
       "  <tbody>\n",
       "    <tr>\n",
       "      <th>0</th>\n",
       "      <td>0</td>\n",
       "      <td>normal</td>\n",
       "    </tr>\n",
       "    <tr>\n",
       "      <th>1</th>\n",
       "      <td>0</td>\n",
       "      <td>normal</td>\n",
       "    </tr>\n",
       "    <tr>\n",
       "      <th>2</th>\n",
       "      <td>0</td>\n",
       "      <td>normal</td>\n",
       "    </tr>\n",
       "    <tr>\n",
       "      <th>3</th>\n",
       "      <td>0</td>\n",
       "      <td>normal</td>\n",
       "    </tr>\n",
       "    <tr>\n",
       "      <th>4</th>\n",
       "      <td>0</td>\n",
       "      <td>normal</td>\n",
       "    </tr>\n",
       "  </tbody>\n",
       "</table>\n",
       "</div>"
      ],
      "text/plain": [
       "   label_n   label\n",
       "0        0  normal\n",
       "1        0  normal\n",
       "2        0  normal\n",
       "3        0  normal\n",
       "4        0  normal"
      ]
     },
     "execution_count": 9,
     "metadata": {},
     "output_type": "execute_result"
    }
   ],
   "source": [
    "network_dataset_labels.head()"
   ]
  },
  {
   "cell_type": "code",
   "execution_count": 10,
   "metadata": {},
   "outputs": [
    {
     "data": {
      "text/plain": [
       "label_n\n",
       "0    176087\n",
       "1     66978\n",
       "Name: count, dtype: int64"
      ]
     },
     "execution_count": 10,
     "metadata": {},
     "output_type": "execute_result"
    }
   ],
   "source": [
    "network_dataset_labels[\"label_n\"].value_counts()"
   ]
  },
  {
   "cell_type": "markdown",
   "metadata": {},
   "source": [
    "Our dataset is unbalanced but the balancing seems to be 1/3."
   ]
  },
  {
   "cell_type": "code",
   "execution_count": 11,
   "metadata": {},
   "outputs": [
    {
     "data": {
      "text/plain": [
       "label\n",
       "normal            176087\n",
       "DoS                37665\n",
       "MITM               16841\n",
       "physical fault     12469\n",
       "anomaly                3\n",
       "Name: count, dtype: int64"
      ]
     },
     "execution_count": 11,
     "metadata": {},
     "output_type": "execute_result"
    }
   ],
   "source": [
    "network_dataset_labels[\"label\"].value_counts()"
   ]
  },
  {
   "cell_type": "markdown",
   "metadata": {},
   "source": [
    "We have 5 labels: normal, DoS, MITM, physical fault, anomaly.\n",
    "More imporantly the data is also split is normal (label_n=0) or not normal (label_n=1)."
   ]
  },
  {
   "cell_type": "markdown",
   "metadata": {},
   "source": [
    "Now let's look at the features"
   ]
  },
  {
   "cell_type": "code",
   "execution_count": 12,
   "metadata": {},
   "outputs": [
    {
     "data": {
      "text/html": [
       "<div>\n",
       "<style scoped>\n",
       "    .dataframe tbody tr th:only-of-type {\n",
       "        vertical-align: middle;\n",
       "    }\n",
       "\n",
       "    .dataframe tbody tr th {\n",
       "        vertical-align: top;\n",
       "    }\n",
       "\n",
       "    .dataframe thead th {\n",
       "        text-align: right;\n",
       "    }\n",
       "</style>\n",
       "<table border=\"1\" class=\"dataframe\">\n",
       "  <thead>\n",
       "    <tr style=\"text-align: right;\">\n",
       "      <th></th>\n",
       "      <th>time</th>\n",
       "      <th>mac_s</th>\n",
       "      <th>mac_d</th>\n",
       "      <th>ip_s</th>\n",
       "      <th>ip_d</th>\n",
       "      <th>sport</th>\n",
       "      <th>dport</th>\n",
       "      <th>proto</th>\n",
       "      <th>flags</th>\n",
       "      <th>size</th>\n",
       "      <th>modbus_fn</th>\n",
       "      <th>n_pkt_src</th>\n",
       "      <th>n_pkt_dst</th>\n",
       "      <th>modbus_response</th>\n",
       "    </tr>\n",
       "  </thead>\n",
       "  <tbody>\n",
       "    <tr>\n",
       "      <th>0</th>\n",
       "      <td>2021-04-09 18:23:28.430018</td>\n",
       "      <td>74:46:a0:bd:a7:1b</td>\n",
       "      <td>e6:3f:ac:c9:a8:8c</td>\n",
       "      <td>84.3.251.20</td>\n",
       "      <td>84.3.251.101</td>\n",
       "      <td>56666.0</td>\n",
       "      <td>502.0</td>\n",
       "      <td>Modbus</td>\n",
       "      <td>11000.0</td>\n",
       "      <td>66</td>\n",
       "      <td>Read Holding Registers</td>\n",
       "      <td>50.0</td>\n",
       "      <td>15.0</td>\n",
       "      <td>NaN</td>\n",
       "    </tr>\n",
       "    <tr>\n",
       "      <th>1</th>\n",
       "      <td>2021-04-09 18:23:28.475587</td>\n",
       "      <td>e6:3f:ac:c9:a8:8c</td>\n",
       "      <td>74:46:a0:bd:a7:1b</td>\n",
       "      <td>84.3.251.101</td>\n",
       "      <td>84.3.251.20</td>\n",
       "      <td>502.0</td>\n",
       "      <td>56666.0</td>\n",
       "      <td>Modbus</td>\n",
       "      <td>11000.0</td>\n",
       "      <td>64</td>\n",
       "      <td>Read Coils Response</td>\n",
       "      <td>15.0</td>\n",
       "      <td>50.0</td>\n",
       "      <td>[0]</td>\n",
       "    </tr>\n",
       "    <tr>\n",
       "      <th>2</th>\n",
       "      <td>2021-04-09 18:23:28.523120</td>\n",
       "      <td>74:46:a0:bd:a7:1b</td>\n",
       "      <td>fa:00:bc:90:d7:fa</td>\n",
       "      <td>84.3.251.20</td>\n",
       "      <td>84.3.251.103</td>\n",
       "      <td>56668.0</td>\n",
       "      <td>502.0</td>\n",
       "      <td>Modbus</td>\n",
       "      <td>11000.0</td>\n",
       "      <td>66</td>\n",
       "      <td>Read Holding Registers</td>\n",
       "      <td>50.0</td>\n",
       "      <td>15.0</td>\n",
       "      <td>NaN</td>\n",
       "    </tr>\n",
       "    <tr>\n",
       "      <th>3</th>\n",
       "      <td>2021-04-09 18:23:28.568588</td>\n",
       "      <td>fa:00:bc:90:d7:fa</td>\n",
       "      <td>74:46:a0:bd:a7:1b</td>\n",
       "      <td>84.3.251.103</td>\n",
       "      <td>84.3.251.20</td>\n",
       "      <td>502.0</td>\n",
       "      <td>56668.0</td>\n",
       "      <td>Modbus</td>\n",
       "      <td>11000.0</td>\n",
       "      <td>65</td>\n",
       "      <td>Read Holding Registers Response</td>\n",
       "      <td>15.0</td>\n",
       "      <td>50.0</td>\n",
       "      <td>[0]</td>\n",
       "    </tr>\n",
       "    <tr>\n",
       "      <th>4</th>\n",
       "      <td>2021-04-09 18:23:28.617394</td>\n",
       "      <td>e6:3f:ac:c9:a8:8c</td>\n",
       "      <td>74:46:a0:bd:a7:1b</td>\n",
       "      <td>84.3.251.101</td>\n",
       "      <td>84.3.251.20</td>\n",
       "      <td>502.0</td>\n",
       "      <td>56666.0</td>\n",
       "      <td>Modbus</td>\n",
       "      <td>11000.0</td>\n",
       "      <td>65</td>\n",
       "      <td>Read Holding Registers Response</td>\n",
       "      <td>15.0</td>\n",
       "      <td>50.0</td>\n",
       "      <td>[0]</td>\n",
       "    </tr>\n",
       "  </tbody>\n",
       "</table>\n",
       "</div>"
      ],
      "text/plain": [
       "                         time              mac_s              mac_d  \\\n",
       "0  2021-04-09 18:23:28.430018  74:46:a0:bd:a7:1b  e6:3f:ac:c9:a8:8c   \n",
       "1  2021-04-09 18:23:28.475587  e6:3f:ac:c9:a8:8c  74:46:a0:bd:a7:1b   \n",
       "2  2021-04-09 18:23:28.523120  74:46:a0:bd:a7:1b  fa:00:bc:90:d7:fa   \n",
       "3  2021-04-09 18:23:28.568588  fa:00:bc:90:d7:fa  74:46:a0:bd:a7:1b   \n",
       "4  2021-04-09 18:23:28.617394  e6:3f:ac:c9:a8:8c  74:46:a0:bd:a7:1b   \n",
       "\n",
       "           ip_s          ip_d    sport    dport   proto    flags  size  \\\n",
       "0   84.3.251.20  84.3.251.101  56666.0    502.0  Modbus  11000.0    66   \n",
       "1  84.3.251.101   84.3.251.20    502.0  56666.0  Modbus  11000.0    64   \n",
       "2   84.3.251.20  84.3.251.103  56668.0    502.0  Modbus  11000.0    66   \n",
       "3  84.3.251.103   84.3.251.20    502.0  56668.0  Modbus  11000.0    65   \n",
       "4  84.3.251.101   84.3.251.20    502.0  56666.0  Modbus  11000.0    65   \n",
       "\n",
       "                         modbus_fn  n_pkt_src  n_pkt_dst modbus_response  \n",
       "0           Read Holding Registers       50.0       15.0             NaN  \n",
       "1              Read Coils Response       15.0       50.0             [0]  \n",
       "2           Read Holding Registers       50.0       15.0             NaN  \n",
       "3  Read Holding Registers Response       15.0       50.0             [0]  \n",
       "4  Read Holding Registers Response       15.0       50.0             [0]  "
      ]
     },
     "execution_count": 12,
     "metadata": {},
     "output_type": "execute_result"
    }
   ],
   "source": [
    "network_dataset.head()"
   ]
  },
  {
   "cell_type": "markdown",
   "metadata": {},
   "source": [
    "As we can see we have 14 features."
   ]
  },
  {
   "cell_type": "code",
   "execution_count": 13,
   "metadata": {},
   "outputs": [],
   "source": [
    "# Convert time to timestamp\n",
    "network_dataset[\"time\"] = pd.to_datetime(network_dataset[\"time\"], format=\"mixed\")\n",
    "network_dataset[\"time\"] = network_dataset[\"time\"].apply(lambda x: x.timestamp())"
   ]
  },
  {
   "cell_type": "code",
   "execution_count": 14,
   "metadata": {},
   "outputs": [
    {
     "data": {
      "text/plain": [
       "0    1.617993e+09\n",
       "1    1.617993e+09\n",
       "2    1.617993e+09\n",
       "3    1.617993e+09\n",
       "4    1.617993e+09\n",
       "Name: time, dtype: float64"
      ]
     },
     "execution_count": 14,
     "metadata": {},
     "output_type": "execute_result"
    }
   ],
   "source": [
    "network_dataset[\"time\"].head()"
   ]
  },
  {
   "cell_type": "code",
   "execution_count": 15,
   "metadata": {},
   "outputs": [
    {
     "name": "stdout",
     "output_type": "stream",
     "text": [
      "14\n"
     ]
    }
   ],
   "source": [
    "print(len(network_dataset.columns))"
   ]
  },
  {
   "cell_type": "code",
   "execution_count": 16,
   "metadata": {},
   "outputs": [
    {
     "name": "stdout",
     "output_type": "stream",
     "text": [
      "time               float64\n",
      "mac_s               object\n",
      "mac_d               object\n",
      "ip_s                object\n",
      "ip_d                object\n",
      "sport              float64\n",
      "dport              float64\n",
      "proto               object\n",
      "flags              float64\n",
      "size                 int64\n",
      "modbus_fn           object\n",
      "n_pkt_src          float64\n",
      "n_pkt_dst          float64\n",
      "modbus_response     object\n",
      "dtype: object\n",
      "Number of string columns:  7\n"
     ]
    }
   ],
   "source": [
    "print(network_dataset.dtypes)\n",
    "print(\"Number of string columns: \", (network_dataset.dtypes == \"object\").sum())"
   ]
  },
  {
   "cell_type": "markdown",
   "metadata": {},
   "source": [
    "We have 7 categorical features and 7 numerical features."
   ]
  },
  {
   "cell_type": "markdown",
   "metadata": {},
   "source": [
    "## Numerical Features"
   ]
  },
  {
   "cell_type": "code",
   "execution_count": 17,
   "metadata": {},
   "outputs": [
    {
     "data": {
      "text/html": [
       "<div>\n",
       "<style scoped>\n",
       "    .dataframe tbody tr th:only-of-type {\n",
       "        vertical-align: middle;\n",
       "    }\n",
       "\n",
       "    .dataframe tbody tr th {\n",
       "        vertical-align: top;\n",
       "    }\n",
       "\n",
       "    .dataframe thead th {\n",
       "        text-align: right;\n",
       "    }\n",
       "</style>\n",
       "<table border=\"1\" class=\"dataframe\">\n",
       "  <thead>\n",
       "    <tr style=\"text-align: right;\">\n",
       "      <th></th>\n",
       "      <th>time</th>\n",
       "      <th>sport</th>\n",
       "      <th>dport</th>\n",
       "      <th>flags</th>\n",
       "      <th>size</th>\n",
       "      <th>n_pkt_src</th>\n",
       "      <th>n_pkt_dst</th>\n",
       "    </tr>\n",
       "  </thead>\n",
       "  <tbody>\n",
       "    <tr>\n",
       "      <th>0</th>\n",
       "      <td>1.617993e+09</td>\n",
       "      <td>56666.0</td>\n",
       "      <td>502.0</td>\n",
       "      <td>11000.0</td>\n",
       "      <td>66</td>\n",
       "      <td>50.0</td>\n",
       "      <td>15.0</td>\n",
       "    </tr>\n",
       "    <tr>\n",
       "      <th>1</th>\n",
       "      <td>1.617993e+09</td>\n",
       "      <td>502.0</td>\n",
       "      <td>56666.0</td>\n",
       "      <td>11000.0</td>\n",
       "      <td>64</td>\n",
       "      <td>15.0</td>\n",
       "      <td>50.0</td>\n",
       "    </tr>\n",
       "    <tr>\n",
       "      <th>2</th>\n",
       "      <td>1.617993e+09</td>\n",
       "      <td>56668.0</td>\n",
       "      <td>502.0</td>\n",
       "      <td>11000.0</td>\n",
       "      <td>66</td>\n",
       "      <td>50.0</td>\n",
       "      <td>15.0</td>\n",
       "    </tr>\n",
       "    <tr>\n",
       "      <th>3</th>\n",
       "      <td>1.617993e+09</td>\n",
       "      <td>502.0</td>\n",
       "      <td>56668.0</td>\n",
       "      <td>11000.0</td>\n",
       "      <td>65</td>\n",
       "      <td>15.0</td>\n",
       "      <td>50.0</td>\n",
       "    </tr>\n",
       "    <tr>\n",
       "      <th>4</th>\n",
       "      <td>1.617993e+09</td>\n",
       "      <td>502.0</td>\n",
       "      <td>56666.0</td>\n",
       "      <td>11000.0</td>\n",
       "      <td>65</td>\n",
       "      <td>15.0</td>\n",
       "      <td>50.0</td>\n",
       "    </tr>\n",
       "  </tbody>\n",
       "</table>\n",
       "</div>"
      ],
      "text/plain": [
       "           time    sport    dport    flags  size  n_pkt_src  n_pkt_dst\n",
       "0  1.617993e+09  56666.0    502.0  11000.0    66       50.0       15.0\n",
       "1  1.617993e+09    502.0  56666.0  11000.0    64       15.0       50.0\n",
       "2  1.617993e+09  56668.0    502.0  11000.0    66       50.0       15.0\n",
       "3  1.617993e+09    502.0  56668.0  11000.0    65       15.0       50.0\n",
       "4  1.617993e+09    502.0  56666.0  11000.0    65       15.0       50.0"
      ]
     },
     "execution_count": 17,
     "metadata": {},
     "output_type": "execute_result"
    }
   ],
   "source": [
    "network_dataset_numeric = network_dataset.select_dtypes(exclude=[\"object\"])\n",
    "network_dataset_numeric.head()"
   ]
  },
  {
   "cell_type": "code",
   "execution_count": 18,
   "metadata": {},
   "outputs": [
    {
     "data": {
      "text/html": [
       "<div>\n",
       "<style scoped>\n",
       "    .dataframe tbody tr th:only-of-type {\n",
       "        vertical-align: middle;\n",
       "    }\n",
       "\n",
       "    .dataframe tbody tr th {\n",
       "        vertical-align: top;\n",
       "    }\n",
       "\n",
       "    .dataframe thead th {\n",
       "        text-align: right;\n",
       "    }\n",
       "</style>\n",
       "<table border=\"1\" class=\"dataframe\">\n",
       "  <thead>\n",
       "    <tr style=\"text-align: right;\">\n",
       "      <th></th>\n",
       "      <th>time</th>\n",
       "      <th>sport</th>\n",
       "      <th>dport</th>\n",
       "      <th>flags</th>\n",
       "      <th>size</th>\n",
       "      <th>n_pkt_src</th>\n",
       "      <th>n_pkt_dst</th>\n",
       "    </tr>\n",
       "  </thead>\n",
       "  <tbody>\n",
       "    <tr>\n",
       "      <th>count</th>\n",
       "      <td>2.430650e+05</td>\n",
       "      <td>208564.000000</td>\n",
       "      <td>208564.000000</td>\n",
       "      <td>208564.000000</td>\n",
       "      <td>243065.000000</td>\n",
       "      <td>243056.000000</td>\n",
       "      <td>243056.000000</td>\n",
       "    </tr>\n",
       "    <tr>\n",
       "      <th>mean</th>\n",
       "      <td>1.618168e+09</td>\n",
       "      <td>29935.053614</td>\n",
       "      <td>29827.705903</td>\n",
       "      <td>10902.935909</td>\n",
       "      <td>236.671434</td>\n",
       "      <td>39.752514</td>\n",
       "      <td>39.561961</td>\n",
       "    </tr>\n",
       "    <tr>\n",
       "      <th>std</th>\n",
       "      <td>3.528267e+05</td>\n",
       "      <td>29495.006844</td>\n",
       "      <td>29513.480383</td>\n",
       "      <td>928.439179</td>\n",
       "      <td>467.620917</td>\n",
       "      <td>28.052526</td>\n",
       "      <td>27.835061</td>\n",
       "    </tr>\n",
       "    <tr>\n",
       "      <th>min</th>\n",
       "      <td>1.617968e+09</td>\n",
       "      <td>502.000000</td>\n",
       "      <td>502.000000</td>\n",
       "      <td>10.000000</td>\n",
       "      <td>60.000000</td>\n",
       "      <td>0.000000</td>\n",
       "      <td>0.000000</td>\n",
       "    </tr>\n",
       "    <tr>\n",
       "      <th>25%</th>\n",
       "      <td>1.617971e+09</td>\n",
       "      <td>502.000000</td>\n",
       "      <td>502.000000</td>\n",
       "      <td>11000.000000</td>\n",
       "      <td>65.000000</td>\n",
       "      <td>15.000000</td>\n",
       "      <td>15.000000</td>\n",
       "    </tr>\n",
       "    <tr>\n",
       "      <th>50%</th>\n",
       "      <td>1.617995e+09</td>\n",
       "      <td>33321.000000</td>\n",
       "      <td>502.000000</td>\n",
       "      <td>11000.000000</td>\n",
       "      <td>66.000000</td>\n",
       "      <td>44.000000</td>\n",
       "      <td>44.000000</td>\n",
       "    </tr>\n",
       "    <tr>\n",
       "      <th>75%</th>\n",
       "      <td>1.617998e+09</td>\n",
       "      <td>61317.000000</td>\n",
       "      <td>61317.000000</td>\n",
       "      <td>11000.000000</td>\n",
       "      <td>66.000000</td>\n",
       "      <td>50.000000</td>\n",
       "      <td>50.000000</td>\n",
       "    </tr>\n",
       "    <tr>\n",
       "      <th>max</th>\n",
       "      <td>1.618849e+09</td>\n",
       "      <td>61646.000000</td>\n",
       "      <td>61646.000000</td>\n",
       "      <td>11000.000000</td>\n",
       "      <td>1514.000000</td>\n",
       "      <td>100.000000</td>\n",
       "      <td>100.000000</td>\n",
       "    </tr>\n",
       "  </tbody>\n",
       "</table>\n",
       "</div>"
      ],
      "text/plain": [
       "               time          sport          dport          flags  \\\n",
       "count  2.430650e+05  208564.000000  208564.000000  208564.000000   \n",
       "mean   1.618168e+09   29935.053614   29827.705903   10902.935909   \n",
       "std    3.528267e+05   29495.006844   29513.480383     928.439179   \n",
       "min    1.617968e+09     502.000000     502.000000      10.000000   \n",
       "25%    1.617971e+09     502.000000     502.000000   11000.000000   \n",
       "50%    1.617995e+09   33321.000000     502.000000   11000.000000   \n",
       "75%    1.617998e+09   61317.000000   61317.000000   11000.000000   \n",
       "max    1.618849e+09   61646.000000   61646.000000   11000.000000   \n",
       "\n",
       "                size      n_pkt_src      n_pkt_dst  \n",
       "count  243065.000000  243056.000000  243056.000000  \n",
       "mean      236.671434      39.752514      39.561961  \n",
       "std       467.620917      28.052526      27.835061  \n",
       "min        60.000000       0.000000       0.000000  \n",
       "25%        65.000000      15.000000      15.000000  \n",
       "50%        66.000000      44.000000      44.000000  \n",
       "75%        66.000000      50.000000      50.000000  \n",
       "max      1514.000000     100.000000     100.000000  "
      ]
     },
     "execution_count": 18,
     "metadata": {},
     "output_type": "execute_result"
    }
   ],
   "source": [
    "network_dataset_numeric.describe()"
   ]
  },
  {
   "cell_type": "markdown",
   "metadata": {},
   "source": [
    "We will have to normalize the numerical features."
   ]
  },
  {
   "cell_type": "code",
   "execution_count": 19,
   "metadata": {},
   "outputs": [
    {
     "data": {
      "text/plain": [
       "time             0\n",
       "sport        34501\n",
       "dport        34501\n",
       "flags        34501\n",
       "size             0\n",
       "n_pkt_src        9\n",
       "n_pkt_dst        9\n",
       "dtype: int64"
      ]
     },
     "execution_count": 19,
     "metadata": {},
     "output_type": "execute_result"
    }
   ],
   "source": [
    "# Get the number of nan values per column\n",
    "network_dataset_numeric.isna().sum()"
   ]
  },
  {
   "cell_type": "markdown",
   "metadata": {},
   "source": [
    "We have got quite a few NaN values on the columns sport, dport and flags. They have around 12% of NaN values."
   ]
  },
  {
   "cell_type": "markdown",
   "metadata": {},
   "source": [
    "## Categorical Features"
   ]
  },
  {
   "cell_type": "code",
   "execution_count": 20,
   "metadata": {},
   "outputs": [
    {
     "data": {
      "text/html": [
       "<div>\n",
       "<style scoped>\n",
       "    .dataframe tbody tr th:only-of-type {\n",
       "        vertical-align: middle;\n",
       "    }\n",
       "\n",
       "    .dataframe tbody tr th {\n",
       "        vertical-align: top;\n",
       "    }\n",
       "\n",
       "    .dataframe thead th {\n",
       "        text-align: right;\n",
       "    }\n",
       "</style>\n",
       "<table border=\"1\" class=\"dataframe\">\n",
       "  <thead>\n",
       "    <tr style=\"text-align: right;\">\n",
       "      <th></th>\n",
       "      <th>mac_s</th>\n",
       "      <th>mac_d</th>\n",
       "      <th>ip_s</th>\n",
       "      <th>ip_d</th>\n",
       "      <th>proto</th>\n",
       "      <th>modbus_fn</th>\n",
       "      <th>modbus_response</th>\n",
       "    </tr>\n",
       "  </thead>\n",
       "  <tbody>\n",
       "    <tr>\n",
       "      <th>0</th>\n",
       "      <td>74:46:a0:bd:a7:1b</td>\n",
       "      <td>e6:3f:ac:c9:a8:8c</td>\n",
       "      <td>84.3.251.20</td>\n",
       "      <td>84.3.251.101</td>\n",
       "      <td>Modbus</td>\n",
       "      <td>Read Holding Registers</td>\n",
       "      <td>NaN</td>\n",
       "    </tr>\n",
       "    <tr>\n",
       "      <th>1</th>\n",
       "      <td>e6:3f:ac:c9:a8:8c</td>\n",
       "      <td>74:46:a0:bd:a7:1b</td>\n",
       "      <td>84.3.251.101</td>\n",
       "      <td>84.3.251.20</td>\n",
       "      <td>Modbus</td>\n",
       "      <td>Read Coils Response</td>\n",
       "      <td>[0]</td>\n",
       "    </tr>\n",
       "    <tr>\n",
       "      <th>2</th>\n",
       "      <td>74:46:a0:bd:a7:1b</td>\n",
       "      <td>fa:00:bc:90:d7:fa</td>\n",
       "      <td>84.3.251.20</td>\n",
       "      <td>84.3.251.103</td>\n",
       "      <td>Modbus</td>\n",
       "      <td>Read Holding Registers</td>\n",
       "      <td>NaN</td>\n",
       "    </tr>\n",
       "    <tr>\n",
       "      <th>3</th>\n",
       "      <td>fa:00:bc:90:d7:fa</td>\n",
       "      <td>74:46:a0:bd:a7:1b</td>\n",
       "      <td>84.3.251.103</td>\n",
       "      <td>84.3.251.20</td>\n",
       "      <td>Modbus</td>\n",
       "      <td>Read Holding Registers Response</td>\n",
       "      <td>[0]</td>\n",
       "    </tr>\n",
       "    <tr>\n",
       "      <th>4</th>\n",
       "      <td>e6:3f:ac:c9:a8:8c</td>\n",
       "      <td>74:46:a0:bd:a7:1b</td>\n",
       "      <td>84.3.251.101</td>\n",
       "      <td>84.3.251.20</td>\n",
       "      <td>Modbus</td>\n",
       "      <td>Read Holding Registers Response</td>\n",
       "      <td>[0]</td>\n",
       "    </tr>\n",
       "  </tbody>\n",
       "</table>\n",
       "</div>"
      ],
      "text/plain": [
       "               mac_s              mac_d          ip_s          ip_d   proto  \\\n",
       "0  74:46:a0:bd:a7:1b  e6:3f:ac:c9:a8:8c   84.3.251.20  84.3.251.101  Modbus   \n",
       "1  e6:3f:ac:c9:a8:8c  74:46:a0:bd:a7:1b  84.3.251.101   84.3.251.20  Modbus   \n",
       "2  74:46:a0:bd:a7:1b  fa:00:bc:90:d7:fa   84.3.251.20  84.3.251.103  Modbus   \n",
       "3  fa:00:bc:90:d7:fa  74:46:a0:bd:a7:1b  84.3.251.103   84.3.251.20  Modbus   \n",
       "4  e6:3f:ac:c9:a8:8c  74:46:a0:bd:a7:1b  84.3.251.101   84.3.251.20  Modbus   \n",
       "\n",
       "                         modbus_fn modbus_response  \n",
       "0           Read Holding Registers             NaN  \n",
       "1              Read Coils Response             [0]  \n",
       "2           Read Holding Registers             NaN  \n",
       "3  Read Holding Registers Response             [0]  \n",
       "4  Read Holding Registers Response             [0]  "
      ]
     },
     "execution_count": 20,
     "metadata": {},
     "output_type": "execute_result"
    }
   ],
   "source": [
    "network_dataset_categorical = network_dataset.select_dtypes(include=\"object\")\n",
    "network_dataset_categorical.head()"
   ]
  },
  {
   "cell_type": "code",
   "execution_count": 21,
   "metadata": {},
   "outputs": [
    {
     "data": {
      "text/plain": [
       "mac_s                   0\n",
       "mac_d                   0\n",
       "ip_s                    9\n",
       "ip_d                    9\n",
       "proto                   0\n",
       "modbus_fn           40456\n",
       "modbus_response    141683\n",
       "dtype: int64"
      ]
     },
     "execution_count": 21,
     "metadata": {},
     "output_type": "execute_result"
    }
   ],
   "source": [
    "network_dataset_categorical.isna().sum()"
   ]
  },
  {
   "cell_type": "markdown",
   "metadata": {},
   "source": [
    "We only have 9 rows that have NaN values in the categorical features if we excluse modbus_fn and modbus_response.\n",
    "\n",
    "modbus_fn and modbus_response are both categorical features that have a lot of NaN values (respectively 15% and 50%)\n",
    "\n",
    "We will surely have to drop modbus_response but we will see later if we can do something with modbus_fn."
   ]
  },
  {
   "cell_type": "code",
   "execution_count": 22,
   "metadata": {},
   "outputs": [
    {
     "data": {
      "text/plain": [
       "mac_s\n",
       "74:46:a0:bd:a7:1b    100892\n",
       "00:0c:29:47:8c:22     34633\n",
       "e6:3f:ac:c9:a8:8c     32424\n",
       "0a:fe:ec:47:74:fb     32165\n",
       "fa:00:bc:90:d7:fa     31543\n",
       "00:80:f4:03:fb:12     10266\n",
       "4a:35:83:e0:3d:a4       602\n",
       "fe:bb:16:7b:c3:27       540\n",
       "Name: count, dtype: int64"
      ]
     },
     "execution_count": 22,
     "metadata": {},
     "output_type": "execute_result"
    }
   ],
   "source": [
    "network_dataset_categorical[\"mac_s\"].value_counts()"
   ]
  },
  {
   "cell_type": "code",
   "execution_count": 23,
   "metadata": {},
   "outputs": [
    {
     "data": {
      "text/plain": [
       "mac_d\n",
       "74:46:a0:bd:a7:1b    102998\n",
       "00:80:f4:03:fb:12     43357\n",
       "e6:3f:ac:c9:a8:8c     32137\n",
       "0a:fe:ec:47:74:fb     31956\n",
       "fa:00:bc:90:d7:fa     31564\n",
       "4a:35:83:e0:3d:a4       437\n",
       "fe:bb:16:7b:c3:27       428\n",
       "00:0c:29:47:8c:22       185\n",
       "ff:ff:ff:ff:ff:ff         3\n",
       "Name: count, dtype: int64"
      ]
     },
     "execution_count": 23,
     "metadata": {},
     "output_type": "execute_result"
    }
   ],
   "source": [
    "network_dataset_categorical[\"mac_d\"].value_counts()"
   ]
  },
  {
   "cell_type": "code",
   "execution_count": 24,
   "metadata": {},
   "outputs": [
    {
     "data": {
      "text/plain": [
       "ip_s\n",
       "84.3.251.20     105704\n",
       "84.3.251.101     32681\n",
       "84.3.251.102     32193\n",
       "84.3.251.103     31559\n",
       "84.3.251.110     29501\n",
       "84.3.251.18      10271\n",
       "84.3.251.104       607\n",
       "84.3.251.105       540\n",
       "Name: count, dtype: int64"
      ]
     },
     "execution_count": 24,
     "metadata": {},
     "output_type": "execute_result"
    }
   ],
   "source": [
    "network_dataset_categorical[\"ip_s\"].value_counts()"
   ]
  },
  {
   "cell_type": "code",
   "execution_count": 25,
   "metadata": {},
   "outputs": [
    {
     "data": {
      "text/plain": [
       "ip_d\n",
       "84.3.251.20     102996\n",
       "84.3.251.18      43366\n",
       "84.3.251.101     32155\n",
       "84.3.251.102     31987\n",
       "84.3.251.103     31572\n",
       "84.3.251.104       441\n",
       "84.3.251.105       428\n",
       "84.3.251.110       111\n",
       "Name: count, dtype: int64"
      ]
     },
     "execution_count": 25,
     "metadata": {},
     "output_type": "execute_result"
    }
   ],
   "source": [
    "network_dataset_categorical[\"ip_d\"].value_counts()\n"
   ]
  },
  {
   "cell_type": "code",
   "execution_count": 26,
   "metadata": {},
   "outputs": [
    {
     "data": {
      "text/plain": [
       "proto\n",
       "Modbus    202609\n",
       "IP         27986\n",
       "ICMP        6506\n",
       "TCP         5955\n",
       "ARP            9\n",
       "Name: count, dtype: int64"
      ]
     },
     "execution_count": 26,
     "metadata": {},
     "output_type": "execute_result"
    }
   ],
   "source": [
    "network_dataset_categorical[\"proto\"].value_counts()"
   ]
  },
  {
   "cell_type": "code",
   "execution_count": 27,
   "metadata": {},
   "outputs": [
    {
     "data": {
      "text/plain": [
       "modbus_fn\n",
       "Read Holding Registers Response    57546\n",
       "Read Holding Registers             57313\n",
       "Read Coils Request                 43914\n",
       "Read Coils Response                43836\n",
       "Name: count, dtype: int64"
      ]
     },
     "execution_count": 27,
     "metadata": {},
     "output_type": "execute_result"
    }
   ],
   "source": [
    "network_dataset_categorical[\"modbus_fn\"].value_counts()"
   ]
  },
  {
   "cell_type": "markdown",
   "metadata": {},
   "source": [
    "As there are few possibilities for this column, maybe we will be able to make use of it even if it has ~25% of nan values."
   ]
  },
  {
   "cell_type": "code",
   "execution_count": 28,
   "metadata": {},
   "outputs": [
    {
     "data": {
      "text/plain": [
       "modbus_response\n",
       "[0]       61171\n",
       "[1]        9482\n",
       "[4000]     4709\n",
       "[458]       664\n",
       "[450]       354\n",
       "          ...  \n",
       "[1182]        1\n",
       "[1134]        1\n",
       "[940]         1\n",
       "[892]         1\n",
       "[811]         1\n",
       "Name: count, Length: 1933, dtype: int64"
      ]
     },
     "execution_count": 28,
     "metadata": {},
     "output_type": "execute_result"
    }
   ],
   "source": [
    "network_dataset_categorical[\"modbus_response\"].value_counts()"
   ]
  },
  {
   "cell_type": "markdown",
   "metadata": {},
   "source": [
    "As this column is very sparse and has more than 50% nans, it seems that we should drop it."
   ]
  },
  {
   "cell_type": "markdown",
   "metadata": {},
   "source": [
    "We can see that most of our categorical features have <10 unique values."
   ]
  },
  {
   "cell_type": "code",
   "execution_count": 29,
   "metadata": {},
   "outputs": [
    {
     "data": {
      "image/png": "[encoded data removed]",
      "text/plain": [
       "<Figure size 640x480 with 1 Axes>"
      ]
     },
     "metadata": {},
     "output_type": "display_data"
    }
   ],
   "source": [
    "import matplotlib.pyplot as plt\n",
    "\n",
    "def get_hist_pairs_per_column(col_name_1, col_name_2):\n",
    "    # Sum each identical pair of ip addresses\n",
    "    ip_pairs_count = {}\n",
    "    for i, row in network_dataset_categorical.iterrows():\n",
    "        ip_pair = (row[col_name_1], row[col_name_2])\n",
    "        if ip_pair in ip_pairs_count:\n",
    "            ip_pairs_count[ip_pair] += 1\n",
    "        else:\n",
    "            ip_pairs_count[ip_pair] = 1\n",
    "\n",
    "    # Numerize each pair to print it on a graph\n",
    "    ip_pairs_count_numerized = {}\n",
    "    for i, (key, value) in enumerate(ip_pairs_count.items()):\n",
    "        ip_pairs_count_numerized[i] = value\n",
    "\n",
    "    # Plot the histogram\n",
    "    plt.bar(ip_pairs_count_numerized.keys(), ip_pairs_count_numerized.values())\n",
    "\n",
    "get_hist_pairs_per_column(\"mac_s\", \"mac_d\")"
   ]
  },
  {
   "cell_type": "markdown",
   "metadata": {},
   "source": [
    "We have around 30 pairs of (mac_s, mac_d) that are unique."
   ]
  },
  {
   "cell_type": "code",
   "execution_count": 30,
   "metadata": {},
   "outputs": [
    {
     "data": {
      "image/png": "[encoded data removed]",
      "text/plain": [
       "<Figure size 640x480 with 1 Axes>"
      ]
     },
     "metadata": {},
     "output_type": "display_data"
    }
   ],
   "source": [
    "get_hist_pairs_per_column(\"ip_s\", \"ip_d\")\n"
   ]
  },
  {
   "cell_type": "markdown",
   "metadata": {},
   "source": [
    "We have around 21 pairs of (ip_s, ip_d) that are unique."
   ]
  },
  {
   "cell_type": "markdown",
   "metadata": {},
   "source": [
    "# HITL - Physical Dataset"
   ]
  },
  {
   "cell_type": "code",
   "execution_count": 31,
   "metadata": {},
   "outputs": [],
   "source": [
    "physical_dataset_attack = hitl_dict[\"physical_dataset_attack\"]\n",
    "physical_dataset_normal = hitl_dict[\"physical_dataset_normal\"]\n",
    "for dataset in [*physical_dataset_attack, physical_dataset_normal]:\n",
    "    dataset.rename(columns=lambda x: x.strip().lower(), inplace=True) # remove whitespace from column names"
   ]
  },
  {
   "cell_type": "code",
   "execution_count": 32,
   "metadata": {},
   "outputs": [
    {
     "name": "stdout",
     "output_type": "stream",
     "text": [
      "Series([], dtype: object)\n",
      "Series([], dtype: object)\n"
     ]
    }
   ],
   "source": [
    "# Check which columns are different between normal and attack\n",
    "normal_dtypes = network_dataset_normal.dtypes\n",
    "attack_dtypes = network_dataset_attack[0].dtypes\n",
    "mask = attack_dtypes == normal_dtypes\n",
    "print(normal_dtypes[~mask])\n",
    "print(attack_dtypes[~mask])"
   ]
  },
  {
   "cell_type": "markdown",
   "metadata": {},
   "source": [
    "All columns are ready to be concatenated."
   ]
  },
  {
   "cell_type": "code",
   "execution_count": 33,
   "metadata": {},
   "outputs": [
    {
     "name": "stdout",
     "output_type": "stream",
     "text": [
      "Dataset shape:  (91, 44)\n"
     ]
    },
    {
     "data": {
      "text/html": [
       "<div>\n",
       "<style scoped>\n",
       "    .dataframe tbody tr th:only-of-type {\n",
       "        vertical-align: middle;\n",
       "    }\n",
       "\n",
       "    .dataframe tbody tr th {\n",
       "        vertical-align: top;\n",
       "    }\n",
       "\n",
       "    .dataframe thead th {\n",
       "        text-align: right;\n",
       "    }\n",
       "</style>\n",
       "<table border=\"1\" class=\"dataframe\">\n",
       "  <thead>\n",
       "    <tr style=\"text-align: right;\">\n",
       "      <th></th>\n",
       "      <th>time</th>\n",
       "      <th>tank_1</th>\n",
       "      <th>tank_2</th>\n",
       "      <th>tank_3</th>\n",
       "      <th>tank_4</th>\n",
       "      <th>tank_5</th>\n",
       "      <th>tank_6</th>\n",
       "      <th>tank_7</th>\n",
       "      <th>tank_8</th>\n",
       "      <th>pump_1</th>\n",
       "      <th>...</th>\n",
       "      <th>valv_16</th>\n",
       "      <th>valv_17</th>\n",
       "      <th>valv_18</th>\n",
       "      <th>valv_19</th>\n",
       "      <th>valv_20</th>\n",
       "      <th>valv_21</th>\n",
       "      <th>valv_22</th>\n",
       "      <th>label_n</th>\n",
       "      <th>label</th>\n",
       "      <th>lable_n</th>\n",
       "    </tr>\n",
       "  </thead>\n",
       "  <tbody>\n",
       "    <tr>\n",
       "      <th>0</th>\n",
       "      <td>1.630780e+09</td>\n",
       "      <td>1501</td>\n",
       "      <td>1844</td>\n",
       "      <td>306</td>\n",
       "      <td>0</td>\n",
       "      <td>522</td>\n",
       "      <td>0</td>\n",
       "      <td>0</td>\n",
       "      <td>0</td>\n",
       "      <td>False</td>\n",
       "      <td>...</td>\n",
       "      <td>False</td>\n",
       "      <td>True</td>\n",
       "      <td>False</td>\n",
       "      <td>False</td>\n",
       "      <td>False</td>\n",
       "      <td>False</td>\n",
       "      <td>False</td>\n",
       "      <td>0.0</td>\n",
       "      <td>normal</td>\n",
       "      <td>NaN</td>\n",
       "    </tr>\n",
       "    <tr>\n",
       "      <th>1</th>\n",
       "      <td>1.630780e+09</td>\n",
       "      <td>1</td>\n",
       "      <td>552</td>\n",
       "      <td>1180</td>\n",
       "      <td>1054</td>\n",
       "      <td>486</td>\n",
       "      <td>329</td>\n",
       "      <td>0</td>\n",
       "      <td>0</td>\n",
       "      <td>False</td>\n",
       "      <td>...</td>\n",
       "      <td>False</td>\n",
       "      <td>True</td>\n",
       "      <td>False</td>\n",
       "      <td>False</td>\n",
       "      <td>True</td>\n",
       "      <td>False</td>\n",
       "      <td>False</td>\n",
       "      <td>1.0</td>\n",
       "      <td>MITM</td>\n",
       "      <td>NaN</td>\n",
       "    </tr>\n",
       "    <tr>\n",
       "      <th>2</th>\n",
       "      <td>1.630780e+09</td>\n",
       "      <td>671</td>\n",
       "      <td>3</td>\n",
       "      <td>360</td>\n",
       "      <td>24</td>\n",
       "      <td>0</td>\n",
       "      <td>703</td>\n",
       "      <td>112</td>\n",
       "      <td>0</td>\n",
       "      <td>False</td>\n",
       "      <td>...</td>\n",
       "      <td>False</td>\n",
       "      <td>False</td>\n",
       "      <td>False</td>\n",
       "      <td>False</td>\n",
       "      <td>False</td>\n",
       "      <td>False</td>\n",
       "      <td>False</td>\n",
       "      <td>0.0</td>\n",
       "      <td>normal</td>\n",
       "      <td>NaN</td>\n",
       "    </tr>\n",
       "    <tr>\n",
       "      <th>3</th>\n",
       "      <td>1.630780e+09</td>\n",
       "      <td>1167</td>\n",
       "      <td>1922</td>\n",
       "      <td>112</td>\n",
       "      <td>24</td>\n",
       "      <td>805</td>\n",
       "      <td>20</td>\n",
       "      <td>458</td>\n",
       "      <td>337</td>\n",
       "      <td>False</td>\n",
       "      <td>...</td>\n",
       "      <td>False</td>\n",
       "      <td>True</td>\n",
       "      <td>False</td>\n",
       "      <td>False</td>\n",
       "      <td>False</td>\n",
       "      <td>False</td>\n",
       "      <td>False</td>\n",
       "      <td>0.0</td>\n",
       "      <td>normal</td>\n",
       "      <td>NaN</td>\n",
       "    </tr>\n",
       "    <tr>\n",
       "      <th>4</th>\n",
       "      <td>1.630780e+09</td>\n",
       "      <td>1</td>\n",
       "      <td>4</td>\n",
       "      <td>1632</td>\n",
       "      <td>785</td>\n",
       "      <td>423</td>\n",
       "      <td>6</td>\n",
       "      <td>458</td>\n",
       "      <td>402</td>\n",
       "      <td>False</td>\n",
       "      <td>...</td>\n",
       "      <td>False</td>\n",
       "      <td>False</td>\n",
       "      <td>False</td>\n",
       "      <td>False</td>\n",
       "      <td>True</td>\n",
       "      <td>False</td>\n",
       "      <td>False</td>\n",
       "      <td>0.0</td>\n",
       "      <td>normal</td>\n",
       "      <td>NaN</td>\n",
       "    </tr>\n",
       "  </tbody>\n",
       "</table>\n",
       "<p>5 rows × 44 columns</p>\n",
       "</div>"
      ],
      "text/plain": [
       "           time  tank_1  tank_2  tank_3  tank_4  tank_5  tank_6  tank_7  \\\n",
       "0  1.630780e+09    1501    1844     306       0     522       0       0   \n",
       "1  1.630780e+09       1     552    1180    1054     486     329       0   \n",
       "2  1.630780e+09     671       3     360      24       0     703     112   \n",
       "3  1.630780e+09    1167    1922     112      24     805      20     458   \n",
       "4  1.630780e+09       1       4    1632     785     423       6     458   \n",
       "\n",
       "   tank_8  pump_1  ...  valv_16  valv_17  valv_18  valv_19  valv_20  valv_21  \\\n",
       "0       0   False  ...    False     True    False    False    False    False   \n",
       "1       0   False  ...    False     True    False    False     True    False   \n",
       "2       0   False  ...    False    False    False    False    False    False   \n",
       "3     337   False  ...    False     True    False    False    False    False   \n",
       "4     402   False  ...    False    False    False    False     True    False   \n",
       "\n",
       "   valv_22  label_n   label  lable_n  \n",
       "0    False      0.0  normal      NaN  \n",
       "1    False      1.0    MITM      NaN  \n",
       "2    False      0.0  normal      NaN  \n",
       "3    False      0.0  normal      NaN  \n",
       "4    False      0.0  normal      NaN  \n",
       "\n",
       "[5 rows x 44 columns]"
      ]
     },
     "execution_count": 33,
     "metadata": {},
     "output_type": "execute_result"
    }
   ],
   "source": [
    "physical_dataset = pd.concat([*physical_dataset_attack, physical_dataset_normal], ignore_index=True)\n",
    "# Convert time to timestamp\n",
    "physical_dataset[\"time\"] = pd.to_datetime(physical_dataset[\"time\"], format=\"mixed\")\n",
    "physical_dataset[\"time\"] = physical_dataset[\"time\"].apply(lambda x: x.timestamp())\n",
    "\n",
    "print(\"Dataset shape: \", physical_dataset.shape)\n",
    "physical_dataset.head()"
   ]
  },
  {
   "cell_type": "code",
   "execution_count": 34,
   "metadata": {},
   "outputs": [
    {
     "name": "stdout",
     "output_type": "stream",
     "text": [
      "Index([ 0,  1,  2,  3,  4,  5,  6,  7,  8,  9, 10, 11, 12, 13, 14, 15, 16, 17,\n",
      "       18, 19, 20, 21, 22, 23, 45, 46, 47, 48, 49, 50, 51, 52, 53, 54, 55, 56,\n",
      "       57, 58, 59, 60, 61, 62, 63, 64, 65, 66, 67, 68, 69, 70, 71, 72, 73, 74,\n",
      "       75, 76, 77, 78, 79, 80, 81, 82, 83, 84, 85, 86, 87, 88, 89, 90],\n",
      "      dtype='int64')\n",
      "Index([24, 25, 26, 27, 28, 29, 30, 31, 32, 33, 34, 35, 36, 37, 38, 39, 40, 41,\n",
      "       42, 43, 44],\n",
      "      dtype='int64')\n"
     ]
    }
   ],
   "source": [
    "# There is a third column named lable_n which seems to be the same as label_n\n",
    "physical_label_n = physical_dataset[\"label_n\"]\n",
    "physical_lable_n = physical_dataset[\"lable_n\"]\n",
    "\n",
    "# Print both column's respective non NaN indexes to see if they are complementary\n",
    "physical_label_n_indexes = physical_label_n[~physical_label_n.isna()].index\n",
    "physical_lable_n_indexes = physical_lable_n[~physical_lable_n.isna()].index\n",
    "print(physical_label_n_indexes)\n",
    "print(physical_lable_n_indexes)\n",
    "assert len(set(physical_label_n_indexes).intersection(set(physical_lable_n_indexes))) == 0 # Both columns are complementary\n",
    "\n",
    "# Merge the two columns\n",
    "physical_dataset[\"label_n\"] = physical_label_n.fillna(physical_lable_n)\n",
    "\n",
    "assert physical_dataset[\"label_n\"].isna().sum() == 0\n",
    "\n",
    "physical_dataset = physical_dataset.drop(columns=[\"lable_n\"])"
   ]
  },
  {
   "cell_type": "markdown",
   "metadata": {},
   "source": [
    "On the physical dataset we have we have much more features (41 if we exclude the two label columns as before). \n",
    "\n",
    "However, we have much less rows (91, which is very small)."
   ]
  },
  {
   "cell_type": "markdown",
   "metadata": {},
   "source": [
    "## Labels"
   ]
  },
  {
   "cell_type": "code",
   "execution_count": 35,
   "metadata": {},
   "outputs": [],
   "source": [
    "physical_dataset_labels = physical_dataset[[\"label_n\", \"label\"]]\n",
    "physical_dataset = physical_dataset.drop(columns=[\"label_n\", \"label\"])"
   ]
  },
  {
   "cell_type": "code",
   "execution_count": 36,
   "metadata": {},
   "outputs": [
    {
     "data": {
      "text/html": [
       "<div>\n",
       "<style scoped>\n",
       "    .dataframe tbody tr th:only-of-type {\n",
       "        vertical-align: middle;\n",
       "    }\n",
       "\n",
       "    .dataframe tbody tr th {\n",
       "        vertical-align: top;\n",
       "    }\n",
       "\n",
       "    .dataframe thead th {\n",
       "        text-align: right;\n",
       "    }\n",
       "</style>\n",
       "<table border=\"1\" class=\"dataframe\">\n",
       "  <thead>\n",
       "    <tr style=\"text-align: right;\">\n",
       "      <th></th>\n",
       "      <th>label_n</th>\n",
       "      <th>label</th>\n",
       "    </tr>\n",
       "  </thead>\n",
       "  <tbody>\n",
       "    <tr>\n",
       "      <th>0</th>\n",
       "      <td>0.0</td>\n",
       "      <td>normal</td>\n",
       "    </tr>\n",
       "    <tr>\n",
       "      <th>1</th>\n",
       "      <td>1.0</td>\n",
       "      <td>MITM</td>\n",
       "    </tr>\n",
       "    <tr>\n",
       "      <th>2</th>\n",
       "      <td>0.0</td>\n",
       "      <td>normal</td>\n",
       "    </tr>\n",
       "    <tr>\n",
       "      <th>3</th>\n",
       "      <td>0.0</td>\n",
       "      <td>normal</td>\n",
       "    </tr>\n",
       "    <tr>\n",
       "      <th>4</th>\n",
       "      <td>0.0</td>\n",
       "      <td>normal</td>\n",
       "    </tr>\n",
       "  </tbody>\n",
       "</table>\n",
       "</div>"
      ],
      "text/plain": [
       "   label_n   label\n",
       "0      0.0  normal\n",
       "1      1.0    MITM\n",
       "2      0.0  normal\n",
       "3      0.0  normal\n",
       "4      0.0  normal"
      ]
     },
     "execution_count": 36,
     "metadata": {},
     "output_type": "execute_result"
    }
   ],
   "source": [
    "physical_dataset_labels.head()"
   ]
  },
  {
   "cell_type": "code",
   "execution_count": 37,
   "metadata": {},
   "outputs": [
    {
     "data": {
      "text/plain": [
       "label_n\n",
       "0.0    75\n",
       "1.0    16\n",
       "Name: count, dtype: int64"
      ]
     },
     "execution_count": 37,
     "metadata": {},
     "output_type": "execute_result"
    }
   ],
   "source": [
    "physical_dataset_labels[\"label_n\"].value_counts()"
   ]
  },
  {
   "cell_type": "code",
   "execution_count": 38,
   "metadata": {},
   "outputs": [
    {
     "data": {
      "text/plain": [
       "label\n",
       "normal            73\n",
       "MITM               7\n",
       "physical fault     5\n",
       "DoS                3\n",
       "nomal              2\n",
       "scan               1\n",
       "Name: count, dtype: int64"
      ]
     },
     "execution_count": 38,
     "metadata": {},
     "output_type": "execute_result"
    }
   ],
   "source": [
    "physical_dataset_labels[\"label\"].value_counts()"
   ]
  },
  {
   "cell_type": "code",
   "execution_count": 39,
   "metadata": {},
   "outputs": [
    {
     "data": {
      "text/plain": [
       "label\n",
       "normal            75\n",
       "MITM               7\n",
       "physical fault     5\n",
       "DoS                3\n",
       "scan               1\n",
       "Name: count, dtype: int64"
      ]
     },
     "execution_count": 39,
     "metadata": {},
     "output_type": "execute_result"
    }
   ],
   "source": [
    "# Two rows have typos in their label from \"normal\" to \"nomal\" let's fix that\n",
    "physical_dataset_labels.loc[physical_dataset_labels[\"label\"] == \"nomal\", \"label\"] = \"normal\"\n",
    "physical_dataset_labels[\"label\"].value_counts()"
   ]
  },
  {
   "cell_type": "markdown",
   "metadata": {},
   "source": [
    "We have 5 labels: normal, DoS, MITM, physical fault, anomaly.\n",
    "More imporantly the data is also split is normal (label_n=0) or not normal (label_n=1).\n",
    "\n",
    "Two things are of note:\n",
    "- It is the same labels as the network dataset\n",
    "- This dataset is strongly unbalanced (we have 75 normal rows and 16 abnormal rows)"
   ]
  },
  {
   "cell_type": "markdown",
   "metadata": {},
   "source": [
    "Now let's look at the features"
   ]
  },
  {
   "cell_type": "code",
   "execution_count": 40,
   "metadata": {},
   "outputs": [
    {
     "data": {
      "text/html": [
       "<div>\n",
       "<style scoped>\n",
       "    .dataframe tbody tr th:only-of-type {\n",
       "        vertical-align: middle;\n",
       "    }\n",
       "\n",
       "    .dataframe tbody tr th {\n",
       "        vertical-align: top;\n",
       "    }\n",
       "\n",
       "    .dataframe thead th {\n",
       "        text-align: right;\n",
       "    }\n",
       "</style>\n",
       "<table border=\"1\" class=\"dataframe\">\n",
       "  <thead>\n",
       "    <tr style=\"text-align: right;\">\n",
       "      <th></th>\n",
       "      <th>time</th>\n",
       "      <th>tank_1</th>\n",
       "      <th>tank_2</th>\n",
       "      <th>tank_3</th>\n",
       "      <th>tank_4</th>\n",
       "      <th>tank_5</th>\n",
       "      <th>tank_6</th>\n",
       "      <th>tank_7</th>\n",
       "      <th>tank_8</th>\n",
       "      <th>pump_1</th>\n",
       "      <th>...</th>\n",
       "      <th>valv_13</th>\n",
       "      <th>valv_14</th>\n",
       "      <th>valv_15</th>\n",
       "      <th>valv_16</th>\n",
       "      <th>valv_17</th>\n",
       "      <th>valv_18</th>\n",
       "      <th>valv_19</th>\n",
       "      <th>valv_20</th>\n",
       "      <th>valv_21</th>\n",
       "      <th>valv_22</th>\n",
       "    </tr>\n",
       "  </thead>\n",
       "  <tbody>\n",
       "    <tr>\n",
       "      <th>0</th>\n",
       "      <td>1.630780e+09</td>\n",
       "      <td>1501</td>\n",
       "      <td>1844</td>\n",
       "      <td>306</td>\n",
       "      <td>0</td>\n",
       "      <td>522</td>\n",
       "      <td>0</td>\n",
       "      <td>0</td>\n",
       "      <td>0</td>\n",
       "      <td>False</td>\n",
       "      <td>...</td>\n",
       "      <td>False</td>\n",
       "      <td>False</td>\n",
       "      <td>False</td>\n",
       "      <td>False</td>\n",
       "      <td>True</td>\n",
       "      <td>False</td>\n",
       "      <td>False</td>\n",
       "      <td>False</td>\n",
       "      <td>False</td>\n",
       "      <td>False</td>\n",
       "    </tr>\n",
       "    <tr>\n",
       "      <th>1</th>\n",
       "      <td>1.630780e+09</td>\n",
       "      <td>1</td>\n",
       "      <td>552</td>\n",
       "      <td>1180</td>\n",
       "      <td>1054</td>\n",
       "      <td>486</td>\n",
       "      <td>329</td>\n",
       "      <td>0</td>\n",
       "      <td>0</td>\n",
       "      <td>False</td>\n",
       "      <td>...</td>\n",
       "      <td>True</td>\n",
       "      <td>True</td>\n",
       "      <td>True</td>\n",
       "      <td>False</td>\n",
       "      <td>True</td>\n",
       "      <td>False</td>\n",
       "      <td>False</td>\n",
       "      <td>True</td>\n",
       "      <td>False</td>\n",
       "      <td>False</td>\n",
       "    </tr>\n",
       "    <tr>\n",
       "      <th>2</th>\n",
       "      <td>1.630780e+09</td>\n",
       "      <td>671</td>\n",
       "      <td>3</td>\n",
       "      <td>360</td>\n",
       "      <td>24</td>\n",
       "      <td>0</td>\n",
       "      <td>703</td>\n",
       "      <td>112</td>\n",
       "      <td>0</td>\n",
       "      <td>False</td>\n",
       "      <td>...</td>\n",
       "      <td>False</td>\n",
       "      <td>False</td>\n",
       "      <td>False</td>\n",
       "      <td>False</td>\n",
       "      <td>False</td>\n",
       "      <td>False</td>\n",
       "      <td>False</td>\n",
       "      <td>False</td>\n",
       "      <td>False</td>\n",
       "      <td>False</td>\n",
       "    </tr>\n",
       "    <tr>\n",
       "      <th>3</th>\n",
       "      <td>1.630780e+09</td>\n",
       "      <td>1167</td>\n",
       "      <td>1922</td>\n",
       "      <td>112</td>\n",
       "      <td>24</td>\n",
       "      <td>805</td>\n",
       "      <td>20</td>\n",
       "      <td>458</td>\n",
       "      <td>337</td>\n",
       "      <td>False</td>\n",
       "      <td>...</td>\n",
       "      <td>False</td>\n",
       "      <td>False</td>\n",
       "      <td>False</td>\n",
       "      <td>False</td>\n",
       "      <td>True</td>\n",
       "      <td>False</td>\n",
       "      <td>False</td>\n",
       "      <td>False</td>\n",
       "      <td>False</td>\n",
       "      <td>False</td>\n",
       "    </tr>\n",
       "    <tr>\n",
       "      <th>4</th>\n",
       "      <td>1.630780e+09</td>\n",
       "      <td>1</td>\n",
       "      <td>4</td>\n",
       "      <td>1632</td>\n",
       "      <td>785</td>\n",
       "      <td>423</td>\n",
       "      <td>6</td>\n",
       "      <td>458</td>\n",
       "      <td>402</td>\n",
       "      <td>False</td>\n",
       "      <td>...</td>\n",
       "      <td>True</td>\n",
       "      <td>True</td>\n",
       "      <td>True</td>\n",
       "      <td>False</td>\n",
       "      <td>False</td>\n",
       "      <td>False</td>\n",
       "      <td>False</td>\n",
       "      <td>True</td>\n",
       "      <td>False</td>\n",
       "      <td>False</td>\n",
       "    </tr>\n",
       "  </tbody>\n",
       "</table>\n",
       "<p>5 rows × 41 columns</p>\n",
       "</div>"
      ],
      "text/plain": [
       "           time  tank_1  tank_2  tank_3  tank_4  tank_5  tank_6  tank_7  \\\n",
       "0  1.630780e+09    1501    1844     306       0     522       0       0   \n",
       "1  1.630780e+09       1     552    1180    1054     486     329       0   \n",
       "2  1.630780e+09     671       3     360      24       0     703     112   \n",
       "3  1.630780e+09    1167    1922     112      24     805      20     458   \n",
       "4  1.630780e+09       1       4    1632     785     423       6     458   \n",
       "\n",
       "   tank_8  pump_1  ...  valv_13  valv_14  valv_15  valv_16  valv_17  valv_18  \\\n",
       "0       0   False  ...    False    False    False    False     True    False   \n",
       "1       0   False  ...     True     True     True    False     True    False   \n",
       "2       0   False  ...    False    False    False    False    False    False   \n",
       "3     337   False  ...    False    False    False    False     True    False   \n",
       "4     402   False  ...     True     True     True    False    False    False   \n",
       "\n",
       "   valv_19  valv_20  valv_21  valv_22  \n",
       "0    False    False    False    False  \n",
       "1    False     True    False    False  \n",
       "2    False    False    False    False  \n",
       "3    False    False    False    False  \n",
       "4    False     True    False    False  \n",
       "\n",
       "[5 rows x 41 columns]"
      ]
     },
     "execution_count": 40,
     "metadata": {},
     "output_type": "execute_result"
    }
   ],
   "source": [
    "physical_dataset.head()"
   ]
  },
  {
   "cell_type": "code",
   "execution_count": 41,
   "metadata": {},
   "outputs": [
    {
     "data": {
      "text/plain": [
       "bool       28\n",
       "int64      12\n",
       "float64     1\n",
       "Name: count, dtype: int64"
      ]
     },
     "execution_count": 41,
     "metadata": {},
     "output_type": "execute_result"
    }
   ],
   "source": [
    "physical_dataset.dtypes.value_counts()"
   ]
  },
  {
   "cell_type": "code",
   "execution_count": 42,
   "metadata": {},
   "outputs": [
    {
     "data": {
      "text/plain": [
       "False"
      ]
     },
     "execution_count": 42,
     "metadata": {},
     "output_type": "execute_result"
    }
   ],
   "source": [
    "physical_dataset.isna().sum().any()"
   ]
  },
  {
   "cell_type": "markdown",
   "metadata": {},
   "source": [
    "As we can see our dataset doesn't have any NaN values."
   ]
  },
  {
   "cell_type": "markdown",
   "metadata": {},
   "source": [
    "## Boolean features"
   ]
  },
  {
   "cell_type": "code",
   "execution_count": 43,
   "metadata": {},
   "outputs": [
    {
     "data": {
      "text/html": [
       "<div>\n",
       "<style scoped>\n",
       "    .dataframe tbody tr th:only-of-type {\n",
       "        vertical-align: middle;\n",
       "    }\n",
       "\n",
       "    .dataframe tbody tr th {\n",
       "        vertical-align: top;\n",
       "    }\n",
       "\n",
       "    .dataframe thead th {\n",
       "        text-align: right;\n",
       "    }\n",
       "</style>\n",
       "<table border=\"1\" class=\"dataframe\">\n",
       "  <thead>\n",
       "    <tr style=\"text-align: right;\">\n",
       "      <th></th>\n",
       "      <th>pump_1</th>\n",
       "      <th>pump_2</th>\n",
       "      <th>pump_3</th>\n",
       "      <th>pump_4</th>\n",
       "      <th>pump_5</th>\n",
       "      <th>pump_6</th>\n",
       "      <th>valv_1</th>\n",
       "      <th>valv_2</th>\n",
       "      <th>valv_3</th>\n",
       "      <th>valv_4</th>\n",
       "      <th>...</th>\n",
       "      <th>valv_13</th>\n",
       "      <th>valv_14</th>\n",
       "      <th>valv_15</th>\n",
       "      <th>valv_16</th>\n",
       "      <th>valv_17</th>\n",
       "      <th>valv_18</th>\n",
       "      <th>valv_19</th>\n",
       "      <th>valv_20</th>\n",
       "      <th>valv_21</th>\n",
       "      <th>valv_22</th>\n",
       "    </tr>\n",
       "  </thead>\n",
       "  <tbody>\n",
       "    <tr>\n",
       "      <th>0</th>\n",
       "      <td>False</td>\n",
       "      <td>False</td>\n",
       "      <td>False</td>\n",
       "      <td>True</td>\n",
       "      <td>False</td>\n",
       "      <td>False</td>\n",
       "      <td>False</td>\n",
       "      <td>False</td>\n",
       "      <td>False</td>\n",
       "      <td>False</td>\n",
       "      <td>...</td>\n",
       "      <td>False</td>\n",
       "      <td>False</td>\n",
       "      <td>False</td>\n",
       "      <td>False</td>\n",
       "      <td>True</td>\n",
       "      <td>False</td>\n",
       "      <td>False</td>\n",
       "      <td>False</td>\n",
       "      <td>False</td>\n",
       "      <td>False</td>\n",
       "    </tr>\n",
       "    <tr>\n",
       "      <th>1</th>\n",
       "      <td>False</td>\n",
       "      <td>False</td>\n",
       "      <td>False</td>\n",
       "      <td>False</td>\n",
       "      <td>False</td>\n",
       "      <td>False</td>\n",
       "      <td>False</td>\n",
       "      <td>False</td>\n",
       "      <td>False</td>\n",
       "      <td>False</td>\n",
       "      <td>...</td>\n",
       "      <td>True</td>\n",
       "      <td>True</td>\n",
       "      <td>True</td>\n",
       "      <td>False</td>\n",
       "      <td>True</td>\n",
       "      <td>False</td>\n",
       "      <td>False</td>\n",
       "      <td>True</td>\n",
       "      <td>False</td>\n",
       "      <td>False</td>\n",
       "    </tr>\n",
       "    <tr>\n",
       "      <th>2</th>\n",
       "      <td>False</td>\n",
       "      <td>True</td>\n",
       "      <td>False</td>\n",
       "      <td>False</td>\n",
       "      <td>True</td>\n",
       "      <td>False</td>\n",
       "      <td>False</td>\n",
       "      <td>False</td>\n",
       "      <td>False</td>\n",
       "      <td>False</td>\n",
       "      <td>...</td>\n",
       "      <td>False</td>\n",
       "      <td>False</td>\n",
       "      <td>False</td>\n",
       "      <td>False</td>\n",
       "      <td>False</td>\n",
       "      <td>False</td>\n",
       "      <td>False</td>\n",
       "      <td>False</td>\n",
       "      <td>False</td>\n",
       "      <td>False</td>\n",
       "    </tr>\n",
       "    <tr>\n",
       "      <th>3</th>\n",
       "      <td>False</td>\n",
       "      <td>False</td>\n",
       "      <td>False</td>\n",
       "      <td>True</td>\n",
       "      <td>True</td>\n",
       "      <td>True</td>\n",
       "      <td>False</td>\n",
       "      <td>False</td>\n",
       "      <td>False</td>\n",
       "      <td>False</td>\n",
       "      <td>...</td>\n",
       "      <td>False</td>\n",
       "      <td>False</td>\n",
       "      <td>False</td>\n",
       "      <td>False</td>\n",
       "      <td>True</td>\n",
       "      <td>False</td>\n",
       "      <td>False</td>\n",
       "      <td>False</td>\n",
       "      <td>False</td>\n",
       "      <td>False</td>\n",
       "    </tr>\n",
       "    <tr>\n",
       "      <th>4</th>\n",
       "      <td>False</td>\n",
       "      <td>False</td>\n",
       "      <td>False</td>\n",
       "      <td>False</td>\n",
       "      <td>True</td>\n",
       "      <td>True</td>\n",
       "      <td>False</td>\n",
       "      <td>False</td>\n",
       "      <td>False</td>\n",
       "      <td>False</td>\n",
       "      <td>...</td>\n",
       "      <td>True</td>\n",
       "      <td>True</td>\n",
       "      <td>True</td>\n",
       "      <td>False</td>\n",
       "      <td>False</td>\n",
       "      <td>False</td>\n",
       "      <td>False</td>\n",
       "      <td>True</td>\n",
       "      <td>False</td>\n",
       "      <td>False</td>\n",
       "    </tr>\n",
       "  </tbody>\n",
       "</table>\n",
       "<p>5 rows × 28 columns</p>\n",
       "</div>"
      ],
      "text/plain": [
       "   pump_1  pump_2  pump_3  pump_4  pump_5  pump_6  valv_1  valv_2  valv_3  \\\n",
       "0   False   False   False    True   False   False   False   False   False   \n",
       "1   False   False   False   False   False   False   False   False   False   \n",
       "2   False    True   False   False    True   False   False   False   False   \n",
       "3   False   False   False    True    True    True   False   False   False   \n",
       "4   False   False   False   False    True    True   False   False   False   \n",
       "\n",
       "   valv_4  ...  valv_13  valv_14  valv_15  valv_16  valv_17  valv_18  valv_19  \\\n",
       "0   False  ...    False    False    False    False     True    False    False   \n",
       "1   False  ...     True     True     True    False     True    False    False   \n",
       "2   False  ...    False    False    False    False    False    False    False   \n",
       "3   False  ...    False    False    False    False     True    False    False   \n",
       "4   False  ...     True     True     True    False    False    False    False   \n",
       "\n",
       "   valv_20  valv_21  valv_22  \n",
       "0    False    False    False  \n",
       "1     True    False    False  \n",
       "2    False    False    False  \n",
       "3    False    False    False  \n",
       "4     True    False    False  \n",
       "\n",
       "[5 rows x 28 columns]"
      ]
     },
     "execution_count": 43,
     "metadata": {},
     "output_type": "execute_result"
    }
   ],
   "source": [
    "bool_mask = physical_dataset.dtypes == \"bool\"\n",
    "physical_dataset_bool = physical_dataset.loc[:, bool_mask]\n",
    "physical_dataset_bool.head()"
   ]
  },
  {
   "cell_type": "code",
   "execution_count": 44,
   "metadata": {},
   "outputs": [
    {
     "data": {
      "text/plain": [
       "pump_1     32.967033\n",
       "pump_2     21.978022\n",
       "pump_3      0.000000\n",
       "pump_4     23.076923\n",
       "pump_5     37.362637\n",
       "pump_6     38.461538\n",
       "valv_1      0.000000\n",
       "valv_2      0.000000\n",
       "valv_3      0.000000\n",
       "valv_4      0.000000\n",
       "valv_5      0.000000\n",
       "valv_6      0.000000\n",
       "valv_7      0.000000\n",
       "valv_8      0.000000\n",
       "valv_9      0.000000\n",
       "valv_10    61.538462\n",
       "valv_11    61.538462\n",
       "valv_12    61.538462\n",
       "valv_13    40.659341\n",
       "valv_14    40.659341\n",
       "valv_15    40.659341\n",
       "valv_16     0.000000\n",
       "valv_17    54.945055\n",
       "valv_18    18.681319\n",
       "valv_19     0.000000\n",
       "valv_20    63.736264\n",
       "valv_21     0.000000\n",
       "valv_22    46.153846\n",
       "dtype: float64"
      ]
     },
     "execution_count": 44,
     "metadata": {},
     "output_type": "execute_result"
    }
   ],
   "source": [
    "# Proportion of True values per column\n",
    "physical_dataset_bool.sum() * 100 / len(physical_dataset_bool)"
   ]
  },
  {
   "cell_type": "markdown",
   "metadata": {},
   "source": [
    "Here we can see that 13 columns are all False which means that they are useless.\n",
    "\n",
    "## Int Features"
   ]
  },
  {
   "cell_type": "code",
   "execution_count": 45,
   "metadata": {},
   "outputs": [
    {
     "data": {
      "text/html": [
       "<div>\n",
       "<style scoped>\n",
       "    .dataframe tbody tr th:only-of-type {\n",
       "        vertical-align: middle;\n",
       "    }\n",
       "\n",
       "    .dataframe tbody tr th {\n",
       "        vertical-align: top;\n",
       "    }\n",
       "\n",
       "    .dataframe thead th {\n",
       "        text-align: right;\n",
       "    }\n",
       "</style>\n",
       "<table border=\"1\" class=\"dataframe\">\n",
       "  <thead>\n",
       "    <tr style=\"text-align: right;\">\n",
       "      <th></th>\n",
       "      <th>tank_1</th>\n",
       "      <th>tank_2</th>\n",
       "      <th>tank_3</th>\n",
       "      <th>tank_4</th>\n",
       "      <th>tank_5</th>\n",
       "      <th>tank_6</th>\n",
       "      <th>tank_7</th>\n",
       "      <th>tank_8</th>\n",
       "      <th>flow_sensor_1</th>\n",
       "      <th>flow_sensor_2</th>\n",
       "      <th>flow_sensor_3</th>\n",
       "      <th>flow_sensor_4</th>\n",
       "    </tr>\n",
       "  </thead>\n",
       "  <tbody>\n",
       "    <tr>\n",
       "      <th>0</th>\n",
       "      <td>1501</td>\n",
       "      <td>1844</td>\n",
       "      <td>306</td>\n",
       "      <td>0</td>\n",
       "      <td>522</td>\n",
       "      <td>0</td>\n",
       "      <td>0</td>\n",
       "      <td>0</td>\n",
       "      <td>0</td>\n",
       "      <td>0</td>\n",
       "      <td>0</td>\n",
       "      <td>0</td>\n",
       "    </tr>\n",
       "    <tr>\n",
       "      <th>1</th>\n",
       "      <td>1</td>\n",
       "      <td>552</td>\n",
       "      <td>1180</td>\n",
       "      <td>1054</td>\n",
       "      <td>486</td>\n",
       "      <td>329</td>\n",
       "      <td>0</td>\n",
       "      <td>0</td>\n",
       "      <td>0</td>\n",
       "      <td>0</td>\n",
       "      <td>0</td>\n",
       "      <td>0</td>\n",
       "    </tr>\n",
       "    <tr>\n",
       "      <th>2</th>\n",
       "      <td>671</td>\n",
       "      <td>3</td>\n",
       "      <td>360</td>\n",
       "      <td>24</td>\n",
       "      <td>0</td>\n",
       "      <td>703</td>\n",
       "      <td>112</td>\n",
       "      <td>0</td>\n",
       "      <td>4000</td>\n",
       "      <td>0</td>\n",
       "      <td>0</td>\n",
       "      <td>0</td>\n",
       "    </tr>\n",
       "    <tr>\n",
       "      <th>3</th>\n",
       "      <td>1167</td>\n",
       "      <td>1922</td>\n",
       "      <td>112</td>\n",
       "      <td>24</td>\n",
       "      <td>805</td>\n",
       "      <td>20</td>\n",
       "      <td>458</td>\n",
       "      <td>337</td>\n",
       "      <td>4000</td>\n",
       "      <td>4000</td>\n",
       "      <td>0</td>\n",
       "      <td>0</td>\n",
       "    </tr>\n",
       "    <tr>\n",
       "      <th>4</th>\n",
       "      <td>1</td>\n",
       "      <td>4</td>\n",
       "      <td>1632</td>\n",
       "      <td>785</td>\n",
       "      <td>423</td>\n",
       "      <td>6</td>\n",
       "      <td>458</td>\n",
       "      <td>402</td>\n",
       "      <td>4000</td>\n",
       "      <td>4000</td>\n",
       "      <td>0</td>\n",
       "      <td>0</td>\n",
       "    </tr>\n",
       "  </tbody>\n",
       "</table>\n",
       "</div>"
      ],
      "text/plain": [
       "   tank_1  tank_2  tank_3  tank_4  tank_5  tank_6  tank_7  tank_8  \\\n",
       "0    1501    1844     306       0     522       0       0       0   \n",
       "1       1     552    1180    1054     486     329       0       0   \n",
       "2     671       3     360      24       0     703     112       0   \n",
       "3    1167    1922     112      24     805      20     458     337   \n",
       "4       1       4    1632     785     423       6     458     402   \n",
       "\n",
       "   flow_sensor_1  flow_sensor_2  flow_sensor_3  flow_sensor_4  \n",
       "0              0              0              0              0  \n",
       "1              0              0              0              0  \n",
       "2           4000              0              0              0  \n",
       "3           4000           4000              0              0  \n",
       "4           4000           4000              0              0  "
      ]
     },
     "execution_count": 45,
     "metadata": {},
     "output_type": "execute_result"
    }
   ],
   "source": [
    "int_mask = physical_dataset.dtypes == \"int64\"\n",
    "physical_dataset_int = physical_dataset.loc[:, int_mask]\n",
    "physical_dataset_int.head()"
   ]
  },
  {
   "cell_type": "code",
   "execution_count": 46,
   "metadata": {},
   "outputs": [
    {
     "data": {
      "text/html": [
       "<div>\n",
       "<style scoped>\n",
       "    .dataframe tbody tr th:only-of-type {\n",
       "        vertical-align: middle;\n",
       "    }\n",
       "\n",
       "    .dataframe tbody tr th {\n",
       "        vertical-align: top;\n",
       "    }\n",
       "\n",
       "    .dataframe thead th {\n",
       "        text-align: right;\n",
       "    }\n",
       "</style>\n",
       "<table border=\"1\" class=\"dataframe\">\n",
       "  <thead>\n",
       "    <tr style=\"text-align: right;\">\n",
       "      <th></th>\n",
       "      <th>tank_1</th>\n",
       "      <th>tank_2</th>\n",
       "      <th>tank_3</th>\n",
       "      <th>tank_4</th>\n",
       "      <th>tank_5</th>\n",
       "      <th>tank_6</th>\n",
       "      <th>tank_7</th>\n",
       "      <th>tank_8</th>\n",
       "      <th>flow_sensor_1</th>\n",
       "      <th>flow_sensor_2</th>\n",
       "      <th>flow_sensor_3</th>\n",
       "      <th>flow_sensor_4</th>\n",
       "    </tr>\n",
       "  </thead>\n",
       "  <tbody>\n",
       "    <tr>\n",
       "      <th>count</th>\n",
       "      <td>91.000000</td>\n",
       "      <td>91.000000</td>\n",
       "      <td>91.000000</td>\n",
       "      <td>91.000000</td>\n",
       "      <td>91.000000</td>\n",
       "      <td>91.000000</td>\n",
       "      <td>91.000000</td>\n",
       "      <td>91.000000</td>\n",
       "      <td>91.000000</td>\n",
       "      <td>91.000000</td>\n",
       "      <td>91.0</td>\n",
       "      <td>91.000000</td>\n",
       "    </tr>\n",
       "    <tr>\n",
       "      <th>mean</th>\n",
       "      <td>684.681319</td>\n",
       "      <td>958.835165</td>\n",
       "      <td>597.461538</td>\n",
       "      <td>289.142857</td>\n",
       "      <td>375.956044</td>\n",
       "      <td>205.373626</td>\n",
       "      <td>186.351648</td>\n",
       "      <td>172.406593</td>\n",
       "      <td>1495.604396</td>\n",
       "      <td>1538.461538</td>\n",
       "      <td>0.0</td>\n",
       "      <td>1426.131868</td>\n",
       "    </tr>\n",
       "    <tr>\n",
       "      <th>std</th>\n",
       "      <td>675.386751</td>\n",
       "      <td>696.886732</td>\n",
       "      <td>631.855632</td>\n",
       "      <td>353.013017</td>\n",
       "      <td>278.330056</td>\n",
       "      <td>177.427459</td>\n",
       "      <td>195.858247</td>\n",
       "      <td>183.934770</td>\n",
       "      <td>1944.959987</td>\n",
       "      <td>1956.798362</td>\n",
       "      <td>0.0</td>\n",
       "      <td>1825.951869</td>\n",
       "    </tr>\n",
       "    <tr>\n",
       "      <th>min</th>\n",
       "      <td>0.000000</td>\n",
       "      <td>1.000000</td>\n",
       "      <td>0.000000</td>\n",
       "      <td>0.000000</td>\n",
       "      <td>0.000000</td>\n",
       "      <td>0.000000</td>\n",
       "      <td>0.000000</td>\n",
       "      <td>0.000000</td>\n",
       "      <td>0.000000</td>\n",
       "      <td>0.000000</td>\n",
       "      <td>0.0</td>\n",
       "      <td>0.000000</td>\n",
       "    </tr>\n",
       "    <tr>\n",
       "      <th>25%</th>\n",
       "      <td>3.500000</td>\n",
       "      <td>6.000000</td>\n",
       "      <td>123.500000</td>\n",
       "      <td>24.500000</td>\n",
       "      <td>50.500000</td>\n",
       "      <td>1.000000</td>\n",
       "      <td>0.000000</td>\n",
       "      <td>0.000000</td>\n",
       "      <td>0.000000</td>\n",
       "      <td>0.000000</td>\n",
       "      <td>0.0</td>\n",
       "      <td>0.000000</td>\n",
       "    </tr>\n",
       "    <tr>\n",
       "      <th>50%</th>\n",
       "      <td>614.000000</td>\n",
       "      <td>1043.000000</td>\n",
       "      <td>397.000000</td>\n",
       "      <td>34.000000</td>\n",
       "      <td>458.000000</td>\n",
       "      <td>200.000000</td>\n",
       "      <td>128.000000</td>\n",
       "      <td>91.000000</td>\n",
       "      <td>0.000000</td>\n",
       "      <td>0.000000</td>\n",
       "      <td>0.0</td>\n",
       "      <td>0.000000</td>\n",
       "    </tr>\n",
       "    <tr>\n",
       "      <th>75%</th>\n",
       "      <td>1322.500000</td>\n",
       "      <td>1604.000000</td>\n",
       "      <td>955.500000</td>\n",
       "      <td>530.500000</td>\n",
       "      <td>585.000000</td>\n",
       "      <td>385.500000</td>\n",
       "      <td>401.500000</td>\n",
       "      <td>368.000000</td>\n",
       "      <td>4000.000000</td>\n",
       "      <td>4000.000000</td>\n",
       "      <td>0.0</td>\n",
       "      <td>3155.000000</td>\n",
       "    </tr>\n",
       "    <tr>\n",
       "      <th>max</th>\n",
       "      <td>2015.000000</td>\n",
       "      <td>1953.000000</td>\n",
       "      <td>3427.000000</td>\n",
       "      <td>1061.000000</td>\n",
       "      <td>837.000000</td>\n",
       "      <td>703.000000</td>\n",
       "      <td>659.000000</td>\n",
       "      <td>487.000000</td>\n",
       "      <td>4000.000000</td>\n",
       "      <td>4000.000000</td>\n",
       "      <td>0.0</td>\n",
       "      <td>4733.000000</td>\n",
       "    </tr>\n",
       "  </tbody>\n",
       "</table>\n",
       "</div>"
      ],
      "text/plain": [
       "            tank_1       tank_2       tank_3       tank_4      tank_5  \\\n",
       "count    91.000000    91.000000    91.000000    91.000000   91.000000   \n",
       "mean    684.681319   958.835165   597.461538   289.142857  375.956044   \n",
       "std     675.386751   696.886732   631.855632   353.013017  278.330056   \n",
       "min       0.000000     1.000000     0.000000     0.000000    0.000000   \n",
       "25%       3.500000     6.000000   123.500000    24.500000   50.500000   \n",
       "50%     614.000000  1043.000000   397.000000    34.000000  458.000000   \n",
       "75%    1322.500000  1604.000000   955.500000   530.500000  585.000000   \n",
       "max    2015.000000  1953.000000  3427.000000  1061.000000  837.000000   \n",
       "\n",
       "           tank_6      tank_7      tank_8  flow_sensor_1  flow_sensor_2  \\\n",
       "count   91.000000   91.000000   91.000000      91.000000      91.000000   \n",
       "mean   205.373626  186.351648  172.406593    1495.604396    1538.461538   \n",
       "std    177.427459  195.858247  183.934770    1944.959987    1956.798362   \n",
       "min      0.000000    0.000000    0.000000       0.000000       0.000000   \n",
       "25%      1.000000    0.000000    0.000000       0.000000       0.000000   \n",
       "50%    200.000000  128.000000   91.000000       0.000000       0.000000   \n",
       "75%    385.500000  401.500000  368.000000    4000.000000    4000.000000   \n",
       "max    703.000000  659.000000  487.000000    4000.000000    4000.000000   \n",
       "\n",
       "       flow_sensor_3  flow_sensor_4  \n",
       "count           91.0      91.000000  \n",
       "mean             0.0    1426.131868  \n",
       "std              0.0    1825.951869  \n",
       "min              0.0       0.000000  \n",
       "25%              0.0       0.000000  \n",
       "50%              0.0       0.000000  \n",
       "75%              0.0    3155.000000  \n",
       "max              0.0    4733.000000  "
      ]
     },
     "execution_count": 46,
     "metadata": {},
     "output_type": "execute_result"
    }
   ],
   "source": [
    "physical_dataset_int.describe()"
   ]
  },
  {
   "cell_type": "markdown",
   "metadata": {},
   "source": [
    "- The column flow_sensor_3 seems useless as it has only one value (0)\n",
    "- The other data will be normalized"
   ]
  },
  {
   "cell_type": "code",
   "execution_count": 47,
   "metadata": {},
   "outputs": [
    {
     "data": {
      "text/html": [
       "<div>\n",
       "<style scoped>\n",
       "    .dataframe tbody tr th:only-of-type {\n",
       "        vertical-align: middle;\n",
       "    }\n",
       "\n",
       "    .dataframe tbody tr th {\n",
       "        vertical-align: top;\n",
       "    }\n",
       "\n",
       "    .dataframe thead th {\n",
       "        text-align: right;\n",
       "    }\n",
       "</style>\n",
       "<table border=\"1\" class=\"dataframe\">\n",
       "  <thead>\n",
       "    <tr style=\"text-align: right;\">\n",
       "      <th></th>\n",
       "      <th>flow_sensor_1</th>\n",
       "      <th>flow_sensor_2</th>\n",
       "      <th>flow_sensor_3</th>\n",
       "      <th>flow_sensor_4</th>\n",
       "    </tr>\n",
       "  </thead>\n",
       "  <tbody>\n",
       "    <tr>\n",
       "      <th>flow_sensor_1</th>\n",
       "      <td>1.000000</td>\n",
       "      <td>-0.050753</td>\n",
       "      <td>NaN</td>\n",
       "      <td>-0.489373</td>\n",
       "    </tr>\n",
       "    <tr>\n",
       "      <th>flow_sensor_2</th>\n",
       "      <td>-0.050753</td>\n",
       "      <td>1.000000</td>\n",
       "      <td>NaN</td>\n",
       "      <td>0.303340</td>\n",
       "    </tr>\n",
       "    <tr>\n",
       "      <th>flow_sensor_3</th>\n",
       "      <td>NaN</td>\n",
       "      <td>NaN</td>\n",
       "      <td>NaN</td>\n",
       "      <td>NaN</td>\n",
       "    </tr>\n",
       "    <tr>\n",
       "      <th>flow_sensor_4</th>\n",
       "      <td>-0.489373</td>\n",
       "      <td>0.303340</td>\n",
       "      <td>NaN</td>\n",
       "      <td>1.000000</td>\n",
       "    </tr>\n",
       "  </tbody>\n",
       "</table>\n",
       "</div>"
      ],
      "text/plain": [
       "               flow_sensor_1  flow_sensor_2  flow_sensor_3  flow_sensor_4\n",
       "flow_sensor_1       1.000000      -0.050753            NaN      -0.489373\n",
       "flow_sensor_2      -0.050753       1.000000            NaN       0.303340\n",
       "flow_sensor_3            NaN            NaN            NaN            NaN\n",
       "flow_sensor_4      -0.489373       0.303340            NaN       1.000000"
      ]
     },
     "execution_count": 47,
     "metadata": {},
     "output_type": "execute_result"
    }
   ],
   "source": [
    "# Check correlation between all the flow_sensor_ columns\n",
    "physical_dataset_int[[f\"flow_sensor_{i}\"  for i in range(1, 5)]].corr()"
   ]
  },
  {
   "cell_type": "markdown",
   "metadata": {},
   "source": [
    "## Float Features"
   ]
  },
  {
   "cell_type": "code",
   "execution_count": 48,
   "metadata": {},
   "outputs": [
    {
     "data": {
      "text/html": [
       "<div>\n",
       "<style scoped>\n",
       "    .dataframe tbody tr th:only-of-type {\n",
       "        vertical-align: middle;\n",
       "    }\n",
       "\n",
       "    .dataframe tbody tr th {\n",
       "        vertical-align: top;\n",
       "    }\n",
       "\n",
       "    .dataframe thead th {\n",
       "        text-align: right;\n",
       "    }\n",
       "</style>\n",
       "<table border=\"1\" class=\"dataframe\">\n",
       "  <thead>\n",
       "    <tr style=\"text-align: right;\">\n",
       "      <th></th>\n",
       "      <th>time</th>\n",
       "    </tr>\n",
       "  </thead>\n",
       "  <tbody>\n",
       "    <tr>\n",
       "      <th>0</th>\n",
       "      <td>1.630780e+09</td>\n",
       "    </tr>\n",
       "    <tr>\n",
       "      <th>1</th>\n",
       "      <td>1.630780e+09</td>\n",
       "    </tr>\n",
       "    <tr>\n",
       "      <th>2</th>\n",
       "      <td>1.630780e+09</td>\n",
       "    </tr>\n",
       "    <tr>\n",
       "      <th>3</th>\n",
       "      <td>1.630780e+09</td>\n",
       "    </tr>\n",
       "    <tr>\n",
       "      <th>4</th>\n",
       "      <td>1.630780e+09</td>\n",
       "    </tr>\n",
       "  </tbody>\n",
       "</table>\n",
       "</div>"
      ],
      "text/plain": [
       "           time\n",
       "0  1.630780e+09\n",
       "1  1.630780e+09\n",
       "2  1.630780e+09\n",
       "3  1.630780e+09\n",
       "4  1.630780e+09"
      ]
     },
     "execution_count": 48,
     "metadata": {},
     "output_type": "execute_result"
    }
   ],
   "source": [
    "float_mask = physical_dataset.dtypes == \"float64\"\n",
    "physical_dataset_float = physical_dataset.loc[:, float_mask]\n",
    "physical_dataset_float.head()"
   ]
  },
  {
   "cell_type": "markdown",
   "metadata": {},
   "source": [
    "Our only float feature is the column time.\n",
    "\n",
    "# SWT"
   ]
  },
  {
   "cell_type": "markdown",
   "metadata": {},
   "source": [
    "## Part 1"
   ]
  },
  {
   "cell_type": "code",
   "execution_count": null,
   "metadata": {},
   "outputs": [],
   "source": []
  },
  {
   "cell_type": "markdown",
   "metadata": {},
   "source": [
    "## Part 2"
   ]
  },
  {
   "cell_type": "code",
   "execution_count": null,
   "metadata": {},
   "outputs": [],
   "source": []
  },
  {
   "cell_type": "markdown",
   "metadata": {},
   "source": [
    "## Part 3"
   ]
  },
  {
   "cell_type": "code",
   "execution_count": null,
   "metadata": {},
   "outputs": [],
   "source": []
  },
  {
   "cell_type": "markdown",
   "metadata": {},
   "source": [
    "## Part 4"
   ]
  },
  {
   "cell_type": "code",
   "execution_count": null,
   "metadata": {},
   "outputs": [],
   "source": []
  }
 ],
 "metadata": {
  "kernelspec": {
   "display_name": ".venv",
   "language": "python",
   "name": "python3"
  },
  "language_info": {
   "codemirror_mode": {
    "name": "ipython",
    "version": 3
   },
   "file_extension": ".py",
   "mimetype": "text/x-python",
   "name": "python",
   "nbconvert_exporter": "python",
   "pygments_lexer": "ipython3",
   "version": "3.11.5"
  },
  "orig_nbformat": 4
 },
 "nbformat": 4,
 "nbformat_minor": 2
}
